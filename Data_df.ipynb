{
 "cells": [
  {
   "cell_type": "code",
   "execution_count": 1,
   "metadata": {},
   "outputs": [],
   "source": [
    "# import required libraries \n",
    "import pandas as pd\n",
    "import numpy as np\n",
    "import matplotlib.pyplot as plt\n",
    "import seaborn as sns\n",
    "# i use seaborn and matplotlib only during analysis and in the final product presented to the client i use Plotly\n",
    "import plotly.express as px\n",
    "import dash.html as html\n",
    "import dash.dcc as dcc\n",
    "from dash import Dash,callback,Input,Output\n",
    "import plotly.graph_objects as go\n"
   ]
  },
  {
   "cell_type": "code",
   "execution_count": 2,
   "metadata": {},
   "outputs": [],
   "source": [
    "# import the data \n",
    "df=pd.read_csv(\"survey_results_public.csv\")\n",
    "schema=pd.read_csv(\"survey_results_schema.csv\")"
   ]
  },
  {
   "cell_type": "code",
   "execution_count": 3,
   "metadata": {},
   "outputs": [],
   "source": [
    "# set the main Setting\n",
    "pd.set_option('display.max_colwidth',None)\n",
    "pd.set_option('display.max_columns',None)\n",
    "pd.set_option(\"display.max_row\",10)\n",
    "pd.set_option(\"display.min_rows\",10)"
   ]
  },
  {
   "cell_type": "code",
   "execution_count": 4,
   "metadata": {},
   "outputs": [],
   "source": [
    "questions_list=df.columns.to_list()\n",
    "# Employment_status=[\"Employed, full-time\",\"Employed, part-time\",\"freelancer\",\"Student\",\"Employed,\"]\n",
    "color_list=['#FFDF00', '#2db923', '#083248','#d459cd', '#f088eb', '#39e641' ]\n",
    "\n",
    "#count column content\n",
    "\n",
    "def count_column_content(df,column_name):\n",
    "    x=df[column_name].str.split(\";\")\n",
    "    x.dropna(inplace=True)\n",
    "    temp_dic={}\n",
    "    for i in x:\n",
    "        for j in i:\n",
    "            if j not in temp_dic:\n",
    "                temp_dic[j]=1\n",
    "            else:\n",
    "                temp_dic[j]+=1\n",
    "    temp_df=pd.DataFrame(pd.Series(temp_dic))\n",
    "    temp_df.rename(columns={0:\"Count\"},inplace=True)\n",
    "    temp_df.reset_index(inplace=True)\n",
    "    temp_df.rename(columns={\"index\":column_name},inplace=True)\n",
    "    temp_df.sort_values(by=\"Count\",inplace=True,ascending=False)\n",
    "    temp_df.reset_index(inplace=True)\n",
    "    temp_df.drop(columns=\"index\",axis=1,inplace=True)\n",
    "    return temp_df\n",
    "\n",
    "\n",
    "def cleaning_expiernce_years_of_writing_code(x):\n",
    "    if isinstance(x,str):\n",
    "        if x=='More than 50 years':\n",
    "            x=51\n",
    "            return x\n",
    "        elif x=='Less than 1 year':\n",
    "            x=0\n",
    "            return x        \n",
    "        else:\n",
    "            x=x\n",
    "            return(x)\n",
    "    else:\n",
    "        return x\n",
    "\n",
    "# getting the upper and lower limit\n",
    "def get_upper_lower_limit(data,x):\n",
    "    DataWithoutNan=data[x].dropna()\n",
    "    q1 = np.percentile(DataWithoutNan,25)\n",
    "    q3 = np.percentile(DataWithoutNan,75)\n",
    "    iqr=q3-q1\n",
    "    upper_limit = q3 + 1.5 * iqr\n",
    "    lower_limit = q1 - 1.5 * iqr\n",
    "    return upper_limit, lower_limit\n",
    "\n",
    "# preparing  bar plotting with one function\n",
    "def paint_bar(df,title,x,y,x_name,y_name,):\n",
    "    fig=px.bar(data_frame=df,x=x,y=y,text=y,)\n",
    "    fig.update_yaxes(title=y_name)\n",
    "    fig.update_xaxes(title=x_name)\n",
    "    fig.update_layout(width=800,height=600)\n",
    "    fig.update_traces(textposition='outside')\n",
    "    fig.update_layout(title=title,title_x=.5,title_font_color=\"white\",plot_bgcolor=\"black\",paper_bgcolor=\"black\",font_color=\"white\",showlegend=False)\n",
    "    fig.update_traces(marker_color=\"#F0C826\")\n",
    "    return fig\n",
    "# styling the Plotly figure\n",
    "def fig_style(fig,title=\" \",legend=True):\n",
    "    fig.update_layout(title=title,title_x=.5,title_font_color=\"white\",plot_bgcolor=\"black\",paper_bgcolor=\"black\",font_color=\"white\",showlegend=legend)\n",
    "    fig.update_layout(width=800,height=600)\n",
    "    fig.update_traces(marker_colors=color_list)\n",
    "    return fig\n",
    "\n",
    "\n",
    "def classifying_years(x):\n",
    "    if float(x)==0:\n",
    "        return \"less than year\" \n",
    "    elif float(x)>0 and float(x)<=5:\n",
    "        return \"1:5\"\n",
    "    elif float(x)>5 and float(x)<=10:\n",
    "        return \"6:10\"\n",
    "    elif float(x)>11 and float(x)<=15:\n",
    "        return \"11:15\"  \n",
    "    elif float(x)>15 :\n",
    "        return \"above 15 yrs\"\n",
    "    else : ## for NAN \n",
    "        return \"Unkown\"\n",
    "    \n",
    "\n",
    "\n"
   ]
  },
  {
   "cell_type": "code",
   "execution_count": 5,
   "metadata": {},
   "outputs": [
    {
     "data": {
      "text/html": [
       "<div>\n",
       "<style scoped>\n",
       "    .dataframe tbody tr th:only-of-type {\n",
       "        vertical-align: middle;\n",
       "    }\n",
       "\n",
       "    .dataframe tbody tr th {\n",
       "        vertical-align: top;\n",
       "    }\n",
       "\n",
       "    .dataframe thead th {\n",
       "        text-align: right;\n",
       "    }\n",
       "</style>\n",
       "<table border=\"1\" class=\"dataframe\">\n",
       "  <thead>\n",
       "    <tr style=\"text-align: right;\">\n",
       "      <th></th>\n",
       "      <th>qid</th>\n",
       "      <th>qname</th>\n",
       "      <th>question</th>\n",
       "      <th>force_resp</th>\n",
       "      <th>type</th>\n",
       "      <th>selector</th>\n",
       "    </tr>\n",
       "  </thead>\n",
       "  <tbody>\n",
       "    <tr>\n",
       "      <th>3</th>\n",
       "      <td>QID312</td>\n",
       "      <td>Q120</td>\n",
       "      <td></td>\n",
       "      <td>True</td>\n",
       "      <td>MC</td>\n",
       "      <td>SAVR</td>\n",
       "    </tr>\n",
       "    <tr>\n",
       "      <th>5</th>\n",
       "      <td>QID2</td>\n",
       "      <td>MainBranch</td>\n",
       "      <td>Which of the following options best describes you today? For the purpose of this survey, a developer is \"someone who writes code\". *</td>\n",
       "      <td>True</td>\n",
       "      <td>MC</td>\n",
       "      <td>SAVR</td>\n",
       "    </tr>\n",
       "    <tr>\n",
       "      <th>6</th>\n",
       "      <td>QID127</td>\n",
       "      <td>Age</td>\n",
       "      <td>What is your age? *</td>\n",
       "      <td>True</td>\n",
       "      <td>MC</td>\n",
       "      <td>MAVR</td>\n",
       "    </tr>\n",
       "    <tr>\n",
       "      <th>7</th>\n",
       "      <td>QID296</td>\n",
       "      <td>Employment</td>\n",
       "      <td>Which of the following best describes your current employment status? Select all that apply.</td>\n",
       "      <td>False</td>\n",
       "      <td>MC</td>\n",
       "      <td>MAVR</td>\n",
       "    </tr>\n",
       "    <tr>\n",
       "      <th>8</th>\n",
       "      <td>QID308</td>\n",
       "      <td>RemoteWork</td>\n",
       "      <td>Which best describes your current work situation?</td>\n",
       "      <td>False</td>\n",
       "      <td>MC</td>\n",
       "      <td>SAVR</td>\n",
       "    </tr>\n",
       "    <tr>\n",
       "      <th>...</th>\n",
       "      <td>...</td>\n",
       "      <td>...</td>\n",
       "      <td>...</td>\n",
       "      <td>...</td>\n",
       "      <td>...</td>\n",
       "      <td>...</td>\n",
       "    </tr>\n",
       "    <tr>\n",
       "      <th>73</th>\n",
       "      <td>QID289</td>\n",
       "      <td>Knowledge_7</td>\n",
       "      <td>Waiting on answers to questions often causes interruptions and disrupts my workflow.</td>\n",
       "      <td>NaN</td>\n",
       "      <td>MC</td>\n",
       "      <td>MAVR</td>\n",
       "    </tr>\n",
       "    <tr>\n",
       "      <th>74</th>\n",
       "      <td>QID289</td>\n",
       "      <td>Knowledge_8</td>\n",
       "      <td>I feel like I have the tools and/or resources to quickly understand and work on any area of my company's code/system/platform.</td>\n",
       "      <td>NaN</td>\n",
       "      <td>MC</td>\n",
       "      <td>MAVR</td>\n",
       "    </tr>\n",
       "    <tr>\n",
       "      <th>75</th>\n",
       "      <td>QID290</td>\n",
       "      <td>Frequency_1</td>\n",
       "      <td>Needing help from people outside of your immediate team?</td>\n",
       "      <td>NaN</td>\n",
       "      <td>MC</td>\n",
       "      <td>MAVR</td>\n",
       "    </tr>\n",
       "    <tr>\n",
       "      <th>76</th>\n",
       "      <td>QID290</td>\n",
       "      <td>Frequency_2</td>\n",
       "      <td>Interacting with people outside of your immediate team?</td>\n",
       "      <td>NaN</td>\n",
       "      <td>MC</td>\n",
       "      <td>MAVR</td>\n",
       "    </tr>\n",
       "    <tr>\n",
       "      <th>77</th>\n",
       "      <td>QID290</td>\n",
       "      <td>Frequency_3</td>\n",
       "      <td>Encountering knowledge silos (where one individual or team has information that's not shared or distributed with other individuals or teams) at work?</td>\n",
       "      <td>NaN</td>\n",
       "      <td>MC</td>\n",
       "      <td>MAVR</td>\n",
       "    </tr>\n",
       "  </tbody>\n",
       "</table>\n",
       "<p>50 rows × 6 columns</p>\n",
       "</div>"
      ],
      "text/plain": [
       "       qid        qname  \\\n",
       "3   QID312         Q120   \n",
       "5     QID2   MainBranch   \n",
       "6   QID127          Age   \n",
       "7   QID296   Employment   \n",
       "8   QID308   RemoteWork   \n",
       "..     ...          ...   \n",
       "73  QID289  Knowledge_7   \n",
       "74  QID289  Knowledge_8   \n",
       "75  QID290  Frequency_1   \n",
       "76  QID290  Frequency_2   \n",
       "77  QID290  Frequency_3   \n",
       "\n",
       "                                                                                                                                                 question  \\\n",
       "3                                                                                                                                                           \n",
       "5                    Which of the following options best describes you today? For the purpose of this survey, a developer is \"someone who writes code\". *   \n",
       "6                                                                                                                                     What is your age? *   \n",
       "7                                                            Which of the following best describes your current employment status? Select all that apply.   \n",
       "8                                                                                                       Which best describes your current work situation?   \n",
       "..                                                                                                                                                    ...   \n",
       "73                                                                   Waiting on answers to questions often causes interruptions and disrupts my workflow.   \n",
       "74                         I feel like I have the tools and/or resources to quickly understand and work on any area of my company's code/system/platform.   \n",
       "75                                                                                               Needing help from people outside of your immediate team?   \n",
       "76                                                                                                Interacting with people outside of your immediate team?   \n",
       "77  Encountering knowledge silos (where one individual or team has information that's not shared or distributed with other individuals or teams) at work?   \n",
       "\n",
       "   force_resp type selector  \n",
       "3        True   MC     SAVR  \n",
       "5        True   MC     SAVR  \n",
       "6        True   MC     MAVR  \n",
       "7       False   MC     MAVR  \n",
       "8       False   MC     SAVR  \n",
       "..        ...  ...      ...  \n",
       "73        NaN   MC     MAVR  \n",
       "74        NaN   MC     MAVR  \n",
       "75        NaN   MC     MAVR  \n",
       "76        NaN   MC     MAVR  \n",
       "77        NaN   MC     MAVR  \n",
       "\n",
       "[50 rows x 6 columns]"
      ]
     },
     "execution_count": 5,
     "metadata": {},
     "output_type": "execute_result"
    }
   ],
   "source": [
    "schema.loc[schema[\"qname\"].isin(questions_list)]"
   ]
  },
  {
   "cell_type": "markdown",
   "metadata": {},
   "source": [
    "##### Extracting the data professional data from the main Data file"
   ]
  },
  {
   "cell_type": "code",
   "execution_count": 6,
   "metadata": {},
   "outputs": [],
   "source": [
    "mask=(df[\"DevType\"].str.contains(\"data\") | df[\"DevType\"].str.contains(\"Data\"))\n",
    "mask.replace(np.nan,False,inplace=True)\n",
    "data_df=df.loc[mask]"
   ]
  },
  {
   "cell_type": "code",
   "execution_count": 7,
   "metadata": {},
   "outputs": [
    {
     "data": {
      "text/plain": [
       "3930"
      ]
     },
     "execution_count": 7,
     "metadata": {},
     "output_type": "execute_result"
    }
   ],
   "source": [
    "data_df.shape[0]"
   ]
  },
  {
   "cell_type": "code",
   "execution_count": 8,
   "metadata": {},
   "outputs": [
    {
     "data": {
      "text/plain": [
       "ResponseId                0\n",
       "Q120                      0\n",
       "MainBranch                0\n",
       "Age                       0\n",
       "Employment                0\n",
       "                       ... \n",
       "ProfessionalTech       1853\n",
       "Industry               2164\n",
       "SurveyLength             47\n",
       "SurveyEase               53\n",
       "ConvertedCompYearly    1450\n",
       "Length: 84, dtype: int64"
      ]
     },
     "execution_count": 8,
     "metadata": {},
     "output_type": "execute_result"
    }
   ],
   "source": [
    "data_df.isna().sum()"
   ]
  },
  {
   "cell_type": "code",
   "execution_count": 9,
   "metadata": {},
   "outputs": [
    {
     "name": "stderr",
     "output_type": "stream",
     "text": [
      "C:\\Users\\W.D1998\\AppData\\Local\\Temp\\ipykernel_10184\\3930809725.py:2: FutureWarning: Setting an item of incompatible dtype is deprecated and will raise an error in a future version of pandas. Value 'Other Professionals' has dtype incompatible with bool, please explicitly cast to a compatible dtype first.\n",
      "  tempdata.at[0,\"DevType\"]=\"Other Professionals\"\n"
     ]
    },
    {
     "name": "stdout",
     "output_type": "stream",
     "text": [
      "The count of Data professionals =  3930\n",
      "The Percentage of Data professionals =  4.406620021528526\n"
     ]
    },
    {
     "data": {
      "application/vnd.plotly.v1+json": {
       "config": {
        "plotlyServerURL": "https://plot.ly"
       },
       "data": [
        {
         "domain": {
          "x": [
           0,
           1
          ],
          "y": [
           0,
           1
          ]
         },
         "hovertemplate": "DevType=%{label}<br>count=%{value}<extra></extra>",
         "labels": [
          "Other Professionals",
          "Data Professionals"
         ],
         "legendgroup": "",
         "marker": {
          "colors": [
           "#FFDF00",
           "#2db923",
           "#083248",
           "#d459cd",
           "#f088eb",
           "#39e641"
          ]
         },
         "name": "",
         "showlegend": true,
         "type": "pie",
         "values": [
          85254,
          3930
         ]
        }
       ],
       "layout": {
        "font": {
         "color": "white"
        },
        "height": 600,
        "legend": {
         "tracegroupgap": 0
        },
        "margin": {
         "t": 60
        },
        "paper_bgcolor": "black",
        "plot_bgcolor": "black",
        "showlegend": true,
        "template": {
         "data": {
          "bar": [
           {
            "error_x": {
             "color": "#2a3f5f"
            },
            "error_y": {
             "color": "#2a3f5f"
            },
            "marker": {
             "line": {
              "color": "#E5ECF6",
              "width": 0.5
             },
             "pattern": {
              "fillmode": "overlay",
              "size": 10,
              "solidity": 0.2
             }
            },
            "type": "bar"
           }
          ],
          "barpolar": [
           {
            "marker": {
             "line": {
              "color": "#E5ECF6",
              "width": 0.5
             },
             "pattern": {
              "fillmode": "overlay",
              "size": 10,
              "solidity": 0.2
             }
            },
            "type": "barpolar"
           }
          ],
          "carpet": [
           {
            "aaxis": {
             "endlinecolor": "#2a3f5f",
             "gridcolor": "white",
             "linecolor": "white",
             "minorgridcolor": "white",
             "startlinecolor": "#2a3f5f"
            },
            "baxis": {
             "endlinecolor": "#2a3f5f",
             "gridcolor": "white",
             "linecolor": "white",
             "minorgridcolor": "white",
             "startlinecolor": "#2a3f5f"
            },
            "type": "carpet"
           }
          ],
          "choropleth": [
           {
            "colorbar": {
             "outlinewidth": 0,
             "ticks": ""
            },
            "type": "choropleth"
           }
          ],
          "contour": [
           {
            "colorbar": {
             "outlinewidth": 0,
             "ticks": ""
            },
            "colorscale": [
             [
              0,
              "#0d0887"
             ],
             [
              0.1111111111111111,
              "#46039f"
             ],
             [
              0.2222222222222222,
              "#7201a8"
             ],
             [
              0.3333333333333333,
              "#9c179e"
             ],
             [
              0.4444444444444444,
              "#bd3786"
             ],
             [
              0.5555555555555556,
              "#d8576b"
             ],
             [
              0.6666666666666666,
              "#ed7953"
             ],
             [
              0.7777777777777778,
              "#fb9f3a"
             ],
             [
              0.8888888888888888,
              "#fdca26"
             ],
             [
              1,
              "#f0f921"
             ]
            ],
            "type": "contour"
           }
          ],
          "contourcarpet": [
           {
            "colorbar": {
             "outlinewidth": 0,
             "ticks": ""
            },
            "type": "contourcarpet"
           }
          ],
          "heatmap": [
           {
            "colorbar": {
             "outlinewidth": 0,
             "ticks": ""
            },
            "colorscale": [
             [
              0,
              "#0d0887"
             ],
             [
              0.1111111111111111,
              "#46039f"
             ],
             [
              0.2222222222222222,
              "#7201a8"
             ],
             [
              0.3333333333333333,
              "#9c179e"
             ],
             [
              0.4444444444444444,
              "#bd3786"
             ],
             [
              0.5555555555555556,
              "#d8576b"
             ],
             [
              0.6666666666666666,
              "#ed7953"
             ],
             [
              0.7777777777777778,
              "#fb9f3a"
             ],
             [
              0.8888888888888888,
              "#fdca26"
             ],
             [
              1,
              "#f0f921"
             ]
            ],
            "type": "heatmap"
           }
          ],
          "heatmapgl": [
           {
            "colorbar": {
             "outlinewidth": 0,
             "ticks": ""
            },
            "colorscale": [
             [
              0,
              "#0d0887"
             ],
             [
              0.1111111111111111,
              "#46039f"
             ],
             [
              0.2222222222222222,
              "#7201a8"
             ],
             [
              0.3333333333333333,
              "#9c179e"
             ],
             [
              0.4444444444444444,
              "#bd3786"
             ],
             [
              0.5555555555555556,
              "#d8576b"
             ],
             [
              0.6666666666666666,
              "#ed7953"
             ],
             [
              0.7777777777777778,
              "#fb9f3a"
             ],
             [
              0.8888888888888888,
              "#fdca26"
             ],
             [
              1,
              "#f0f921"
             ]
            ],
            "type": "heatmapgl"
           }
          ],
          "histogram": [
           {
            "marker": {
             "pattern": {
              "fillmode": "overlay",
              "size": 10,
              "solidity": 0.2
             }
            },
            "type": "histogram"
           }
          ],
          "histogram2d": [
           {
            "colorbar": {
             "outlinewidth": 0,
             "ticks": ""
            },
            "colorscale": [
             [
              0,
              "#0d0887"
             ],
             [
              0.1111111111111111,
              "#46039f"
             ],
             [
              0.2222222222222222,
              "#7201a8"
             ],
             [
              0.3333333333333333,
              "#9c179e"
             ],
             [
              0.4444444444444444,
              "#bd3786"
             ],
             [
              0.5555555555555556,
              "#d8576b"
             ],
             [
              0.6666666666666666,
              "#ed7953"
             ],
             [
              0.7777777777777778,
              "#fb9f3a"
             ],
             [
              0.8888888888888888,
              "#fdca26"
             ],
             [
              1,
              "#f0f921"
             ]
            ],
            "type": "histogram2d"
           }
          ],
          "histogram2dcontour": [
           {
            "colorbar": {
             "outlinewidth": 0,
             "ticks": ""
            },
            "colorscale": [
             [
              0,
              "#0d0887"
             ],
             [
              0.1111111111111111,
              "#46039f"
             ],
             [
              0.2222222222222222,
              "#7201a8"
             ],
             [
              0.3333333333333333,
              "#9c179e"
             ],
             [
              0.4444444444444444,
              "#bd3786"
             ],
             [
              0.5555555555555556,
              "#d8576b"
             ],
             [
              0.6666666666666666,
              "#ed7953"
             ],
             [
              0.7777777777777778,
              "#fb9f3a"
             ],
             [
              0.8888888888888888,
              "#fdca26"
             ],
             [
              1,
              "#f0f921"
             ]
            ],
            "type": "histogram2dcontour"
           }
          ],
          "mesh3d": [
           {
            "colorbar": {
             "outlinewidth": 0,
             "ticks": ""
            },
            "type": "mesh3d"
           }
          ],
          "parcoords": [
           {
            "line": {
             "colorbar": {
              "outlinewidth": 0,
              "ticks": ""
             }
            },
            "type": "parcoords"
           }
          ],
          "pie": [
           {
            "automargin": true,
            "type": "pie"
           }
          ],
          "scatter": [
           {
            "fillpattern": {
             "fillmode": "overlay",
             "size": 10,
             "solidity": 0.2
            },
            "type": "scatter"
           }
          ],
          "scatter3d": [
           {
            "line": {
             "colorbar": {
              "outlinewidth": 0,
              "ticks": ""
             }
            },
            "marker": {
             "colorbar": {
              "outlinewidth": 0,
              "ticks": ""
             }
            },
            "type": "scatter3d"
           }
          ],
          "scattercarpet": [
           {
            "marker": {
             "colorbar": {
              "outlinewidth": 0,
              "ticks": ""
             }
            },
            "type": "scattercarpet"
           }
          ],
          "scattergeo": [
           {
            "marker": {
             "colorbar": {
              "outlinewidth": 0,
              "ticks": ""
             }
            },
            "type": "scattergeo"
           }
          ],
          "scattergl": [
           {
            "marker": {
             "colorbar": {
              "outlinewidth": 0,
              "ticks": ""
             }
            },
            "type": "scattergl"
           }
          ],
          "scattermapbox": [
           {
            "marker": {
             "colorbar": {
              "outlinewidth": 0,
              "ticks": ""
             }
            },
            "type": "scattermapbox"
           }
          ],
          "scatterpolar": [
           {
            "marker": {
             "colorbar": {
              "outlinewidth": 0,
              "ticks": ""
             }
            },
            "type": "scatterpolar"
           }
          ],
          "scatterpolargl": [
           {
            "marker": {
             "colorbar": {
              "outlinewidth": 0,
              "ticks": ""
             }
            },
            "type": "scatterpolargl"
           }
          ],
          "scatterternary": [
           {
            "marker": {
             "colorbar": {
              "outlinewidth": 0,
              "ticks": ""
             }
            },
            "type": "scatterternary"
           }
          ],
          "surface": [
           {
            "colorbar": {
             "outlinewidth": 0,
             "ticks": ""
            },
            "colorscale": [
             [
              0,
              "#0d0887"
             ],
             [
              0.1111111111111111,
              "#46039f"
             ],
             [
              0.2222222222222222,
              "#7201a8"
             ],
             [
              0.3333333333333333,
              "#9c179e"
             ],
             [
              0.4444444444444444,
              "#bd3786"
             ],
             [
              0.5555555555555556,
              "#d8576b"
             ],
             [
              0.6666666666666666,
              "#ed7953"
             ],
             [
              0.7777777777777778,
              "#fb9f3a"
             ],
             [
              0.8888888888888888,
              "#fdca26"
             ],
             [
              1,
              "#f0f921"
             ]
            ],
            "type": "surface"
           }
          ],
          "table": [
           {
            "cells": {
             "fill": {
              "color": "#EBF0F8"
             },
             "line": {
              "color": "white"
             }
            },
            "header": {
             "fill": {
              "color": "#C8D4E3"
             },
             "line": {
              "color": "white"
             }
            },
            "type": "table"
           }
          ]
         },
         "layout": {
          "annotationdefaults": {
           "arrowcolor": "#2a3f5f",
           "arrowhead": 0,
           "arrowwidth": 1
          },
          "autotypenumbers": "strict",
          "coloraxis": {
           "colorbar": {
            "outlinewidth": 0,
            "ticks": ""
           }
          },
          "colorscale": {
           "diverging": [
            [
             0,
             "#8e0152"
            ],
            [
             0.1,
             "#c51b7d"
            ],
            [
             0.2,
             "#de77ae"
            ],
            [
             0.3,
             "#f1b6da"
            ],
            [
             0.4,
             "#fde0ef"
            ],
            [
             0.5,
             "#f7f7f7"
            ],
            [
             0.6,
             "#e6f5d0"
            ],
            [
             0.7,
             "#b8e186"
            ],
            [
             0.8,
             "#7fbc41"
            ],
            [
             0.9,
             "#4d9221"
            ],
            [
             1,
             "#276419"
            ]
           ],
           "sequential": [
            [
             0,
             "#0d0887"
            ],
            [
             0.1111111111111111,
             "#46039f"
            ],
            [
             0.2222222222222222,
             "#7201a8"
            ],
            [
             0.3333333333333333,
             "#9c179e"
            ],
            [
             0.4444444444444444,
             "#bd3786"
            ],
            [
             0.5555555555555556,
             "#d8576b"
            ],
            [
             0.6666666666666666,
             "#ed7953"
            ],
            [
             0.7777777777777778,
             "#fb9f3a"
            ],
            [
             0.8888888888888888,
             "#fdca26"
            ],
            [
             1,
             "#f0f921"
            ]
           ],
           "sequentialminus": [
            [
             0,
             "#0d0887"
            ],
            [
             0.1111111111111111,
             "#46039f"
            ],
            [
             0.2222222222222222,
             "#7201a8"
            ],
            [
             0.3333333333333333,
             "#9c179e"
            ],
            [
             0.4444444444444444,
             "#bd3786"
            ],
            [
             0.5555555555555556,
             "#d8576b"
            ],
            [
             0.6666666666666666,
             "#ed7953"
            ],
            [
             0.7777777777777778,
             "#fb9f3a"
            ],
            [
             0.8888888888888888,
             "#fdca26"
            ],
            [
             1,
             "#f0f921"
            ]
           ]
          },
          "colorway": [
           "#636efa",
           "#EF553B",
           "#00cc96",
           "#ab63fa",
           "#FFA15A",
           "#19d3f3",
           "#FF6692",
           "#B6E880",
           "#FF97FF",
           "#FECB52"
          ],
          "font": {
           "color": "#2a3f5f"
          },
          "geo": {
           "bgcolor": "white",
           "lakecolor": "white",
           "landcolor": "#E5ECF6",
           "showlakes": true,
           "showland": true,
           "subunitcolor": "white"
          },
          "hoverlabel": {
           "align": "left"
          },
          "hovermode": "closest",
          "mapbox": {
           "style": "light"
          },
          "paper_bgcolor": "white",
          "plot_bgcolor": "#E5ECF6",
          "polar": {
           "angularaxis": {
            "gridcolor": "white",
            "linecolor": "white",
            "ticks": ""
           },
           "bgcolor": "#E5ECF6",
           "radialaxis": {
            "gridcolor": "white",
            "linecolor": "white",
            "ticks": ""
           }
          },
          "scene": {
           "xaxis": {
            "backgroundcolor": "#E5ECF6",
            "gridcolor": "white",
            "gridwidth": 2,
            "linecolor": "white",
            "showbackground": true,
            "ticks": "",
            "zerolinecolor": "white"
           },
           "yaxis": {
            "backgroundcolor": "#E5ECF6",
            "gridcolor": "white",
            "gridwidth": 2,
            "linecolor": "white",
            "showbackground": true,
            "ticks": "",
            "zerolinecolor": "white"
           },
           "zaxis": {
            "backgroundcolor": "#E5ECF6",
            "gridcolor": "white",
            "gridwidth": 2,
            "linecolor": "white",
            "showbackground": true,
            "ticks": "",
            "zerolinecolor": "white"
           }
          },
          "shapedefaults": {
           "line": {
            "color": "#2a3f5f"
           }
          },
          "ternary": {
           "aaxis": {
            "gridcolor": "white",
            "linecolor": "white",
            "ticks": ""
           },
           "baxis": {
            "gridcolor": "white",
            "linecolor": "white",
            "ticks": ""
           },
           "bgcolor": "#E5ECF6",
           "caxis": {
            "gridcolor": "white",
            "linecolor": "white",
            "ticks": ""
           }
          },
          "title": {
           "x": 0.05
          },
          "xaxis": {
           "automargin": true,
           "gridcolor": "white",
           "linecolor": "white",
           "ticks": "",
           "title": {
            "standoff": 15
           },
           "zerolinecolor": "white",
           "zerolinewidth": 2
          },
          "yaxis": {
           "automargin": true,
           "gridcolor": "white",
           "linecolor": "white",
           "ticks": "",
           "title": {
            "standoff": 15
           },
           "zerolinecolor": "white",
           "zerolinewidth": 2
          }
         }
        },
        "title": {
         "font": {
          "color": "white"
         },
         "text": "The percentage of Data Profesionals in the Survey",
         "x": 0.5
        },
        "width": 800
       }
      }
     },
     "metadata": {},
     "output_type": "display_data"
    }
   ],
   "source": [
    "tempdata=pd.DataFrame(mask.value_counts()).reset_index()\n",
    "tempdata.at[0,\"DevType\"]=\"Other Professionals\"\n",
    "tempdata.at[1,\"DevType\"]=\"Data Professionals\"\n",
    "fig=px.pie(data_frame=tempdata,names=\"DevType\",values=\"count\",width=600,height=400)\n",
    "fig_style(fig=fig,title=\"The percentage of Data Profesionals in the Survey\",legend=True)\n",
    "print(\"The count of Data professionals = \",data_df.shape[0])\n",
    "print(\"The Percentage of Data professionals = \",(data_df.shape[0]/df.shape[0])*100)\n",
    "fig.show()\n",
    "\n"
   ]
  },
  {
   "cell_type": "markdown",
   "metadata": {},
   "source": [
    "#### Some Changes to data professionals dataframe"
   ]
  },
  {
   "cell_type": "code",
   "execution_count": 10,
   "metadata": {},
   "outputs": [],
   "source": [
    "mask=((data_df[\"MainBranch\"]==\"I am a developer by profession\") | (data_df[\"MainBranch\"]==\"I am not primarily a developer, but I write code sometimes as part of my work/studies\"))\n",
    "data_df=data_df.loc[mask]"
   ]
  },
  {
   "cell_type": "code",
   "execution_count": 11,
   "metadata": {},
   "outputs": [],
   "source": [
    "data_df[\"Industry\"]=data_df[\"Industry\"].apply(lambda x: \"Information technology\" if x==\"Information Services, IT, Software Development, or other Technology\" else (\n",
    "    \"Manufacturing and Transportation\" if x==\"Manufacturing, Transportation, or Supply Chain\" else x))"
   ]
  },
  {
   "cell_type": "code",
   "execution_count": 12,
   "metadata": {},
   "outputs": [],
   "source": [
    "#the job names is too long and ugly ,so lets clean it\n",
    "data_df[\"DevType\"]=data_df[\"DevType\"].apply(lambda x : \"Data scientist\" if x ==\"Data scientist or machine learning specialist\" \n",
    "                                            else ( \"Data Engineer\" if x==\"Engineer, data\" \n",
    "                                                  else ( \"Data analyst\"if x == \"Data or business analyst\" else x) ))"
   ]
  },
  {
   "cell_type": "code",
   "execution_count": 13,
   "metadata": {},
   "outputs": [
    {
     "name": "stdout",
     "output_type": "stream",
     "text": [
      "                  DevType  count\n",
      "0          Data scientist   1537\n",
      "1           Data Engineer   1217\n",
      "2            Data analyst    703\n",
      "3  Database administrator    229\n"
     ]
    },
    {
     "data": {
      "application/vnd.plotly.v1+json": {
       "config": {
        "plotlyServerURL": "https://plot.ly"
       },
       "data": [
        {
         "domain": {
          "x": [
           0,
           1
          ],
          "y": [
           0,
           1
          ]
         },
         "hovertemplate": "DevType=%{label}<br>count=%{value}<extra></extra>",
         "labels": [
          "Data scientist",
          "Data Engineer",
          "Data analyst",
          "Database administrator"
         ],
         "legendgroup": "",
         "marker": {
          "colors": [
           "#FFDF00",
           "#2db923",
           "#083248",
           "#d459cd",
           "#f088eb",
           "#39e641"
          ]
         },
         "name": "",
         "showlegend": true,
         "type": "pie",
         "values": [
          1537,
          1217,
          703,
          229
         ]
        }
       ],
       "layout": {
        "font": {
         "color": "white"
        },
        "height": 600,
        "legend": {
         "tracegroupgap": 0
        },
        "margin": {
         "t": 60
        },
        "paper_bgcolor": "black",
        "plot_bgcolor": "black",
        "showlegend": true,
        "template": {
         "data": {
          "bar": [
           {
            "error_x": {
             "color": "#2a3f5f"
            },
            "error_y": {
             "color": "#2a3f5f"
            },
            "marker": {
             "line": {
              "color": "#E5ECF6",
              "width": 0.5
             },
             "pattern": {
              "fillmode": "overlay",
              "size": 10,
              "solidity": 0.2
             }
            },
            "type": "bar"
           }
          ],
          "barpolar": [
           {
            "marker": {
             "line": {
              "color": "#E5ECF6",
              "width": 0.5
             },
             "pattern": {
              "fillmode": "overlay",
              "size": 10,
              "solidity": 0.2
             }
            },
            "type": "barpolar"
           }
          ],
          "carpet": [
           {
            "aaxis": {
             "endlinecolor": "#2a3f5f",
             "gridcolor": "white",
             "linecolor": "white",
             "minorgridcolor": "white",
             "startlinecolor": "#2a3f5f"
            },
            "baxis": {
             "endlinecolor": "#2a3f5f",
             "gridcolor": "white",
             "linecolor": "white",
             "minorgridcolor": "white",
             "startlinecolor": "#2a3f5f"
            },
            "type": "carpet"
           }
          ],
          "choropleth": [
           {
            "colorbar": {
             "outlinewidth": 0,
             "ticks": ""
            },
            "type": "choropleth"
           }
          ],
          "contour": [
           {
            "colorbar": {
             "outlinewidth": 0,
             "ticks": ""
            },
            "colorscale": [
             [
              0,
              "#0d0887"
             ],
             [
              0.1111111111111111,
              "#46039f"
             ],
             [
              0.2222222222222222,
              "#7201a8"
             ],
             [
              0.3333333333333333,
              "#9c179e"
             ],
             [
              0.4444444444444444,
              "#bd3786"
             ],
             [
              0.5555555555555556,
              "#d8576b"
             ],
             [
              0.6666666666666666,
              "#ed7953"
             ],
             [
              0.7777777777777778,
              "#fb9f3a"
             ],
             [
              0.8888888888888888,
              "#fdca26"
             ],
             [
              1,
              "#f0f921"
             ]
            ],
            "type": "contour"
           }
          ],
          "contourcarpet": [
           {
            "colorbar": {
             "outlinewidth": 0,
             "ticks": ""
            },
            "type": "contourcarpet"
           }
          ],
          "heatmap": [
           {
            "colorbar": {
             "outlinewidth": 0,
             "ticks": ""
            },
            "colorscale": [
             [
              0,
              "#0d0887"
             ],
             [
              0.1111111111111111,
              "#46039f"
             ],
             [
              0.2222222222222222,
              "#7201a8"
             ],
             [
              0.3333333333333333,
              "#9c179e"
             ],
             [
              0.4444444444444444,
              "#bd3786"
             ],
             [
              0.5555555555555556,
              "#d8576b"
             ],
             [
              0.6666666666666666,
              "#ed7953"
             ],
             [
              0.7777777777777778,
              "#fb9f3a"
             ],
             [
              0.8888888888888888,
              "#fdca26"
             ],
             [
              1,
              "#f0f921"
             ]
            ],
            "type": "heatmap"
           }
          ],
          "heatmapgl": [
           {
            "colorbar": {
             "outlinewidth": 0,
             "ticks": ""
            },
            "colorscale": [
             [
              0,
              "#0d0887"
             ],
             [
              0.1111111111111111,
              "#46039f"
             ],
             [
              0.2222222222222222,
              "#7201a8"
             ],
             [
              0.3333333333333333,
              "#9c179e"
             ],
             [
              0.4444444444444444,
              "#bd3786"
             ],
             [
              0.5555555555555556,
              "#d8576b"
             ],
             [
              0.6666666666666666,
              "#ed7953"
             ],
             [
              0.7777777777777778,
              "#fb9f3a"
             ],
             [
              0.8888888888888888,
              "#fdca26"
             ],
             [
              1,
              "#f0f921"
             ]
            ],
            "type": "heatmapgl"
           }
          ],
          "histogram": [
           {
            "marker": {
             "pattern": {
              "fillmode": "overlay",
              "size": 10,
              "solidity": 0.2
             }
            },
            "type": "histogram"
           }
          ],
          "histogram2d": [
           {
            "colorbar": {
             "outlinewidth": 0,
             "ticks": ""
            },
            "colorscale": [
             [
              0,
              "#0d0887"
             ],
             [
              0.1111111111111111,
              "#46039f"
             ],
             [
              0.2222222222222222,
              "#7201a8"
             ],
             [
              0.3333333333333333,
              "#9c179e"
             ],
             [
              0.4444444444444444,
              "#bd3786"
             ],
             [
              0.5555555555555556,
              "#d8576b"
             ],
             [
              0.6666666666666666,
              "#ed7953"
             ],
             [
              0.7777777777777778,
              "#fb9f3a"
             ],
             [
              0.8888888888888888,
              "#fdca26"
             ],
             [
              1,
              "#f0f921"
             ]
            ],
            "type": "histogram2d"
           }
          ],
          "histogram2dcontour": [
           {
            "colorbar": {
             "outlinewidth": 0,
             "ticks": ""
            },
            "colorscale": [
             [
              0,
              "#0d0887"
             ],
             [
              0.1111111111111111,
              "#46039f"
             ],
             [
              0.2222222222222222,
              "#7201a8"
             ],
             [
              0.3333333333333333,
              "#9c179e"
             ],
             [
              0.4444444444444444,
              "#bd3786"
             ],
             [
              0.5555555555555556,
              "#d8576b"
             ],
             [
              0.6666666666666666,
              "#ed7953"
             ],
             [
              0.7777777777777778,
              "#fb9f3a"
             ],
             [
              0.8888888888888888,
              "#fdca26"
             ],
             [
              1,
              "#f0f921"
             ]
            ],
            "type": "histogram2dcontour"
           }
          ],
          "mesh3d": [
           {
            "colorbar": {
             "outlinewidth": 0,
             "ticks": ""
            },
            "type": "mesh3d"
           }
          ],
          "parcoords": [
           {
            "line": {
             "colorbar": {
              "outlinewidth": 0,
              "ticks": ""
             }
            },
            "type": "parcoords"
           }
          ],
          "pie": [
           {
            "automargin": true,
            "type": "pie"
           }
          ],
          "scatter": [
           {
            "fillpattern": {
             "fillmode": "overlay",
             "size": 10,
             "solidity": 0.2
            },
            "type": "scatter"
           }
          ],
          "scatter3d": [
           {
            "line": {
             "colorbar": {
              "outlinewidth": 0,
              "ticks": ""
             }
            },
            "marker": {
             "colorbar": {
              "outlinewidth": 0,
              "ticks": ""
             }
            },
            "type": "scatter3d"
           }
          ],
          "scattercarpet": [
           {
            "marker": {
             "colorbar": {
              "outlinewidth": 0,
              "ticks": ""
             }
            },
            "type": "scattercarpet"
           }
          ],
          "scattergeo": [
           {
            "marker": {
             "colorbar": {
              "outlinewidth": 0,
              "ticks": ""
             }
            },
            "type": "scattergeo"
           }
          ],
          "scattergl": [
           {
            "marker": {
             "colorbar": {
              "outlinewidth": 0,
              "ticks": ""
             }
            },
            "type": "scattergl"
           }
          ],
          "scattermapbox": [
           {
            "marker": {
             "colorbar": {
              "outlinewidth": 0,
              "ticks": ""
             }
            },
            "type": "scattermapbox"
           }
          ],
          "scatterpolar": [
           {
            "marker": {
             "colorbar": {
              "outlinewidth": 0,
              "ticks": ""
             }
            },
            "type": "scatterpolar"
           }
          ],
          "scatterpolargl": [
           {
            "marker": {
             "colorbar": {
              "outlinewidth": 0,
              "ticks": ""
             }
            },
            "type": "scatterpolargl"
           }
          ],
          "scatterternary": [
           {
            "marker": {
             "colorbar": {
              "outlinewidth": 0,
              "ticks": ""
             }
            },
            "type": "scatterternary"
           }
          ],
          "surface": [
           {
            "colorbar": {
             "outlinewidth": 0,
             "ticks": ""
            },
            "colorscale": [
             [
              0,
              "#0d0887"
             ],
             [
              0.1111111111111111,
              "#46039f"
             ],
             [
              0.2222222222222222,
              "#7201a8"
             ],
             [
              0.3333333333333333,
              "#9c179e"
             ],
             [
              0.4444444444444444,
              "#bd3786"
             ],
             [
              0.5555555555555556,
              "#d8576b"
             ],
             [
              0.6666666666666666,
              "#ed7953"
             ],
             [
              0.7777777777777778,
              "#fb9f3a"
             ],
             [
              0.8888888888888888,
              "#fdca26"
             ],
             [
              1,
              "#f0f921"
             ]
            ],
            "type": "surface"
           }
          ],
          "table": [
           {
            "cells": {
             "fill": {
              "color": "#EBF0F8"
             },
             "line": {
              "color": "white"
             }
            },
            "header": {
             "fill": {
              "color": "#C8D4E3"
             },
             "line": {
              "color": "white"
             }
            },
            "type": "table"
           }
          ]
         },
         "layout": {
          "annotationdefaults": {
           "arrowcolor": "#2a3f5f",
           "arrowhead": 0,
           "arrowwidth": 1
          },
          "autotypenumbers": "strict",
          "coloraxis": {
           "colorbar": {
            "outlinewidth": 0,
            "ticks": ""
           }
          },
          "colorscale": {
           "diverging": [
            [
             0,
             "#8e0152"
            ],
            [
             0.1,
             "#c51b7d"
            ],
            [
             0.2,
             "#de77ae"
            ],
            [
             0.3,
             "#f1b6da"
            ],
            [
             0.4,
             "#fde0ef"
            ],
            [
             0.5,
             "#f7f7f7"
            ],
            [
             0.6,
             "#e6f5d0"
            ],
            [
             0.7,
             "#b8e186"
            ],
            [
             0.8,
             "#7fbc41"
            ],
            [
             0.9,
             "#4d9221"
            ],
            [
             1,
             "#276419"
            ]
           ],
           "sequential": [
            [
             0,
             "#0d0887"
            ],
            [
             0.1111111111111111,
             "#46039f"
            ],
            [
             0.2222222222222222,
             "#7201a8"
            ],
            [
             0.3333333333333333,
             "#9c179e"
            ],
            [
             0.4444444444444444,
             "#bd3786"
            ],
            [
             0.5555555555555556,
             "#d8576b"
            ],
            [
             0.6666666666666666,
             "#ed7953"
            ],
            [
             0.7777777777777778,
             "#fb9f3a"
            ],
            [
             0.8888888888888888,
             "#fdca26"
            ],
            [
             1,
             "#f0f921"
            ]
           ],
           "sequentialminus": [
            [
             0,
             "#0d0887"
            ],
            [
             0.1111111111111111,
             "#46039f"
            ],
            [
             0.2222222222222222,
             "#7201a8"
            ],
            [
             0.3333333333333333,
             "#9c179e"
            ],
            [
             0.4444444444444444,
             "#bd3786"
            ],
            [
             0.5555555555555556,
             "#d8576b"
            ],
            [
             0.6666666666666666,
             "#ed7953"
            ],
            [
             0.7777777777777778,
             "#fb9f3a"
            ],
            [
             0.8888888888888888,
             "#fdca26"
            ],
            [
             1,
             "#f0f921"
            ]
           ]
          },
          "colorway": [
           "#636efa",
           "#EF553B",
           "#00cc96",
           "#ab63fa",
           "#FFA15A",
           "#19d3f3",
           "#FF6692",
           "#B6E880",
           "#FF97FF",
           "#FECB52"
          ],
          "font": {
           "color": "#2a3f5f"
          },
          "geo": {
           "bgcolor": "white",
           "lakecolor": "white",
           "landcolor": "#E5ECF6",
           "showlakes": true,
           "showland": true,
           "subunitcolor": "white"
          },
          "hoverlabel": {
           "align": "left"
          },
          "hovermode": "closest",
          "mapbox": {
           "style": "light"
          },
          "paper_bgcolor": "white",
          "plot_bgcolor": "#E5ECF6",
          "polar": {
           "angularaxis": {
            "gridcolor": "white",
            "linecolor": "white",
            "ticks": ""
           },
           "bgcolor": "#E5ECF6",
           "radialaxis": {
            "gridcolor": "white",
            "linecolor": "white",
            "ticks": ""
           }
          },
          "scene": {
           "xaxis": {
            "backgroundcolor": "#E5ECF6",
            "gridcolor": "white",
            "gridwidth": 2,
            "linecolor": "white",
            "showbackground": true,
            "ticks": "",
            "zerolinecolor": "white"
           },
           "yaxis": {
            "backgroundcolor": "#E5ECF6",
            "gridcolor": "white",
            "gridwidth": 2,
            "linecolor": "white",
            "showbackground": true,
            "ticks": "",
            "zerolinecolor": "white"
           },
           "zaxis": {
            "backgroundcolor": "#E5ECF6",
            "gridcolor": "white",
            "gridwidth": 2,
            "linecolor": "white",
            "showbackground": true,
            "ticks": "",
            "zerolinecolor": "white"
           }
          },
          "shapedefaults": {
           "line": {
            "color": "#2a3f5f"
           }
          },
          "ternary": {
           "aaxis": {
            "gridcolor": "white",
            "linecolor": "white",
            "ticks": ""
           },
           "baxis": {
            "gridcolor": "white",
            "linecolor": "white",
            "ticks": ""
           },
           "bgcolor": "#E5ECF6",
           "caxis": {
            "gridcolor": "white",
            "linecolor": "white",
            "ticks": ""
           }
          },
          "title": {
           "x": 0.05
          },
          "xaxis": {
           "automargin": true,
           "gridcolor": "white",
           "linecolor": "white",
           "ticks": "",
           "title": {
            "standoff": 15
           },
           "zerolinecolor": "white",
           "zerolinewidth": 2
          },
          "yaxis": {
           "automargin": true,
           "gridcolor": "white",
           "linecolor": "white",
           "ticks": "",
           "title": {
            "standoff": 15
           },
           "zerolinecolor": "white",
           "zerolinewidth": 2
          }
         }
        },
        "title": {
         "font": {
          "color": "white"
         },
         "text": "The percentage of each Data Profesionals Catagory in the Survey",
         "x": 0.5
        },
        "width": 800
       }
      }
     },
     "metadata": {},
     "output_type": "display_data"
    }
   ],
   "source": [
    "tempdata=pd.DataFrame(data_df['DevType'].value_counts()).reset_index()\n",
    "print(tempdata)\n",
    "fig=px.pie(data_frame=tempdata,names=\"DevType\",values=\"count\",width=600,height=400)\n",
    "fig_style(fig=fig,title=\"The percentage of each Data Profesionals Catagory in the Survey\",legend=True)"
   ]
  },
  {
   "cell_type": "markdown",
   "metadata": {},
   "source": [
    "### Which country have the highest number of data analysts ?"
   ]
  },
  {
   "cell_type": "code",
   "execution_count": 14,
   "metadata": {},
   "outputs": [],
   "source": [
    "tempdata=data_df.Country.value_counts().head(10)\n",
    "\n",
    "tempdata=pd.DataFrame(tempdata).reset_index()\n",
    "tempdata.at[2,\"Country\"]=\"United Kingdom and Northern Ireland\"\n",
    "\n",
    "fig=paint_bar(title=\"Top 10 Countries having Data Professionals\",df=tempdata,x=\"Country\",y=\"count\",x_name=\"Country\",y_name=\"count\")\n"
   ]
  },
  {
   "cell_type": "markdown",
   "metadata": {},
   "source": [
    "#### which country have the highest number of data analysts ?"
   ]
  },
  {
   "cell_type": "code",
   "execution_count": 15,
   "metadata": {},
   "outputs": [
    {
     "data": {
      "application/vnd.plotly.v1+json": {
       "config": {
        "plotlyServerURL": "https://plot.ly"
       },
       "data": [
        {
         "alignmentgroup": "True",
         "hovertemplate": "Country=%{x}<br>count=%{text}<extra></extra>",
         "legendgroup": "",
         "marker": {
          "color": "#F0C826",
          "pattern": {
           "shape": ""
          }
         },
         "name": "",
         "offsetgroup": "",
         "orientation": "v",
         "showlegend": false,
         "text": [
          195,
          52,
          39,
          39,
          34,
          31,
          30,
          17,
          16,
          14
         ],
         "textposition": "outside",
         "type": "bar",
         "x": [
          "United States of America",
          "United Kingdom and Northern Ireland",
          "Germany",
          "Australia",
          "India",
          "Canada",
          "Brazil",
          "Poland",
          "Italy",
          "Netherlands"
         ],
         "xaxis": "x",
         "y": [
          195,
          52,
          39,
          39,
          34,
          31,
          30,
          17,
          16,
          14
         ],
         "yaxis": "y"
        }
       ],
       "layout": {
        "barmode": "relative",
        "font": {
         "color": "white"
        },
        "height": 600,
        "legend": {
         "tracegroupgap": 0
        },
        "margin": {
         "t": 60
        },
        "paper_bgcolor": "black",
        "plot_bgcolor": "black",
        "showlegend": false,
        "template": {
         "data": {
          "bar": [
           {
            "error_x": {
             "color": "#2a3f5f"
            },
            "error_y": {
             "color": "#2a3f5f"
            },
            "marker": {
             "line": {
              "color": "#E5ECF6",
              "width": 0.5
             },
             "pattern": {
              "fillmode": "overlay",
              "size": 10,
              "solidity": 0.2
             }
            },
            "type": "bar"
           }
          ],
          "barpolar": [
           {
            "marker": {
             "line": {
              "color": "#E5ECF6",
              "width": 0.5
             },
             "pattern": {
              "fillmode": "overlay",
              "size": 10,
              "solidity": 0.2
             }
            },
            "type": "barpolar"
           }
          ],
          "carpet": [
           {
            "aaxis": {
             "endlinecolor": "#2a3f5f",
             "gridcolor": "white",
             "linecolor": "white",
             "minorgridcolor": "white",
             "startlinecolor": "#2a3f5f"
            },
            "baxis": {
             "endlinecolor": "#2a3f5f",
             "gridcolor": "white",
             "linecolor": "white",
             "minorgridcolor": "white",
             "startlinecolor": "#2a3f5f"
            },
            "type": "carpet"
           }
          ],
          "choropleth": [
           {
            "colorbar": {
             "outlinewidth": 0,
             "ticks": ""
            },
            "type": "choropleth"
           }
          ],
          "contour": [
           {
            "colorbar": {
             "outlinewidth": 0,
             "ticks": ""
            },
            "colorscale": [
             [
              0,
              "#0d0887"
             ],
             [
              0.1111111111111111,
              "#46039f"
             ],
             [
              0.2222222222222222,
              "#7201a8"
             ],
             [
              0.3333333333333333,
              "#9c179e"
             ],
             [
              0.4444444444444444,
              "#bd3786"
             ],
             [
              0.5555555555555556,
              "#d8576b"
             ],
             [
              0.6666666666666666,
              "#ed7953"
             ],
             [
              0.7777777777777778,
              "#fb9f3a"
             ],
             [
              0.8888888888888888,
              "#fdca26"
             ],
             [
              1,
              "#f0f921"
             ]
            ],
            "type": "contour"
           }
          ],
          "contourcarpet": [
           {
            "colorbar": {
             "outlinewidth": 0,
             "ticks": ""
            },
            "type": "contourcarpet"
           }
          ],
          "heatmap": [
           {
            "colorbar": {
             "outlinewidth": 0,
             "ticks": ""
            },
            "colorscale": [
             [
              0,
              "#0d0887"
             ],
             [
              0.1111111111111111,
              "#46039f"
             ],
             [
              0.2222222222222222,
              "#7201a8"
             ],
             [
              0.3333333333333333,
              "#9c179e"
             ],
             [
              0.4444444444444444,
              "#bd3786"
             ],
             [
              0.5555555555555556,
              "#d8576b"
             ],
             [
              0.6666666666666666,
              "#ed7953"
             ],
             [
              0.7777777777777778,
              "#fb9f3a"
             ],
             [
              0.8888888888888888,
              "#fdca26"
             ],
             [
              1,
              "#f0f921"
             ]
            ],
            "type": "heatmap"
           }
          ],
          "heatmapgl": [
           {
            "colorbar": {
             "outlinewidth": 0,
             "ticks": ""
            },
            "colorscale": [
             [
              0,
              "#0d0887"
             ],
             [
              0.1111111111111111,
              "#46039f"
             ],
             [
              0.2222222222222222,
              "#7201a8"
             ],
             [
              0.3333333333333333,
              "#9c179e"
             ],
             [
              0.4444444444444444,
              "#bd3786"
             ],
             [
              0.5555555555555556,
              "#d8576b"
             ],
             [
              0.6666666666666666,
              "#ed7953"
             ],
             [
              0.7777777777777778,
              "#fb9f3a"
             ],
             [
              0.8888888888888888,
              "#fdca26"
             ],
             [
              1,
              "#f0f921"
             ]
            ],
            "type": "heatmapgl"
           }
          ],
          "histogram": [
           {
            "marker": {
             "pattern": {
              "fillmode": "overlay",
              "size": 10,
              "solidity": 0.2
             }
            },
            "type": "histogram"
           }
          ],
          "histogram2d": [
           {
            "colorbar": {
             "outlinewidth": 0,
             "ticks": ""
            },
            "colorscale": [
             [
              0,
              "#0d0887"
             ],
             [
              0.1111111111111111,
              "#46039f"
             ],
             [
              0.2222222222222222,
              "#7201a8"
             ],
             [
              0.3333333333333333,
              "#9c179e"
             ],
             [
              0.4444444444444444,
              "#bd3786"
             ],
             [
              0.5555555555555556,
              "#d8576b"
             ],
             [
              0.6666666666666666,
              "#ed7953"
             ],
             [
              0.7777777777777778,
              "#fb9f3a"
             ],
             [
              0.8888888888888888,
              "#fdca26"
             ],
             [
              1,
              "#f0f921"
             ]
            ],
            "type": "histogram2d"
           }
          ],
          "histogram2dcontour": [
           {
            "colorbar": {
             "outlinewidth": 0,
             "ticks": ""
            },
            "colorscale": [
             [
              0,
              "#0d0887"
             ],
             [
              0.1111111111111111,
              "#46039f"
             ],
             [
              0.2222222222222222,
              "#7201a8"
             ],
             [
              0.3333333333333333,
              "#9c179e"
             ],
             [
              0.4444444444444444,
              "#bd3786"
             ],
             [
              0.5555555555555556,
              "#d8576b"
             ],
             [
              0.6666666666666666,
              "#ed7953"
             ],
             [
              0.7777777777777778,
              "#fb9f3a"
             ],
             [
              0.8888888888888888,
              "#fdca26"
             ],
             [
              1,
              "#f0f921"
             ]
            ],
            "type": "histogram2dcontour"
           }
          ],
          "mesh3d": [
           {
            "colorbar": {
             "outlinewidth": 0,
             "ticks": ""
            },
            "type": "mesh3d"
           }
          ],
          "parcoords": [
           {
            "line": {
             "colorbar": {
              "outlinewidth": 0,
              "ticks": ""
             }
            },
            "type": "parcoords"
           }
          ],
          "pie": [
           {
            "automargin": true,
            "type": "pie"
           }
          ],
          "scatter": [
           {
            "fillpattern": {
             "fillmode": "overlay",
             "size": 10,
             "solidity": 0.2
            },
            "type": "scatter"
           }
          ],
          "scatter3d": [
           {
            "line": {
             "colorbar": {
              "outlinewidth": 0,
              "ticks": ""
             }
            },
            "marker": {
             "colorbar": {
              "outlinewidth": 0,
              "ticks": ""
             }
            },
            "type": "scatter3d"
           }
          ],
          "scattercarpet": [
           {
            "marker": {
             "colorbar": {
              "outlinewidth": 0,
              "ticks": ""
             }
            },
            "type": "scattercarpet"
           }
          ],
          "scattergeo": [
           {
            "marker": {
             "colorbar": {
              "outlinewidth": 0,
              "ticks": ""
             }
            },
            "type": "scattergeo"
           }
          ],
          "scattergl": [
           {
            "marker": {
             "colorbar": {
              "outlinewidth": 0,
              "ticks": ""
             }
            },
            "type": "scattergl"
           }
          ],
          "scattermapbox": [
           {
            "marker": {
             "colorbar": {
              "outlinewidth": 0,
              "ticks": ""
             }
            },
            "type": "scattermapbox"
           }
          ],
          "scatterpolar": [
           {
            "marker": {
             "colorbar": {
              "outlinewidth": 0,
              "ticks": ""
             }
            },
            "type": "scatterpolar"
           }
          ],
          "scatterpolargl": [
           {
            "marker": {
             "colorbar": {
              "outlinewidth": 0,
              "ticks": ""
             }
            },
            "type": "scatterpolargl"
           }
          ],
          "scatterternary": [
           {
            "marker": {
             "colorbar": {
              "outlinewidth": 0,
              "ticks": ""
             }
            },
            "type": "scatterternary"
           }
          ],
          "surface": [
           {
            "colorbar": {
             "outlinewidth": 0,
             "ticks": ""
            },
            "colorscale": [
             [
              0,
              "#0d0887"
             ],
             [
              0.1111111111111111,
              "#46039f"
             ],
             [
              0.2222222222222222,
              "#7201a8"
             ],
             [
              0.3333333333333333,
              "#9c179e"
             ],
             [
              0.4444444444444444,
              "#bd3786"
             ],
             [
              0.5555555555555556,
              "#d8576b"
             ],
             [
              0.6666666666666666,
              "#ed7953"
             ],
             [
              0.7777777777777778,
              "#fb9f3a"
             ],
             [
              0.8888888888888888,
              "#fdca26"
             ],
             [
              1,
              "#f0f921"
             ]
            ],
            "type": "surface"
           }
          ],
          "table": [
           {
            "cells": {
             "fill": {
              "color": "#EBF0F8"
             },
             "line": {
              "color": "white"
             }
            },
            "header": {
             "fill": {
              "color": "#C8D4E3"
             },
             "line": {
              "color": "white"
             }
            },
            "type": "table"
           }
          ]
         },
         "layout": {
          "annotationdefaults": {
           "arrowcolor": "#2a3f5f",
           "arrowhead": 0,
           "arrowwidth": 1
          },
          "autotypenumbers": "strict",
          "coloraxis": {
           "colorbar": {
            "outlinewidth": 0,
            "ticks": ""
           }
          },
          "colorscale": {
           "diverging": [
            [
             0,
             "#8e0152"
            ],
            [
             0.1,
             "#c51b7d"
            ],
            [
             0.2,
             "#de77ae"
            ],
            [
             0.3,
             "#f1b6da"
            ],
            [
             0.4,
             "#fde0ef"
            ],
            [
             0.5,
             "#f7f7f7"
            ],
            [
             0.6,
             "#e6f5d0"
            ],
            [
             0.7,
             "#b8e186"
            ],
            [
             0.8,
             "#7fbc41"
            ],
            [
             0.9,
             "#4d9221"
            ],
            [
             1,
             "#276419"
            ]
           ],
           "sequential": [
            [
             0,
             "#0d0887"
            ],
            [
             0.1111111111111111,
             "#46039f"
            ],
            [
             0.2222222222222222,
             "#7201a8"
            ],
            [
             0.3333333333333333,
             "#9c179e"
            ],
            [
             0.4444444444444444,
             "#bd3786"
            ],
            [
             0.5555555555555556,
             "#d8576b"
            ],
            [
             0.6666666666666666,
             "#ed7953"
            ],
            [
             0.7777777777777778,
             "#fb9f3a"
            ],
            [
             0.8888888888888888,
             "#fdca26"
            ],
            [
             1,
             "#f0f921"
            ]
           ],
           "sequentialminus": [
            [
             0,
             "#0d0887"
            ],
            [
             0.1111111111111111,
             "#46039f"
            ],
            [
             0.2222222222222222,
             "#7201a8"
            ],
            [
             0.3333333333333333,
             "#9c179e"
            ],
            [
             0.4444444444444444,
             "#bd3786"
            ],
            [
             0.5555555555555556,
             "#d8576b"
            ],
            [
             0.6666666666666666,
             "#ed7953"
            ],
            [
             0.7777777777777778,
             "#fb9f3a"
            ],
            [
             0.8888888888888888,
             "#fdca26"
            ],
            [
             1,
             "#f0f921"
            ]
           ]
          },
          "colorway": [
           "#636efa",
           "#EF553B",
           "#00cc96",
           "#ab63fa",
           "#FFA15A",
           "#19d3f3",
           "#FF6692",
           "#B6E880",
           "#FF97FF",
           "#FECB52"
          ],
          "font": {
           "color": "#2a3f5f"
          },
          "geo": {
           "bgcolor": "white",
           "lakecolor": "white",
           "landcolor": "#E5ECF6",
           "showlakes": true,
           "showland": true,
           "subunitcolor": "white"
          },
          "hoverlabel": {
           "align": "left"
          },
          "hovermode": "closest",
          "mapbox": {
           "style": "light"
          },
          "paper_bgcolor": "white",
          "plot_bgcolor": "#E5ECF6",
          "polar": {
           "angularaxis": {
            "gridcolor": "white",
            "linecolor": "white",
            "ticks": ""
           },
           "bgcolor": "#E5ECF6",
           "radialaxis": {
            "gridcolor": "white",
            "linecolor": "white",
            "ticks": ""
           }
          },
          "scene": {
           "xaxis": {
            "backgroundcolor": "#E5ECF6",
            "gridcolor": "white",
            "gridwidth": 2,
            "linecolor": "white",
            "showbackground": true,
            "ticks": "",
            "zerolinecolor": "white"
           },
           "yaxis": {
            "backgroundcolor": "#E5ECF6",
            "gridcolor": "white",
            "gridwidth": 2,
            "linecolor": "white",
            "showbackground": true,
            "ticks": "",
            "zerolinecolor": "white"
           },
           "zaxis": {
            "backgroundcolor": "#E5ECF6",
            "gridcolor": "white",
            "gridwidth": 2,
            "linecolor": "white",
            "showbackground": true,
            "ticks": "",
            "zerolinecolor": "white"
           }
          },
          "shapedefaults": {
           "line": {
            "color": "#2a3f5f"
           }
          },
          "ternary": {
           "aaxis": {
            "gridcolor": "white",
            "linecolor": "white",
            "ticks": ""
           },
           "baxis": {
            "gridcolor": "white",
            "linecolor": "white",
            "ticks": ""
           },
           "bgcolor": "#E5ECF6",
           "caxis": {
            "gridcolor": "white",
            "linecolor": "white",
            "ticks": ""
           }
          },
          "title": {
           "x": 0.05
          },
          "xaxis": {
           "automargin": true,
           "gridcolor": "white",
           "linecolor": "white",
           "ticks": "",
           "title": {
            "standoff": 15
           },
           "zerolinecolor": "white",
           "zerolinewidth": 2
          },
          "yaxis": {
           "automargin": true,
           "gridcolor": "white",
           "linecolor": "white",
           "ticks": "",
           "title": {
            "standoff": 15
           },
           "zerolinecolor": "white",
           "zerolinewidth": 2
          }
         }
        },
        "title": {
         "font": {
          "color": "white"
         },
         "text": "Top 10 Countries having Data Analaysts",
         "x": 0.5
        },
        "width": 800,
        "xaxis": {
         "anchor": "y",
         "domain": [
          0,
          1
         ],
         "title": {
          "text": "Country"
         }
        },
        "yaxis": {
         "anchor": "x",
         "domain": [
          0,
          1
         ],
         "title": {
          "text": "count"
         }
        }
       }
      }
     },
     "metadata": {},
     "output_type": "display_data"
    }
   ],
   "source": [
    "tempdata=pd.DataFrame((data_df[data_df[\"DevType\"]==\"Data analyst\"][\"Country\"].value_counts())).reset_index()\n",
    "tempdata=tempdata.head(10)\n",
    "tempdata.at[1,\"Country\"]=\"United Kingdom and Northern Ireland\"\n",
    "paint_bar(df=tempdata,x=\"Country\",y=\"count\",x_name=\"Country\",y_name=\"count\",title=\"Top 10 Countries having Data Analaysts\")"
   ]
  },
  {
   "cell_type": "code",
   "execution_count": 16,
   "metadata": {},
   "outputs": [
    {
     "data": {
      "application/vnd.plotly.v1+json": {
       "config": {
        "plotlyServerURL": "https://plot.ly"
       },
       "data": [
        {
         "alignmentgroup": "True",
         "hovertemplate": "Industry=%{x}<br>Count=%{text}<extra></extra>",
         "legendgroup": "",
         "marker": {
          "color": "#F0C826",
          "pattern": {
           "shape": ""
          }
         },
         "name": "",
         "offsetgroup": "",
         "orientation": "v",
         "showlegend": false,
         "text": [
          642,
          258,
          206,
          187,
          152,
          103,
          48,
          39,
          38,
          26,
          10,
          9
         ],
         "textposition": "outside",
         "type": "bar",
         "x": [
          "Information technology",
          "Financial Services",
          "Other",
          "Manufacturing and Transportation",
          "Healthcare",
          "Retail and Consumer Services",
          "Advertising Services",
          "Higher Education",
          "Insurance",
          "Oil & Gas",
          "Legal Services",
          "Wholesale"
         ],
         "xaxis": "x",
         "y": [
          642,
          258,
          206,
          187,
          152,
          103,
          48,
          39,
          38,
          26,
          10,
          9
         ],
         "yaxis": "y"
        }
       ],
       "layout": {
        "barmode": "relative",
        "font": {
         "color": "white"
        },
        "height": 600,
        "legend": {
         "tracegroupgap": 0
        },
        "margin": {
         "t": 60
        },
        "paper_bgcolor": "black",
        "plot_bgcolor": "black",
        "showlegend": false,
        "template": {
         "data": {
          "bar": [
           {
            "error_x": {
             "color": "#2a3f5f"
            },
            "error_y": {
             "color": "#2a3f5f"
            },
            "marker": {
             "line": {
              "color": "#E5ECF6",
              "width": 0.5
             },
             "pattern": {
              "fillmode": "overlay",
              "size": 10,
              "solidity": 0.2
             }
            },
            "type": "bar"
           }
          ],
          "barpolar": [
           {
            "marker": {
             "line": {
              "color": "#E5ECF6",
              "width": 0.5
             },
             "pattern": {
              "fillmode": "overlay",
              "size": 10,
              "solidity": 0.2
             }
            },
            "type": "barpolar"
           }
          ],
          "carpet": [
           {
            "aaxis": {
             "endlinecolor": "#2a3f5f",
             "gridcolor": "white",
             "linecolor": "white",
             "minorgridcolor": "white",
             "startlinecolor": "#2a3f5f"
            },
            "baxis": {
             "endlinecolor": "#2a3f5f",
             "gridcolor": "white",
             "linecolor": "white",
             "minorgridcolor": "white",
             "startlinecolor": "#2a3f5f"
            },
            "type": "carpet"
           }
          ],
          "choropleth": [
           {
            "colorbar": {
             "outlinewidth": 0,
             "ticks": ""
            },
            "type": "choropleth"
           }
          ],
          "contour": [
           {
            "colorbar": {
             "outlinewidth": 0,
             "ticks": ""
            },
            "colorscale": [
             [
              0,
              "#0d0887"
             ],
             [
              0.1111111111111111,
              "#46039f"
             ],
             [
              0.2222222222222222,
              "#7201a8"
             ],
             [
              0.3333333333333333,
              "#9c179e"
             ],
             [
              0.4444444444444444,
              "#bd3786"
             ],
             [
              0.5555555555555556,
              "#d8576b"
             ],
             [
              0.6666666666666666,
              "#ed7953"
             ],
             [
              0.7777777777777778,
              "#fb9f3a"
             ],
             [
              0.8888888888888888,
              "#fdca26"
             ],
             [
              1,
              "#f0f921"
             ]
            ],
            "type": "contour"
           }
          ],
          "contourcarpet": [
           {
            "colorbar": {
             "outlinewidth": 0,
             "ticks": ""
            },
            "type": "contourcarpet"
           }
          ],
          "heatmap": [
           {
            "colorbar": {
             "outlinewidth": 0,
             "ticks": ""
            },
            "colorscale": [
             [
              0,
              "#0d0887"
             ],
             [
              0.1111111111111111,
              "#46039f"
             ],
             [
              0.2222222222222222,
              "#7201a8"
             ],
             [
              0.3333333333333333,
              "#9c179e"
             ],
             [
              0.4444444444444444,
              "#bd3786"
             ],
             [
              0.5555555555555556,
              "#d8576b"
             ],
             [
              0.6666666666666666,
              "#ed7953"
             ],
             [
              0.7777777777777778,
              "#fb9f3a"
             ],
             [
              0.8888888888888888,
              "#fdca26"
             ],
             [
              1,
              "#f0f921"
             ]
            ],
            "type": "heatmap"
           }
          ],
          "heatmapgl": [
           {
            "colorbar": {
             "outlinewidth": 0,
             "ticks": ""
            },
            "colorscale": [
             [
              0,
              "#0d0887"
             ],
             [
              0.1111111111111111,
              "#46039f"
             ],
             [
              0.2222222222222222,
              "#7201a8"
             ],
             [
              0.3333333333333333,
              "#9c179e"
             ],
             [
              0.4444444444444444,
              "#bd3786"
             ],
             [
              0.5555555555555556,
              "#d8576b"
             ],
             [
              0.6666666666666666,
              "#ed7953"
             ],
             [
              0.7777777777777778,
              "#fb9f3a"
             ],
             [
              0.8888888888888888,
              "#fdca26"
             ],
             [
              1,
              "#f0f921"
             ]
            ],
            "type": "heatmapgl"
           }
          ],
          "histogram": [
           {
            "marker": {
             "pattern": {
              "fillmode": "overlay",
              "size": 10,
              "solidity": 0.2
             }
            },
            "type": "histogram"
           }
          ],
          "histogram2d": [
           {
            "colorbar": {
             "outlinewidth": 0,
             "ticks": ""
            },
            "colorscale": [
             [
              0,
              "#0d0887"
             ],
             [
              0.1111111111111111,
              "#46039f"
             ],
             [
              0.2222222222222222,
              "#7201a8"
             ],
             [
              0.3333333333333333,
              "#9c179e"
             ],
             [
              0.4444444444444444,
              "#bd3786"
             ],
             [
              0.5555555555555556,
              "#d8576b"
             ],
             [
              0.6666666666666666,
              "#ed7953"
             ],
             [
              0.7777777777777778,
              "#fb9f3a"
             ],
             [
              0.8888888888888888,
              "#fdca26"
             ],
             [
              1,
              "#f0f921"
             ]
            ],
            "type": "histogram2d"
           }
          ],
          "histogram2dcontour": [
           {
            "colorbar": {
             "outlinewidth": 0,
             "ticks": ""
            },
            "colorscale": [
             [
              0,
              "#0d0887"
             ],
             [
              0.1111111111111111,
              "#46039f"
             ],
             [
              0.2222222222222222,
              "#7201a8"
             ],
             [
              0.3333333333333333,
              "#9c179e"
             ],
             [
              0.4444444444444444,
              "#bd3786"
             ],
             [
              0.5555555555555556,
              "#d8576b"
             ],
             [
              0.6666666666666666,
              "#ed7953"
             ],
             [
              0.7777777777777778,
              "#fb9f3a"
             ],
             [
              0.8888888888888888,
              "#fdca26"
             ],
             [
              1,
              "#f0f921"
             ]
            ],
            "type": "histogram2dcontour"
           }
          ],
          "mesh3d": [
           {
            "colorbar": {
             "outlinewidth": 0,
             "ticks": ""
            },
            "type": "mesh3d"
           }
          ],
          "parcoords": [
           {
            "line": {
             "colorbar": {
              "outlinewidth": 0,
              "ticks": ""
             }
            },
            "type": "parcoords"
           }
          ],
          "pie": [
           {
            "automargin": true,
            "type": "pie"
           }
          ],
          "scatter": [
           {
            "fillpattern": {
             "fillmode": "overlay",
             "size": 10,
             "solidity": 0.2
            },
            "type": "scatter"
           }
          ],
          "scatter3d": [
           {
            "line": {
             "colorbar": {
              "outlinewidth": 0,
              "ticks": ""
             }
            },
            "marker": {
             "colorbar": {
              "outlinewidth": 0,
              "ticks": ""
             }
            },
            "type": "scatter3d"
           }
          ],
          "scattercarpet": [
           {
            "marker": {
             "colorbar": {
              "outlinewidth": 0,
              "ticks": ""
             }
            },
            "type": "scattercarpet"
           }
          ],
          "scattergeo": [
           {
            "marker": {
             "colorbar": {
              "outlinewidth": 0,
              "ticks": ""
             }
            },
            "type": "scattergeo"
           }
          ],
          "scattergl": [
           {
            "marker": {
             "colorbar": {
              "outlinewidth": 0,
              "ticks": ""
             }
            },
            "type": "scattergl"
           }
          ],
          "scattermapbox": [
           {
            "marker": {
             "colorbar": {
              "outlinewidth": 0,
              "ticks": ""
             }
            },
            "type": "scattermapbox"
           }
          ],
          "scatterpolar": [
           {
            "marker": {
             "colorbar": {
              "outlinewidth": 0,
              "ticks": ""
             }
            },
            "type": "scatterpolar"
           }
          ],
          "scatterpolargl": [
           {
            "marker": {
             "colorbar": {
              "outlinewidth": 0,
              "ticks": ""
             }
            },
            "type": "scatterpolargl"
           }
          ],
          "scatterternary": [
           {
            "marker": {
             "colorbar": {
              "outlinewidth": 0,
              "ticks": ""
             }
            },
            "type": "scatterternary"
           }
          ],
          "surface": [
           {
            "colorbar": {
             "outlinewidth": 0,
             "ticks": ""
            },
            "colorscale": [
             [
              0,
              "#0d0887"
             ],
             [
              0.1111111111111111,
              "#46039f"
             ],
             [
              0.2222222222222222,
              "#7201a8"
             ],
             [
              0.3333333333333333,
              "#9c179e"
             ],
             [
              0.4444444444444444,
              "#bd3786"
             ],
             [
              0.5555555555555556,
              "#d8576b"
             ],
             [
              0.6666666666666666,
              "#ed7953"
             ],
             [
              0.7777777777777778,
              "#fb9f3a"
             ],
             [
              0.8888888888888888,
              "#fdca26"
             ],
             [
              1,
              "#f0f921"
             ]
            ],
            "type": "surface"
           }
          ],
          "table": [
           {
            "cells": {
             "fill": {
              "color": "#EBF0F8"
             },
             "line": {
              "color": "white"
             }
            },
            "header": {
             "fill": {
              "color": "#C8D4E3"
             },
             "line": {
              "color": "white"
             }
            },
            "type": "table"
           }
          ]
         },
         "layout": {
          "annotationdefaults": {
           "arrowcolor": "#2a3f5f",
           "arrowhead": 0,
           "arrowwidth": 1
          },
          "autotypenumbers": "strict",
          "coloraxis": {
           "colorbar": {
            "outlinewidth": 0,
            "ticks": ""
           }
          },
          "colorscale": {
           "diverging": [
            [
             0,
             "#8e0152"
            ],
            [
             0.1,
             "#c51b7d"
            ],
            [
             0.2,
             "#de77ae"
            ],
            [
             0.3,
             "#f1b6da"
            ],
            [
             0.4,
             "#fde0ef"
            ],
            [
             0.5,
             "#f7f7f7"
            ],
            [
             0.6,
             "#e6f5d0"
            ],
            [
             0.7,
             "#b8e186"
            ],
            [
             0.8,
             "#7fbc41"
            ],
            [
             0.9,
             "#4d9221"
            ],
            [
             1,
             "#276419"
            ]
           ],
           "sequential": [
            [
             0,
             "#0d0887"
            ],
            [
             0.1111111111111111,
             "#46039f"
            ],
            [
             0.2222222222222222,
             "#7201a8"
            ],
            [
             0.3333333333333333,
             "#9c179e"
            ],
            [
             0.4444444444444444,
             "#bd3786"
            ],
            [
             0.5555555555555556,
             "#d8576b"
            ],
            [
             0.6666666666666666,
             "#ed7953"
            ],
            [
             0.7777777777777778,
             "#fb9f3a"
            ],
            [
             0.8888888888888888,
             "#fdca26"
            ],
            [
             1,
             "#f0f921"
            ]
           ],
           "sequentialminus": [
            [
             0,
             "#0d0887"
            ],
            [
             0.1111111111111111,
             "#46039f"
            ],
            [
             0.2222222222222222,
             "#7201a8"
            ],
            [
             0.3333333333333333,
             "#9c179e"
            ],
            [
             0.4444444444444444,
             "#bd3786"
            ],
            [
             0.5555555555555556,
             "#d8576b"
            ],
            [
             0.6666666666666666,
             "#ed7953"
            ],
            [
             0.7777777777777778,
             "#fb9f3a"
            ],
            [
             0.8888888888888888,
             "#fdca26"
            ],
            [
             1,
             "#f0f921"
            ]
           ]
          },
          "colorway": [
           "#636efa",
           "#EF553B",
           "#00cc96",
           "#ab63fa",
           "#FFA15A",
           "#19d3f3",
           "#FF6692",
           "#B6E880",
           "#FF97FF",
           "#FECB52"
          ],
          "font": {
           "color": "#2a3f5f"
          },
          "geo": {
           "bgcolor": "white",
           "lakecolor": "white",
           "landcolor": "#E5ECF6",
           "showlakes": true,
           "showland": true,
           "subunitcolor": "white"
          },
          "hoverlabel": {
           "align": "left"
          },
          "hovermode": "closest",
          "mapbox": {
           "style": "light"
          },
          "paper_bgcolor": "white",
          "plot_bgcolor": "#E5ECF6",
          "polar": {
           "angularaxis": {
            "gridcolor": "white",
            "linecolor": "white",
            "ticks": ""
           },
           "bgcolor": "#E5ECF6",
           "radialaxis": {
            "gridcolor": "white",
            "linecolor": "white",
            "ticks": ""
           }
          },
          "scene": {
           "xaxis": {
            "backgroundcolor": "#E5ECF6",
            "gridcolor": "white",
            "gridwidth": 2,
            "linecolor": "white",
            "showbackground": true,
            "ticks": "",
            "zerolinecolor": "white"
           },
           "yaxis": {
            "backgroundcolor": "#E5ECF6",
            "gridcolor": "white",
            "gridwidth": 2,
            "linecolor": "white",
            "showbackground": true,
            "ticks": "",
            "zerolinecolor": "white"
           },
           "zaxis": {
            "backgroundcolor": "#E5ECF6",
            "gridcolor": "white",
            "gridwidth": 2,
            "linecolor": "white",
            "showbackground": true,
            "ticks": "",
            "zerolinecolor": "white"
           }
          },
          "shapedefaults": {
           "line": {
            "color": "#2a3f5f"
           }
          },
          "ternary": {
           "aaxis": {
            "gridcolor": "white",
            "linecolor": "white",
            "ticks": ""
           },
           "baxis": {
            "gridcolor": "white",
            "linecolor": "white",
            "ticks": ""
           },
           "bgcolor": "#E5ECF6",
           "caxis": {
            "gridcolor": "white",
            "linecolor": "white",
            "ticks": ""
           }
          },
          "title": {
           "x": 0.05
          },
          "xaxis": {
           "automargin": true,
           "gridcolor": "white",
           "linecolor": "white",
           "ticks": "",
           "title": {
            "standoff": 15
           },
           "zerolinecolor": "white",
           "zerolinewidth": 2
          },
          "yaxis": {
           "automargin": true,
           "gridcolor": "white",
           "linecolor": "white",
           "ticks": "",
           "title": {
            "standoff": 15
           },
           "zerolinecolor": "white",
           "zerolinewidth": 2
          }
         }
        },
        "title": {
         "font": {
          "color": "white"
         },
         "text": "Number of Data professionals per Industry",
         "x": 0.5
        },
        "width": 800,
        "xaxis": {
         "anchor": "y",
         "domain": [
          0,
          1
         ],
         "title": {
          "text": "Industry"
         }
        },
        "yaxis": {
         "anchor": "x",
         "domain": [
          0,
          1
         ],
         "title": {
          "text": "Data professionals Count"
         }
        }
       }
      }
     },
     "metadata": {},
     "output_type": "display_data"
    }
   ],
   "source": [
    "industry_df=count_column_content(data_df,\"Industry\")\n",
    "# sns.barplot(data=industry_df,x=\"Industry\",y=\"Count\",color=\"white\")\n",
    "# plt.xticks(rotation=90)\n",
    "# plt.xlabel(\"Count of data professionals\")\n",
    "# plt.ylabel(\"Data professionals\")\n",
    "# plt.title(\"Number of Data professionals per Industry\")\n",
    "paint_bar(df=industry_df,x=\"Industry\",y=\"Count\",title=\"Number of Data professionals per Industry\",x_name=\"Industry\",y_name=\"Data professionals Count\")\n"
   ]
  },
  {
   "cell_type": "code",
   "execution_count": 17,
   "metadata": {},
   "outputs": [
    {
     "data": {
      "application/vnd.plotly.v1+json": {
       "config": {
        "plotlyServerURL": "https://plot.ly"
       },
       "data": [
        {
         "domain": {
          "x": [
           0,
           1
          ],
          "y": [
           0,
           1
          ]
         },
         "hovertemplate": "Industry=%{label}<br>Count=%{value}<extra></extra>",
         "labels": [
          "Information technology",
          "Financial Services",
          "Other",
          "Manufacturing and Transportation",
          "Healthcare",
          "Retail and Consumer Services",
          "Advertising Services",
          "Higher Education",
          "Insurance",
          "Oil & Gas",
          "Legal Services",
          "Wholesale"
         ],
         "legendgroup": "",
         "marker": {
          "colors": [
           "#FFDF00",
           "#2db923",
           "#083248",
           "#d459cd",
           "#f088eb",
           "#39e641"
          ]
         },
         "name": "",
         "showlegend": true,
         "type": "pie",
         "values": [
          642,
          258,
          206,
          187,
          152,
          103,
          48,
          39,
          38,
          26,
          10,
          9
         ]
        }
       ],
       "layout": {
        "font": {
         "color": "white"
        },
        "height": 600,
        "legend": {
         "tracegroupgap": 0
        },
        "margin": {
         "t": 60
        },
        "paper_bgcolor": "black",
        "plot_bgcolor": "black",
        "showlegend": true,
        "template": {
         "data": {
          "bar": [
           {
            "error_x": {
             "color": "#2a3f5f"
            },
            "error_y": {
             "color": "#2a3f5f"
            },
            "marker": {
             "line": {
              "color": "#E5ECF6",
              "width": 0.5
             },
             "pattern": {
              "fillmode": "overlay",
              "size": 10,
              "solidity": 0.2
             }
            },
            "type": "bar"
           }
          ],
          "barpolar": [
           {
            "marker": {
             "line": {
              "color": "#E5ECF6",
              "width": 0.5
             },
             "pattern": {
              "fillmode": "overlay",
              "size": 10,
              "solidity": 0.2
             }
            },
            "type": "barpolar"
           }
          ],
          "carpet": [
           {
            "aaxis": {
             "endlinecolor": "#2a3f5f",
             "gridcolor": "white",
             "linecolor": "white",
             "minorgridcolor": "white",
             "startlinecolor": "#2a3f5f"
            },
            "baxis": {
             "endlinecolor": "#2a3f5f",
             "gridcolor": "white",
             "linecolor": "white",
             "minorgridcolor": "white",
             "startlinecolor": "#2a3f5f"
            },
            "type": "carpet"
           }
          ],
          "choropleth": [
           {
            "colorbar": {
             "outlinewidth": 0,
             "ticks": ""
            },
            "type": "choropleth"
           }
          ],
          "contour": [
           {
            "colorbar": {
             "outlinewidth": 0,
             "ticks": ""
            },
            "colorscale": [
             [
              0,
              "#0d0887"
             ],
             [
              0.1111111111111111,
              "#46039f"
             ],
             [
              0.2222222222222222,
              "#7201a8"
             ],
             [
              0.3333333333333333,
              "#9c179e"
             ],
             [
              0.4444444444444444,
              "#bd3786"
             ],
             [
              0.5555555555555556,
              "#d8576b"
             ],
             [
              0.6666666666666666,
              "#ed7953"
             ],
             [
              0.7777777777777778,
              "#fb9f3a"
             ],
             [
              0.8888888888888888,
              "#fdca26"
             ],
             [
              1,
              "#f0f921"
             ]
            ],
            "type": "contour"
           }
          ],
          "contourcarpet": [
           {
            "colorbar": {
             "outlinewidth": 0,
             "ticks": ""
            },
            "type": "contourcarpet"
           }
          ],
          "heatmap": [
           {
            "colorbar": {
             "outlinewidth": 0,
             "ticks": ""
            },
            "colorscale": [
             [
              0,
              "#0d0887"
             ],
             [
              0.1111111111111111,
              "#46039f"
             ],
             [
              0.2222222222222222,
              "#7201a8"
             ],
             [
              0.3333333333333333,
              "#9c179e"
             ],
             [
              0.4444444444444444,
              "#bd3786"
             ],
             [
              0.5555555555555556,
              "#d8576b"
             ],
             [
              0.6666666666666666,
              "#ed7953"
             ],
             [
              0.7777777777777778,
              "#fb9f3a"
             ],
             [
              0.8888888888888888,
              "#fdca26"
             ],
             [
              1,
              "#f0f921"
             ]
            ],
            "type": "heatmap"
           }
          ],
          "heatmapgl": [
           {
            "colorbar": {
             "outlinewidth": 0,
             "ticks": ""
            },
            "colorscale": [
             [
              0,
              "#0d0887"
             ],
             [
              0.1111111111111111,
              "#46039f"
             ],
             [
              0.2222222222222222,
              "#7201a8"
             ],
             [
              0.3333333333333333,
              "#9c179e"
             ],
             [
              0.4444444444444444,
              "#bd3786"
             ],
             [
              0.5555555555555556,
              "#d8576b"
             ],
             [
              0.6666666666666666,
              "#ed7953"
             ],
             [
              0.7777777777777778,
              "#fb9f3a"
             ],
             [
              0.8888888888888888,
              "#fdca26"
             ],
             [
              1,
              "#f0f921"
             ]
            ],
            "type": "heatmapgl"
           }
          ],
          "histogram": [
           {
            "marker": {
             "pattern": {
              "fillmode": "overlay",
              "size": 10,
              "solidity": 0.2
             }
            },
            "type": "histogram"
           }
          ],
          "histogram2d": [
           {
            "colorbar": {
             "outlinewidth": 0,
             "ticks": ""
            },
            "colorscale": [
             [
              0,
              "#0d0887"
             ],
             [
              0.1111111111111111,
              "#46039f"
             ],
             [
              0.2222222222222222,
              "#7201a8"
             ],
             [
              0.3333333333333333,
              "#9c179e"
             ],
             [
              0.4444444444444444,
              "#bd3786"
             ],
             [
              0.5555555555555556,
              "#d8576b"
             ],
             [
              0.6666666666666666,
              "#ed7953"
             ],
             [
              0.7777777777777778,
              "#fb9f3a"
             ],
             [
              0.8888888888888888,
              "#fdca26"
             ],
             [
              1,
              "#f0f921"
             ]
            ],
            "type": "histogram2d"
           }
          ],
          "histogram2dcontour": [
           {
            "colorbar": {
             "outlinewidth": 0,
             "ticks": ""
            },
            "colorscale": [
             [
              0,
              "#0d0887"
             ],
             [
              0.1111111111111111,
              "#46039f"
             ],
             [
              0.2222222222222222,
              "#7201a8"
             ],
             [
              0.3333333333333333,
              "#9c179e"
             ],
             [
              0.4444444444444444,
              "#bd3786"
             ],
             [
              0.5555555555555556,
              "#d8576b"
             ],
             [
              0.6666666666666666,
              "#ed7953"
             ],
             [
              0.7777777777777778,
              "#fb9f3a"
             ],
             [
              0.8888888888888888,
              "#fdca26"
             ],
             [
              1,
              "#f0f921"
             ]
            ],
            "type": "histogram2dcontour"
           }
          ],
          "mesh3d": [
           {
            "colorbar": {
             "outlinewidth": 0,
             "ticks": ""
            },
            "type": "mesh3d"
           }
          ],
          "parcoords": [
           {
            "line": {
             "colorbar": {
              "outlinewidth": 0,
              "ticks": ""
             }
            },
            "type": "parcoords"
           }
          ],
          "pie": [
           {
            "automargin": true,
            "type": "pie"
           }
          ],
          "scatter": [
           {
            "fillpattern": {
             "fillmode": "overlay",
             "size": 10,
             "solidity": 0.2
            },
            "type": "scatter"
           }
          ],
          "scatter3d": [
           {
            "line": {
             "colorbar": {
              "outlinewidth": 0,
              "ticks": ""
             }
            },
            "marker": {
             "colorbar": {
              "outlinewidth": 0,
              "ticks": ""
             }
            },
            "type": "scatter3d"
           }
          ],
          "scattercarpet": [
           {
            "marker": {
             "colorbar": {
              "outlinewidth": 0,
              "ticks": ""
             }
            },
            "type": "scattercarpet"
           }
          ],
          "scattergeo": [
           {
            "marker": {
             "colorbar": {
              "outlinewidth": 0,
              "ticks": ""
             }
            },
            "type": "scattergeo"
           }
          ],
          "scattergl": [
           {
            "marker": {
             "colorbar": {
              "outlinewidth": 0,
              "ticks": ""
             }
            },
            "type": "scattergl"
           }
          ],
          "scattermapbox": [
           {
            "marker": {
             "colorbar": {
              "outlinewidth": 0,
              "ticks": ""
             }
            },
            "type": "scattermapbox"
           }
          ],
          "scatterpolar": [
           {
            "marker": {
             "colorbar": {
              "outlinewidth": 0,
              "ticks": ""
             }
            },
            "type": "scatterpolar"
           }
          ],
          "scatterpolargl": [
           {
            "marker": {
             "colorbar": {
              "outlinewidth": 0,
              "ticks": ""
             }
            },
            "type": "scatterpolargl"
           }
          ],
          "scatterternary": [
           {
            "marker": {
             "colorbar": {
              "outlinewidth": 0,
              "ticks": ""
             }
            },
            "type": "scatterternary"
           }
          ],
          "surface": [
           {
            "colorbar": {
             "outlinewidth": 0,
             "ticks": ""
            },
            "colorscale": [
             [
              0,
              "#0d0887"
             ],
             [
              0.1111111111111111,
              "#46039f"
             ],
             [
              0.2222222222222222,
              "#7201a8"
             ],
             [
              0.3333333333333333,
              "#9c179e"
             ],
             [
              0.4444444444444444,
              "#bd3786"
             ],
             [
              0.5555555555555556,
              "#d8576b"
             ],
             [
              0.6666666666666666,
              "#ed7953"
             ],
             [
              0.7777777777777778,
              "#fb9f3a"
             ],
             [
              0.8888888888888888,
              "#fdca26"
             ],
             [
              1,
              "#f0f921"
             ]
            ],
            "type": "surface"
           }
          ],
          "table": [
           {
            "cells": {
             "fill": {
              "color": "#EBF0F8"
             },
             "line": {
              "color": "white"
             }
            },
            "header": {
             "fill": {
              "color": "#C8D4E3"
             },
             "line": {
              "color": "white"
             }
            },
            "type": "table"
           }
          ]
         },
         "layout": {
          "annotationdefaults": {
           "arrowcolor": "#2a3f5f",
           "arrowhead": 0,
           "arrowwidth": 1
          },
          "autotypenumbers": "strict",
          "coloraxis": {
           "colorbar": {
            "outlinewidth": 0,
            "ticks": ""
           }
          },
          "colorscale": {
           "diverging": [
            [
             0,
             "#8e0152"
            ],
            [
             0.1,
             "#c51b7d"
            ],
            [
             0.2,
             "#de77ae"
            ],
            [
             0.3,
             "#f1b6da"
            ],
            [
             0.4,
             "#fde0ef"
            ],
            [
             0.5,
             "#f7f7f7"
            ],
            [
             0.6,
             "#e6f5d0"
            ],
            [
             0.7,
             "#b8e186"
            ],
            [
             0.8,
             "#7fbc41"
            ],
            [
             0.9,
             "#4d9221"
            ],
            [
             1,
             "#276419"
            ]
           ],
           "sequential": [
            [
             0,
             "#0d0887"
            ],
            [
             0.1111111111111111,
             "#46039f"
            ],
            [
             0.2222222222222222,
             "#7201a8"
            ],
            [
             0.3333333333333333,
             "#9c179e"
            ],
            [
             0.4444444444444444,
             "#bd3786"
            ],
            [
             0.5555555555555556,
             "#d8576b"
            ],
            [
             0.6666666666666666,
             "#ed7953"
            ],
            [
             0.7777777777777778,
             "#fb9f3a"
            ],
            [
             0.8888888888888888,
             "#fdca26"
            ],
            [
             1,
             "#f0f921"
            ]
           ],
           "sequentialminus": [
            [
             0,
             "#0d0887"
            ],
            [
             0.1111111111111111,
             "#46039f"
            ],
            [
             0.2222222222222222,
             "#7201a8"
            ],
            [
             0.3333333333333333,
             "#9c179e"
            ],
            [
             0.4444444444444444,
             "#bd3786"
            ],
            [
             0.5555555555555556,
             "#d8576b"
            ],
            [
             0.6666666666666666,
             "#ed7953"
            ],
            [
             0.7777777777777778,
             "#fb9f3a"
            ],
            [
             0.8888888888888888,
             "#fdca26"
            ],
            [
             1,
             "#f0f921"
            ]
           ]
          },
          "colorway": [
           "#636efa",
           "#EF553B",
           "#00cc96",
           "#ab63fa",
           "#FFA15A",
           "#19d3f3",
           "#FF6692",
           "#B6E880",
           "#FF97FF",
           "#FECB52"
          ],
          "font": {
           "color": "#2a3f5f"
          },
          "geo": {
           "bgcolor": "white",
           "lakecolor": "white",
           "landcolor": "#E5ECF6",
           "showlakes": true,
           "showland": true,
           "subunitcolor": "white"
          },
          "hoverlabel": {
           "align": "left"
          },
          "hovermode": "closest",
          "mapbox": {
           "style": "light"
          },
          "paper_bgcolor": "white",
          "plot_bgcolor": "#E5ECF6",
          "polar": {
           "angularaxis": {
            "gridcolor": "white",
            "linecolor": "white",
            "ticks": ""
           },
           "bgcolor": "#E5ECF6",
           "radialaxis": {
            "gridcolor": "white",
            "linecolor": "white",
            "ticks": ""
           }
          },
          "scene": {
           "xaxis": {
            "backgroundcolor": "#E5ECF6",
            "gridcolor": "white",
            "gridwidth": 2,
            "linecolor": "white",
            "showbackground": true,
            "ticks": "",
            "zerolinecolor": "white"
           },
           "yaxis": {
            "backgroundcolor": "#E5ECF6",
            "gridcolor": "white",
            "gridwidth": 2,
            "linecolor": "white",
            "showbackground": true,
            "ticks": "",
            "zerolinecolor": "white"
           },
           "zaxis": {
            "backgroundcolor": "#E5ECF6",
            "gridcolor": "white",
            "gridwidth": 2,
            "linecolor": "white",
            "showbackground": true,
            "ticks": "",
            "zerolinecolor": "white"
           }
          },
          "shapedefaults": {
           "line": {
            "color": "#2a3f5f"
           }
          },
          "ternary": {
           "aaxis": {
            "gridcolor": "white",
            "linecolor": "white",
            "ticks": ""
           },
           "baxis": {
            "gridcolor": "white",
            "linecolor": "white",
            "ticks": ""
           },
           "bgcolor": "#E5ECF6",
           "caxis": {
            "gridcolor": "white",
            "linecolor": "white",
            "ticks": ""
           }
          },
          "title": {
           "x": 0.05
          },
          "xaxis": {
           "automargin": true,
           "gridcolor": "white",
           "linecolor": "white",
           "ticks": "",
           "title": {
            "standoff": 15
           },
           "zerolinecolor": "white",
           "zerolinewidth": 2
          },
          "yaxis": {
           "automargin": true,
           "gridcolor": "white",
           "linecolor": "white",
           "ticks": "",
           "title": {
            "standoff": 15
           },
           "zerolinecolor": "white",
           "zerolinewidth": 2
          }
         }
        },
        "title": {
         "font": {
          "color": "white"
         },
         "text": "Which industry have the hgier percentage of data professional",
         "x": 0.5
        },
        "width": 800
       }
      }
     },
     "metadata": {},
     "output_type": "display_data"
    }
   ],
   "source": [
    "fig=px.pie(data_frame=industry_df,values=\"Count\",names=\"Industry\")\n",
    "fig=fig_style(fig=fig,title=\"Which industry have the hgier percentage of data professional\",legend=True)\n",
    "# fig.update_traces(marker_colors=color_list)\n",
    "fig"
   ]
  },
  {
   "cell_type": "code",
   "execution_count": 18,
   "metadata": {},
   "outputs": [
    {
     "data": {
      "text/html": [
       "\n",
       "        <iframe\n",
       "            width=\"100%\"\n",
       "            height=\"650\"\n",
       "            src=\"http://127.0.0.1:8050/\"\n",
       "            frameborder=\"0\"\n",
       "            allowfullscreen\n",
       "            \n",
       "        ></iframe>\n",
       "        "
      ],
      "text/plain": [
       "<IPython.lib.display.IFrame at 0x2ee8f072230>"
      ]
     },
     "metadata": {},
     "output_type": "display_data"
    }
   ],
   "source": [
    "industry_list=data_df.Industry.dropna().unique().tolist()\n",
    "tempdata=pd.DataFrame(data_df.groupby([\"Industry\",\"DevType\"])[\"ResponseId\"].count()).reset_index()\n",
    "tempdata=tempdata.loc[tempdata[\"Industry\"]==\"Healthcare\"]\n",
    "app=Dash(__name__)\n",
    "app.layout=html.Div(id=\"main_div\",children=[\n",
    "    html.Div(id=\"drop_div\",children=dcc.Dropdown(id=\"dropdown\",value=\"Healthcare\",options=industry_list)),\n",
    "    html.Div(id=\"div_fig\",children=[dcc.Graph(id=\"graph\",figure=go.Figure())])\n",
    "])\n",
    "@callback(Output(component_id=\"graph\",component_property=\"figure\"),\n",
    "          Input(component_id=\"dropdown\",component_property=\"value\"))\n",
    "def grphing(val):\n",
    "    tempdata=pd.DataFrame(data_df.groupby([\"Industry\",\"DevType\"])[\"ResponseId\"].count()).reset_index()\n",
    "    tempdata=tempdata.loc[tempdata[\"Industry\"]==f\"{val}\"]\n",
    "    fig=px.pie(data_frame=tempdata,values=\"ResponseId\",names=\"DevType\")\n",
    "    fig.update_traces(marker_colors=color_list)\n",
    "    fig=fig_style(fig,title=\"Distrbution of Data professional roles inside selected industry\",legend=True)\n",
    "    return fig\n",
    "\n",
    "\n",
    "if __name__ == \"__main__\":\n",
    "    app.run(debug=True)\n",
    "\n"
   ]
  },
  {
   "cell_type": "markdown",
   "metadata": {},
   "source": [
    "#### What are the most used programming language and databasess have used or desired by data profssionals?"
   ]
  },
  {
   "cell_type": "code",
   "execution_count": 19,
   "metadata": {},
   "outputs": [
    {
     "data": {
      "application/vnd.plotly.v1+json": {
       "config": {
        "plotlyServerURL": "https://plot.ly"
       },
       "data": [
        {
         "alignmentgroup": "True",
         "hovertemplate": "LanguageHaveWorkedWith=%{x}<br>Count=%{text}<extra></extra>",
         "legendgroup": "",
         "marker": {
          "color": "#F0C826",
          "pattern": {
           "shape": ""
          }
         },
         "name": "",
         "offsetgroup": "",
         "orientation": "v",
         "showlegend": false,
         "text": [
          3078,
          2457,
          1322,
          1263,
          1122,
          776,
          743,
          557,
          496,
          491
         ],
         "textposition": "outside",
         "type": "bar",
         "x": [
          "Python",
          "SQL",
          "Bash/Shell (all shells)",
          "JavaScript",
          "HTML/CSS",
          "R",
          "Java",
          "C++",
          "C#",
          "PowerShell"
         ],
         "xaxis": "x",
         "y": [
          3078,
          2457,
          1322,
          1263,
          1122,
          776,
          743,
          557,
          496,
          491
         ],
         "yaxis": "y"
        }
       ],
       "layout": {
        "barmode": "relative",
        "font": {
         "color": "white"
        },
        "height": 600,
        "legend": {
         "tracegroupgap": 0
        },
        "margin": {
         "t": 60
        },
        "paper_bgcolor": "black",
        "plot_bgcolor": "black",
        "showlegend": false,
        "template": {
         "data": {
          "bar": [
           {
            "error_x": {
             "color": "#2a3f5f"
            },
            "error_y": {
             "color": "#2a3f5f"
            },
            "marker": {
             "line": {
              "color": "#E5ECF6",
              "width": 0.5
             },
             "pattern": {
              "fillmode": "overlay",
              "size": 10,
              "solidity": 0.2
             }
            },
            "type": "bar"
           }
          ],
          "barpolar": [
           {
            "marker": {
             "line": {
              "color": "#E5ECF6",
              "width": 0.5
             },
             "pattern": {
              "fillmode": "overlay",
              "size": 10,
              "solidity": 0.2
             }
            },
            "type": "barpolar"
           }
          ],
          "carpet": [
           {
            "aaxis": {
             "endlinecolor": "#2a3f5f",
             "gridcolor": "white",
             "linecolor": "white",
             "minorgridcolor": "white",
             "startlinecolor": "#2a3f5f"
            },
            "baxis": {
             "endlinecolor": "#2a3f5f",
             "gridcolor": "white",
             "linecolor": "white",
             "minorgridcolor": "white",
             "startlinecolor": "#2a3f5f"
            },
            "type": "carpet"
           }
          ],
          "choropleth": [
           {
            "colorbar": {
             "outlinewidth": 0,
             "ticks": ""
            },
            "type": "choropleth"
           }
          ],
          "contour": [
           {
            "colorbar": {
             "outlinewidth": 0,
             "ticks": ""
            },
            "colorscale": [
             [
              0,
              "#0d0887"
             ],
             [
              0.1111111111111111,
              "#46039f"
             ],
             [
              0.2222222222222222,
              "#7201a8"
             ],
             [
              0.3333333333333333,
              "#9c179e"
             ],
             [
              0.4444444444444444,
              "#bd3786"
             ],
             [
              0.5555555555555556,
              "#d8576b"
             ],
             [
              0.6666666666666666,
              "#ed7953"
             ],
             [
              0.7777777777777778,
              "#fb9f3a"
             ],
             [
              0.8888888888888888,
              "#fdca26"
             ],
             [
              1,
              "#f0f921"
             ]
            ],
            "type": "contour"
           }
          ],
          "contourcarpet": [
           {
            "colorbar": {
             "outlinewidth": 0,
             "ticks": ""
            },
            "type": "contourcarpet"
           }
          ],
          "heatmap": [
           {
            "colorbar": {
             "outlinewidth": 0,
             "ticks": ""
            },
            "colorscale": [
             [
              0,
              "#0d0887"
             ],
             [
              0.1111111111111111,
              "#46039f"
             ],
             [
              0.2222222222222222,
              "#7201a8"
             ],
             [
              0.3333333333333333,
              "#9c179e"
             ],
             [
              0.4444444444444444,
              "#bd3786"
             ],
             [
              0.5555555555555556,
              "#d8576b"
             ],
             [
              0.6666666666666666,
              "#ed7953"
             ],
             [
              0.7777777777777778,
              "#fb9f3a"
             ],
             [
              0.8888888888888888,
              "#fdca26"
             ],
             [
              1,
              "#f0f921"
             ]
            ],
            "type": "heatmap"
           }
          ],
          "heatmapgl": [
           {
            "colorbar": {
             "outlinewidth": 0,
             "ticks": ""
            },
            "colorscale": [
             [
              0,
              "#0d0887"
             ],
             [
              0.1111111111111111,
              "#46039f"
             ],
             [
              0.2222222222222222,
              "#7201a8"
             ],
             [
              0.3333333333333333,
              "#9c179e"
             ],
             [
              0.4444444444444444,
              "#bd3786"
             ],
             [
              0.5555555555555556,
              "#d8576b"
             ],
             [
              0.6666666666666666,
              "#ed7953"
             ],
             [
              0.7777777777777778,
              "#fb9f3a"
             ],
             [
              0.8888888888888888,
              "#fdca26"
             ],
             [
              1,
              "#f0f921"
             ]
            ],
            "type": "heatmapgl"
           }
          ],
          "histogram": [
           {
            "marker": {
             "pattern": {
              "fillmode": "overlay",
              "size": 10,
              "solidity": 0.2
             }
            },
            "type": "histogram"
           }
          ],
          "histogram2d": [
           {
            "colorbar": {
             "outlinewidth": 0,
             "ticks": ""
            },
            "colorscale": [
             [
              0,
              "#0d0887"
             ],
             [
              0.1111111111111111,
              "#46039f"
             ],
             [
              0.2222222222222222,
              "#7201a8"
             ],
             [
              0.3333333333333333,
              "#9c179e"
             ],
             [
              0.4444444444444444,
              "#bd3786"
             ],
             [
              0.5555555555555556,
              "#d8576b"
             ],
             [
              0.6666666666666666,
              "#ed7953"
             ],
             [
              0.7777777777777778,
              "#fb9f3a"
             ],
             [
              0.8888888888888888,
              "#fdca26"
             ],
             [
              1,
              "#f0f921"
             ]
            ],
            "type": "histogram2d"
           }
          ],
          "histogram2dcontour": [
           {
            "colorbar": {
             "outlinewidth": 0,
             "ticks": ""
            },
            "colorscale": [
             [
              0,
              "#0d0887"
             ],
             [
              0.1111111111111111,
              "#46039f"
             ],
             [
              0.2222222222222222,
              "#7201a8"
             ],
             [
              0.3333333333333333,
              "#9c179e"
             ],
             [
              0.4444444444444444,
              "#bd3786"
             ],
             [
              0.5555555555555556,
              "#d8576b"
             ],
             [
              0.6666666666666666,
              "#ed7953"
             ],
             [
              0.7777777777777778,
              "#fb9f3a"
             ],
             [
              0.8888888888888888,
              "#fdca26"
             ],
             [
              1,
              "#f0f921"
             ]
            ],
            "type": "histogram2dcontour"
           }
          ],
          "mesh3d": [
           {
            "colorbar": {
             "outlinewidth": 0,
             "ticks": ""
            },
            "type": "mesh3d"
           }
          ],
          "parcoords": [
           {
            "line": {
             "colorbar": {
              "outlinewidth": 0,
              "ticks": ""
             }
            },
            "type": "parcoords"
           }
          ],
          "pie": [
           {
            "automargin": true,
            "type": "pie"
           }
          ],
          "scatter": [
           {
            "fillpattern": {
             "fillmode": "overlay",
             "size": 10,
             "solidity": 0.2
            },
            "type": "scatter"
           }
          ],
          "scatter3d": [
           {
            "line": {
             "colorbar": {
              "outlinewidth": 0,
              "ticks": ""
             }
            },
            "marker": {
             "colorbar": {
              "outlinewidth": 0,
              "ticks": ""
             }
            },
            "type": "scatter3d"
           }
          ],
          "scattercarpet": [
           {
            "marker": {
             "colorbar": {
              "outlinewidth": 0,
              "ticks": ""
             }
            },
            "type": "scattercarpet"
           }
          ],
          "scattergeo": [
           {
            "marker": {
             "colorbar": {
              "outlinewidth": 0,
              "ticks": ""
             }
            },
            "type": "scattergeo"
           }
          ],
          "scattergl": [
           {
            "marker": {
             "colorbar": {
              "outlinewidth": 0,
              "ticks": ""
             }
            },
            "type": "scattergl"
           }
          ],
          "scattermapbox": [
           {
            "marker": {
             "colorbar": {
              "outlinewidth": 0,
              "ticks": ""
             }
            },
            "type": "scattermapbox"
           }
          ],
          "scatterpolar": [
           {
            "marker": {
             "colorbar": {
              "outlinewidth": 0,
              "ticks": ""
             }
            },
            "type": "scatterpolar"
           }
          ],
          "scatterpolargl": [
           {
            "marker": {
             "colorbar": {
              "outlinewidth": 0,
              "ticks": ""
             }
            },
            "type": "scatterpolargl"
           }
          ],
          "scatterternary": [
           {
            "marker": {
             "colorbar": {
              "outlinewidth": 0,
              "ticks": ""
             }
            },
            "type": "scatterternary"
           }
          ],
          "surface": [
           {
            "colorbar": {
             "outlinewidth": 0,
             "ticks": ""
            },
            "colorscale": [
             [
              0,
              "#0d0887"
             ],
             [
              0.1111111111111111,
              "#46039f"
             ],
             [
              0.2222222222222222,
              "#7201a8"
             ],
             [
              0.3333333333333333,
              "#9c179e"
             ],
             [
              0.4444444444444444,
              "#bd3786"
             ],
             [
              0.5555555555555556,
              "#d8576b"
             ],
             [
              0.6666666666666666,
              "#ed7953"
             ],
             [
              0.7777777777777778,
              "#fb9f3a"
             ],
             [
              0.8888888888888888,
              "#fdca26"
             ],
             [
              1,
              "#f0f921"
             ]
            ],
            "type": "surface"
           }
          ],
          "table": [
           {
            "cells": {
             "fill": {
              "color": "#EBF0F8"
             },
             "line": {
              "color": "white"
             }
            },
            "header": {
             "fill": {
              "color": "#C8D4E3"
             },
             "line": {
              "color": "white"
             }
            },
            "type": "table"
           }
          ]
         },
         "layout": {
          "annotationdefaults": {
           "arrowcolor": "#2a3f5f",
           "arrowhead": 0,
           "arrowwidth": 1
          },
          "autotypenumbers": "strict",
          "coloraxis": {
           "colorbar": {
            "outlinewidth": 0,
            "ticks": ""
           }
          },
          "colorscale": {
           "diverging": [
            [
             0,
             "#8e0152"
            ],
            [
             0.1,
             "#c51b7d"
            ],
            [
             0.2,
             "#de77ae"
            ],
            [
             0.3,
             "#f1b6da"
            ],
            [
             0.4,
             "#fde0ef"
            ],
            [
             0.5,
             "#f7f7f7"
            ],
            [
             0.6,
             "#e6f5d0"
            ],
            [
             0.7,
             "#b8e186"
            ],
            [
             0.8,
             "#7fbc41"
            ],
            [
             0.9,
             "#4d9221"
            ],
            [
             1,
             "#276419"
            ]
           ],
           "sequential": [
            [
             0,
             "#0d0887"
            ],
            [
             0.1111111111111111,
             "#46039f"
            ],
            [
             0.2222222222222222,
             "#7201a8"
            ],
            [
             0.3333333333333333,
             "#9c179e"
            ],
            [
             0.4444444444444444,
             "#bd3786"
            ],
            [
             0.5555555555555556,
             "#d8576b"
            ],
            [
             0.6666666666666666,
             "#ed7953"
            ],
            [
             0.7777777777777778,
             "#fb9f3a"
            ],
            [
             0.8888888888888888,
             "#fdca26"
            ],
            [
             1,
             "#f0f921"
            ]
           ],
           "sequentialminus": [
            [
             0,
             "#0d0887"
            ],
            [
             0.1111111111111111,
             "#46039f"
            ],
            [
             0.2222222222222222,
             "#7201a8"
            ],
            [
             0.3333333333333333,
             "#9c179e"
            ],
            [
             0.4444444444444444,
             "#bd3786"
            ],
            [
             0.5555555555555556,
             "#d8576b"
            ],
            [
             0.6666666666666666,
             "#ed7953"
            ],
            [
             0.7777777777777778,
             "#fb9f3a"
            ],
            [
             0.8888888888888888,
             "#fdca26"
            ],
            [
             1,
             "#f0f921"
            ]
           ]
          },
          "colorway": [
           "#636efa",
           "#EF553B",
           "#00cc96",
           "#ab63fa",
           "#FFA15A",
           "#19d3f3",
           "#FF6692",
           "#B6E880",
           "#FF97FF",
           "#FECB52"
          ],
          "font": {
           "color": "#2a3f5f"
          },
          "geo": {
           "bgcolor": "white",
           "lakecolor": "white",
           "landcolor": "#E5ECF6",
           "showlakes": true,
           "showland": true,
           "subunitcolor": "white"
          },
          "hoverlabel": {
           "align": "left"
          },
          "hovermode": "closest",
          "mapbox": {
           "style": "light"
          },
          "paper_bgcolor": "white",
          "plot_bgcolor": "#E5ECF6",
          "polar": {
           "angularaxis": {
            "gridcolor": "white",
            "linecolor": "white",
            "ticks": ""
           },
           "bgcolor": "#E5ECF6",
           "radialaxis": {
            "gridcolor": "white",
            "linecolor": "white",
            "ticks": ""
           }
          },
          "scene": {
           "xaxis": {
            "backgroundcolor": "#E5ECF6",
            "gridcolor": "white",
            "gridwidth": 2,
            "linecolor": "white",
            "showbackground": true,
            "ticks": "",
            "zerolinecolor": "white"
           },
           "yaxis": {
            "backgroundcolor": "#E5ECF6",
            "gridcolor": "white",
            "gridwidth": 2,
            "linecolor": "white",
            "showbackground": true,
            "ticks": "",
            "zerolinecolor": "white"
           },
           "zaxis": {
            "backgroundcolor": "#E5ECF6",
            "gridcolor": "white",
            "gridwidth": 2,
            "linecolor": "white",
            "showbackground": true,
            "ticks": "",
            "zerolinecolor": "white"
           }
          },
          "shapedefaults": {
           "line": {
            "color": "#2a3f5f"
           }
          },
          "ternary": {
           "aaxis": {
            "gridcolor": "white",
            "linecolor": "white",
            "ticks": ""
           },
           "baxis": {
            "gridcolor": "white",
            "linecolor": "white",
            "ticks": ""
           },
           "bgcolor": "#E5ECF6",
           "caxis": {
            "gridcolor": "white",
            "linecolor": "white",
            "ticks": ""
           }
          },
          "title": {
           "x": 0.05
          },
          "xaxis": {
           "automargin": true,
           "gridcolor": "white",
           "linecolor": "white",
           "ticks": "",
           "title": {
            "standoff": 15
           },
           "zerolinecolor": "white",
           "zerolinewidth": 2
          },
          "yaxis": {
           "automargin": true,
           "gridcolor": "white",
           "linecolor": "white",
           "ticks": "",
           "title": {
            "standoff": 15
           },
           "zerolinecolor": "white",
           "zerolinewidth": 2
          }
         }
        },
        "title": {
         "font": {
          "color": "white"
         },
         "text": "Top 10 programming language used by Data professionals",
         "x": 0.5
        },
        "width": 800,
        "xaxis": {
         "anchor": "y",
         "domain": [
          0,
          1
         ],
         "title": {
          "text": "Language"
         }
        },
        "yaxis": {
         "anchor": "x",
         "domain": [
          0,
          1
         ],
         "title": {
          "text": "Count"
         }
        }
       }
      }
     },
     "metadata": {},
     "output_type": "display_data"
    }
   ],
   "source": [
    "used_pro_language=count_column_content(data_df,\"LanguageHaveWorkedWith\").head(10)\n",
    "paint_bar(df=used_pro_language,title=\"Top 10 programming language used by Data professionals\",\n",
    "          x=\"LanguageHaveWorkedWith\",y=\"Count\",x_name=\"Language\",y_name=\"Count\")"
   ]
  },
  {
   "cell_type": "code",
   "execution_count": 20,
   "metadata": {},
   "outputs": [
    {
     "data": {
      "application/vnd.plotly.v1+json": {
       "config": {
        "plotlyServerURL": "https://plot.ly"
       },
       "data": [
        {
         "alignmentgroup": "True",
         "hovertemplate": "LanguageWantToWorkWith=%{x}<br>Count=%{text}<extra></extra>",
         "legendgroup": "",
         "marker": {
          "color": "#F0C826",
          "pattern": {
           "shape": ""
          }
         },
         "name": "",
         "offsetgroup": "",
         "orientation": "v",
         "showlegend": false,
         "text": [
          2549,
          1816,
          1003,
          886,
          804,
          613,
          558,
          550,
          523,
          441
         ],
         "textposition": "outside",
         "type": "bar",
         "x": [
          "Python",
          "SQL",
          "Rust",
          "Bash/Shell (all shells)",
          "JavaScript",
          "HTML/CSS",
          "Go",
          "R",
          "TypeScript",
          "C++"
         ],
         "xaxis": "x",
         "y": [
          2549,
          1816,
          1003,
          886,
          804,
          613,
          558,
          550,
          523,
          441
         ],
         "yaxis": "y"
        }
       ],
       "layout": {
        "barmode": "relative",
        "font": {
         "color": "white"
        },
        "height": 600,
        "legend": {
         "tracegroupgap": 0
        },
        "margin": {
         "t": 60
        },
        "paper_bgcolor": "black",
        "plot_bgcolor": "black",
        "showlegend": false,
        "template": {
         "data": {
          "bar": [
           {
            "error_x": {
             "color": "#2a3f5f"
            },
            "error_y": {
             "color": "#2a3f5f"
            },
            "marker": {
             "line": {
              "color": "#E5ECF6",
              "width": 0.5
             },
             "pattern": {
              "fillmode": "overlay",
              "size": 10,
              "solidity": 0.2
             }
            },
            "type": "bar"
           }
          ],
          "barpolar": [
           {
            "marker": {
             "line": {
              "color": "#E5ECF6",
              "width": 0.5
             },
             "pattern": {
              "fillmode": "overlay",
              "size": 10,
              "solidity": 0.2
             }
            },
            "type": "barpolar"
           }
          ],
          "carpet": [
           {
            "aaxis": {
             "endlinecolor": "#2a3f5f",
             "gridcolor": "white",
             "linecolor": "white",
             "minorgridcolor": "white",
             "startlinecolor": "#2a3f5f"
            },
            "baxis": {
             "endlinecolor": "#2a3f5f",
             "gridcolor": "white",
             "linecolor": "white",
             "minorgridcolor": "white",
             "startlinecolor": "#2a3f5f"
            },
            "type": "carpet"
           }
          ],
          "choropleth": [
           {
            "colorbar": {
             "outlinewidth": 0,
             "ticks": ""
            },
            "type": "choropleth"
           }
          ],
          "contour": [
           {
            "colorbar": {
             "outlinewidth": 0,
             "ticks": ""
            },
            "colorscale": [
             [
              0,
              "#0d0887"
             ],
             [
              0.1111111111111111,
              "#46039f"
             ],
             [
              0.2222222222222222,
              "#7201a8"
             ],
             [
              0.3333333333333333,
              "#9c179e"
             ],
             [
              0.4444444444444444,
              "#bd3786"
             ],
             [
              0.5555555555555556,
              "#d8576b"
             ],
             [
              0.6666666666666666,
              "#ed7953"
             ],
             [
              0.7777777777777778,
              "#fb9f3a"
             ],
             [
              0.8888888888888888,
              "#fdca26"
             ],
             [
              1,
              "#f0f921"
             ]
            ],
            "type": "contour"
           }
          ],
          "contourcarpet": [
           {
            "colorbar": {
             "outlinewidth": 0,
             "ticks": ""
            },
            "type": "contourcarpet"
           }
          ],
          "heatmap": [
           {
            "colorbar": {
             "outlinewidth": 0,
             "ticks": ""
            },
            "colorscale": [
             [
              0,
              "#0d0887"
             ],
             [
              0.1111111111111111,
              "#46039f"
             ],
             [
              0.2222222222222222,
              "#7201a8"
             ],
             [
              0.3333333333333333,
              "#9c179e"
             ],
             [
              0.4444444444444444,
              "#bd3786"
             ],
             [
              0.5555555555555556,
              "#d8576b"
             ],
             [
              0.6666666666666666,
              "#ed7953"
             ],
             [
              0.7777777777777778,
              "#fb9f3a"
             ],
             [
              0.8888888888888888,
              "#fdca26"
             ],
             [
              1,
              "#f0f921"
             ]
            ],
            "type": "heatmap"
           }
          ],
          "heatmapgl": [
           {
            "colorbar": {
             "outlinewidth": 0,
             "ticks": ""
            },
            "colorscale": [
             [
              0,
              "#0d0887"
             ],
             [
              0.1111111111111111,
              "#46039f"
             ],
             [
              0.2222222222222222,
              "#7201a8"
             ],
             [
              0.3333333333333333,
              "#9c179e"
             ],
             [
              0.4444444444444444,
              "#bd3786"
             ],
             [
              0.5555555555555556,
              "#d8576b"
             ],
             [
              0.6666666666666666,
              "#ed7953"
             ],
             [
              0.7777777777777778,
              "#fb9f3a"
             ],
             [
              0.8888888888888888,
              "#fdca26"
             ],
             [
              1,
              "#f0f921"
             ]
            ],
            "type": "heatmapgl"
           }
          ],
          "histogram": [
           {
            "marker": {
             "pattern": {
              "fillmode": "overlay",
              "size": 10,
              "solidity": 0.2
             }
            },
            "type": "histogram"
           }
          ],
          "histogram2d": [
           {
            "colorbar": {
             "outlinewidth": 0,
             "ticks": ""
            },
            "colorscale": [
             [
              0,
              "#0d0887"
             ],
             [
              0.1111111111111111,
              "#46039f"
             ],
             [
              0.2222222222222222,
              "#7201a8"
             ],
             [
              0.3333333333333333,
              "#9c179e"
             ],
             [
              0.4444444444444444,
              "#bd3786"
             ],
             [
              0.5555555555555556,
              "#d8576b"
             ],
             [
              0.6666666666666666,
              "#ed7953"
             ],
             [
              0.7777777777777778,
              "#fb9f3a"
             ],
             [
              0.8888888888888888,
              "#fdca26"
             ],
             [
              1,
              "#f0f921"
             ]
            ],
            "type": "histogram2d"
           }
          ],
          "histogram2dcontour": [
           {
            "colorbar": {
             "outlinewidth": 0,
             "ticks": ""
            },
            "colorscale": [
             [
              0,
              "#0d0887"
             ],
             [
              0.1111111111111111,
              "#46039f"
             ],
             [
              0.2222222222222222,
              "#7201a8"
             ],
             [
              0.3333333333333333,
              "#9c179e"
             ],
             [
              0.4444444444444444,
              "#bd3786"
             ],
             [
              0.5555555555555556,
              "#d8576b"
             ],
             [
              0.6666666666666666,
              "#ed7953"
             ],
             [
              0.7777777777777778,
              "#fb9f3a"
             ],
             [
              0.8888888888888888,
              "#fdca26"
             ],
             [
              1,
              "#f0f921"
             ]
            ],
            "type": "histogram2dcontour"
           }
          ],
          "mesh3d": [
           {
            "colorbar": {
             "outlinewidth": 0,
             "ticks": ""
            },
            "type": "mesh3d"
           }
          ],
          "parcoords": [
           {
            "line": {
             "colorbar": {
              "outlinewidth": 0,
              "ticks": ""
             }
            },
            "type": "parcoords"
           }
          ],
          "pie": [
           {
            "automargin": true,
            "type": "pie"
           }
          ],
          "scatter": [
           {
            "fillpattern": {
             "fillmode": "overlay",
             "size": 10,
             "solidity": 0.2
            },
            "type": "scatter"
           }
          ],
          "scatter3d": [
           {
            "line": {
             "colorbar": {
              "outlinewidth": 0,
              "ticks": ""
             }
            },
            "marker": {
             "colorbar": {
              "outlinewidth": 0,
              "ticks": ""
             }
            },
            "type": "scatter3d"
           }
          ],
          "scattercarpet": [
           {
            "marker": {
             "colorbar": {
              "outlinewidth": 0,
              "ticks": ""
             }
            },
            "type": "scattercarpet"
           }
          ],
          "scattergeo": [
           {
            "marker": {
             "colorbar": {
              "outlinewidth": 0,
              "ticks": ""
             }
            },
            "type": "scattergeo"
           }
          ],
          "scattergl": [
           {
            "marker": {
             "colorbar": {
              "outlinewidth": 0,
              "ticks": ""
             }
            },
            "type": "scattergl"
           }
          ],
          "scattermapbox": [
           {
            "marker": {
             "colorbar": {
              "outlinewidth": 0,
              "ticks": ""
             }
            },
            "type": "scattermapbox"
           }
          ],
          "scatterpolar": [
           {
            "marker": {
             "colorbar": {
              "outlinewidth": 0,
              "ticks": ""
             }
            },
            "type": "scatterpolar"
           }
          ],
          "scatterpolargl": [
           {
            "marker": {
             "colorbar": {
              "outlinewidth": 0,
              "ticks": ""
             }
            },
            "type": "scatterpolargl"
           }
          ],
          "scatterternary": [
           {
            "marker": {
             "colorbar": {
              "outlinewidth": 0,
              "ticks": ""
             }
            },
            "type": "scatterternary"
           }
          ],
          "surface": [
           {
            "colorbar": {
             "outlinewidth": 0,
             "ticks": ""
            },
            "colorscale": [
             [
              0,
              "#0d0887"
             ],
             [
              0.1111111111111111,
              "#46039f"
             ],
             [
              0.2222222222222222,
              "#7201a8"
             ],
             [
              0.3333333333333333,
              "#9c179e"
             ],
             [
              0.4444444444444444,
              "#bd3786"
             ],
             [
              0.5555555555555556,
              "#d8576b"
             ],
             [
              0.6666666666666666,
              "#ed7953"
             ],
             [
              0.7777777777777778,
              "#fb9f3a"
             ],
             [
              0.8888888888888888,
              "#fdca26"
             ],
             [
              1,
              "#f0f921"
             ]
            ],
            "type": "surface"
           }
          ],
          "table": [
           {
            "cells": {
             "fill": {
              "color": "#EBF0F8"
             },
             "line": {
              "color": "white"
             }
            },
            "header": {
             "fill": {
              "color": "#C8D4E3"
             },
             "line": {
              "color": "white"
             }
            },
            "type": "table"
           }
          ]
         },
         "layout": {
          "annotationdefaults": {
           "arrowcolor": "#2a3f5f",
           "arrowhead": 0,
           "arrowwidth": 1
          },
          "autotypenumbers": "strict",
          "coloraxis": {
           "colorbar": {
            "outlinewidth": 0,
            "ticks": ""
           }
          },
          "colorscale": {
           "diverging": [
            [
             0,
             "#8e0152"
            ],
            [
             0.1,
             "#c51b7d"
            ],
            [
             0.2,
             "#de77ae"
            ],
            [
             0.3,
             "#f1b6da"
            ],
            [
             0.4,
             "#fde0ef"
            ],
            [
             0.5,
             "#f7f7f7"
            ],
            [
             0.6,
             "#e6f5d0"
            ],
            [
             0.7,
             "#b8e186"
            ],
            [
             0.8,
             "#7fbc41"
            ],
            [
             0.9,
             "#4d9221"
            ],
            [
             1,
             "#276419"
            ]
           ],
           "sequential": [
            [
             0,
             "#0d0887"
            ],
            [
             0.1111111111111111,
             "#46039f"
            ],
            [
             0.2222222222222222,
             "#7201a8"
            ],
            [
             0.3333333333333333,
             "#9c179e"
            ],
            [
             0.4444444444444444,
             "#bd3786"
            ],
            [
             0.5555555555555556,
             "#d8576b"
            ],
            [
             0.6666666666666666,
             "#ed7953"
            ],
            [
             0.7777777777777778,
             "#fb9f3a"
            ],
            [
             0.8888888888888888,
             "#fdca26"
            ],
            [
             1,
             "#f0f921"
            ]
           ],
           "sequentialminus": [
            [
             0,
             "#0d0887"
            ],
            [
             0.1111111111111111,
             "#46039f"
            ],
            [
             0.2222222222222222,
             "#7201a8"
            ],
            [
             0.3333333333333333,
             "#9c179e"
            ],
            [
             0.4444444444444444,
             "#bd3786"
            ],
            [
             0.5555555555555556,
             "#d8576b"
            ],
            [
             0.6666666666666666,
             "#ed7953"
            ],
            [
             0.7777777777777778,
             "#fb9f3a"
            ],
            [
             0.8888888888888888,
             "#fdca26"
            ],
            [
             1,
             "#f0f921"
            ]
           ]
          },
          "colorway": [
           "#636efa",
           "#EF553B",
           "#00cc96",
           "#ab63fa",
           "#FFA15A",
           "#19d3f3",
           "#FF6692",
           "#B6E880",
           "#FF97FF",
           "#FECB52"
          ],
          "font": {
           "color": "#2a3f5f"
          },
          "geo": {
           "bgcolor": "white",
           "lakecolor": "white",
           "landcolor": "#E5ECF6",
           "showlakes": true,
           "showland": true,
           "subunitcolor": "white"
          },
          "hoverlabel": {
           "align": "left"
          },
          "hovermode": "closest",
          "mapbox": {
           "style": "light"
          },
          "paper_bgcolor": "white",
          "plot_bgcolor": "#E5ECF6",
          "polar": {
           "angularaxis": {
            "gridcolor": "white",
            "linecolor": "white",
            "ticks": ""
           },
           "bgcolor": "#E5ECF6",
           "radialaxis": {
            "gridcolor": "white",
            "linecolor": "white",
            "ticks": ""
           }
          },
          "scene": {
           "xaxis": {
            "backgroundcolor": "#E5ECF6",
            "gridcolor": "white",
            "gridwidth": 2,
            "linecolor": "white",
            "showbackground": true,
            "ticks": "",
            "zerolinecolor": "white"
           },
           "yaxis": {
            "backgroundcolor": "#E5ECF6",
            "gridcolor": "white",
            "gridwidth": 2,
            "linecolor": "white",
            "showbackground": true,
            "ticks": "",
            "zerolinecolor": "white"
           },
           "zaxis": {
            "backgroundcolor": "#E5ECF6",
            "gridcolor": "white",
            "gridwidth": 2,
            "linecolor": "white",
            "showbackground": true,
            "ticks": "",
            "zerolinecolor": "white"
           }
          },
          "shapedefaults": {
           "line": {
            "color": "#2a3f5f"
           }
          },
          "ternary": {
           "aaxis": {
            "gridcolor": "white",
            "linecolor": "white",
            "ticks": ""
           },
           "baxis": {
            "gridcolor": "white",
            "linecolor": "white",
            "ticks": ""
           },
           "bgcolor": "#E5ECF6",
           "caxis": {
            "gridcolor": "white",
            "linecolor": "white",
            "ticks": ""
           }
          },
          "title": {
           "x": 0.05
          },
          "xaxis": {
           "automargin": true,
           "gridcolor": "white",
           "linecolor": "white",
           "ticks": "",
           "title": {
            "standoff": 15
           },
           "zerolinecolor": "white",
           "zerolinewidth": 2
          },
          "yaxis": {
           "automargin": true,
           "gridcolor": "white",
           "linecolor": "white",
           "ticks": "",
           "title": {
            "standoff": 15
           },
           "zerolinecolor": "white",
           "zerolinewidth": 2
          }
         }
        },
        "title": {
         "font": {
          "color": "white"
         },
         "text": "Top 10 programming language desired by data professionals",
         "x": 0.5
        },
        "width": 800,
        "xaxis": {
         "anchor": "y",
         "domain": [
          0,
          1
         ],
         "title": {
          "text": "Programming language"
         }
        },
        "yaxis": {
         "anchor": "x",
         "domain": [
          0,
          1
         ],
         "title": {
          "text": "Count"
         }
        }
       }
      }
     },
     "metadata": {},
     "output_type": "display_data"
    }
   ],
   "source": [
    "pro_language_desired=count_column_content(data_df,\"LanguageWantToWorkWith\").head(10)\n",
    "paint_bar(df=pro_language_desired,title=\"Top 10 programming language desired by data professionals\",x=\"LanguageWantToWorkWith\",y=\"Count\",x_name=\"Programming language\",y_name=\"Count\")"
   ]
  },
  {
   "cell_type": "code",
   "execution_count": 21,
   "metadata": {},
   "outputs": [
    {
     "data": {
      "application/vnd.plotly.v1+json": {
       "config": {
        "plotlyServerURL": "https://plot.ly"
       },
       "data": [
        {
         "alignmentgroup": "True",
         "hovertemplate": "DatabaseHaveWorkedWith=%{x}<br>Count=%{text}<extra></extra>",
         "legendgroup": "",
         "marker": {
          "color": "#F0C826",
          "pattern": {
           "shape": ""
          }
         },
         "name": "",
         "offsetgroup": "",
         "orientation": "v",
         "showlegend": false,
         "text": [
          1619,
          1190,
          1134,
          948,
          618,
          584,
          522,
          460,
          429,
          406
         ],
         "textposition": "outside",
         "type": "bar",
         "x": [
          "PostgreSQL",
          "MySQL",
          "Microsoft SQL Server",
          "SQLite",
          "MongoDB",
          "BigQuery",
          "Oracle",
          "Elasticsearch",
          "Redis",
          "Snowflake"
         ],
         "xaxis": "x",
         "y": [
          1619,
          1190,
          1134,
          948,
          618,
          584,
          522,
          460,
          429,
          406
         ],
         "yaxis": "y"
        }
       ],
       "layout": {
        "barmode": "relative",
        "font": {
         "color": "white"
        },
        "height": 600,
        "legend": {
         "tracegroupgap": 0
        },
        "margin": {
         "t": 60
        },
        "paper_bgcolor": "black",
        "plot_bgcolor": "black",
        "showlegend": false,
        "template": {
         "data": {
          "bar": [
           {
            "error_x": {
             "color": "#2a3f5f"
            },
            "error_y": {
             "color": "#2a3f5f"
            },
            "marker": {
             "line": {
              "color": "#E5ECF6",
              "width": 0.5
             },
             "pattern": {
              "fillmode": "overlay",
              "size": 10,
              "solidity": 0.2
             }
            },
            "type": "bar"
           }
          ],
          "barpolar": [
           {
            "marker": {
             "line": {
              "color": "#E5ECF6",
              "width": 0.5
             },
             "pattern": {
              "fillmode": "overlay",
              "size": 10,
              "solidity": 0.2
             }
            },
            "type": "barpolar"
           }
          ],
          "carpet": [
           {
            "aaxis": {
             "endlinecolor": "#2a3f5f",
             "gridcolor": "white",
             "linecolor": "white",
             "minorgridcolor": "white",
             "startlinecolor": "#2a3f5f"
            },
            "baxis": {
             "endlinecolor": "#2a3f5f",
             "gridcolor": "white",
             "linecolor": "white",
             "minorgridcolor": "white",
             "startlinecolor": "#2a3f5f"
            },
            "type": "carpet"
           }
          ],
          "choropleth": [
           {
            "colorbar": {
             "outlinewidth": 0,
             "ticks": ""
            },
            "type": "choropleth"
           }
          ],
          "contour": [
           {
            "colorbar": {
             "outlinewidth": 0,
             "ticks": ""
            },
            "colorscale": [
             [
              0,
              "#0d0887"
             ],
             [
              0.1111111111111111,
              "#46039f"
             ],
             [
              0.2222222222222222,
              "#7201a8"
             ],
             [
              0.3333333333333333,
              "#9c179e"
             ],
             [
              0.4444444444444444,
              "#bd3786"
             ],
             [
              0.5555555555555556,
              "#d8576b"
             ],
             [
              0.6666666666666666,
              "#ed7953"
             ],
             [
              0.7777777777777778,
              "#fb9f3a"
             ],
             [
              0.8888888888888888,
              "#fdca26"
             ],
             [
              1,
              "#f0f921"
             ]
            ],
            "type": "contour"
           }
          ],
          "contourcarpet": [
           {
            "colorbar": {
             "outlinewidth": 0,
             "ticks": ""
            },
            "type": "contourcarpet"
           }
          ],
          "heatmap": [
           {
            "colorbar": {
             "outlinewidth": 0,
             "ticks": ""
            },
            "colorscale": [
             [
              0,
              "#0d0887"
             ],
             [
              0.1111111111111111,
              "#46039f"
             ],
             [
              0.2222222222222222,
              "#7201a8"
             ],
             [
              0.3333333333333333,
              "#9c179e"
             ],
             [
              0.4444444444444444,
              "#bd3786"
             ],
             [
              0.5555555555555556,
              "#d8576b"
             ],
             [
              0.6666666666666666,
              "#ed7953"
             ],
             [
              0.7777777777777778,
              "#fb9f3a"
             ],
             [
              0.8888888888888888,
              "#fdca26"
             ],
             [
              1,
              "#f0f921"
             ]
            ],
            "type": "heatmap"
           }
          ],
          "heatmapgl": [
           {
            "colorbar": {
             "outlinewidth": 0,
             "ticks": ""
            },
            "colorscale": [
             [
              0,
              "#0d0887"
             ],
             [
              0.1111111111111111,
              "#46039f"
             ],
             [
              0.2222222222222222,
              "#7201a8"
             ],
             [
              0.3333333333333333,
              "#9c179e"
             ],
             [
              0.4444444444444444,
              "#bd3786"
             ],
             [
              0.5555555555555556,
              "#d8576b"
             ],
             [
              0.6666666666666666,
              "#ed7953"
             ],
             [
              0.7777777777777778,
              "#fb9f3a"
             ],
             [
              0.8888888888888888,
              "#fdca26"
             ],
             [
              1,
              "#f0f921"
             ]
            ],
            "type": "heatmapgl"
           }
          ],
          "histogram": [
           {
            "marker": {
             "pattern": {
              "fillmode": "overlay",
              "size": 10,
              "solidity": 0.2
             }
            },
            "type": "histogram"
           }
          ],
          "histogram2d": [
           {
            "colorbar": {
             "outlinewidth": 0,
             "ticks": ""
            },
            "colorscale": [
             [
              0,
              "#0d0887"
             ],
             [
              0.1111111111111111,
              "#46039f"
             ],
             [
              0.2222222222222222,
              "#7201a8"
             ],
             [
              0.3333333333333333,
              "#9c179e"
             ],
             [
              0.4444444444444444,
              "#bd3786"
             ],
             [
              0.5555555555555556,
              "#d8576b"
             ],
             [
              0.6666666666666666,
              "#ed7953"
             ],
             [
              0.7777777777777778,
              "#fb9f3a"
             ],
             [
              0.8888888888888888,
              "#fdca26"
             ],
             [
              1,
              "#f0f921"
             ]
            ],
            "type": "histogram2d"
           }
          ],
          "histogram2dcontour": [
           {
            "colorbar": {
             "outlinewidth": 0,
             "ticks": ""
            },
            "colorscale": [
             [
              0,
              "#0d0887"
             ],
             [
              0.1111111111111111,
              "#46039f"
             ],
             [
              0.2222222222222222,
              "#7201a8"
             ],
             [
              0.3333333333333333,
              "#9c179e"
             ],
             [
              0.4444444444444444,
              "#bd3786"
             ],
             [
              0.5555555555555556,
              "#d8576b"
             ],
             [
              0.6666666666666666,
              "#ed7953"
             ],
             [
              0.7777777777777778,
              "#fb9f3a"
             ],
             [
              0.8888888888888888,
              "#fdca26"
             ],
             [
              1,
              "#f0f921"
             ]
            ],
            "type": "histogram2dcontour"
           }
          ],
          "mesh3d": [
           {
            "colorbar": {
             "outlinewidth": 0,
             "ticks": ""
            },
            "type": "mesh3d"
           }
          ],
          "parcoords": [
           {
            "line": {
             "colorbar": {
              "outlinewidth": 0,
              "ticks": ""
             }
            },
            "type": "parcoords"
           }
          ],
          "pie": [
           {
            "automargin": true,
            "type": "pie"
           }
          ],
          "scatter": [
           {
            "fillpattern": {
             "fillmode": "overlay",
             "size": 10,
             "solidity": 0.2
            },
            "type": "scatter"
           }
          ],
          "scatter3d": [
           {
            "line": {
             "colorbar": {
              "outlinewidth": 0,
              "ticks": ""
             }
            },
            "marker": {
             "colorbar": {
              "outlinewidth": 0,
              "ticks": ""
             }
            },
            "type": "scatter3d"
           }
          ],
          "scattercarpet": [
           {
            "marker": {
             "colorbar": {
              "outlinewidth": 0,
              "ticks": ""
             }
            },
            "type": "scattercarpet"
           }
          ],
          "scattergeo": [
           {
            "marker": {
             "colorbar": {
              "outlinewidth": 0,
              "ticks": ""
             }
            },
            "type": "scattergeo"
           }
          ],
          "scattergl": [
           {
            "marker": {
             "colorbar": {
              "outlinewidth": 0,
              "ticks": ""
             }
            },
            "type": "scattergl"
           }
          ],
          "scattermapbox": [
           {
            "marker": {
             "colorbar": {
              "outlinewidth": 0,
              "ticks": ""
             }
            },
            "type": "scattermapbox"
           }
          ],
          "scatterpolar": [
           {
            "marker": {
             "colorbar": {
              "outlinewidth": 0,
              "ticks": ""
             }
            },
            "type": "scatterpolar"
           }
          ],
          "scatterpolargl": [
           {
            "marker": {
             "colorbar": {
              "outlinewidth": 0,
              "ticks": ""
             }
            },
            "type": "scatterpolargl"
           }
          ],
          "scatterternary": [
           {
            "marker": {
             "colorbar": {
              "outlinewidth": 0,
              "ticks": ""
             }
            },
            "type": "scatterternary"
           }
          ],
          "surface": [
           {
            "colorbar": {
             "outlinewidth": 0,
             "ticks": ""
            },
            "colorscale": [
             [
              0,
              "#0d0887"
             ],
             [
              0.1111111111111111,
              "#46039f"
             ],
             [
              0.2222222222222222,
              "#7201a8"
             ],
             [
              0.3333333333333333,
              "#9c179e"
             ],
             [
              0.4444444444444444,
              "#bd3786"
             ],
             [
              0.5555555555555556,
              "#d8576b"
             ],
             [
              0.6666666666666666,
              "#ed7953"
             ],
             [
              0.7777777777777778,
              "#fb9f3a"
             ],
             [
              0.8888888888888888,
              "#fdca26"
             ],
             [
              1,
              "#f0f921"
             ]
            ],
            "type": "surface"
           }
          ],
          "table": [
           {
            "cells": {
             "fill": {
              "color": "#EBF0F8"
             },
             "line": {
              "color": "white"
             }
            },
            "header": {
             "fill": {
              "color": "#C8D4E3"
             },
             "line": {
              "color": "white"
             }
            },
            "type": "table"
           }
          ]
         },
         "layout": {
          "annotationdefaults": {
           "arrowcolor": "#2a3f5f",
           "arrowhead": 0,
           "arrowwidth": 1
          },
          "autotypenumbers": "strict",
          "coloraxis": {
           "colorbar": {
            "outlinewidth": 0,
            "ticks": ""
           }
          },
          "colorscale": {
           "diverging": [
            [
             0,
             "#8e0152"
            ],
            [
             0.1,
             "#c51b7d"
            ],
            [
             0.2,
             "#de77ae"
            ],
            [
             0.3,
             "#f1b6da"
            ],
            [
             0.4,
             "#fde0ef"
            ],
            [
             0.5,
             "#f7f7f7"
            ],
            [
             0.6,
             "#e6f5d0"
            ],
            [
             0.7,
             "#b8e186"
            ],
            [
             0.8,
             "#7fbc41"
            ],
            [
             0.9,
             "#4d9221"
            ],
            [
             1,
             "#276419"
            ]
           ],
           "sequential": [
            [
             0,
             "#0d0887"
            ],
            [
             0.1111111111111111,
             "#46039f"
            ],
            [
             0.2222222222222222,
             "#7201a8"
            ],
            [
             0.3333333333333333,
             "#9c179e"
            ],
            [
             0.4444444444444444,
             "#bd3786"
            ],
            [
             0.5555555555555556,
             "#d8576b"
            ],
            [
             0.6666666666666666,
             "#ed7953"
            ],
            [
             0.7777777777777778,
             "#fb9f3a"
            ],
            [
             0.8888888888888888,
             "#fdca26"
            ],
            [
             1,
             "#f0f921"
            ]
           ],
           "sequentialminus": [
            [
             0,
             "#0d0887"
            ],
            [
             0.1111111111111111,
             "#46039f"
            ],
            [
             0.2222222222222222,
             "#7201a8"
            ],
            [
             0.3333333333333333,
             "#9c179e"
            ],
            [
             0.4444444444444444,
             "#bd3786"
            ],
            [
             0.5555555555555556,
             "#d8576b"
            ],
            [
             0.6666666666666666,
             "#ed7953"
            ],
            [
             0.7777777777777778,
             "#fb9f3a"
            ],
            [
             0.8888888888888888,
             "#fdca26"
            ],
            [
             1,
             "#f0f921"
            ]
           ]
          },
          "colorway": [
           "#636efa",
           "#EF553B",
           "#00cc96",
           "#ab63fa",
           "#FFA15A",
           "#19d3f3",
           "#FF6692",
           "#B6E880",
           "#FF97FF",
           "#FECB52"
          ],
          "font": {
           "color": "#2a3f5f"
          },
          "geo": {
           "bgcolor": "white",
           "lakecolor": "white",
           "landcolor": "#E5ECF6",
           "showlakes": true,
           "showland": true,
           "subunitcolor": "white"
          },
          "hoverlabel": {
           "align": "left"
          },
          "hovermode": "closest",
          "mapbox": {
           "style": "light"
          },
          "paper_bgcolor": "white",
          "plot_bgcolor": "#E5ECF6",
          "polar": {
           "angularaxis": {
            "gridcolor": "white",
            "linecolor": "white",
            "ticks": ""
           },
           "bgcolor": "#E5ECF6",
           "radialaxis": {
            "gridcolor": "white",
            "linecolor": "white",
            "ticks": ""
           }
          },
          "scene": {
           "xaxis": {
            "backgroundcolor": "#E5ECF6",
            "gridcolor": "white",
            "gridwidth": 2,
            "linecolor": "white",
            "showbackground": true,
            "ticks": "",
            "zerolinecolor": "white"
           },
           "yaxis": {
            "backgroundcolor": "#E5ECF6",
            "gridcolor": "white",
            "gridwidth": 2,
            "linecolor": "white",
            "showbackground": true,
            "ticks": "",
            "zerolinecolor": "white"
           },
           "zaxis": {
            "backgroundcolor": "#E5ECF6",
            "gridcolor": "white",
            "gridwidth": 2,
            "linecolor": "white",
            "showbackground": true,
            "ticks": "",
            "zerolinecolor": "white"
           }
          },
          "shapedefaults": {
           "line": {
            "color": "#2a3f5f"
           }
          },
          "ternary": {
           "aaxis": {
            "gridcolor": "white",
            "linecolor": "white",
            "ticks": ""
           },
           "baxis": {
            "gridcolor": "white",
            "linecolor": "white",
            "ticks": ""
           },
           "bgcolor": "#E5ECF6",
           "caxis": {
            "gridcolor": "white",
            "linecolor": "white",
            "ticks": ""
           }
          },
          "title": {
           "x": 0.05
          },
          "xaxis": {
           "automargin": true,
           "gridcolor": "white",
           "linecolor": "white",
           "ticks": "",
           "title": {
            "standoff": 15
           },
           "zerolinecolor": "white",
           "zerolinewidth": 2
          },
          "yaxis": {
           "automargin": true,
           "gridcolor": "white",
           "linecolor": "white",
           "ticks": "",
           "title": {
            "standoff": 15
           },
           "zerolinecolor": "white",
           "zerolinewidth": 2
          }
         }
        },
        "title": {
         "font": {
          "color": "white"
         },
         "text": "Top 10 Databases used by Data professionals",
         "x": 0.5
        },
        "width": 800,
        "xaxis": {
         "anchor": "y",
         "domain": [
          0,
          1
         ],
         "title": {
          "text": "Database"
         }
        },
        "yaxis": {
         "anchor": "x",
         "domain": [
          0,
          1
         ],
         "title": {
          "text": "Count"
         }
        }
       }
      }
     },
     "metadata": {},
     "output_type": "display_data"
    }
   ],
   "source": [
    "database_used=count_column_content(data_df,\"DatabaseHaveWorkedWith\").head(10)\n",
    "paint_bar(df=database_used,title=\"Top 10 Databases used by Data professionals\",x=\"DatabaseHaveWorkedWith\",y=\"Count\",x_name=\"Database\",y_name=\"Count\")"
   ]
  },
  {
   "cell_type": "code",
   "execution_count": 22,
   "metadata": {},
   "outputs": [
    {
     "data": {
      "application/vnd.plotly.v1+json": {
       "config": {
        "plotlyServerURL": "https://plot.ly"
       },
       "data": [
        {
         "alignmentgroup": "True",
         "hovertemplate": "DatabaseWantToWorkWith=%{x}<br>Count=%{text}<extra></extra>",
         "legendgroup": "",
         "marker": {
          "color": "#F0C826",
          "pattern": {
           "shape": ""
          }
         },
         "name": "",
         "offsetgroup": "",
         "orientation": "v",
         "showlegend": false,
         "text": [
          1364,
          646,
          645,
          608,
          574,
          559,
          542,
          500,
          439,
          293
         ],
         "textposition": "outside",
         "type": "bar",
         "x": [
          "PostgreSQL",
          "MySQL",
          "SQLite",
          "Microsoft SQL Server",
          "BigQuery",
          "Snowflake",
          "MongoDB",
          "Redis",
          "Elasticsearch",
          "DuckDB"
         ],
         "xaxis": "x",
         "y": [
          1364,
          646,
          645,
          608,
          574,
          559,
          542,
          500,
          439,
          293
         ],
         "yaxis": "y"
        }
       ],
       "layout": {
        "barmode": "relative",
        "font": {
         "color": "white"
        },
        "height": 600,
        "legend": {
         "tracegroupgap": 0
        },
        "margin": {
         "t": 60
        },
        "paper_bgcolor": "black",
        "plot_bgcolor": "black",
        "showlegend": false,
        "template": {
         "data": {
          "bar": [
           {
            "error_x": {
             "color": "#2a3f5f"
            },
            "error_y": {
             "color": "#2a3f5f"
            },
            "marker": {
             "line": {
              "color": "#E5ECF6",
              "width": 0.5
             },
             "pattern": {
              "fillmode": "overlay",
              "size": 10,
              "solidity": 0.2
             }
            },
            "type": "bar"
           }
          ],
          "barpolar": [
           {
            "marker": {
             "line": {
              "color": "#E5ECF6",
              "width": 0.5
             },
             "pattern": {
              "fillmode": "overlay",
              "size": 10,
              "solidity": 0.2
             }
            },
            "type": "barpolar"
           }
          ],
          "carpet": [
           {
            "aaxis": {
             "endlinecolor": "#2a3f5f",
             "gridcolor": "white",
             "linecolor": "white",
             "minorgridcolor": "white",
             "startlinecolor": "#2a3f5f"
            },
            "baxis": {
             "endlinecolor": "#2a3f5f",
             "gridcolor": "white",
             "linecolor": "white",
             "minorgridcolor": "white",
             "startlinecolor": "#2a3f5f"
            },
            "type": "carpet"
           }
          ],
          "choropleth": [
           {
            "colorbar": {
             "outlinewidth": 0,
             "ticks": ""
            },
            "type": "choropleth"
           }
          ],
          "contour": [
           {
            "colorbar": {
             "outlinewidth": 0,
             "ticks": ""
            },
            "colorscale": [
             [
              0,
              "#0d0887"
             ],
             [
              0.1111111111111111,
              "#46039f"
             ],
             [
              0.2222222222222222,
              "#7201a8"
             ],
             [
              0.3333333333333333,
              "#9c179e"
             ],
             [
              0.4444444444444444,
              "#bd3786"
             ],
             [
              0.5555555555555556,
              "#d8576b"
             ],
             [
              0.6666666666666666,
              "#ed7953"
             ],
             [
              0.7777777777777778,
              "#fb9f3a"
             ],
             [
              0.8888888888888888,
              "#fdca26"
             ],
             [
              1,
              "#f0f921"
             ]
            ],
            "type": "contour"
           }
          ],
          "contourcarpet": [
           {
            "colorbar": {
             "outlinewidth": 0,
             "ticks": ""
            },
            "type": "contourcarpet"
           }
          ],
          "heatmap": [
           {
            "colorbar": {
             "outlinewidth": 0,
             "ticks": ""
            },
            "colorscale": [
             [
              0,
              "#0d0887"
             ],
             [
              0.1111111111111111,
              "#46039f"
             ],
             [
              0.2222222222222222,
              "#7201a8"
             ],
             [
              0.3333333333333333,
              "#9c179e"
             ],
             [
              0.4444444444444444,
              "#bd3786"
             ],
             [
              0.5555555555555556,
              "#d8576b"
             ],
             [
              0.6666666666666666,
              "#ed7953"
             ],
             [
              0.7777777777777778,
              "#fb9f3a"
             ],
             [
              0.8888888888888888,
              "#fdca26"
             ],
             [
              1,
              "#f0f921"
             ]
            ],
            "type": "heatmap"
           }
          ],
          "heatmapgl": [
           {
            "colorbar": {
             "outlinewidth": 0,
             "ticks": ""
            },
            "colorscale": [
             [
              0,
              "#0d0887"
             ],
             [
              0.1111111111111111,
              "#46039f"
             ],
             [
              0.2222222222222222,
              "#7201a8"
             ],
             [
              0.3333333333333333,
              "#9c179e"
             ],
             [
              0.4444444444444444,
              "#bd3786"
             ],
             [
              0.5555555555555556,
              "#d8576b"
             ],
             [
              0.6666666666666666,
              "#ed7953"
             ],
             [
              0.7777777777777778,
              "#fb9f3a"
             ],
             [
              0.8888888888888888,
              "#fdca26"
             ],
             [
              1,
              "#f0f921"
             ]
            ],
            "type": "heatmapgl"
           }
          ],
          "histogram": [
           {
            "marker": {
             "pattern": {
              "fillmode": "overlay",
              "size": 10,
              "solidity": 0.2
             }
            },
            "type": "histogram"
           }
          ],
          "histogram2d": [
           {
            "colorbar": {
             "outlinewidth": 0,
             "ticks": ""
            },
            "colorscale": [
             [
              0,
              "#0d0887"
             ],
             [
              0.1111111111111111,
              "#46039f"
             ],
             [
              0.2222222222222222,
              "#7201a8"
             ],
             [
              0.3333333333333333,
              "#9c179e"
             ],
             [
              0.4444444444444444,
              "#bd3786"
             ],
             [
              0.5555555555555556,
              "#d8576b"
             ],
             [
              0.6666666666666666,
              "#ed7953"
             ],
             [
              0.7777777777777778,
              "#fb9f3a"
             ],
             [
              0.8888888888888888,
              "#fdca26"
             ],
             [
              1,
              "#f0f921"
             ]
            ],
            "type": "histogram2d"
           }
          ],
          "histogram2dcontour": [
           {
            "colorbar": {
             "outlinewidth": 0,
             "ticks": ""
            },
            "colorscale": [
             [
              0,
              "#0d0887"
             ],
             [
              0.1111111111111111,
              "#46039f"
             ],
             [
              0.2222222222222222,
              "#7201a8"
             ],
             [
              0.3333333333333333,
              "#9c179e"
             ],
             [
              0.4444444444444444,
              "#bd3786"
             ],
             [
              0.5555555555555556,
              "#d8576b"
             ],
             [
              0.6666666666666666,
              "#ed7953"
             ],
             [
              0.7777777777777778,
              "#fb9f3a"
             ],
             [
              0.8888888888888888,
              "#fdca26"
             ],
             [
              1,
              "#f0f921"
             ]
            ],
            "type": "histogram2dcontour"
           }
          ],
          "mesh3d": [
           {
            "colorbar": {
             "outlinewidth": 0,
             "ticks": ""
            },
            "type": "mesh3d"
           }
          ],
          "parcoords": [
           {
            "line": {
             "colorbar": {
              "outlinewidth": 0,
              "ticks": ""
             }
            },
            "type": "parcoords"
           }
          ],
          "pie": [
           {
            "automargin": true,
            "type": "pie"
           }
          ],
          "scatter": [
           {
            "fillpattern": {
             "fillmode": "overlay",
             "size": 10,
             "solidity": 0.2
            },
            "type": "scatter"
           }
          ],
          "scatter3d": [
           {
            "line": {
             "colorbar": {
              "outlinewidth": 0,
              "ticks": ""
             }
            },
            "marker": {
             "colorbar": {
              "outlinewidth": 0,
              "ticks": ""
             }
            },
            "type": "scatter3d"
           }
          ],
          "scattercarpet": [
           {
            "marker": {
             "colorbar": {
              "outlinewidth": 0,
              "ticks": ""
             }
            },
            "type": "scattercarpet"
           }
          ],
          "scattergeo": [
           {
            "marker": {
             "colorbar": {
              "outlinewidth": 0,
              "ticks": ""
             }
            },
            "type": "scattergeo"
           }
          ],
          "scattergl": [
           {
            "marker": {
             "colorbar": {
              "outlinewidth": 0,
              "ticks": ""
             }
            },
            "type": "scattergl"
           }
          ],
          "scattermapbox": [
           {
            "marker": {
             "colorbar": {
              "outlinewidth": 0,
              "ticks": ""
             }
            },
            "type": "scattermapbox"
           }
          ],
          "scatterpolar": [
           {
            "marker": {
             "colorbar": {
              "outlinewidth": 0,
              "ticks": ""
             }
            },
            "type": "scatterpolar"
           }
          ],
          "scatterpolargl": [
           {
            "marker": {
             "colorbar": {
              "outlinewidth": 0,
              "ticks": ""
             }
            },
            "type": "scatterpolargl"
           }
          ],
          "scatterternary": [
           {
            "marker": {
             "colorbar": {
              "outlinewidth": 0,
              "ticks": ""
             }
            },
            "type": "scatterternary"
           }
          ],
          "surface": [
           {
            "colorbar": {
             "outlinewidth": 0,
             "ticks": ""
            },
            "colorscale": [
             [
              0,
              "#0d0887"
             ],
             [
              0.1111111111111111,
              "#46039f"
             ],
             [
              0.2222222222222222,
              "#7201a8"
             ],
             [
              0.3333333333333333,
              "#9c179e"
             ],
             [
              0.4444444444444444,
              "#bd3786"
             ],
             [
              0.5555555555555556,
              "#d8576b"
             ],
             [
              0.6666666666666666,
              "#ed7953"
             ],
             [
              0.7777777777777778,
              "#fb9f3a"
             ],
             [
              0.8888888888888888,
              "#fdca26"
             ],
             [
              1,
              "#f0f921"
             ]
            ],
            "type": "surface"
           }
          ],
          "table": [
           {
            "cells": {
             "fill": {
              "color": "#EBF0F8"
             },
             "line": {
              "color": "white"
             }
            },
            "header": {
             "fill": {
              "color": "#C8D4E3"
             },
             "line": {
              "color": "white"
             }
            },
            "type": "table"
           }
          ]
         },
         "layout": {
          "annotationdefaults": {
           "arrowcolor": "#2a3f5f",
           "arrowhead": 0,
           "arrowwidth": 1
          },
          "autotypenumbers": "strict",
          "coloraxis": {
           "colorbar": {
            "outlinewidth": 0,
            "ticks": ""
           }
          },
          "colorscale": {
           "diverging": [
            [
             0,
             "#8e0152"
            ],
            [
             0.1,
             "#c51b7d"
            ],
            [
             0.2,
             "#de77ae"
            ],
            [
             0.3,
             "#f1b6da"
            ],
            [
             0.4,
             "#fde0ef"
            ],
            [
             0.5,
             "#f7f7f7"
            ],
            [
             0.6,
             "#e6f5d0"
            ],
            [
             0.7,
             "#b8e186"
            ],
            [
             0.8,
             "#7fbc41"
            ],
            [
             0.9,
             "#4d9221"
            ],
            [
             1,
             "#276419"
            ]
           ],
           "sequential": [
            [
             0,
             "#0d0887"
            ],
            [
             0.1111111111111111,
             "#46039f"
            ],
            [
             0.2222222222222222,
             "#7201a8"
            ],
            [
             0.3333333333333333,
             "#9c179e"
            ],
            [
             0.4444444444444444,
             "#bd3786"
            ],
            [
             0.5555555555555556,
             "#d8576b"
            ],
            [
             0.6666666666666666,
             "#ed7953"
            ],
            [
             0.7777777777777778,
             "#fb9f3a"
            ],
            [
             0.8888888888888888,
             "#fdca26"
            ],
            [
             1,
             "#f0f921"
            ]
           ],
           "sequentialminus": [
            [
             0,
             "#0d0887"
            ],
            [
             0.1111111111111111,
             "#46039f"
            ],
            [
             0.2222222222222222,
             "#7201a8"
            ],
            [
             0.3333333333333333,
             "#9c179e"
            ],
            [
             0.4444444444444444,
             "#bd3786"
            ],
            [
             0.5555555555555556,
             "#d8576b"
            ],
            [
             0.6666666666666666,
             "#ed7953"
            ],
            [
             0.7777777777777778,
             "#fb9f3a"
            ],
            [
             0.8888888888888888,
             "#fdca26"
            ],
            [
             1,
             "#f0f921"
            ]
           ]
          },
          "colorway": [
           "#636efa",
           "#EF553B",
           "#00cc96",
           "#ab63fa",
           "#FFA15A",
           "#19d3f3",
           "#FF6692",
           "#B6E880",
           "#FF97FF",
           "#FECB52"
          ],
          "font": {
           "color": "#2a3f5f"
          },
          "geo": {
           "bgcolor": "white",
           "lakecolor": "white",
           "landcolor": "#E5ECF6",
           "showlakes": true,
           "showland": true,
           "subunitcolor": "white"
          },
          "hoverlabel": {
           "align": "left"
          },
          "hovermode": "closest",
          "mapbox": {
           "style": "light"
          },
          "paper_bgcolor": "white",
          "plot_bgcolor": "#E5ECF6",
          "polar": {
           "angularaxis": {
            "gridcolor": "white",
            "linecolor": "white",
            "ticks": ""
           },
           "bgcolor": "#E5ECF6",
           "radialaxis": {
            "gridcolor": "white",
            "linecolor": "white",
            "ticks": ""
           }
          },
          "scene": {
           "xaxis": {
            "backgroundcolor": "#E5ECF6",
            "gridcolor": "white",
            "gridwidth": 2,
            "linecolor": "white",
            "showbackground": true,
            "ticks": "",
            "zerolinecolor": "white"
           },
           "yaxis": {
            "backgroundcolor": "#E5ECF6",
            "gridcolor": "white",
            "gridwidth": 2,
            "linecolor": "white",
            "showbackground": true,
            "ticks": "",
            "zerolinecolor": "white"
           },
           "zaxis": {
            "backgroundcolor": "#E5ECF6",
            "gridcolor": "white",
            "gridwidth": 2,
            "linecolor": "white",
            "showbackground": true,
            "ticks": "",
            "zerolinecolor": "white"
           }
          },
          "shapedefaults": {
           "line": {
            "color": "#2a3f5f"
           }
          },
          "ternary": {
           "aaxis": {
            "gridcolor": "white",
            "linecolor": "white",
            "ticks": ""
           },
           "baxis": {
            "gridcolor": "white",
            "linecolor": "white",
            "ticks": ""
           },
           "bgcolor": "#E5ECF6",
           "caxis": {
            "gridcolor": "white",
            "linecolor": "white",
            "ticks": ""
           }
          },
          "title": {
           "x": 0.05
          },
          "xaxis": {
           "automargin": true,
           "gridcolor": "white",
           "linecolor": "white",
           "ticks": "",
           "title": {
            "standoff": 15
           },
           "zerolinecolor": "white",
           "zerolinewidth": 2
          },
          "yaxis": {
           "automargin": true,
           "gridcolor": "white",
           "linecolor": "white",
           "ticks": "",
           "title": {
            "standoff": 15
           },
           "zerolinecolor": "white",
           "zerolinewidth": 2
          }
         }
        },
        "title": {
         "font": {
          "color": "white"
         },
         "text": "Top 10 Databases desired by Data professionals",
         "x": 0.5
        },
        "width": 800,
        "xaxis": {
         "anchor": "y",
         "domain": [
          0,
          1
         ],
         "title": {
          "text": "Database"
         }
        },
        "yaxis": {
         "anchor": "x",
         "domain": [
          0,
          1
         ],
         "title": {
          "text": "Count"
         }
        }
       }
      }
     },
     "metadata": {},
     "output_type": "display_data"
    }
   ],
   "source": [
    "database_desired=count_column_content(data_df,\"DatabaseWantToWorkWith\").head(10)\n",
    "paint_bar(df=database_desired,title=\"Top 10 Databases desired by Data professionals\",x=\"DatabaseWantToWorkWith\",y=\"Count\",x_name=\"Database\",y_name=\"Count\")"
   ]
  },
  {
   "cell_type": "code",
   "execution_count": 23,
   "metadata": {},
   "outputs": [
    {
     "data": {
      "application/vnd.plotly.v1+json": {
       "config": {
        "plotlyServerURL": "https://plot.ly"
       },
       "data": [
        {
         "alignmentgroup": "True",
         "hovertemplate": "MiscTechHaveWorkedWith=%{x}<br>Count=%{text}<extra></extra>",
         "legendgroup": "",
         "marker": {
          "color": "#F0C826",
          "pattern": {
           "shape": ""
          }
         },
         "name": "",
         "offsetgroup": "",
         "orientation": "v",
         "showlegend": false,
         "text": [
          2233,
          1970,
          1469,
          1003,
          976,
          841,
          656,
          602,
          441,
          436
         ],
         "textposition": "outside",
         "type": "bar",
         "x": [
          "Pandas",
          "NumPy",
          "Scikit-Learn",
          "Torch/PyTorch",
          "TensorFlow",
          "Apache Spark",
          "Keras",
          "Opencv",
          "Apache Kafka",
          "Hugging Face Transformers"
         ],
         "xaxis": "x",
         "y": [
          2233,
          1970,
          1469,
          1003,
          976,
          841,
          656,
          602,
          441,
          436
         ],
         "yaxis": "y"
        }
       ],
       "layout": {
        "barmode": "relative",
        "font": {
         "color": "white"
        },
        "height": 600,
        "legend": {
         "tracegroupgap": 0
        },
        "margin": {
         "t": 60
        },
        "paper_bgcolor": "black",
        "plot_bgcolor": "black",
        "showlegend": false,
        "template": {
         "data": {
          "bar": [
           {
            "error_x": {
             "color": "#2a3f5f"
            },
            "error_y": {
             "color": "#2a3f5f"
            },
            "marker": {
             "line": {
              "color": "#E5ECF6",
              "width": 0.5
             },
             "pattern": {
              "fillmode": "overlay",
              "size": 10,
              "solidity": 0.2
             }
            },
            "type": "bar"
           }
          ],
          "barpolar": [
           {
            "marker": {
             "line": {
              "color": "#E5ECF6",
              "width": 0.5
             },
             "pattern": {
              "fillmode": "overlay",
              "size": 10,
              "solidity": 0.2
             }
            },
            "type": "barpolar"
           }
          ],
          "carpet": [
           {
            "aaxis": {
             "endlinecolor": "#2a3f5f",
             "gridcolor": "white",
             "linecolor": "white",
             "minorgridcolor": "white",
             "startlinecolor": "#2a3f5f"
            },
            "baxis": {
             "endlinecolor": "#2a3f5f",
             "gridcolor": "white",
             "linecolor": "white",
             "minorgridcolor": "white",
             "startlinecolor": "#2a3f5f"
            },
            "type": "carpet"
           }
          ],
          "choropleth": [
           {
            "colorbar": {
             "outlinewidth": 0,
             "ticks": ""
            },
            "type": "choropleth"
           }
          ],
          "contour": [
           {
            "colorbar": {
             "outlinewidth": 0,
             "ticks": ""
            },
            "colorscale": [
             [
              0,
              "#0d0887"
             ],
             [
              0.1111111111111111,
              "#46039f"
             ],
             [
              0.2222222222222222,
              "#7201a8"
             ],
             [
              0.3333333333333333,
              "#9c179e"
             ],
             [
              0.4444444444444444,
              "#bd3786"
             ],
             [
              0.5555555555555556,
              "#d8576b"
             ],
             [
              0.6666666666666666,
              "#ed7953"
             ],
             [
              0.7777777777777778,
              "#fb9f3a"
             ],
             [
              0.8888888888888888,
              "#fdca26"
             ],
             [
              1,
              "#f0f921"
             ]
            ],
            "type": "contour"
           }
          ],
          "contourcarpet": [
           {
            "colorbar": {
             "outlinewidth": 0,
             "ticks": ""
            },
            "type": "contourcarpet"
           }
          ],
          "heatmap": [
           {
            "colorbar": {
             "outlinewidth": 0,
             "ticks": ""
            },
            "colorscale": [
             [
              0,
              "#0d0887"
             ],
             [
              0.1111111111111111,
              "#46039f"
             ],
             [
              0.2222222222222222,
              "#7201a8"
             ],
             [
              0.3333333333333333,
              "#9c179e"
             ],
             [
              0.4444444444444444,
              "#bd3786"
             ],
             [
              0.5555555555555556,
              "#d8576b"
             ],
             [
              0.6666666666666666,
              "#ed7953"
             ],
             [
              0.7777777777777778,
              "#fb9f3a"
             ],
             [
              0.8888888888888888,
              "#fdca26"
             ],
             [
              1,
              "#f0f921"
             ]
            ],
            "type": "heatmap"
           }
          ],
          "heatmapgl": [
           {
            "colorbar": {
             "outlinewidth": 0,
             "ticks": ""
            },
            "colorscale": [
             [
              0,
              "#0d0887"
             ],
             [
              0.1111111111111111,
              "#46039f"
             ],
             [
              0.2222222222222222,
              "#7201a8"
             ],
             [
              0.3333333333333333,
              "#9c179e"
             ],
             [
              0.4444444444444444,
              "#bd3786"
             ],
             [
              0.5555555555555556,
              "#d8576b"
             ],
             [
              0.6666666666666666,
              "#ed7953"
             ],
             [
              0.7777777777777778,
              "#fb9f3a"
             ],
             [
              0.8888888888888888,
              "#fdca26"
             ],
             [
              1,
              "#f0f921"
             ]
            ],
            "type": "heatmapgl"
           }
          ],
          "histogram": [
           {
            "marker": {
             "pattern": {
              "fillmode": "overlay",
              "size": 10,
              "solidity": 0.2
             }
            },
            "type": "histogram"
           }
          ],
          "histogram2d": [
           {
            "colorbar": {
             "outlinewidth": 0,
             "ticks": ""
            },
            "colorscale": [
             [
              0,
              "#0d0887"
             ],
             [
              0.1111111111111111,
              "#46039f"
             ],
             [
              0.2222222222222222,
              "#7201a8"
             ],
             [
              0.3333333333333333,
              "#9c179e"
             ],
             [
              0.4444444444444444,
              "#bd3786"
             ],
             [
              0.5555555555555556,
              "#d8576b"
             ],
             [
              0.6666666666666666,
              "#ed7953"
             ],
             [
              0.7777777777777778,
              "#fb9f3a"
             ],
             [
              0.8888888888888888,
              "#fdca26"
             ],
             [
              1,
              "#f0f921"
             ]
            ],
            "type": "histogram2d"
           }
          ],
          "histogram2dcontour": [
           {
            "colorbar": {
             "outlinewidth": 0,
             "ticks": ""
            },
            "colorscale": [
             [
              0,
              "#0d0887"
             ],
             [
              0.1111111111111111,
              "#46039f"
             ],
             [
              0.2222222222222222,
              "#7201a8"
             ],
             [
              0.3333333333333333,
              "#9c179e"
             ],
             [
              0.4444444444444444,
              "#bd3786"
             ],
             [
              0.5555555555555556,
              "#d8576b"
             ],
             [
              0.6666666666666666,
              "#ed7953"
             ],
             [
              0.7777777777777778,
              "#fb9f3a"
             ],
             [
              0.8888888888888888,
              "#fdca26"
             ],
             [
              1,
              "#f0f921"
             ]
            ],
            "type": "histogram2dcontour"
           }
          ],
          "mesh3d": [
           {
            "colorbar": {
             "outlinewidth": 0,
             "ticks": ""
            },
            "type": "mesh3d"
           }
          ],
          "parcoords": [
           {
            "line": {
             "colorbar": {
              "outlinewidth": 0,
              "ticks": ""
             }
            },
            "type": "parcoords"
           }
          ],
          "pie": [
           {
            "automargin": true,
            "type": "pie"
           }
          ],
          "scatter": [
           {
            "fillpattern": {
             "fillmode": "overlay",
             "size": 10,
             "solidity": 0.2
            },
            "type": "scatter"
           }
          ],
          "scatter3d": [
           {
            "line": {
             "colorbar": {
              "outlinewidth": 0,
              "ticks": ""
             }
            },
            "marker": {
             "colorbar": {
              "outlinewidth": 0,
              "ticks": ""
             }
            },
            "type": "scatter3d"
           }
          ],
          "scattercarpet": [
           {
            "marker": {
             "colorbar": {
              "outlinewidth": 0,
              "ticks": ""
             }
            },
            "type": "scattercarpet"
           }
          ],
          "scattergeo": [
           {
            "marker": {
             "colorbar": {
              "outlinewidth": 0,
              "ticks": ""
             }
            },
            "type": "scattergeo"
           }
          ],
          "scattergl": [
           {
            "marker": {
             "colorbar": {
              "outlinewidth": 0,
              "ticks": ""
             }
            },
            "type": "scattergl"
           }
          ],
          "scattermapbox": [
           {
            "marker": {
             "colorbar": {
              "outlinewidth": 0,
              "ticks": ""
             }
            },
            "type": "scattermapbox"
           }
          ],
          "scatterpolar": [
           {
            "marker": {
             "colorbar": {
              "outlinewidth": 0,
              "ticks": ""
             }
            },
            "type": "scatterpolar"
           }
          ],
          "scatterpolargl": [
           {
            "marker": {
             "colorbar": {
              "outlinewidth": 0,
              "ticks": ""
             }
            },
            "type": "scatterpolargl"
           }
          ],
          "scatterternary": [
           {
            "marker": {
             "colorbar": {
              "outlinewidth": 0,
              "ticks": ""
             }
            },
            "type": "scatterternary"
           }
          ],
          "surface": [
           {
            "colorbar": {
             "outlinewidth": 0,
             "ticks": ""
            },
            "colorscale": [
             [
              0,
              "#0d0887"
             ],
             [
              0.1111111111111111,
              "#46039f"
             ],
             [
              0.2222222222222222,
              "#7201a8"
             ],
             [
              0.3333333333333333,
              "#9c179e"
             ],
             [
              0.4444444444444444,
              "#bd3786"
             ],
             [
              0.5555555555555556,
              "#d8576b"
             ],
             [
              0.6666666666666666,
              "#ed7953"
             ],
             [
              0.7777777777777778,
              "#fb9f3a"
             ],
             [
              0.8888888888888888,
              "#fdca26"
             ],
             [
              1,
              "#f0f921"
             ]
            ],
            "type": "surface"
           }
          ],
          "table": [
           {
            "cells": {
             "fill": {
              "color": "#EBF0F8"
             },
             "line": {
              "color": "white"
             }
            },
            "header": {
             "fill": {
              "color": "#C8D4E3"
             },
             "line": {
              "color": "white"
             }
            },
            "type": "table"
           }
          ]
         },
         "layout": {
          "annotationdefaults": {
           "arrowcolor": "#2a3f5f",
           "arrowhead": 0,
           "arrowwidth": 1
          },
          "autotypenumbers": "strict",
          "coloraxis": {
           "colorbar": {
            "outlinewidth": 0,
            "ticks": ""
           }
          },
          "colorscale": {
           "diverging": [
            [
             0,
             "#8e0152"
            ],
            [
             0.1,
             "#c51b7d"
            ],
            [
             0.2,
             "#de77ae"
            ],
            [
             0.3,
             "#f1b6da"
            ],
            [
             0.4,
             "#fde0ef"
            ],
            [
             0.5,
             "#f7f7f7"
            ],
            [
             0.6,
             "#e6f5d0"
            ],
            [
             0.7,
             "#b8e186"
            ],
            [
             0.8,
             "#7fbc41"
            ],
            [
             0.9,
             "#4d9221"
            ],
            [
             1,
             "#276419"
            ]
           ],
           "sequential": [
            [
             0,
             "#0d0887"
            ],
            [
             0.1111111111111111,
             "#46039f"
            ],
            [
             0.2222222222222222,
             "#7201a8"
            ],
            [
             0.3333333333333333,
             "#9c179e"
            ],
            [
             0.4444444444444444,
             "#bd3786"
            ],
            [
             0.5555555555555556,
             "#d8576b"
            ],
            [
             0.6666666666666666,
             "#ed7953"
            ],
            [
             0.7777777777777778,
             "#fb9f3a"
            ],
            [
             0.8888888888888888,
             "#fdca26"
            ],
            [
             1,
             "#f0f921"
            ]
           ],
           "sequentialminus": [
            [
             0,
             "#0d0887"
            ],
            [
             0.1111111111111111,
             "#46039f"
            ],
            [
             0.2222222222222222,
             "#7201a8"
            ],
            [
             0.3333333333333333,
             "#9c179e"
            ],
            [
             0.4444444444444444,
             "#bd3786"
            ],
            [
             0.5555555555555556,
             "#d8576b"
            ],
            [
             0.6666666666666666,
             "#ed7953"
            ],
            [
             0.7777777777777778,
             "#fb9f3a"
            ],
            [
             0.8888888888888888,
             "#fdca26"
            ],
            [
             1,
             "#f0f921"
            ]
           ]
          },
          "colorway": [
           "#636efa",
           "#EF553B",
           "#00cc96",
           "#ab63fa",
           "#FFA15A",
           "#19d3f3",
           "#FF6692",
           "#B6E880",
           "#FF97FF",
           "#FECB52"
          ],
          "font": {
           "color": "#2a3f5f"
          },
          "geo": {
           "bgcolor": "white",
           "lakecolor": "white",
           "landcolor": "#E5ECF6",
           "showlakes": true,
           "showland": true,
           "subunitcolor": "white"
          },
          "hoverlabel": {
           "align": "left"
          },
          "hovermode": "closest",
          "mapbox": {
           "style": "light"
          },
          "paper_bgcolor": "white",
          "plot_bgcolor": "#E5ECF6",
          "polar": {
           "angularaxis": {
            "gridcolor": "white",
            "linecolor": "white",
            "ticks": ""
           },
           "bgcolor": "#E5ECF6",
           "radialaxis": {
            "gridcolor": "white",
            "linecolor": "white",
            "ticks": ""
           }
          },
          "scene": {
           "xaxis": {
            "backgroundcolor": "#E5ECF6",
            "gridcolor": "white",
            "gridwidth": 2,
            "linecolor": "white",
            "showbackground": true,
            "ticks": "",
            "zerolinecolor": "white"
           },
           "yaxis": {
            "backgroundcolor": "#E5ECF6",
            "gridcolor": "white",
            "gridwidth": 2,
            "linecolor": "white",
            "showbackground": true,
            "ticks": "",
            "zerolinecolor": "white"
           },
           "zaxis": {
            "backgroundcolor": "#E5ECF6",
            "gridcolor": "white",
            "gridwidth": 2,
            "linecolor": "white",
            "showbackground": true,
            "ticks": "",
            "zerolinecolor": "white"
           }
          },
          "shapedefaults": {
           "line": {
            "color": "#2a3f5f"
           }
          },
          "ternary": {
           "aaxis": {
            "gridcolor": "white",
            "linecolor": "white",
            "ticks": ""
           },
           "baxis": {
            "gridcolor": "white",
            "linecolor": "white",
            "ticks": ""
           },
           "bgcolor": "#E5ECF6",
           "caxis": {
            "gridcolor": "white",
            "linecolor": "white",
            "ticks": ""
           }
          },
          "title": {
           "x": 0.05
          },
          "xaxis": {
           "automargin": true,
           "gridcolor": "white",
           "linecolor": "white",
           "ticks": "",
           "title": {
            "standoff": 15
           },
           "zerolinecolor": "white",
           "zerolinewidth": 2
          },
          "yaxis": {
           "automargin": true,
           "gridcolor": "white",
           "linecolor": "white",
           "ticks": "",
           "title": {
            "standoff": 15
           },
           "zerolinecolor": "white",
           "zerolinewidth": 2
          }
         }
        },
        "title": {
         "font": {
          "color": "white"
         },
         "text": "Top 10 Technologies used by Data Professionals",
         "x": 0.5
        },
        "width": 800,
        "xaxis": {
         "anchor": "y",
         "domain": [
          0,
          1
         ],
         "title": {
          "text": "The Technology"
         }
        },
        "yaxis": {
         "anchor": "x",
         "domain": [
          0,
          1
         ],
         "title": {
          "text": "Count"
         }
        }
       }
      }
     },
     "metadata": {},
     "output_type": "display_data"
    }
   ],
   "source": [
    "tempdata=count_column_content(data_df,'MiscTechHaveWorkedWith')\n",
    "tempdata=tempdata.head(10)\n",
    "paint_bar(df=tempdata,title=\"Top 10 Technologies used by Data Professionals\",x=\"MiscTechHaveWorkedWith\",y=\"Count\",x_name=\"The Technology\",y_name=\"Count\")"
   ]
  },
  {
   "cell_type": "code",
   "execution_count": 24,
   "metadata": {},
   "outputs": [
    {
     "data": {
      "text/html": [
       "<div>\n",
       "<style scoped>\n",
       "    .dataframe tbody tr th:only-of-type {\n",
       "        vertical-align: middle;\n",
       "    }\n",
       "\n",
       "    .dataframe tbody tr th {\n",
       "        vertical-align: top;\n",
       "    }\n",
       "\n",
       "    .dataframe thead th {\n",
       "        text-align: right;\n",
       "    }\n",
       "</style>\n",
       "<table border=\"1\" class=\"dataframe\">\n",
       "  <thead>\n",
       "    <tr style=\"text-align: right;\">\n",
       "      <th></th>\n",
       "      <th>MiscTechWantToWorkWith</th>\n",
       "      <th>Count</th>\n",
       "    </tr>\n",
       "  </thead>\n",
       "  <tbody>\n",
       "    <tr>\n",
       "      <th>0</th>\n",
       "      <td>Pandas</td>\n",
       "      <td>1721</td>\n",
       "    </tr>\n",
       "    <tr>\n",
       "      <th>1</th>\n",
       "      <td>NumPy</td>\n",
       "      <td>1597</td>\n",
       "    </tr>\n",
       "    <tr>\n",
       "      <th>2</th>\n",
       "      <td>Torch/PyTorch</td>\n",
       "      <td>1299</td>\n",
       "    </tr>\n",
       "    <tr>\n",
       "      <th>3</th>\n",
       "      <td>Scikit-Learn</td>\n",
       "      <td>1297</td>\n",
       "    </tr>\n",
       "    <tr>\n",
       "      <th>4</th>\n",
       "      <td>TensorFlow</td>\n",
       "      <td>1004</td>\n",
       "    </tr>\n",
       "    <tr>\n",
       "      <th>5</th>\n",
       "      <td>Apache Spark</td>\n",
       "      <td>918</td>\n",
       "    </tr>\n",
       "    <tr>\n",
       "      <th>6</th>\n",
       "      <td>Apache Kafka</td>\n",
       "      <td>674</td>\n",
       "    </tr>\n",
       "    <tr>\n",
       "      <th>7</th>\n",
       "      <td>Hugging Face Transformers</td>\n",
       "      <td>667</td>\n",
       "    </tr>\n",
       "    <tr>\n",
       "      <th>8</th>\n",
       "      <td>Keras</td>\n",
       "      <td>599</td>\n",
       "    </tr>\n",
       "    <tr>\n",
       "      <th>9</th>\n",
       "      <td>Opencv</td>\n",
       "      <td>543</td>\n",
       "    </tr>\n",
       "  </tbody>\n",
       "</table>\n",
       "</div>"
      ],
      "text/plain": [
       "      MiscTechWantToWorkWith  Count\n",
       "0                     Pandas   1721\n",
       "1                      NumPy   1597\n",
       "2              Torch/PyTorch   1299\n",
       "3               Scikit-Learn   1297\n",
       "4                 TensorFlow   1004\n",
       "5               Apache Spark    918\n",
       "6               Apache Kafka    674\n",
       "7  Hugging Face Transformers    667\n",
       "8                      Keras    599\n",
       "9                     Opencv    543"
      ]
     },
     "execution_count": 24,
     "metadata": {},
     "output_type": "execute_result"
    }
   ],
   "source": [
    "tempdata=count_column_content(data_df,'MiscTechWantToWorkWith')\n",
    "tempdata=tempdata.head(10)\n",
    "paint_bar(df=tempdata,title=\"Top 10 Technologies desired by Data Professionals\",x=\"MiscTechWantToWorkWith\",y=\"Count\",x_name=\"The Technology\",y_name=\"Count\")\n",
    "tempdata"
   ]
  },
  {
   "cell_type": "markdown",
   "metadata": {},
   "source": [
    "### which data professial have highest income"
   ]
  },
  {
   "cell_type": "markdown",
   "metadata": {},
   "source": [
    "Exploring the outliers in \"CompTotal\" column"
   ]
  },
  {
   "cell_type": "code",
   "execution_count": 25,
   "metadata": {},
   "outputs": [
    {
     "data": {
      "application/vnd.plotly.v1+json": {
       "config": {
        "plotlyServerURL": "https://plot.ly"
       },
       "data": [
        {
         "alignmentgroup": "True",
         "hovertemplate": "variable=%{x}<br>value=%{y}<extra></extra>",
         "legendgroup": "",
         "marker": {
          "color": "gold"
         },
         "name": "",
         "notched": false,
         "offsetgroup": "",
         "orientation": "v",
         "showlegend": false,
         "type": "box",
         "x": [
          "CompTotal",
          "CompTotal",
          "CompTotal",
          "CompTotal",
          "CompTotal",
          "CompTotal",
          "CompTotal",
          "CompTotal",
          "CompTotal",
          "CompTotal",
          "CompTotal",
          "CompTotal",
          "CompTotal",
          "CompTotal",
          "CompTotal",
          "CompTotal",
          "CompTotal",
          "CompTotal",
          "CompTotal",
          "CompTotal",
          "CompTotal",
          "CompTotal",
          "CompTotal",
          "CompTotal",
          "CompTotal",
          "CompTotal",
          "CompTotal",
          "CompTotal",
          "CompTotal",
          "CompTotal",
          "CompTotal",
          "CompTotal",
          "CompTotal",
          "CompTotal",
          "CompTotal",
          "CompTotal",
          "CompTotal",
          "CompTotal",
          "CompTotal",
          "CompTotal",
          "CompTotal",
          "CompTotal",
          "CompTotal",
          "CompTotal",
          "CompTotal",
          "CompTotal",
          "CompTotal",
          "CompTotal",
          "CompTotal",
          "CompTotal",
          "CompTotal",
          "CompTotal",
          "CompTotal",
          "CompTotal",
          "CompTotal",
          "CompTotal",
          "CompTotal",
          "CompTotal",
          "CompTotal",
          "CompTotal",
          "CompTotal",
          "CompTotal",
          "CompTotal",
          "CompTotal",
          "CompTotal",
          "CompTotal",
          "CompTotal",
          "CompTotal",
          "CompTotal",
          "CompTotal",
          "CompTotal",
          "CompTotal",
          "CompTotal",
          "CompTotal",
          "CompTotal",
          "CompTotal",
          "CompTotal",
          "CompTotal",
          "CompTotal",
          "CompTotal",
          "CompTotal",
          "CompTotal",
          "CompTotal",
          "CompTotal",
          "CompTotal",
          "CompTotal",
          "CompTotal",
          "CompTotal",
          "CompTotal",
          "CompTotal",
          "CompTotal",
          "CompTotal",
          "CompTotal",
          "CompTotal",
          "CompTotal",
          "CompTotal",
          "CompTotal",
          "CompTotal",
          "CompTotal",
          "CompTotal",
          "CompTotal",
          "CompTotal",
          "CompTotal",
          "CompTotal",
          "CompTotal",
          "CompTotal",
          "CompTotal",
          "CompTotal",
          "CompTotal",
          "CompTotal",
          "CompTotal",
          "CompTotal",
          "CompTotal",
          "CompTotal",
          "CompTotal",
          "CompTotal",
          "CompTotal",
          "CompTotal",
          "CompTotal",
          "CompTotal",
          "CompTotal",
          "CompTotal",
          "CompTotal",
          "CompTotal",
          "CompTotal",
          "CompTotal",
          "CompTotal",
          "CompTotal",
          "CompTotal",
          "CompTotal",
          "CompTotal",
          "CompTotal",
          "CompTotal",
          "CompTotal",
          "CompTotal",
          "CompTotal",
          "CompTotal",
          "CompTotal",
          "CompTotal",
          "CompTotal",
          "CompTotal",
          "CompTotal",
          "CompTotal",
          "CompTotal",
          "CompTotal",
          "CompTotal",
          "CompTotal",
          "CompTotal",
          "CompTotal",
          "CompTotal",
          "CompTotal",
          "CompTotal",
          "CompTotal",
          "CompTotal",
          "CompTotal",
          "CompTotal",
          "CompTotal",
          "CompTotal",
          "CompTotal",
          "CompTotal",
          "CompTotal",
          "CompTotal",
          "CompTotal",
          "CompTotal",
          "CompTotal",
          "CompTotal",
          "CompTotal",
          "CompTotal",
          "CompTotal",
          "CompTotal",
          "CompTotal",
          "CompTotal",
          "CompTotal",
          "CompTotal",
          "CompTotal",
          "CompTotal",
          "CompTotal",
          "CompTotal",
          "CompTotal",
          "CompTotal",
          "CompTotal",
          "CompTotal",
          "CompTotal",
          "CompTotal",
          "CompTotal",
          "CompTotal",
          "CompTotal",
          "CompTotal",
          "CompTotal",
          "CompTotal",
          "CompTotal",
          "CompTotal",
          "CompTotal",
          "CompTotal",
          "CompTotal",
          "CompTotal",
          "CompTotal",
          "CompTotal",
          "CompTotal",
          "CompTotal",
          "CompTotal",
          "CompTotal",
          "CompTotal",
          "CompTotal",
          "CompTotal",
          "CompTotal",
          "CompTotal",
          "CompTotal",
          "CompTotal",
          "CompTotal",
          "CompTotal",
          "CompTotal",
          "CompTotal",
          "CompTotal",
          "CompTotal",
          "CompTotal",
          "CompTotal",
          "CompTotal",
          "CompTotal",
          "CompTotal",
          "CompTotal",
          "CompTotal",
          "CompTotal",
          "CompTotal",
          "CompTotal",
          "CompTotal",
          "CompTotal",
          "CompTotal",
          "CompTotal",
          "CompTotal",
          "CompTotal",
          "CompTotal",
          "CompTotal",
          "CompTotal",
          "CompTotal",
          "CompTotal",
          "CompTotal",
          "CompTotal",
          "CompTotal",
          "CompTotal",
          "CompTotal",
          "CompTotal",
          "CompTotal",
          "CompTotal",
          "CompTotal",
          "CompTotal",
          "CompTotal",
          "CompTotal",
          "CompTotal",
          "CompTotal",
          "CompTotal",
          "CompTotal",
          "CompTotal",
          "CompTotal",
          "CompTotal",
          "CompTotal",
          "CompTotal",
          "CompTotal",
          "CompTotal",
          "CompTotal",
          "CompTotal",
          "CompTotal",
          "CompTotal",
          "CompTotal",
          "CompTotal",
          "CompTotal",
          "CompTotal",
          "CompTotal",
          "CompTotal",
          "CompTotal",
          "CompTotal",
          "CompTotal",
          "CompTotal",
          "CompTotal",
          "CompTotal",
          "CompTotal",
          "CompTotal",
          "CompTotal",
          "CompTotal",
          "CompTotal",
          "CompTotal",
          "CompTotal",
          "CompTotal",
          "CompTotal",
          "CompTotal",
          "CompTotal",
          "CompTotal",
          "CompTotal",
          "CompTotal",
          "CompTotal",
          "CompTotal",
          "CompTotal",
          "CompTotal",
          "CompTotal",
          "CompTotal",
          "CompTotal",
          "CompTotal",
          "CompTotal",
          "CompTotal",
          "CompTotal",
          "CompTotal",
          "CompTotal",
          "CompTotal",
          "CompTotal",
          "CompTotal",
          "CompTotal",
          "CompTotal",
          "CompTotal",
          "CompTotal",
          "CompTotal",
          "CompTotal",
          "CompTotal",
          "CompTotal",
          "CompTotal",
          "CompTotal",
          "CompTotal",
          "CompTotal",
          "CompTotal",
          "CompTotal",
          "CompTotal",
          "CompTotal",
          "CompTotal",
          "CompTotal",
          "CompTotal",
          "CompTotal",
          "CompTotal",
          "CompTotal",
          "CompTotal",
          "CompTotal",
          "CompTotal",
          "CompTotal",
          "CompTotal",
          "CompTotal",
          "CompTotal",
          "CompTotal",
          "CompTotal",
          "CompTotal",
          "CompTotal",
          "CompTotal",
          "CompTotal",
          "CompTotal",
          "CompTotal",
          "CompTotal",
          "CompTotal",
          "CompTotal",
          "CompTotal",
          "CompTotal",
          "CompTotal",
          "CompTotal",
          "CompTotal",
          "CompTotal",
          "CompTotal",
          "CompTotal",
          "CompTotal",
          "CompTotal",
          "CompTotal",
          "CompTotal",
          "CompTotal",
          "CompTotal",
          "CompTotal",
          "CompTotal",
          "CompTotal",
          "CompTotal",
          "CompTotal",
          "CompTotal",
          "CompTotal",
          "CompTotal",
          "CompTotal",
          "CompTotal",
          "CompTotal",
          "CompTotal",
          "CompTotal",
          "CompTotal",
          "CompTotal",
          "CompTotal",
          "CompTotal",
          "CompTotal",
          "CompTotal",
          "CompTotal",
          "CompTotal",
          "CompTotal",
          "CompTotal",
          "CompTotal",
          "CompTotal",
          "CompTotal",
          "CompTotal",
          "CompTotal",
          "CompTotal",
          "CompTotal",
          "CompTotal",
          "CompTotal",
          "CompTotal",
          "CompTotal",
          "CompTotal",
          "CompTotal",
          "CompTotal",
          "CompTotal",
          "CompTotal",
          "CompTotal",
          "CompTotal",
          "CompTotal",
          "CompTotal",
          "CompTotal",
          "CompTotal",
          "CompTotal",
          "CompTotal",
          "CompTotal",
          "CompTotal",
          "CompTotal",
          "CompTotal",
          "CompTotal",
          "CompTotal",
          "CompTotal",
          "CompTotal",
          "CompTotal",
          "CompTotal",
          "CompTotal",
          "CompTotal",
          "CompTotal",
          "CompTotal",
          "CompTotal",
          "CompTotal",
          "CompTotal",
          "CompTotal",
          "CompTotal",
          "CompTotal",
          "CompTotal",
          "CompTotal",
          "CompTotal",
          "CompTotal",
          "CompTotal",
          "CompTotal",
          "CompTotal",
          "CompTotal",
          "CompTotal",
          "CompTotal",
          "CompTotal",
          "CompTotal",
          "CompTotal",
          "CompTotal",
          "CompTotal",
          "CompTotal",
          "CompTotal",
          "CompTotal",
          "CompTotal",
          "CompTotal",
          "CompTotal",
          "CompTotal",
          "CompTotal",
          "CompTotal",
          "CompTotal",
          "CompTotal",
          "CompTotal",
          "CompTotal",
          "CompTotal",
          "CompTotal",
          "CompTotal",
          "CompTotal",
          "CompTotal",
          "CompTotal",
          "CompTotal",
          "CompTotal",
          "CompTotal",
          "CompTotal",
          "CompTotal",
          "CompTotal",
          "CompTotal",
          "CompTotal",
          "CompTotal",
          "CompTotal",
          "CompTotal",
          "CompTotal",
          "CompTotal",
          "CompTotal",
          "CompTotal",
          "CompTotal",
          "CompTotal",
          "CompTotal",
          "CompTotal",
          "CompTotal",
          "CompTotal",
          "CompTotal",
          "CompTotal",
          "CompTotal",
          "CompTotal",
          "CompTotal",
          "CompTotal",
          "CompTotal",
          "CompTotal",
          "CompTotal",
          "CompTotal",
          "CompTotal",
          "CompTotal",
          "CompTotal",
          "CompTotal",
          "CompTotal",
          "CompTotal",
          "CompTotal",
          "CompTotal",
          "CompTotal",
          "CompTotal",
          "CompTotal",
          "CompTotal",
          "CompTotal",
          "CompTotal",
          "CompTotal",
          "CompTotal",
          "CompTotal",
          "CompTotal",
          "CompTotal",
          "CompTotal",
          "CompTotal",
          "CompTotal",
          "CompTotal",
          "CompTotal",
          "CompTotal",
          "CompTotal",
          "CompTotal",
          "CompTotal",
          "CompTotal",
          "CompTotal",
          "CompTotal",
          "CompTotal",
          "CompTotal",
          "CompTotal",
          "CompTotal",
          "CompTotal",
          "CompTotal",
          "CompTotal",
          "CompTotal",
          "CompTotal",
          "CompTotal",
          "CompTotal",
          "CompTotal",
          "CompTotal",
          "CompTotal",
          "CompTotal",
          "CompTotal",
          "CompTotal",
          "CompTotal",
          "CompTotal",
          "CompTotal",
          "CompTotal",
          "CompTotal",
          "CompTotal",
          "CompTotal",
          "CompTotal",
          "CompTotal",
          "CompTotal",
          "CompTotal",
          "CompTotal",
          "CompTotal",
          "CompTotal",
          "CompTotal",
          "CompTotal",
          "CompTotal",
          "CompTotal",
          "CompTotal",
          "CompTotal",
          "CompTotal",
          "CompTotal",
          "CompTotal",
          "CompTotal",
          "CompTotal",
          "CompTotal",
          "CompTotal",
          "CompTotal",
          "CompTotal",
          "CompTotal",
          "CompTotal",
          "CompTotal",
          "CompTotal",
          "CompTotal",
          "CompTotal",
          "CompTotal",
          "CompTotal",
          "CompTotal",
          "CompTotal",
          "CompTotal",
          "CompTotal",
          "CompTotal",
          "CompTotal",
          "CompTotal",
          "CompTotal",
          "CompTotal",
          "CompTotal",
          "CompTotal",
          "CompTotal",
          "CompTotal",
          "CompTotal",
          "CompTotal",
          "CompTotal",
          "CompTotal",
          "CompTotal",
          "CompTotal",
          "CompTotal",
          "CompTotal",
          "CompTotal",
          "CompTotal",
          "CompTotal",
          "CompTotal",
          "CompTotal",
          "CompTotal",
          "CompTotal",
          "CompTotal",
          "CompTotal",
          "CompTotal",
          "CompTotal",
          "CompTotal",
          "CompTotal",
          "CompTotal",
          "CompTotal",
          "CompTotal",
          "CompTotal",
          "CompTotal",
          "CompTotal",
          "CompTotal",
          "CompTotal",
          "CompTotal",
          "CompTotal",
          "CompTotal",
          "CompTotal",
          "CompTotal",
          "CompTotal",
          "CompTotal",
          "CompTotal",
          "CompTotal",
          "CompTotal",
          "CompTotal",
          "CompTotal",
          "CompTotal",
          "CompTotal",
          "CompTotal",
          "CompTotal",
          "CompTotal",
          "CompTotal",
          "CompTotal",
          "CompTotal",
          "CompTotal",
          "CompTotal",
          "CompTotal",
          "CompTotal",
          "CompTotal",
          "CompTotal",
          "CompTotal",
          "CompTotal",
          "CompTotal",
          "CompTotal",
          "CompTotal",
          "CompTotal",
          "CompTotal",
          "CompTotal",
          "CompTotal",
          "CompTotal",
          "CompTotal",
          "CompTotal",
          "CompTotal",
          "CompTotal",
          "CompTotal",
          "CompTotal",
          "CompTotal",
          "CompTotal",
          "CompTotal",
          "CompTotal",
          "CompTotal",
          "CompTotal",
          "CompTotal",
          "CompTotal",
          "CompTotal",
          "CompTotal",
          "CompTotal",
          "CompTotal",
          "CompTotal",
          "CompTotal",
          "CompTotal",
          "CompTotal",
          "CompTotal",
          "CompTotal",
          "CompTotal",
          "CompTotal",
          "CompTotal",
          "CompTotal",
          "CompTotal",
          "CompTotal",
          "CompTotal",
          "CompTotal",
          "CompTotal",
          "CompTotal",
          "CompTotal",
          "CompTotal",
          "CompTotal",
          "CompTotal",
          "CompTotal",
          "CompTotal",
          "CompTotal",
          "CompTotal",
          "CompTotal",
          "CompTotal",
          "CompTotal",
          "CompTotal",
          "CompTotal",
          "CompTotal",
          "CompTotal",
          "CompTotal",
          "CompTotal",
          "CompTotal",
          "CompTotal",
          "CompTotal",
          "CompTotal",
          "CompTotal",
          "CompTotal",
          "CompTotal",
          "CompTotal",
          "CompTotal",
          "CompTotal",
          "CompTotal",
          "CompTotal",
          "CompTotal",
          "CompTotal",
          "CompTotal",
          "CompTotal",
          "CompTotal",
          "CompTotal",
          "CompTotal",
          "CompTotal",
          "CompTotal",
          "CompTotal",
          "CompTotal",
          "CompTotal",
          "CompTotal",
          "CompTotal",
          "CompTotal",
          "CompTotal",
          "CompTotal",
          "CompTotal",
          "CompTotal",
          "CompTotal",
          "CompTotal",
          "CompTotal",
          "CompTotal",
          "CompTotal",
          "CompTotal",
          "CompTotal",
          "CompTotal",
          "CompTotal",
          "CompTotal",
          "CompTotal",
          "CompTotal",
          "CompTotal",
          "CompTotal",
          "CompTotal",
          "CompTotal",
          "CompTotal",
          "CompTotal",
          "CompTotal",
          "CompTotal",
          "CompTotal",
          "CompTotal",
          "CompTotal",
          "CompTotal",
          "CompTotal",
          "CompTotal",
          "CompTotal",
          "CompTotal",
          "CompTotal",
          "CompTotal",
          "CompTotal",
          "CompTotal",
          "CompTotal",
          "CompTotal",
          "CompTotal",
          "CompTotal",
          "CompTotal",
          "CompTotal",
          "CompTotal",
          "CompTotal",
          "CompTotal",
          "CompTotal",
          "CompTotal",
          "CompTotal",
          "CompTotal",
          "CompTotal",
          "CompTotal",
          "CompTotal",
          "CompTotal",
          "CompTotal",
          "CompTotal",
          "CompTotal",
          "CompTotal",
          "CompTotal",
          "CompTotal",
          "CompTotal",
          "CompTotal",
          "CompTotal",
          "CompTotal",
          "CompTotal",
          "CompTotal",
          "CompTotal",
          "CompTotal",
          "CompTotal",
          "CompTotal",
          "CompTotal",
          "CompTotal",
          "CompTotal",
          "CompTotal",
          "CompTotal",
          "CompTotal",
          "CompTotal",
          "CompTotal",
          "CompTotal",
          "CompTotal",
          "CompTotal",
          "CompTotal",
          "CompTotal",
          "CompTotal",
          "CompTotal",
          "CompTotal",
          "CompTotal",
          "CompTotal",
          "CompTotal",
          "CompTotal",
          "CompTotal",
          "CompTotal",
          "CompTotal",
          "CompTotal",
          "CompTotal",
          "CompTotal",
          "CompTotal",
          "CompTotal",
          "CompTotal",
          "CompTotal",
          "CompTotal",
          "CompTotal",
          "CompTotal",
          "CompTotal",
          "CompTotal",
          "CompTotal",
          "CompTotal",
          "CompTotal",
          "CompTotal",
          "CompTotal",
          "CompTotal",
          "CompTotal",
          "CompTotal",
          "CompTotal",
          "CompTotal",
          "CompTotal",
          "CompTotal",
          "CompTotal",
          "CompTotal",
          "CompTotal",
          "CompTotal",
          "CompTotal",
          "CompTotal",
          "CompTotal",
          "CompTotal",
          "CompTotal",
          "CompTotal",
          "CompTotal",
          "CompTotal",
          "CompTotal",
          "CompTotal",
          "CompTotal",
          "CompTotal",
          "CompTotal",
          "CompTotal",
          "CompTotal",
          "CompTotal",
          "CompTotal",
          "CompTotal",
          "CompTotal",
          "CompTotal",
          "CompTotal",
          "CompTotal",
          "CompTotal",
          "CompTotal",
          "CompTotal",
          "CompTotal",
          "CompTotal",
          "CompTotal",
          "CompTotal",
          "CompTotal",
          "CompTotal",
          "CompTotal",
          "CompTotal",
          "CompTotal",
          "CompTotal",
          "CompTotal",
          "CompTotal",
          "CompTotal",
          "CompTotal",
          "CompTotal",
          "CompTotal",
          "CompTotal",
          "CompTotal",
          "CompTotal",
          "CompTotal",
          "CompTotal",
          "CompTotal",
          "CompTotal",
          "CompTotal",
          "CompTotal",
          "CompTotal",
          "CompTotal",
          "CompTotal",
          "CompTotal",
          "CompTotal",
          "CompTotal",
          "CompTotal",
          "CompTotal",
          "CompTotal",
          "CompTotal",
          "CompTotal",
          "CompTotal",
          "CompTotal",
          "CompTotal",
          "CompTotal",
          "CompTotal",
          "CompTotal",
          "CompTotal",
          "CompTotal",
          "CompTotal",
          "CompTotal",
          "CompTotal",
          "CompTotal",
          "CompTotal",
          "CompTotal",
          "CompTotal",
          "CompTotal",
          "CompTotal",
          "CompTotal",
          "CompTotal",
          "CompTotal",
          "CompTotal",
          "CompTotal",
          "CompTotal",
          "CompTotal",
          "CompTotal",
          "CompTotal",
          "CompTotal",
          "CompTotal",
          "CompTotal",
          "CompTotal",
          "CompTotal",
          "CompTotal",
          "CompTotal",
          "CompTotal",
          "CompTotal",
          "CompTotal",
          "CompTotal",
          "CompTotal",
          "CompTotal",
          "CompTotal",
          "CompTotal",
          "CompTotal",
          "CompTotal",
          "CompTotal",
          "CompTotal",
          "CompTotal",
          "CompTotal",
          "CompTotal",
          "CompTotal",
          "CompTotal",
          "CompTotal",
          "CompTotal",
          "CompTotal",
          "CompTotal",
          "CompTotal",
          "CompTotal",
          "CompTotal",
          "CompTotal",
          "CompTotal",
          "CompTotal",
          "CompTotal",
          "CompTotal",
          "CompTotal",
          "CompTotal",
          "CompTotal",
          "CompTotal",
          "CompTotal",
          "CompTotal",
          "CompTotal",
          "CompTotal",
          "CompTotal",
          "CompTotal",
          "CompTotal",
          "CompTotal",
          "CompTotal",
          "CompTotal",
          "CompTotal",
          "CompTotal",
          "CompTotal",
          "CompTotal",
          "CompTotal",
          "CompTotal",
          "CompTotal",
          "CompTotal",
          "CompTotal",
          "CompTotal",
          "CompTotal",
          "CompTotal",
          "CompTotal",
          "CompTotal",
          "CompTotal",
          "CompTotal",
          "CompTotal",
          "CompTotal",
          "CompTotal",
          "CompTotal",
          "CompTotal",
          "CompTotal",
          "CompTotal",
          "CompTotal",
          "CompTotal",
          "CompTotal",
          "CompTotal",
          "CompTotal",
          "CompTotal",
          "CompTotal",
          "CompTotal",
          "CompTotal",
          "CompTotal",
          "CompTotal",
          "CompTotal",
          "CompTotal",
          "CompTotal",
          "CompTotal",
          "CompTotal",
          "CompTotal",
          "CompTotal",
          "CompTotal",
          "CompTotal",
          "CompTotal",
          "CompTotal",
          "CompTotal",
          "CompTotal",
          "CompTotal",
          "CompTotal",
          "CompTotal",
          "CompTotal",
          "CompTotal",
          "CompTotal",
          "CompTotal",
          "CompTotal",
          "CompTotal",
          "CompTotal",
          "CompTotal",
          "CompTotal",
          "CompTotal",
          "CompTotal",
          "CompTotal",
          "CompTotal",
          "CompTotal",
          "CompTotal",
          "CompTotal",
          "CompTotal",
          "CompTotal",
          "CompTotal",
          "CompTotal",
          "CompTotal",
          "CompTotal",
          "CompTotal",
          "CompTotal",
          "CompTotal",
          "CompTotal",
          "CompTotal",
          "CompTotal",
          "CompTotal",
          "CompTotal",
          "CompTotal",
          "CompTotal",
          "CompTotal",
          "CompTotal",
          "CompTotal",
          "CompTotal",
          "CompTotal",
          "CompTotal",
          "CompTotal",
          "CompTotal",
          "CompTotal",
          "CompTotal",
          "CompTotal",
          "CompTotal",
          "CompTotal",
          "CompTotal",
          "CompTotal",
          "CompTotal",
          "CompTotal",
          "CompTotal",
          "CompTotal",
          "CompTotal",
          "CompTotal",
          "CompTotal",
          "CompTotal",
          "CompTotal",
          "CompTotal",
          "CompTotal",
          "CompTotal",
          "CompTotal",
          "CompTotal",
          "CompTotal",
          "CompTotal",
          "CompTotal",
          "CompTotal",
          "CompTotal",
          "CompTotal",
          "CompTotal",
          "CompTotal",
          "CompTotal",
          "CompTotal",
          "CompTotal",
          "CompTotal",
          "CompTotal",
          "CompTotal",
          "CompTotal",
          "CompTotal",
          "CompTotal",
          "CompTotal",
          "CompTotal",
          "CompTotal",
          "CompTotal",
          "CompTotal",
          "CompTotal",
          "CompTotal",
          "CompTotal",
          "CompTotal",
          "CompTotal",
          "CompTotal",
          "CompTotal",
          "CompTotal",
          "CompTotal",
          "CompTotal",
          "CompTotal",
          "CompTotal",
          "CompTotal",
          "CompTotal",
          "CompTotal",
          "CompTotal",
          "CompTotal",
          "CompTotal",
          "CompTotal",
          "CompTotal",
          "CompTotal",
          "CompTotal",
          "CompTotal",
          "CompTotal",
          "CompTotal",
          "CompTotal",
          "CompTotal",
          "CompTotal",
          "CompTotal",
          "CompTotal",
          "CompTotal",
          "CompTotal",
          "CompTotal",
          "CompTotal",
          "CompTotal",
          "CompTotal",
          "CompTotal",
          "CompTotal",
          "CompTotal",
          "CompTotal",
          "CompTotal",
          "CompTotal",
          "CompTotal",
          "CompTotal",
          "CompTotal",
          "CompTotal",
          "CompTotal",
          "CompTotal",
          "CompTotal",
          "CompTotal",
          "CompTotal",
          "CompTotal",
          "CompTotal",
          "CompTotal",
          "CompTotal",
          "CompTotal",
          "CompTotal",
          "CompTotal",
          "CompTotal",
          "CompTotal",
          "CompTotal",
          "CompTotal",
          "CompTotal",
          "CompTotal",
          "CompTotal",
          "CompTotal",
          "CompTotal",
          "CompTotal",
          "CompTotal",
          "CompTotal",
          "CompTotal",
          "CompTotal",
          "CompTotal",
          "CompTotal",
          "CompTotal",
          "CompTotal",
          "CompTotal",
          "CompTotal",
          "CompTotal",
          "CompTotal",
          "CompTotal",
          "CompTotal",
          "CompTotal",
          "CompTotal",
          "CompTotal",
          "CompTotal",
          "CompTotal",
          "CompTotal",
          "CompTotal",
          "CompTotal",
          "CompTotal",
          "CompTotal",
          "CompTotal",
          "CompTotal",
          "CompTotal",
          "CompTotal",
          "CompTotal",
          "CompTotal",
          "CompTotal",
          "CompTotal",
          "CompTotal",
          "CompTotal",
          "CompTotal",
          "CompTotal",
          "CompTotal",
          "CompTotal",
          "CompTotal",
          "CompTotal",
          "CompTotal",
          "CompTotal",
          "CompTotal",
          "CompTotal",
          "CompTotal",
          "CompTotal",
          "CompTotal",
          "CompTotal",
          "CompTotal",
          "CompTotal",
          "CompTotal",
          "CompTotal",
          "CompTotal",
          "CompTotal",
          "CompTotal",
          "CompTotal",
          "CompTotal",
          "CompTotal",
          "CompTotal",
          "CompTotal",
          "CompTotal",
          "CompTotal",
          "CompTotal",
          "CompTotal",
          "CompTotal",
          "CompTotal",
          "CompTotal",
          "CompTotal",
          "CompTotal",
          "CompTotal",
          "CompTotal",
          "CompTotal",
          "CompTotal",
          "CompTotal",
          "CompTotal",
          "CompTotal",
          "CompTotal",
          "CompTotal",
          "CompTotal",
          "CompTotal",
          "CompTotal",
          "CompTotal",
          "CompTotal",
          "CompTotal",
          "CompTotal",
          "CompTotal",
          "CompTotal",
          "CompTotal",
          "CompTotal",
          "CompTotal",
          "CompTotal",
          "CompTotal",
          "CompTotal",
          "CompTotal",
          "CompTotal",
          "CompTotal",
          "CompTotal",
          "CompTotal",
          "CompTotal",
          "CompTotal",
          "CompTotal",
          "CompTotal",
          "CompTotal",
          "CompTotal",
          "CompTotal",
          "CompTotal",
          "CompTotal",
          "CompTotal",
          "CompTotal",
          "CompTotal",
          "CompTotal",
          "CompTotal",
          "CompTotal",
          "CompTotal",
          "CompTotal",
          "CompTotal",
          "CompTotal",
          "CompTotal",
          "CompTotal",
          "CompTotal",
          "CompTotal",
          "CompTotal",
          "CompTotal",
          "CompTotal",
          "CompTotal",
          "CompTotal",
          "CompTotal",
          "CompTotal",
          "CompTotal",
          "CompTotal",
          "CompTotal",
          "CompTotal",
          "CompTotal",
          "CompTotal",
          "CompTotal",
          "CompTotal",
          "CompTotal",
          "CompTotal",
          "CompTotal",
          "CompTotal",
          "CompTotal",
          "CompTotal",
          "CompTotal",
          "CompTotal",
          "CompTotal",
          "CompTotal",
          "CompTotal",
          "CompTotal",
          "CompTotal",
          "CompTotal",
          "CompTotal",
          "CompTotal",
          "CompTotal",
          "CompTotal",
          "CompTotal",
          "CompTotal",
          "CompTotal",
          "CompTotal",
          "CompTotal",
          "CompTotal",
          "CompTotal",
          "CompTotal",
          "CompTotal",
          "CompTotal",
          "CompTotal",
          "CompTotal",
          "CompTotal",
          "CompTotal",
          "CompTotal",
          "CompTotal",
          "CompTotal",
          "CompTotal",
          "CompTotal",
          "CompTotal",
          "CompTotal",
          "CompTotal",
          "CompTotal",
          "CompTotal",
          "CompTotal",
          "CompTotal",
          "CompTotal",
          "CompTotal",
          "CompTotal",
          "CompTotal",
          "CompTotal",
          "CompTotal",
          "CompTotal",
          "CompTotal",
          "CompTotal",
          "CompTotal",
          "CompTotal",
          "CompTotal",
          "CompTotal",
          "CompTotal",
          "CompTotal",
          "CompTotal",
          "CompTotal",
          "CompTotal",
          "CompTotal",
          "CompTotal",
          "CompTotal",
          "CompTotal",
          "CompTotal",
          "CompTotal",
          "CompTotal",
          "CompTotal",
          "CompTotal",
          "CompTotal",
          "CompTotal",
          "CompTotal",
          "CompTotal",
          "CompTotal",
          "CompTotal",
          "CompTotal",
          "CompTotal",
          "CompTotal",
          "CompTotal",
          "CompTotal",
          "CompTotal",
          "CompTotal",
          "CompTotal",
          "CompTotal",
          "CompTotal",
          "CompTotal",
          "CompTotal",
          "CompTotal",
          "CompTotal",
          "CompTotal",
          "CompTotal",
          "CompTotal",
          "CompTotal",
          "CompTotal",
          "CompTotal",
          "CompTotal",
          "CompTotal",
          "CompTotal",
          "CompTotal",
          "CompTotal",
          "CompTotal",
          "CompTotal",
          "CompTotal",
          "CompTotal",
          "CompTotal",
          "CompTotal",
          "CompTotal",
          "CompTotal",
          "CompTotal",
          "CompTotal",
          "CompTotal",
          "CompTotal",
          "CompTotal",
          "CompTotal",
          "CompTotal",
          "CompTotal",
          "CompTotal",
          "CompTotal",
          "CompTotal",
          "CompTotal",
          "CompTotal",
          "CompTotal",
          "CompTotal",
          "CompTotal",
          "CompTotal",
          "CompTotal",
          "CompTotal",
          "CompTotal",
          "CompTotal",
          "CompTotal",
          "CompTotal",
          "CompTotal",
          "CompTotal",
          "CompTotal",
          "CompTotal",
          "CompTotal",
          "CompTotal",
          "CompTotal",
          "CompTotal",
          "CompTotal",
          "CompTotal",
          "CompTotal",
          "CompTotal",
          "CompTotal",
          "CompTotal",
          "CompTotal",
          "CompTotal",
          "CompTotal",
          "CompTotal",
          "CompTotal",
          "CompTotal",
          "CompTotal",
          "CompTotal",
          "CompTotal",
          "CompTotal",
          "CompTotal",
          "CompTotal",
          "CompTotal",
          "CompTotal",
          "CompTotal",
          "CompTotal",
          "CompTotal",
          "CompTotal",
          "CompTotal",
          "CompTotal",
          "CompTotal",
          "CompTotal",
          "CompTotal",
          "CompTotal",
          "CompTotal",
          "CompTotal",
          "CompTotal",
          "CompTotal",
          "CompTotal",
          "CompTotal",
          "CompTotal",
          "CompTotal",
          "CompTotal",
          "CompTotal",
          "CompTotal",
          "CompTotal",
          "CompTotal",
          "CompTotal",
          "CompTotal",
          "CompTotal",
          "CompTotal",
          "CompTotal",
          "CompTotal",
          "CompTotal",
          "CompTotal",
          "CompTotal",
          "CompTotal",
          "CompTotal",
          "CompTotal",
          "CompTotal",
          "CompTotal",
          "CompTotal",
          "CompTotal",
          "CompTotal",
          "CompTotal",
          "CompTotal",
          "CompTotal",
          "CompTotal",
          "CompTotal",
          "CompTotal",
          "CompTotal",
          "CompTotal",
          "CompTotal",
          "CompTotal",
          "CompTotal",
          "CompTotal",
          "CompTotal",
          "CompTotal",
          "CompTotal",
          "CompTotal",
          "CompTotal",
          "CompTotal",
          "CompTotal",
          "CompTotal",
          "CompTotal",
          "CompTotal",
          "CompTotal",
          "CompTotal",
          "CompTotal",
          "CompTotal",
          "CompTotal",
          "CompTotal",
          "CompTotal",
          "CompTotal",
          "CompTotal",
          "CompTotal",
          "CompTotal",
          "CompTotal",
          "CompTotal",
          "CompTotal",
          "CompTotal",
          "CompTotal",
          "CompTotal",
          "CompTotal",
          "CompTotal",
          "CompTotal",
          "CompTotal",
          "CompTotal",
          "CompTotal",
          "CompTotal",
          "CompTotal",
          "CompTotal",
          "CompTotal",
          "CompTotal",
          "CompTotal",
          "CompTotal",
          "CompTotal",
          "CompTotal",
          "CompTotal",
          "CompTotal",
          "CompTotal",
          "CompTotal",
          "CompTotal",
          "CompTotal",
          "CompTotal",
          "CompTotal",
          "CompTotal",
          "CompTotal",
          "CompTotal",
          "CompTotal",
          "CompTotal",
          "CompTotal",
          "CompTotal",
          "CompTotal",
          "CompTotal",
          "CompTotal",
          "CompTotal",
          "CompTotal",
          "CompTotal",
          "CompTotal",
          "CompTotal",
          "CompTotal",
          "CompTotal",
          "CompTotal",
          "CompTotal",
          "CompTotal",
          "CompTotal",
          "CompTotal",
          "CompTotal",
          "CompTotal",
          "CompTotal",
          "CompTotal",
          "CompTotal",
          "CompTotal",
          "CompTotal",
          "CompTotal",
          "CompTotal",
          "CompTotal",
          "CompTotal",
          "CompTotal",
          "CompTotal",
          "CompTotal",
          "CompTotal",
          "CompTotal",
          "CompTotal",
          "CompTotal",
          "CompTotal",
          "CompTotal",
          "CompTotal",
          "CompTotal",
          "CompTotal",
          "CompTotal",
          "CompTotal",
          "CompTotal",
          "CompTotal",
          "CompTotal",
          "CompTotal",
          "CompTotal",
          "CompTotal",
          "CompTotal",
          "CompTotal",
          "CompTotal",
          "CompTotal",
          "CompTotal",
          "CompTotal",
          "CompTotal",
          "CompTotal",
          "CompTotal",
          "CompTotal",
          "CompTotal",
          "CompTotal",
          "CompTotal",
          "CompTotal",
          "CompTotal",
          "CompTotal",
          "CompTotal",
          "CompTotal",
          "CompTotal",
          "CompTotal",
          "CompTotal",
          "CompTotal",
          "CompTotal",
          "CompTotal",
          "CompTotal",
          "CompTotal",
          "CompTotal",
          "CompTotal",
          "CompTotal",
          "CompTotal",
          "CompTotal",
          "CompTotal",
          "CompTotal",
          "CompTotal",
          "CompTotal",
          "CompTotal",
          "CompTotal",
          "CompTotal",
          "CompTotal",
          "CompTotal",
          "CompTotal",
          "CompTotal",
          "CompTotal",
          "CompTotal",
          "CompTotal",
          "CompTotal",
          "CompTotal",
          "CompTotal",
          "CompTotal",
          "CompTotal",
          "CompTotal",
          "CompTotal",
          "CompTotal",
          "CompTotal",
          "CompTotal",
          "CompTotal",
          "CompTotal",
          "CompTotal",
          "CompTotal",
          "CompTotal",
          "CompTotal",
          "CompTotal",
          "CompTotal",
          "CompTotal",
          "CompTotal",
          "CompTotal",
          "CompTotal",
          "CompTotal",
          "CompTotal",
          "CompTotal",
          "CompTotal",
          "CompTotal",
          "CompTotal",
          "CompTotal",
          "CompTotal",
          "CompTotal",
          "CompTotal",
          "CompTotal",
          "CompTotal",
          "CompTotal",
          "CompTotal",
          "CompTotal",
          "CompTotal",
          "CompTotal",
          "CompTotal",
          "CompTotal",
          "CompTotal",
          "CompTotal",
          "CompTotal",
          "CompTotal",
          "CompTotal",
          "CompTotal",
          "CompTotal",
          "CompTotal",
          "CompTotal",
          "CompTotal",
          "CompTotal",
          "CompTotal",
          "CompTotal",
          "CompTotal",
          "CompTotal",
          "CompTotal",
          "CompTotal",
          "CompTotal",
          "CompTotal",
          "CompTotal",
          "CompTotal",
          "CompTotal",
          "CompTotal",
          "CompTotal",
          "CompTotal",
          "CompTotal",
          "CompTotal",
          "CompTotal",
          "CompTotal",
          "CompTotal",
          "CompTotal",
          "CompTotal",
          "CompTotal",
          "CompTotal",
          "CompTotal",
          "CompTotal",
          "CompTotal",
          "CompTotal",
          "CompTotal",
          "CompTotal",
          "CompTotal",
          "CompTotal",
          "CompTotal",
          "CompTotal",
          "CompTotal",
          "CompTotal",
          "CompTotal",
          "CompTotal",
          "CompTotal",
          "CompTotal",
          "CompTotal",
          "CompTotal",
          "CompTotal",
          "CompTotal",
          "CompTotal",
          "CompTotal",
          "CompTotal",
          "CompTotal",
          "CompTotal",
          "CompTotal",
          "CompTotal",
          "CompTotal",
          "CompTotal",
          "CompTotal",
          "CompTotal",
          "CompTotal",
          "CompTotal",
          "CompTotal",
          "CompTotal",
          "CompTotal",
          "CompTotal",
          "CompTotal",
          "CompTotal",
          "CompTotal",
          "CompTotal",
          "CompTotal",
          "CompTotal",
          "CompTotal",
          "CompTotal",
          "CompTotal",
          "CompTotal",
          "CompTotal",
          "CompTotal",
          "CompTotal",
          "CompTotal",
          "CompTotal",
          "CompTotal",
          "CompTotal",
          "CompTotal",
          "CompTotal",
          "CompTotal",
          "CompTotal",
          "CompTotal",
          "CompTotal",
          "CompTotal",
          "CompTotal",
          "CompTotal",
          "CompTotal",
          "CompTotal",
          "CompTotal",
          "CompTotal",
          "CompTotal",
          "CompTotal",
          "CompTotal",
          "CompTotal",
          "CompTotal",
          "CompTotal",
          "CompTotal",
          "CompTotal",
          "CompTotal",
          "CompTotal",
          "CompTotal",
          "CompTotal",
          "CompTotal",
          "CompTotal",
          "CompTotal",
          "CompTotal",
          "CompTotal",
          "CompTotal",
          "CompTotal",
          "CompTotal",
          "CompTotal",
          "CompTotal",
          "CompTotal",
          "CompTotal",
          "CompTotal",
          "CompTotal",
          "CompTotal",
          "CompTotal",
          "CompTotal",
          "CompTotal",
          "CompTotal",
          "CompTotal",
          "CompTotal",
          "CompTotal",
          "CompTotal",
          "CompTotal",
          "CompTotal",
          "CompTotal",
          "CompTotal",
          "CompTotal",
          "CompTotal",
          "CompTotal",
          "CompTotal",
          "CompTotal",
          "CompTotal",
          "CompTotal",
          "CompTotal",
          "CompTotal",
          "CompTotal",
          "CompTotal",
          "CompTotal",
          "CompTotal",
          "CompTotal",
          "CompTotal",
          "CompTotal",
          "CompTotal",
          "CompTotal",
          "CompTotal",
          "CompTotal",
          "CompTotal",
          "CompTotal",
          "CompTotal",
          "CompTotal",
          "CompTotal",
          "CompTotal",
          "CompTotal",
          "CompTotal",
          "CompTotal",
          "CompTotal",
          "CompTotal",
          "CompTotal",
          "CompTotal",
          "CompTotal",
          "CompTotal",
          "CompTotal",
          "CompTotal",
          "CompTotal",
          "CompTotal",
          "CompTotal",
          "CompTotal",
          "CompTotal",
          "CompTotal",
          "CompTotal",
          "CompTotal",
          "CompTotal",
          "CompTotal",
          "CompTotal",
          "CompTotal",
          "CompTotal",
          "CompTotal",
          "CompTotal",
          "CompTotal",
          "CompTotal",
          "CompTotal",
          "CompTotal",
          "CompTotal",
          "CompTotal",
          "CompTotal",
          "CompTotal",
          "CompTotal",
          "CompTotal",
          "CompTotal",
          "CompTotal",
          "CompTotal",
          "CompTotal",
          "CompTotal",
          "CompTotal",
          "CompTotal",
          "CompTotal",
          "CompTotal",
          "CompTotal",
          "CompTotal",
          "CompTotal",
          "CompTotal",
          "CompTotal",
          "CompTotal",
          "CompTotal",
          "CompTotal",
          "CompTotal",
          "CompTotal",
          "CompTotal",
          "CompTotal",
          "CompTotal",
          "CompTotal",
          "CompTotal",
          "CompTotal",
          "CompTotal",
          "CompTotal",
          "CompTotal",
          "CompTotal",
          "CompTotal",
          "CompTotal",
          "CompTotal",
          "CompTotal",
          "CompTotal",
          "CompTotal",
          "CompTotal",
          "CompTotal",
          "CompTotal",
          "CompTotal",
          "CompTotal",
          "CompTotal",
          "CompTotal",
          "CompTotal",
          "CompTotal",
          "CompTotal",
          "CompTotal",
          "CompTotal",
          "CompTotal",
          "CompTotal",
          "CompTotal",
          "CompTotal",
          "CompTotal",
          "CompTotal",
          "CompTotal",
          "CompTotal",
          "CompTotal",
          "CompTotal",
          "CompTotal",
          "CompTotal",
          "CompTotal",
          "CompTotal",
          "CompTotal",
          "CompTotal",
          "CompTotal",
          "CompTotal",
          "CompTotal",
          "CompTotal",
          "CompTotal",
          "CompTotal",
          "CompTotal",
          "CompTotal",
          "CompTotal",
          "CompTotal",
          "CompTotal",
          "CompTotal",
          "CompTotal",
          "CompTotal",
          "CompTotal",
          "CompTotal",
          "CompTotal",
          "CompTotal",
          "CompTotal",
          "CompTotal",
          "CompTotal",
          "CompTotal",
          "CompTotal",
          "CompTotal",
          "CompTotal",
          "CompTotal",
          "CompTotal",
          "CompTotal",
          "CompTotal",
          "CompTotal",
          "CompTotal",
          "CompTotal",
          "CompTotal",
          "CompTotal",
          "CompTotal",
          "CompTotal",
          "CompTotal",
          "CompTotal",
          "CompTotal",
          "CompTotal",
          "CompTotal",
          "CompTotal",
          "CompTotal",
          "CompTotal",
          "CompTotal",
          "CompTotal",
          "CompTotal",
          "CompTotal",
          "CompTotal",
          "CompTotal",
          "CompTotal",
          "CompTotal",
          "CompTotal",
          "CompTotal",
          "CompTotal",
          "CompTotal",
          "CompTotal",
          "CompTotal",
          "CompTotal",
          "CompTotal",
          "CompTotal",
          "CompTotal",
          "CompTotal",
          "CompTotal",
          "CompTotal",
          "CompTotal",
          "CompTotal",
          "CompTotal",
          "CompTotal",
          "CompTotal",
          "CompTotal",
          "CompTotal",
          "CompTotal",
          "CompTotal",
          "CompTotal",
          "CompTotal",
          "CompTotal",
          "CompTotal",
          "CompTotal",
          "CompTotal",
          "CompTotal",
          "CompTotal",
          "CompTotal",
          "CompTotal",
          "CompTotal",
          "CompTotal",
          "CompTotal",
          "CompTotal",
          "CompTotal",
          "CompTotal",
          "CompTotal",
          "CompTotal",
          "CompTotal",
          "CompTotal",
          "CompTotal",
          "CompTotal",
          "CompTotal",
          "CompTotal",
          "CompTotal",
          "CompTotal",
          "CompTotal",
          "CompTotal",
          "CompTotal",
          "CompTotal",
          "CompTotal",
          "CompTotal",
          "CompTotal",
          "CompTotal",
          "CompTotal",
          "CompTotal",
          "CompTotal",
          "CompTotal",
          "CompTotal",
          "CompTotal",
          "CompTotal",
          "CompTotal",
          "CompTotal",
          "CompTotal",
          "CompTotal",
          "CompTotal",
          "CompTotal",
          "CompTotal",
          "CompTotal",
          "CompTotal",
          "CompTotal",
          "CompTotal",
          "CompTotal",
          "CompTotal",
          "CompTotal",
          "CompTotal",
          "CompTotal",
          "CompTotal",
          "CompTotal",
          "CompTotal",
          "CompTotal",
          "CompTotal",
          "CompTotal",
          "CompTotal",
          "CompTotal",
          "CompTotal",
          "CompTotal",
          "CompTotal",
          "CompTotal",
          "CompTotal",
          "CompTotal",
          "CompTotal",
          "CompTotal",
          "CompTotal",
          "CompTotal",
          "CompTotal",
          "CompTotal",
          "CompTotal",
          "CompTotal",
          "CompTotal",
          "CompTotal",
          "CompTotal",
          "CompTotal",
          "CompTotal",
          "CompTotal",
          "CompTotal",
          "CompTotal",
          "CompTotal",
          "CompTotal",
          "CompTotal",
          "CompTotal",
          "CompTotal",
          "CompTotal",
          "CompTotal",
          "CompTotal",
          "CompTotal",
          "CompTotal",
          "CompTotal",
          "CompTotal",
          "CompTotal",
          "CompTotal",
          "CompTotal",
          "CompTotal",
          "CompTotal",
          "CompTotal",
          "CompTotal",
          "CompTotal",
          "CompTotal",
          "CompTotal",
          "CompTotal",
          "CompTotal",
          "CompTotal",
          "CompTotal",
          "CompTotal",
          "CompTotal",
          "CompTotal",
          "CompTotal",
          "CompTotal",
          "CompTotal",
          "CompTotal",
          "CompTotal",
          "CompTotal",
          "CompTotal",
          "CompTotal",
          "CompTotal",
          "CompTotal",
          "CompTotal",
          "CompTotal",
          "CompTotal",
          "CompTotal",
          "CompTotal",
          "CompTotal",
          "CompTotal",
          "CompTotal",
          "CompTotal",
          "CompTotal",
          "CompTotal",
          "CompTotal",
          "CompTotal",
          "CompTotal",
          "CompTotal",
          "CompTotal",
          "CompTotal",
          "CompTotal",
          "CompTotal",
          "CompTotal",
          "CompTotal",
          "CompTotal",
          "CompTotal",
          "CompTotal",
          "CompTotal",
          "CompTotal",
          "CompTotal",
          "CompTotal",
          "CompTotal",
          "CompTotal",
          "CompTotal",
          "CompTotal",
          "CompTotal",
          "CompTotal",
          "CompTotal",
          "CompTotal",
          "CompTotal",
          "CompTotal",
          "CompTotal",
          "CompTotal",
          "CompTotal",
          "CompTotal",
          "CompTotal",
          "CompTotal",
          "CompTotal",
          "CompTotal",
          "CompTotal",
          "CompTotal",
          "CompTotal",
          "CompTotal",
          "CompTotal",
          "CompTotal",
          "CompTotal",
          "CompTotal",
          "CompTotal",
          "CompTotal",
          "CompTotal",
          "CompTotal",
          "CompTotal",
          "CompTotal",
          "CompTotal",
          "CompTotal",
          "CompTotal",
          "CompTotal",
          "CompTotal",
          "CompTotal",
          "CompTotal",
          "CompTotal",
          "CompTotal",
          "CompTotal",
          "CompTotal",
          "CompTotal",
          "CompTotal",
          "CompTotal",
          "CompTotal",
          "CompTotal",
          "CompTotal",
          "CompTotal",
          "CompTotal",
          "CompTotal",
          "CompTotal",
          "CompTotal",
          "CompTotal",
          "CompTotal",
          "CompTotal",
          "CompTotal",
          "CompTotal",
          "CompTotal",
          "CompTotal",
          "CompTotal",
          "CompTotal",
          "CompTotal",
          "CompTotal",
          "CompTotal",
          "CompTotal",
          "CompTotal",
          "CompTotal",
          "CompTotal",
          "CompTotal",
          "CompTotal",
          "CompTotal",
          "CompTotal",
          "CompTotal",
          "CompTotal",
          "CompTotal",
          "CompTotal",
          "CompTotal",
          "CompTotal",
          "CompTotal",
          "CompTotal",
          "CompTotal",
          "CompTotal",
          "CompTotal",
          "CompTotal",
          "CompTotal",
          "CompTotal",
          "CompTotal",
          "CompTotal",
          "CompTotal",
          "CompTotal",
          "CompTotal",
          "CompTotal",
          "CompTotal",
          "CompTotal",
          "CompTotal",
          "CompTotal",
          "CompTotal",
          "CompTotal",
          "CompTotal",
          "CompTotal",
          "CompTotal",
          "CompTotal",
          "CompTotal",
          "CompTotal",
          "CompTotal",
          "CompTotal",
          "CompTotal",
          "CompTotal",
          "CompTotal",
          "CompTotal",
          "CompTotal",
          "CompTotal",
          "CompTotal",
          "CompTotal",
          "CompTotal",
          "CompTotal",
          "CompTotal",
          "CompTotal",
          "CompTotal",
          "CompTotal",
          "CompTotal",
          "CompTotal",
          "CompTotal",
          "CompTotal",
          "CompTotal",
          "CompTotal",
          "CompTotal",
          "CompTotal",
          "CompTotal",
          "CompTotal",
          "CompTotal",
          "CompTotal",
          "CompTotal",
          "CompTotal",
          "CompTotal",
          "CompTotal",
          "CompTotal",
          "CompTotal",
          "CompTotal",
          "CompTotal",
          "CompTotal",
          "CompTotal",
          "CompTotal",
          "CompTotal",
          "CompTotal",
          "CompTotal",
          "CompTotal",
          "CompTotal",
          "CompTotal",
          "CompTotal",
          "CompTotal",
          "CompTotal",
          "CompTotal",
          "CompTotal",
          "CompTotal",
          "CompTotal",
          "CompTotal",
          "CompTotal",
          "CompTotal",
          "CompTotal",
          "CompTotal",
          "CompTotal",
          "CompTotal",
          "CompTotal",
          "CompTotal",
          "CompTotal",
          "CompTotal",
          "CompTotal",
          "CompTotal",
          "CompTotal",
          "CompTotal",
          "CompTotal",
          "CompTotal",
          "CompTotal",
          "CompTotal",
          "CompTotal",
          "CompTotal",
          "CompTotal",
          "CompTotal",
          "CompTotal",
          "CompTotal",
          "CompTotal",
          "CompTotal",
          "CompTotal",
          "CompTotal",
          "CompTotal",
          "CompTotal",
          "CompTotal",
          "CompTotal",
          "CompTotal",
          "CompTotal",
          "CompTotal",
          "CompTotal",
          "CompTotal",
          "CompTotal",
          "CompTotal",
          "CompTotal",
          "CompTotal",
          "CompTotal",
          "CompTotal",
          "CompTotal",
          "CompTotal",
          "CompTotal",
          "CompTotal",
          "CompTotal",
          "CompTotal",
          "CompTotal",
          "CompTotal",
          "CompTotal",
          "CompTotal",
          "CompTotal",
          "CompTotal",
          "CompTotal",
          "CompTotal",
          "CompTotal",
          "CompTotal",
          "CompTotal",
          "CompTotal",
          "CompTotal",
          "CompTotal",
          "CompTotal",
          "CompTotal",
          "CompTotal",
          "CompTotal",
          "CompTotal",
          "CompTotal",
          "CompTotal",
          "CompTotal",
          "CompTotal",
          "CompTotal",
          "CompTotal",
          "CompTotal",
          "CompTotal",
          "CompTotal",
          "CompTotal",
          "CompTotal",
          "CompTotal",
          "CompTotal",
          "CompTotal",
          "CompTotal",
          "CompTotal",
          "CompTotal",
          "CompTotal",
          "CompTotal",
          "CompTotal",
          "CompTotal",
          "CompTotal",
          "CompTotal",
          "CompTotal",
          "CompTotal",
          "CompTotal",
          "CompTotal",
          "CompTotal",
          "CompTotal",
          "CompTotal",
          "CompTotal",
          "CompTotal",
          "CompTotal",
          "CompTotal",
          "CompTotal",
          "CompTotal",
          "CompTotal",
          "CompTotal",
          "CompTotal",
          "CompTotal",
          "CompTotal",
          "CompTotal",
          "CompTotal",
          "CompTotal",
          "CompTotal",
          "CompTotal",
          "CompTotal",
          "CompTotal",
          "CompTotal",
          "CompTotal",
          "CompTotal",
          "CompTotal",
          "CompTotal",
          "CompTotal",
          "CompTotal",
          "CompTotal",
          "CompTotal",
          "CompTotal",
          "CompTotal",
          "CompTotal",
          "CompTotal",
          "CompTotal",
          "CompTotal",
          "CompTotal",
          "CompTotal",
          "CompTotal",
          "CompTotal",
          "CompTotal",
          "CompTotal",
          "CompTotal",
          "CompTotal",
          "CompTotal",
          "CompTotal",
          "CompTotal",
          "CompTotal",
          "CompTotal",
          "CompTotal",
          "CompTotal",
          "CompTotal",
          "CompTotal",
          "CompTotal",
          "CompTotal",
          "CompTotal",
          "CompTotal",
          "CompTotal",
          "CompTotal",
          "CompTotal",
          "CompTotal",
          "CompTotal",
          "CompTotal",
          "CompTotal",
          "CompTotal",
          "CompTotal",
          "CompTotal",
          "CompTotal",
          "CompTotal",
          "CompTotal",
          "CompTotal",
          "CompTotal",
          "CompTotal",
          "CompTotal",
          "CompTotal",
          "CompTotal",
          "CompTotal",
          "CompTotal",
          "CompTotal",
          "CompTotal",
          "CompTotal",
          "CompTotal",
          "CompTotal",
          "CompTotal",
          "CompTotal",
          "CompTotal",
          "CompTotal",
          "CompTotal",
          "CompTotal",
          "CompTotal",
          "CompTotal",
          "CompTotal",
          "CompTotal",
          "CompTotal",
          "CompTotal",
          "CompTotal",
          "CompTotal",
          "CompTotal",
          "CompTotal",
          "CompTotal",
          "CompTotal",
          "CompTotal",
          "CompTotal",
          "CompTotal",
          "CompTotal",
          "CompTotal",
          "CompTotal",
          "CompTotal",
          "CompTotal",
          "CompTotal",
          "CompTotal",
          "CompTotal",
          "CompTotal",
          "CompTotal",
          "CompTotal",
          "CompTotal",
          "CompTotal",
          "CompTotal",
          "CompTotal",
          "CompTotal",
          "CompTotal",
          "CompTotal",
          "CompTotal",
          "CompTotal",
          "CompTotal",
          "CompTotal",
          "CompTotal",
          "CompTotal",
          "CompTotal",
          "CompTotal",
          "CompTotal",
          "CompTotal",
          "CompTotal",
          "CompTotal",
          "CompTotal",
          "CompTotal",
          "CompTotal",
          "CompTotal",
          "CompTotal",
          "CompTotal",
          "CompTotal",
          "CompTotal",
          "CompTotal",
          "CompTotal",
          "CompTotal",
          "CompTotal",
          "CompTotal",
          "CompTotal",
          "CompTotal",
          "CompTotal",
          "CompTotal",
          "CompTotal",
          "CompTotal",
          "CompTotal",
          "CompTotal",
          "CompTotal",
          "CompTotal",
          "CompTotal",
          "CompTotal",
          "CompTotal",
          "CompTotal",
          "CompTotal",
          "CompTotal",
          "CompTotal",
          "CompTotal",
          "CompTotal",
          "CompTotal",
          "CompTotal",
          "CompTotal",
          "CompTotal",
          "CompTotal",
          "CompTotal",
          "CompTotal",
          "CompTotal",
          "CompTotal",
          "CompTotal",
          "CompTotal",
          "CompTotal",
          "CompTotal",
          "CompTotal",
          "CompTotal",
          "CompTotal",
          "CompTotal",
          "CompTotal",
          "CompTotal",
          "CompTotal",
          "CompTotal",
          "CompTotal",
          "CompTotal",
          "CompTotal",
          "CompTotal",
          "CompTotal",
          "CompTotal",
          "CompTotal",
          "CompTotal",
          "CompTotal",
          "CompTotal",
          "CompTotal",
          "CompTotal",
          "CompTotal",
          "CompTotal",
          "CompTotal",
          "CompTotal",
          "CompTotal",
          "CompTotal",
          "CompTotal",
          "CompTotal",
          "CompTotal",
          "CompTotal",
          "CompTotal",
          "CompTotal",
          "CompTotal",
          "CompTotal",
          "CompTotal",
          "CompTotal",
          "CompTotal",
          "CompTotal",
          "CompTotal",
          "CompTotal",
          "CompTotal",
          "CompTotal",
          "CompTotal",
          "CompTotal",
          "CompTotal",
          "CompTotal",
          "CompTotal",
          "CompTotal",
          "CompTotal",
          "CompTotal",
          "CompTotal",
          "CompTotal",
          "CompTotal",
          "CompTotal",
          "CompTotal",
          "CompTotal",
          "CompTotal",
          "CompTotal",
          "CompTotal",
          "CompTotal",
          "CompTotal",
          "CompTotal",
          "CompTotal",
          "CompTotal",
          "CompTotal",
          "CompTotal",
          "CompTotal",
          "CompTotal",
          "CompTotal",
          "CompTotal",
          "CompTotal",
          "CompTotal",
          "CompTotal",
          "CompTotal",
          "CompTotal",
          "CompTotal",
          "CompTotal",
          "CompTotal",
          "CompTotal",
          "CompTotal",
          "CompTotal",
          "CompTotal",
          "CompTotal",
          "CompTotal",
          "CompTotal",
          "CompTotal",
          "CompTotal",
          "CompTotal",
          "CompTotal",
          "CompTotal",
          "CompTotal",
          "CompTotal",
          "CompTotal",
          "CompTotal",
          "CompTotal",
          "CompTotal",
          "CompTotal",
          "CompTotal",
          "CompTotal",
          "CompTotal",
          "CompTotal",
          "CompTotal",
          "CompTotal",
          "CompTotal",
          "CompTotal",
          "CompTotal",
          "CompTotal",
          "CompTotal",
          "CompTotal",
          "CompTotal",
          "CompTotal",
          "CompTotal",
          "CompTotal",
          "CompTotal",
          "CompTotal",
          "CompTotal",
          "CompTotal",
          "CompTotal",
          "CompTotal",
          "CompTotal",
          "CompTotal",
          "CompTotal",
          "CompTotal",
          "CompTotal",
          "CompTotal",
          "CompTotal",
          "CompTotal",
          "CompTotal",
          "CompTotal",
          "CompTotal",
          "CompTotal",
          "CompTotal",
          "CompTotal",
          "CompTotal",
          "CompTotal",
          "CompTotal",
          "CompTotal",
          "CompTotal",
          "CompTotal",
          "CompTotal",
          "CompTotal",
          "CompTotal",
          "CompTotal",
          "CompTotal",
          "CompTotal",
          "CompTotal",
          "CompTotal",
          "CompTotal",
          "CompTotal",
          "CompTotal",
          "CompTotal",
          "CompTotal",
          "CompTotal",
          "CompTotal",
          "CompTotal",
          "CompTotal",
          "CompTotal",
          "CompTotal",
          "CompTotal",
          "CompTotal",
          "CompTotal",
          "CompTotal",
          "CompTotal",
          "CompTotal",
          "CompTotal",
          "CompTotal",
          "CompTotal",
          "CompTotal",
          "CompTotal",
          "CompTotal",
          "CompTotal",
          "CompTotal",
          "CompTotal",
          "CompTotal",
          "CompTotal",
          "CompTotal",
          "CompTotal",
          "CompTotal",
          "CompTotal",
          "CompTotal",
          "CompTotal",
          "CompTotal",
          "CompTotal",
          "CompTotal",
          "CompTotal",
          "CompTotal",
          "CompTotal",
          "CompTotal",
          "CompTotal",
          "CompTotal",
          "CompTotal",
          "CompTotal",
          "CompTotal",
          "CompTotal",
          "CompTotal",
          "CompTotal",
          "CompTotal",
          "CompTotal",
          "CompTotal",
          "CompTotal",
          "CompTotal",
          "CompTotal",
          "CompTotal",
          "CompTotal",
          "CompTotal",
          "CompTotal",
          "CompTotal",
          "CompTotal",
          "CompTotal",
          "CompTotal",
          "CompTotal",
          "CompTotal",
          "CompTotal",
          "CompTotal",
          "CompTotal",
          "CompTotal",
          "CompTotal",
          "CompTotal",
          "CompTotal",
          "CompTotal",
          "CompTotal",
          "CompTotal",
          "CompTotal",
          "CompTotal",
          "CompTotal",
          "CompTotal",
          "CompTotal",
          "CompTotal",
          "CompTotal",
          "CompTotal",
          "CompTotal",
          "CompTotal",
          "CompTotal",
          "CompTotal",
          "CompTotal",
          "CompTotal",
          "CompTotal",
          "CompTotal",
          "CompTotal",
          "CompTotal",
          "CompTotal",
          "CompTotal",
          "CompTotal",
          "CompTotal",
          "CompTotal",
          "CompTotal",
          "CompTotal",
          "CompTotal",
          "CompTotal",
          "CompTotal",
          "CompTotal",
          "CompTotal",
          "CompTotal",
          "CompTotal",
          "CompTotal",
          "CompTotal",
          "CompTotal",
          "CompTotal",
          "CompTotal",
          "CompTotal",
          "CompTotal",
          "CompTotal",
          "CompTotal",
          "CompTotal",
          "CompTotal",
          "CompTotal",
          "CompTotal",
          "CompTotal",
          "CompTotal",
          "CompTotal",
          "CompTotal",
          "CompTotal",
          "CompTotal",
          "CompTotal",
          "CompTotal",
          "CompTotal",
          "CompTotal",
          "CompTotal",
          "CompTotal",
          "CompTotal",
          "CompTotal",
          "CompTotal",
          "CompTotal",
          "CompTotal",
          "CompTotal",
          "CompTotal",
          "CompTotal",
          "CompTotal",
          "CompTotal",
          "CompTotal",
          "CompTotal",
          "CompTotal",
          "CompTotal",
          "CompTotal",
          "CompTotal",
          "CompTotal",
          "CompTotal",
          "CompTotal",
          "CompTotal",
          "CompTotal",
          "CompTotal",
          "CompTotal",
          "CompTotal",
          "CompTotal",
          "CompTotal",
          "CompTotal",
          "CompTotal",
          "CompTotal",
          "CompTotal",
          "CompTotal",
          "CompTotal",
          "CompTotal",
          "CompTotal",
          "CompTotal",
          "CompTotal",
          "CompTotal",
          "CompTotal",
          "CompTotal",
          "CompTotal",
          "CompTotal",
          "CompTotal",
          "CompTotal",
          "CompTotal",
          "CompTotal",
          "CompTotal",
          "CompTotal",
          "CompTotal",
          "CompTotal",
          "CompTotal",
          "CompTotal",
          "CompTotal",
          "CompTotal",
          "CompTotal",
          "CompTotal",
          "CompTotal",
          "CompTotal",
          "CompTotal",
          "CompTotal",
          "CompTotal",
          "CompTotal",
          "CompTotal",
          "CompTotal",
          "CompTotal",
          "CompTotal",
          "CompTotal",
          "CompTotal",
          "CompTotal",
          "CompTotal",
          "CompTotal",
          "CompTotal",
          "CompTotal",
          "CompTotal",
          "CompTotal",
          "CompTotal",
          "CompTotal",
          "CompTotal",
          "CompTotal",
          "CompTotal",
          "CompTotal",
          "CompTotal",
          "CompTotal",
          "CompTotal",
          "CompTotal",
          "CompTotal",
          "CompTotal",
          "CompTotal",
          "CompTotal",
          "CompTotal",
          "CompTotal",
          "CompTotal",
          "CompTotal",
          "CompTotal",
          "CompTotal",
          "CompTotal",
          "CompTotal",
          "CompTotal",
          "CompTotal",
          "CompTotal",
          "CompTotal",
          "CompTotal",
          "CompTotal",
          "CompTotal",
          "CompTotal",
          "CompTotal",
          "CompTotal",
          "CompTotal",
          "CompTotal",
          "CompTotal",
          "CompTotal",
          "CompTotal",
          "CompTotal",
          "CompTotal",
          "CompTotal",
          "CompTotal",
          "CompTotal",
          "CompTotal",
          "CompTotal",
          "CompTotal",
          "CompTotal",
          "CompTotal",
          "CompTotal",
          "CompTotal",
          "CompTotal",
          "CompTotal",
          "CompTotal",
          "CompTotal",
          "CompTotal",
          "CompTotal",
          "CompTotal",
          "CompTotal",
          "CompTotal",
          "CompTotal",
          "CompTotal",
          "CompTotal",
          "CompTotal",
          "CompTotal",
          "CompTotal",
          "CompTotal",
          "CompTotal",
          "CompTotal",
          "CompTotal",
          "CompTotal",
          "CompTotal",
          "CompTotal",
          "CompTotal",
          "CompTotal",
          "CompTotal",
          "CompTotal",
          "CompTotal",
          "CompTotal",
          "CompTotal",
          "CompTotal",
          "CompTotal",
          "CompTotal",
          "CompTotal",
          "CompTotal",
          "CompTotal",
          "CompTotal",
          "CompTotal",
          "CompTotal",
          "CompTotal",
          "CompTotal",
          "CompTotal",
          "CompTotal",
          "CompTotal",
          "CompTotal",
          "CompTotal",
          "CompTotal",
          "CompTotal",
          "CompTotal",
          "CompTotal",
          "CompTotal",
          "CompTotal",
          "CompTotal",
          "CompTotal",
          "CompTotal",
          "CompTotal",
          "CompTotal",
          "CompTotal",
          "CompTotal",
          "CompTotal",
          "CompTotal",
          "CompTotal",
          "CompTotal",
          "CompTotal",
          "CompTotal",
          "CompTotal",
          "CompTotal",
          "CompTotal",
          "CompTotal",
          "CompTotal",
          "CompTotal",
          "CompTotal",
          "CompTotal",
          "CompTotal",
          "CompTotal",
          "CompTotal",
          "CompTotal",
          "CompTotal",
          "CompTotal",
          "CompTotal",
          "CompTotal",
          "CompTotal",
          "CompTotal",
          "CompTotal",
          "CompTotal",
          "CompTotal",
          "CompTotal",
          "CompTotal",
          "CompTotal",
          "CompTotal",
          "CompTotal",
          "CompTotal",
          "CompTotal",
          "CompTotal",
          "CompTotal",
          "CompTotal",
          "CompTotal",
          "CompTotal",
          "CompTotal",
          "CompTotal",
          "CompTotal",
          "CompTotal",
          "CompTotal",
          "CompTotal",
          "CompTotal",
          "CompTotal",
          "CompTotal",
          "CompTotal",
          "CompTotal",
          "CompTotal",
          "CompTotal",
          "CompTotal",
          "CompTotal",
          "CompTotal",
          "CompTotal",
          "CompTotal",
          "CompTotal",
          "CompTotal",
          "CompTotal",
          "CompTotal",
          "CompTotal",
          "CompTotal",
          "CompTotal",
          "CompTotal",
          "CompTotal",
          "CompTotal",
          "CompTotal",
          "CompTotal",
          "CompTotal",
          "CompTotal",
          "CompTotal",
          "CompTotal",
          "CompTotal",
          "CompTotal",
          "CompTotal",
          "CompTotal",
          "CompTotal",
          "CompTotal",
          "CompTotal",
          "CompTotal",
          "CompTotal",
          "CompTotal",
          "CompTotal",
          "CompTotal",
          "CompTotal",
          "CompTotal",
          "CompTotal",
          "CompTotal",
          "CompTotal",
          "CompTotal",
          "CompTotal",
          "CompTotal",
          "CompTotal",
          "CompTotal",
          "CompTotal",
          "CompTotal",
          "CompTotal",
          "CompTotal",
          "CompTotal",
          "CompTotal",
          "CompTotal",
          "CompTotal",
          "CompTotal",
          "CompTotal",
          "CompTotal",
          "CompTotal",
          "CompTotal",
          "CompTotal",
          "CompTotal",
          "CompTotal",
          "CompTotal",
          "CompTotal",
          "CompTotal",
          "CompTotal",
          "CompTotal",
          "CompTotal",
          "CompTotal",
          "CompTotal",
          "CompTotal",
          "CompTotal",
          "CompTotal",
          "CompTotal",
          "CompTotal",
          "CompTotal",
          "CompTotal",
          "CompTotal",
          "CompTotal",
          "CompTotal",
          "CompTotal",
          "CompTotal",
          "CompTotal",
          "CompTotal",
          "CompTotal",
          "CompTotal",
          "CompTotal",
          "CompTotal",
          "CompTotal",
          "CompTotal",
          "CompTotal",
          "CompTotal",
          "CompTotal",
          "CompTotal",
          "CompTotal",
          "CompTotal",
          "CompTotal",
          "CompTotal",
          "CompTotal",
          "CompTotal",
          "CompTotal",
          "CompTotal",
          "CompTotal",
          "CompTotal",
          "CompTotal",
          "CompTotal",
          "CompTotal",
          "CompTotal",
          "CompTotal",
          "CompTotal",
          "CompTotal",
          "CompTotal",
          "CompTotal",
          "CompTotal",
          "CompTotal",
          "CompTotal",
          "CompTotal",
          "CompTotal",
          "CompTotal",
          "CompTotal",
          "CompTotal",
          "CompTotal",
          "CompTotal",
          "CompTotal",
          "CompTotal",
          "CompTotal",
          "CompTotal",
          "CompTotal",
          "CompTotal",
          "CompTotal",
          "CompTotal",
          "CompTotal",
          "CompTotal",
          "CompTotal",
          "CompTotal",
          "CompTotal",
          "CompTotal",
          "CompTotal",
          "CompTotal",
          "CompTotal",
          "CompTotal",
          "CompTotal",
          "CompTotal",
          "CompTotal",
          "CompTotal",
          "CompTotal",
          "CompTotal",
          "CompTotal",
          "CompTotal",
          "CompTotal",
          "CompTotal",
          "CompTotal",
          "CompTotal",
          "CompTotal",
          "CompTotal",
          "CompTotal",
          "CompTotal",
          "CompTotal",
          "CompTotal",
          "CompTotal",
          "CompTotal",
          "CompTotal",
          "CompTotal",
          "CompTotal",
          "CompTotal",
          "CompTotal",
          "CompTotal",
          "CompTotal",
          "CompTotal",
          "CompTotal",
          "CompTotal",
          "CompTotal",
          "CompTotal",
          "CompTotal",
          "CompTotal",
          "CompTotal",
          "CompTotal",
          "CompTotal",
          "CompTotal",
          "CompTotal",
          "CompTotal",
          "CompTotal",
          "CompTotal",
          "CompTotal",
          "CompTotal",
          "CompTotal",
          "CompTotal",
          "CompTotal",
          "CompTotal",
          "CompTotal",
          "CompTotal",
          "CompTotal",
          "CompTotal",
          "CompTotal",
          "CompTotal",
          "CompTotal",
          "CompTotal",
          "CompTotal",
          "CompTotal",
          "CompTotal",
          "CompTotal",
          "CompTotal",
          "CompTotal",
          "CompTotal",
          "CompTotal",
          "CompTotal",
          "CompTotal",
          "CompTotal",
          "CompTotal",
          "CompTotal",
          "CompTotal",
          "CompTotal",
          "CompTotal",
          "CompTotal",
          "CompTotal",
          "CompTotal",
          "CompTotal",
          "CompTotal",
          "CompTotal",
          "CompTotal",
          "CompTotal",
          "CompTotal",
          "CompTotal",
          "CompTotal",
          "CompTotal",
          "CompTotal",
          "CompTotal",
          "CompTotal",
          "CompTotal",
          "CompTotal",
          "CompTotal",
          "CompTotal",
          "CompTotal",
          "CompTotal",
          "CompTotal",
          "CompTotal",
          "CompTotal",
          "CompTotal",
          "CompTotal",
          "CompTotal",
          "CompTotal",
          "CompTotal",
          "CompTotal",
          "CompTotal",
          "CompTotal",
          "CompTotal",
          "CompTotal",
          "CompTotal",
          "CompTotal",
          "CompTotal",
          "CompTotal",
          "CompTotal",
          "CompTotal",
          "CompTotal",
          "CompTotal",
          "CompTotal",
          "CompTotal",
          "CompTotal",
          "CompTotal",
          "CompTotal",
          "CompTotal",
          "CompTotal",
          "CompTotal",
          "CompTotal",
          "CompTotal",
          "CompTotal",
          "CompTotal",
          "CompTotal",
          "CompTotal",
          "CompTotal",
          "CompTotal",
          "CompTotal",
          "CompTotal",
          "CompTotal",
          "CompTotal",
          "CompTotal",
          "CompTotal",
          "CompTotal",
          "CompTotal",
          "CompTotal",
          "CompTotal",
          "CompTotal",
          "CompTotal",
          "CompTotal",
          "CompTotal",
          "CompTotal",
          "CompTotal",
          "CompTotal",
          "CompTotal",
          "CompTotal",
          "CompTotal",
          "CompTotal",
          "CompTotal",
          "CompTotal",
          "CompTotal",
          "CompTotal",
          "CompTotal",
          "CompTotal",
          "CompTotal",
          "CompTotal",
          "CompTotal",
          "CompTotal",
          "CompTotal",
          "CompTotal",
          "CompTotal",
          "CompTotal",
          "CompTotal",
          "CompTotal",
          "CompTotal",
          "CompTotal",
          "CompTotal",
          "CompTotal",
          "CompTotal",
          "CompTotal",
          "CompTotal",
          "CompTotal",
          "CompTotal",
          "CompTotal",
          "CompTotal",
          "CompTotal",
          "CompTotal",
          "CompTotal",
          "CompTotal",
          "CompTotal",
          "CompTotal",
          "CompTotal",
          "CompTotal",
          "CompTotal",
          "CompTotal",
          "CompTotal",
          "CompTotal",
          "CompTotal",
          "CompTotal",
          "CompTotal",
          "CompTotal",
          "CompTotal",
          "CompTotal",
          "CompTotal",
          "CompTotal",
          "CompTotal",
          "CompTotal",
          "CompTotal",
          "CompTotal",
          "CompTotal",
          "CompTotal",
          "CompTotal",
          "CompTotal",
          "CompTotal",
          "CompTotal",
          "CompTotal",
          "CompTotal",
          "CompTotal",
          "CompTotal",
          "CompTotal",
          "CompTotal",
          "CompTotal",
          "CompTotal",
          "CompTotal",
          "CompTotal",
          "CompTotal",
          "CompTotal",
          "CompTotal",
          "CompTotal",
          "CompTotal",
          "CompTotal",
          "CompTotal",
          "CompTotal",
          "CompTotal",
          "CompTotal",
          "CompTotal",
          "CompTotal",
          "CompTotal",
          "CompTotal",
          "CompTotal",
          "CompTotal",
          "CompTotal",
          "CompTotal",
          "CompTotal",
          "CompTotal",
          "CompTotal",
          "CompTotal",
          "CompTotal",
          "CompTotal",
          "CompTotal",
          "CompTotal",
          "CompTotal",
          "CompTotal",
          "CompTotal",
          "CompTotal",
          "CompTotal",
          "CompTotal",
          "CompTotal",
          "CompTotal",
          "CompTotal",
          "CompTotal",
          "CompTotal",
          "CompTotal",
          "CompTotal",
          "CompTotal",
          "CompTotal",
          "CompTotal",
          "CompTotal",
          "CompTotal",
          "CompTotal",
          "CompTotal",
          "CompTotal",
          "CompTotal",
          "CompTotal",
          "CompTotal",
          "CompTotal",
          "CompTotal",
          "CompTotal",
          "CompTotal",
          "CompTotal",
          "CompTotal",
          "CompTotal",
          "CompTotal",
          "CompTotal",
          "CompTotal",
          "CompTotal",
          "CompTotal",
          "CompTotal",
          "CompTotal",
          "CompTotal",
          "CompTotal",
          "CompTotal",
          "CompTotal",
          "CompTotal",
          "CompTotal",
          "CompTotal",
          "CompTotal",
          "CompTotal",
          "CompTotal",
          "CompTotal",
          "CompTotal",
          "CompTotal",
          "CompTotal",
          "CompTotal",
          "CompTotal",
          "CompTotal",
          "CompTotal",
          "CompTotal",
          "CompTotal",
          "CompTotal",
          "CompTotal",
          "CompTotal",
          "CompTotal",
          "CompTotal",
          "CompTotal",
          "CompTotal",
          "CompTotal",
          "CompTotal",
          "CompTotal",
          "CompTotal",
          "CompTotal",
          "CompTotal",
          "CompTotal",
          "CompTotal",
          "CompTotal",
          "CompTotal",
          "CompTotal",
          "CompTotal",
          "CompTotal",
          "CompTotal",
          "CompTotal",
          "CompTotal",
          "CompTotal",
          "CompTotal",
          "CompTotal",
          "CompTotal",
          "CompTotal",
          "CompTotal",
          "CompTotal",
          "CompTotal",
          "CompTotal",
          "CompTotal",
          "CompTotal",
          "CompTotal",
          "CompTotal",
          "CompTotal",
          "CompTotal",
          "CompTotal",
          "CompTotal",
          "CompTotal",
          "CompTotal",
          "CompTotal",
          "CompTotal",
          "CompTotal",
          "CompTotal",
          "CompTotal",
          "CompTotal",
          "CompTotal",
          "CompTotal",
          "CompTotal",
          "CompTotal",
          "CompTotal",
          "CompTotal",
          "CompTotal",
          "CompTotal",
          "CompTotal",
          "CompTotal",
          "CompTotal",
          "CompTotal",
          "CompTotal",
          "CompTotal",
          "CompTotal",
          "CompTotal",
          "CompTotal",
          "CompTotal",
          "CompTotal",
          "CompTotal",
          "CompTotal",
          "CompTotal",
          "CompTotal",
          "CompTotal",
          "CompTotal",
          "CompTotal",
          "CompTotal",
          "CompTotal",
          "CompTotal",
          "CompTotal",
          "CompTotal",
          "CompTotal"
         ],
         "x0": " ",
         "xaxis": "x",
         "y": [
          80000,
          65000,
          65000,
          3400000,
          140000,
          null,
          150000,
          15000,
          70000,
          70000,
          null,
          null,
          53000,
          70000,
          40000,
          74000,
          8400,
          null,
          null,
          30000,
          60000,
          2000000,
          167000,
          120000,
          18000,
          80000,
          null,
          110000,
          165974,
          60000,
          null,
          null,
          null,
          1400000,
          null,
          170000,
          null,
          83000,
          150000,
          125000,
          null,
          85000,
          null,
          9000000,
          300000,
          3000000,
          null,
          340000,
          165000,
          18200,
          240000,
          92000,
          100000,
          null,
          200000,
          null,
          10000,
          null,
          98000,
          4400000,
          420000,
          330000,
          48000,
          200000,
          null,
          null,
          20000,
          125000,
          35000,
          null,
          68000,
          180000,
          null,
          null,
          null,
          46500,
          79000,
          238000,
          4900,
          null,
          127000,
          null,
          90000,
          null,
          650000,
          54000,
          35580,
          50000,
          150000,
          null,
          117000,
          82000,
          85000,
          51000,
          null,
          25000,
          52000,
          null,
          729000,
          140000,
          30000,
          3000000,
          42000,
          138000,
          84000,
          null,
          null,
          200000,
          142000,
          37000,
          null,
          null,
          null,
          67000,
          84000,
          null,
          null,
          216000,
          45000,
          15000,
          null,
          93000,
          null,
          125000,
          null,
          4200000000,
          76000,
          null,
          220000,
          21000,
          25000,
          80000,
          120000,
          130000,
          150000,
          113000,
          103000,
          null,
          240000000,
          190000,
          225000,
          99000,
          85000,
          null,
          145000,
          80000,
          80000,
          null,
          null,
          83500,
          51600,
          351000,
          null,
          44000,
          null,
          null,
          30300,
          null,
          110000,
          140000,
          null,
          null,
          175000,
          121590,
          120000,
          25000,
          180000,
          null,
          null,
          131000,
          null,
          105000,
          null,
          240000,
          null,
          64000,
          140000,
          55900,
          77000,
          197460,
          52000,
          null,
          1200000,
          null,
          48000,
          null,
          33000,
          400000,
          80000,
          140000,
          72000,
          85000,
          200000,
          null,
          null,
          92000,
          null,
          null,
          152000,
          null,
          80000,
          125000,
          130000,
          null,
          null,
          132500,
          150000,
          90000,
          72000,
          100000,
          65000,
          126500,
          130000,
          50000,
          300000,
          null,
          170000,
          160000,
          810000,
          168000,
          null,
          152000,
          250000,
          180000,
          110000,
          150000,
          42500,
          140000,
          175000,
          125000,
          70000,
          200000,
          200000,
          130000,
          500000,
          null,
          180000,
          null,
          78000,
          null,
          37000,
          null,
          9600,
          57000,
          null,
          120000,
          15600000,
          null,
          23000000,
          80000,
          118000,
          100000,
          null,
          100000,
          120000,
          null,
          170000,
          1100000,
          null,
          240000,
          72000,
          400000,
          125000,
          null,
          320000,
          null,
          67000,
          100000,
          60000,
          160000,
          38000,
          null,
          95000,
          85000,
          null,
          50400,
          185000,
          null,
          null,
          160000,
          10000,
          null,
          301000,
          80000,
          257400,
          null,
          145000,
          null,
          null,
          110000,
          null,
          32000,
          null,
          125000,
          100000,
          135000,
          500000,
          50000,
          null,
          150000,
          null,
          null,
          null,
          120000,
          150000,
          384000,
          148000,
          142000,
          247500,
          82000,
          107000,
          null,
          150000,
          null,
          86000,
          null,
          null,
          null,
          175000,
          200000,
          130000,
          194000,
          null,
          73000,
          null,
          25000,
          null,
          800000,
          65000,
          100000,
          650000,
          82500,
          200000,
          null,
          125000,
          2000000,
          165000,
          null,
          180000,
          null,
          362000,
          70000,
          null,
          300000,
          70000,
          65000,
          null,
          43000000,
          null,
          null,
          450000,
          195000,
          139000,
          90000,
          null,
          null,
          415800,
          800000,
          66000,
          182000,
          90000,
          null,
          75000000,
          60000,
          null,
          170000,
          null,
          73000,
          280000,
          null,
          58000,
          250,
          null,
          134250,
          600000,
          null,
          110000,
          null,
          null,
          null,
          292000,
          100000,
          64000,
          null,
          36000,
          65000,
          null,
          200000,
          null,
          120000,
          null,
          3300000,
          140000,
          900000,
          null,
          3800000,
          null,
          625000,
          4500000,
          170000,
          null,
          null,
          2000000,
          null,
          null,
          null,
          108000,
          100000,
          83000,
          396000,
          200000,
          4900000,
          150000,
          null,
          144000,
          null,
          2520000,
          null,
          300000,
          1800000,
          300000,
          null,
          100000,
          100000,
          100000,
          null,
          113000,
          null,
          450000,
          null,
          120000,
          null,
          null,
          60000,
          145000,
          30000,
          null,
          710000,
          288530,
          78000,
          null,
          null,
          85000,
          100000,
          60000,
          215000,
          150000,
          null,
          null,
          1500000,
          null,
          3000000,
          30000,
          105000,
          null,
          1200000,
          36000,
          null,
          1000000,
          108000,
          null,
          220000,
          null,
          null,
          600000,
          null,
          70000,
          72000,
          790000,
          55000,
          null,
          null,
          40000,
          1210000,
          50000,
          210000,
          null,
          null,
          60000,
          720000,
          600000,
          40000,
          null,
          null,
          850000,
          100000,
          null,
          70000,
          null,
          null,
          null,
          420000,
          42000,
          90000,
          null,
          92000,
          90000,
          90000,
          25000,
          null,
          700000,
          75000,
          378000,
          70000,
          null,
          70000,
          86000,
          43000,
          800000,
          56000,
          40000,
          50000,
          null,
          840000,
          550000,
          18000,
          1850000,
          300000,
          38000,
          400000,
          null,
          960000,
          12000,
          null,
          3000000,
          64000,
          null,
          100000,
          800000,
          57500,
          85000,
          65000,
          280000,
          120000,
          null,
          null,
          150000,
          50000,
          40000,
          72000,
          63000,
          168000,
          70000,
          69979,
          null,
          120000,
          null,
          100000,
          null,
          140000,
          null,
          87000,
          null,
          100000,
          70000,
          60000,
          3000000,
          65000,
          835000,
          22000000,
          null,
          30000,
          35000,
          70000,
          100000,
          100000,
          null,
          882000,
          null,
          790800,
          null,
          57000,
          48750,
          null,
          56000,
          84000,
          102000,
          100000,
          51000,
          null,
          100000,
          60000,
          100001,
          1200000,
          90200,
          47000,
          49000,
          42000,
          null,
          null,
          39000,
          null,
          36000,
          null,
          null,
          null,
          39000,
          null,
          null,
          80000,
          52000,
          95000,
          58000,
          null,
          null,
          null,
          null,
          43000,
          null,
          63000,
          90000,
          75000,
          75000,
          525000,
          null,
          null,
          60000,
          60000,
          null,
          17500,
          4567886688856,
          1400000,
          21650000,
          null,
          52000,
          45000,
          null,
          null,
          null,
          9100000,
          null,
          62000,
          null,
          50000,
          1800000,
          null,
          55000,
          null,
          51500,
          65000,
          null,
          50000,
          110000,
          null,
          null,
          140000,
          480000,
          99800,
          80000,
          49000,
          30000,
          87000,
          null,
          120000,
          null,
          155000,
          null,
          null,
          1100000,
          null,
          null,
          50000,
          180000,
          null,
          null,
          25000,
          null,
          225000,
          70000,
          75000,
          null,
          50500,
          null,
          50000,
          22000000,
          65000,
          null,
          100000,
          455000,
          68000,
          45000,
          null,
          null,
          1000000,
          null,
          null,
          95000,
          null,
          120000,
          54000,
          200000,
          91000,
          500000,
          100000,
          85000,
          140000,
          55000,
          null,
          70000,
          null,
          20000,
          null,
          57000,
          58800,
          44000,
          75000,
          468000,
          null,
          600000,
          24000,
          150000,
          85000,
          176000,
          100000,
          4200000,
          45000,
          37400,
          35000,
          584400,
          null,
          90000,
          50000,
          null,
          null,
          600000,
          168000,
          43000,
          60000,
          94000,
          70000,
          50000,
          26000,
          80000,
          null,
          55000,
          110000,
          34500,
          924000,
          110000,
          null,
          106000,
          125000,
          null,
          56000,
          80000,
          72000,
          100000,
          60000,
          24000,
          540000,
          225000,
          180000000,
          null,
          56000,
          null,
          50000,
          80000,
          null,
          47000,
          120000,
          null,
          62500,
          45000,
          45000,
          null,
          163000,
          null,
          null,
          55000,
          60000,
          null,
          130000,
          43000,
          null,
          29000,
          70000,
          24500,
          85000,
          2400000,
          150000,
          100000,
          63000,
          34000,
          null,
          99000,
          30000,
          41600,
          67000,
          150000,
          null,
          50000,
          400000,
          60000,
          30000,
          65000,
          null,
          48000,
          37200,
          150000,
          85000,
          63000,
          89000,
          52000,
          null,
          69000,
          50000,
          50000,
          null,
          null,
          42000,
          90000,
          null,
          12000000,
          250000,
          155000,
          1170000,
          null,
          100000,
          null,
          26000,
          null,
          null,
          65150,
          30000,
          8000000,
          50000,
          48000,
          null,
          500000,
          105000,
          32800,
          202000,
          34000,
          73000,
          null,
          60000,
          400000,
          50000,
          300000,
          50000,
          53144,
          null,
          null,
          null,
          85000,
          90000,
          95000,
          115000,
          26400,
          null,
          84000,
          null,
          114000,
          105000,
          149000,
          null,
          null,
          79000,
          null,
          100000,
          140000,
          null,
          null,
          null,
          null,
          null,
          160000,
          120000,
          60000,
          58000,
          44000,
          314000,
          45700,
          null,
          140000,
          45000,
          90000,
          130000,
          null,
          null,
          70000,
          92000,
          null,
          31000,
          70000,
          140000,
          50000,
          null,
          30000,
          50000,
          120000,
          null,
          null,
          null,
          null,
          90000,
          null,
          113750,
          70000,
          60000,
          null,
          null,
          null,
          35000,
          330000,
          32000,
          null,
          65000,
          null,
          null,
          60000,
          null,
          80000,
          40000,
          150000,
          null,
          700000,
          null,
          720000,
          80000,
          30000,
          null,
          45000,
          88000,
          150000,
          23400000,
          null,
          350000,
          42000,
          6600,
          45000,
          540000,
          52000,
          85000,
          null,
          85000,
          null,
          56000,
          430000,
          null,
          150000,
          62000,
          154000,
          96000,
          null,
          135570,
          36000,
          320000,
          null,
          60000,
          null,
          205000,
          120000,
          160000,
          235000,
          3450,
          116482,
          63000,
          30500,
          null,
          2070000,
          null,
          500000,
          null,
          null,
          150000,
          54000,
          29000,
          70000,
          null,
          120000,
          150000,
          192000,
          35000,
          90000,
          54000,
          40000,
          null,
          null,
          35000,
          123500,
          null,
          null,
          null,
          null,
          null,
          25500000,
          null,
          null,
          null,
          null,
          60000,
          null,
          280000,
          64800,
          750000,
          null,
          135000,
          280000,
          85000,
          210000,
          260000,
          null,
          130000,
          null,
          130000,
          null,
          120000,
          100000,
          250000,
          100000,
          500000,
          null,
          84000,
          140000,
          60000,
          null,
          null,
          null,
          100000,
          null,
          200000,
          120000,
          7000,
          109000,
          null,
          58000,
          null,
          null,
          74000,
          55000,
          226800000,
          null,
          null,
          250000,
          null,
          205000,
          170000,
          80000,
          70000,
          50000,
          50000000,
          780000,
          110000,
          null,
          null,
          50000,
          null,
          70000,
          null,
          73000,
          null,
          135000,
          null,
          197500,
          null,
          850000,
          90000,
          300000,
          116000,
          55000,
          95000,
          null,
          81000,
          181000,
          233961,
          90000,
          88000,
          92000,
          69000,
          367000,
          150000,
          225000,
          null,
          88000,
          null,
          200000,
          120000,
          195000,
          150000,
          125000,
          504000,
          85000,
          null,
          200000,
          170000,
          29000,
          165000,
          88000,
          252000,
          null,
          550000,
          100000,
          74000,
          null,
          85000,
          103000,
          70000,
          270000,
          137000,
          83000,
          100000,
          121000,
          null,
          85000,
          78000,
          null,
          null,
          null,
          146000,
          56000,
          68000,
          125000,
          70000,
          325000,
          48000,
          66567,
          8000000,
          150000,
          46000,
          110600,
          120000,
          170000,
          190000,
          105000,
          83000,
          52000,
          130000,
          200000,
          500000,
          null,
          null,
          95000,
          100000,
          2000000,
          null,
          85000,
          null,
          118000,
          537000,
          206000,
          null,
          84000,
          185000,
          224000,
          250000,
          45000,
          85000,
          214000,
          50000,
          165,
          68400,
          38000,
          370000,
          null,
          900000,
          null,
          104000,
          48100,
          89000,
          2100000,
          1400000,
          150000,
          157000,
          null,
          null,
          200,
          175000,
          null,
          1400000,
          113000,
          null,
          215000,
          264900,
          null,
          63900,
          42000,
          180000,
          110000,
          155000,
          72000,
          null,
          350000,
          120000,
          38500,
          160000,
          500000,
          77000,
          80000,
          null,
          710280,
          168000,
          60000,
          924000,
          182000,
          70000,
          250000,
          null,
          null,
          1642800,
          130000,
          90000,
          225000,
          150000,
          null,
          null,
          null,
          315000,
          135000,
          195800,
          1800000,
          285000,
          null,
          70000,
          85000,
          185000,
          95000,
          null,
          600000,
          105000,
          103440,
          131000,
          80000,
          null,
          140000,
          null,
          93000,
          60000,
          180000,
          145000,
          null,
          null,
          200000,
          60000,
          170000,
          null,
          null,
          2470000000,
          78000,
          200000,
          19000,
          46500,
          45000,
          170000,
          null,
          null,
          null,
          47000,
          150000,
          900000,
          72000,
          null,
          500000,
          100000,
          240000,
          211000,
          32000,
          null,
          240000,
          715000,
          null,
          null,
          120000,
          null,
          100000,
          1500000,
          149000,
          null,
          70000,
          60000,
          220000,
          74000,
          105000,
          null,
          165000,
          null,
          180000,
          155000,
          null,
          210000,
          700000,
          146000,
          20000000,
          59800,
          355000,
          null,
          106000,
          250000,
          175000,
          45000,
          220000,
          null,
          102000,
          276000,
          40000,
          215000,
          102000,
          null,
          490000,
          80000,
          null,
          null,
          150000,
          130000,
          null,
          null,
          59000,
          125000,
          100000,
          250000,
          null,
          null,
          75000,
          200000,
          160000,
          180000,
          135000,
          null,
          130000,
          135000,
          98000,
          null,
          1000000,
          2400000,
          70000,
          160000,
          null,
          100000,
          1300000,
          133000,
          255000,
          null,
          1000000,
          450000,
          null,
          200000,
          300000,
          115000,
          200000,
          83200,
          145000,
          65000,
          null,
          125000,
          null,
          null,
          155000,
          55000,
          null,
          70000,
          136400,
          60000,
          36000000,
          null,
          null,
          45000,
          125000,
          35000,
          118000,
          60000,
          145000,
          2400000,
          null,
          60000,
          792000,
          null,
          null,
          42000,
          115000,
          420000,
          5200000,
          150000,
          95000,
          47000,
          180000,
          165000,
          65000,
          150000,
          180000,
          750000,
          170000,
          162000,
          null,
          150000,
          280000,
          84500,
          35600,
          60000,
          null,
          130000,
          null,
          null,
          85000,
          null,
          110000,
          null,
          250000,
          8500000,
          170000,
          52000,
          null,
          55000,
          12000,
          101000,
          125000,
          null,
          27840,
          25000000,
          8000000,
          270000,
          408000,
          null,
          null,
          null,
          30000,
          null,
          null,
          120000,
          null,
          176800,
          null,
          null,
          250000,
          120000,
          145000,
          208000,
          110000,
          164600,
          206000,
          null,
          207000,
          42000,
          360000,
          87000,
          null,
          125000,
          null,
          197000,
          75000,
          250000,
          85000,
          33500000,
          1400000,
          81000,
          220000,
          65000,
          150000,
          300000,
          null,
          null,
          200000,
          110000,
          null,
          null,
          null,
          54000,
          115000,
          145000,
          null,
          135000,
          189000,
          170000,
          5500000,
          80000,
          170000,
          220000,
          null,
          200000,
          240000,
          180000,
          220000,
          1200000,
          1950000,
          3950000,
          348000,
          130000,
          300000,
          466000,
          73000,
          185000,
          null,
          null,
          null,
          null,
          190000,
          100000,
          6000,
          null,
          null,
          null,
          600000,
          180000,
          1000000,
          330000000,
          700000,
          500000,
          null,
          93000000,
          null,
          160000,
          60000000,
          90000,
          null,
          null,
          100000,
          null,
          430000,
          600000,
          180000,
          3000000,
          200000,
          87500,
          null,
          null,
          null,
          null,
          null,
          370000,
          null,
          800000,
          null,
          208000,
          170000,
          60000,
          null,
          2400000,
          45000,
          400000,
          22000,
          50000,
          50000,
          600000,
          2200000,
          550000,
          58000,
          90000,
          null,
          null,
          110000,
          900000,
          null,
          672000,
          40000,
          600000,
          75000,
          null,
          null,
          100000,
          2000,
          2200000,
          37000,
          null,
          81000,
          null,
          150000,
          null,
          70000,
          180000,
          null,
          null,
          null,
          72000,
          70000,
          950000,
          null,
          null,
          null,
          130000,
          200000,
          966000,
          72000,
          540000,
          823800,
          130000,
          468000,
          68000,
          250000,
          98350,
          30500,
          82000,
          null,
          83000,
          540000,
          110000,
          86000,
          53000,
          null,
          1300000,
          500000,
          50000,
          100,
          200000,
          200000,
          29000,
          1200000,
          44000,
          220000,
          22000,
          null,
          75000,
          130000,
          null,
          null,
          60000,
          73000,
          45000,
          null,
          63000,
          80000,
          886000,
          900000,
          null,
          10900000,
          null,
          null,
          88000,
          null,
          80000,
          null,
          null,
          65000,
          100000,
          180000,
          55000,
          200000,
          55000,
          null,
          18000000,
          50000,
          40000,
          350000000,
          780000,
          62000,
          null,
          null,
          50000,
          null,
          null,
          7200000,
          null,
          null,
          null,
          null,
          708000,
          110000,
          100000,
          336000,
          null,
          null,
          200000,
          1600000,
          55000,
          null,
          null,
          1000000,
          100000,
          null,
          65000,
          null,
          null,
          null,
          55000,
          1750000,
          200000,
          null,
          300000,
          160000,
          60000,
          null,
          null,
          2300000,
          140000,
          null,
          80000,
          null,
          150000,
          110000,
          547200,
          null,
          null,
          72000,
          null,
          130000,
          120000,
          null,
          36000,
          null,
          680000,
          70000,
          null,
          null,
          640000,
          125000,
          null,
          null,
          null,
          396000,
          200000,
          null,
          92400,
          160000,
          185000,
          null,
          29000,
          44000,
          80000,
          null,
          null,
          null,
          80000,
          null,
          null,
          132000,
          null,
          84000,
          60000,
          125000,
          3384000,
          null,
          288000,
          60000,
          97500,
          null,
          160000,
          184000,
          null,
          27000,
          29000,
          20,
          140000,
          null,
          null,
          null,
          140000,
          2000000,
          null,
          56000,
          null,
          105000,
          500000,
          3390000,
          99000,
          2800000,
          250000,
          null,
          145000,
          null,
          115500,
          65000,
          null,
          null,
          65000,
          null,
          130000,
          10000000,
          51000,
          null,
          null,
          null,
          1000000,
          null,
          null,
          null,
          70000,
          90000,
          200000,
          45000,
          50000,
          70000,
          null,
          190000,
          108000,
          80000,
          null,
          54000,
          90000,
          167000,
          null,
          105000,
          120000,
          185000,
          null,
          100000,
          null,
          90000,
          50000,
          30000,
          77000,
          372000,
          82600,
          63000,
          165000,
          null,
          125000,
          40000,
          200000,
          180000,
          129000,
          145000,
          75000,
          276000000,
          123596,
          null,
          null,
          null,
          null,
          100000,
          23000000,
          200000,
          100000,
          312000000,
          null,
          null,
          null,
          95000,
          null,
          null,
          327800,
          null,
          null,
          70000,
          70000,
          110000,
          75000,
          null,
          null,
          null,
          73000,
          null,
          null,
          230000,
          null,
          null,
          null,
          26000,
          175000,
          null,
          140000,
          null,
          101000,
          null,
          200000,
          95000,
          null,
          null,
          800000,
          null,
          null,
          516000,
          115000,
          160000,
          null,
          null,
          null,
          null,
          31000,
          59500,
          null,
          200000,
          120000,
          1650000,
          null,
          96000,
          3600000,
          null,
          null,
          119000,
          80000,
          100000,
          110000,
          74500,
          null,
          18000,
          null,
          null,
          null,
          null,
          690000,
          32000,
          null,
          330000,
          140000,
          32000,
          112000,
          33000,
          null,
          null,
          null,
          null,
          92000,
          null,
          null,
          null,
          350000,
          null,
          null,
          130000,
          61000,
          110000,
          115000,
          null,
          120000,
          5000000,
          null,
          null,
          null,
          120000,
          113000,
          105000,
          66000,
          172000,
          null,
          null,
          120000,
          null,
          200000,
          92000,
          null,
          null,
          null,
          110000,
          188477,
          null,
          null,
          120000,
          100000,
          57928,
          51000,
          60000,
          null,
          135000,
          null,
          null,
          3900000,
          900000,
          120000,
          2000000000,
          240000000,
          160000,
          200000,
          null,
          324000,
          80000,
          528000,
          780000,
          125000,
          52000,
          24000000,
          4000000,
          45000,
          51504,
          null,
          9000000,
          41200,
          45000,
          38500,
          null,
          140000,
          900000,
          10000000,
          null,
          55000,
          50000,
          null,
          null,
          36000,
          null,
          30000,
          55000,
          50000,
          69000,
          48000,
          null,
          40000,
          600000,
          94000,
          1700000,
          42000,
          null,
          null,
          37500,
          null,
          33000,
          23600,
          121000,
          null,
          81000,
          50000,
          null,
          106000,
          160000,
          null,
          43000,
          101000,
          null,
          60000,
          66000,
          null,
          29000000,
          65000,
          68000,
          null,
          76000,
          null,
          800000,
          88000,
          165000,
          60000,
          150000,
          50000,
          250000,
          null,
          null,
          null,
          67000,
          2100000,
          55000,
          null,
          800000,
          83000,
          2500,
          60000,
          70000,
          70000,
          210000,
          143000,
          35509778,
          null,
          2400000,
          null,
          83000,
          30000,
          420000,
          90000,
          300000,
          46000,
          43000,
          120000,
          null,
          90000,
          35000,
          null,
          60000,
          99500,
          25000,
          480000,
          5400000,
          110000,
          232000,
          100000,
          350000,
          null,
          null,
          145000,
          95000,
          120000,
          null,
          150000,
          null,
          300000,
          null,
          132000,
          47600,
          null,
          31000,
          44000,
          200000,
          90000,
          null,
          70000,
          160000,
          null,
          75000,
          null,
          null,
          165000,
          null,
          54000,
          null,
          null,
          null,
          20000,
          250000,
          null,
          550000,
          720000,
          1000000,
          60000,
          110000,
          null,
          60000,
          null,
          null,
          null,
          61000,
          187000,
          920000,
          70000,
          180000,
          90000,
          null,
          200000,
          null,
          120000,
          null,
          null,
          140000,
          null,
          250000,
          140000,
          null,
          7000000,
          null,
          200000,
          36000,
          null,
          60000,
          64000,
          100000,
          null,
          100000,
          null,
          190000,
          105000,
          90000,
          75000,
          null,
          120000,
          null,
          150000,
          null,
          70000,
          320000,
          180000,
          96000,
          252000,
          170000,
          null,
          150000,
          132000,
          37000000,
          null,
          5500000,
          175000,
          140000,
          null,
          200000,
          40000,
          52000,
          85600,
          null,
          170000,
          140000,
          null,
          null,
          108000,
          88000000,
          null,
          40000000,
          24000,
          80000,
          60331,
          140000,
          null,
          null,
          65000,
          9000000,
          null,
          1400000,
          200000,
          1500000,
          60000000,
          90000,
          null,
          60000,
          120000,
          null,
          null,
          32500,
          null,
          190000,
          400000,
          1800000000,
          null,
          40000,
          null,
          40000,
          null,
          40000,
          49000,
          null,
          null,
          110000,
          1800000,
          390000000,
          null,
          150000,
          85000,
          null,
          90000,
          null,
          null,
          null,
          450000,
          2000000,
          null,
          240000,
          240000,
          100000,
          null,
          3600000,
          42000,
          100000,
          75000,
          84000,
          null,
          null,
          null,
          null,
          null,
          null,
          null,
          null,
          35500,
          null,
          null,
          null,
          null,
          null,
          33500,
          30000,
          34000,
          41800,
          null,
          1400000,
          54000,
          19000,
          null,
          null,
          null,
          1500000,
          315000,
          null,
          4000000,
          null,
          1440000,
          100000,
          33000,
          null,
          72000,
          null,
          120000,
          110000,
          110000,
          62520,
          null,
          1534000,
          160000,
          null,
          null,
          68000,
          98000,
          74000,
          null,
          480000,
          56000,
          62000,
          51500,
          45000,
          42000,
          null,
          null,
          96000,
          17000,
          null,
          null,
          null,
          120000,
          404000,
          112000,
          135000,
          125000,
          null,
          null,
          null,
          null,
          106000,
          280000,
          null,
          90900,
          13000,
          103800,
          87720,
          null,
          70000,
          320000,
          135000,
          43000,
          144000,
          null,
          null,
          32000,
          null,
          160000,
          61000,
          35000,
          108000,
          500000,
          300000,
          250000,
          null,
          120000,
          195000,
          null,
          205000,
          120000,
          null,
          60000,
          144000,
          null,
          42000,
          300000,
          180000,
          192000,
          100000,
          450000,
          162000,
          null,
          null,
          null,
          100000,
          null,
          null,
          200000,
          null,
          100000,
          2500000,
          null,
          264000,
          52000,
          60000,
          180000,
          null,
          null,
          null,
          50000,
          null,
          18900,
          null,
          1800000,
          126000,
          42000,
          180000,
          240000,
          100000,
          null,
          null,
          null,
          115000,
          null,
          null,
          140000,
          540000,
          null,
          null,
          700000,
          null,
          100000,
          260000,
          360000000,
          300000,
          44000,
          2808000,
          null,
          200000,
          null,
          232000,
          80000,
          null,
          200000,
          12000,
          null,
          175000,
          null,
          null,
          null,
          140000,
          1560000,
          7000,
          800000,
          120000,
          3500000,
          null,
          null,
          null,
          null,
          57889,
          60000,
          29000,
          110000,
          10000,
          100000,
          50000,
          215000,
          92000,
          110000,
          55517,
          66000,
          null,
          null,
          500000,
          94000,
          127000,
          170000,
          null,
          168000,
          220000,
          90000,
          null,
          null,
          750000,
          75000,
          200000,
          null,
          15000,
          null,
          1000000,
          null,
          50000,
          null,
          null,
          55000,
          50000,
          73000,
          null,
          60000,
          80000,
          80000,
          900000,
          100000,
          650000,
          48000,
          576000,
          null,
          null,
          42000,
          null,
          null,
          null,
          null,
          950000,
          4400000,
          null,
          4500000,
          null,
          null,
          null,
          135000,
          540000,
          200000,
          null,
          200000,
          150000,
          73000,
          73000,
          12000,
          null,
          null,
          48000,
          175000,
          200000,
          300000,
          158000,
          null,
          100000,
          250000,
          70000,
          1600000,
          160000,
          null,
          null,
          null,
          250000000,
          155000,
          150000,
          280000,
          null,
          490000,
          null,
          null,
          200000,
          null,
          147000,
          2800000,
          null,
          110000,
          null,
          120000,
          null,
          null,
          2600000,
          24000,
          400000,
          null,
          44000,
          2900000,
          300000,
          33000,
          28000,
          582000,
          792000,
          null,
          600000,
          1240000,
          45000,
          null,
          53000,
          null,
          35000,
          null,
          110000,
          null,
          65000,
          40000,
          3000000,
          null,
          null,
          1000000,
          230000,
          25000,
          120000,
          45000,
          null,
          null,
          null,
          78000,
          null,
          85000,
          null,
          50000,
          null,
          57000,
          12000,
          null,
          66000,
          130000,
          null,
          null,
          null,
          null,
          72000,
          null,
          56000,
          50000,
          1000000,
          null,
          51000,
          55000,
          null,
          null,
          null,
          52000,
          48000,
          794000,
          100000,
          70000,
          null,
          null,
          null,
          250000,
          230000,
          77000,
          null,
          null,
          112000,
          74000,
          85000,
          4800000,
          56900,
          null,
          128000,
          null,
          null,
          52000,
          84000,
          135000,
          140000,
          43000,
          250000,
          128000,
          80000,
          166000,
          123260,
          200000,
          520000,
          26000,
          80000,
          null,
          132000,
          null,
          95000,
          175000,
          60000,
          160000,
          null,
          140000,
          null,
          null,
          25000,
          65000,
          null,
          185,
          250000,
          3100000,
          null,
          920000,
          null,
          null,
          null,
          49000000,
          null,
          210000,
          155000,
          null,
          90000,
          170000,
          null,
          60000,
          null,
          73000,
          150000,
          63000,
          60000,
          200000,
          200000,
          40000,
          0,
          60000,
          120000,
          null,
          null,
          350000,
          105000,
          185000,
          22000,
          50000,
          null,
          null,
          150000,
          250000,
          100000,
          27000,
          null,
          null,
          28000000,
          220000,
          125000,
          90000,
          115000,
          null,
          null,
          null,
          150000,
          null,
          450000,
          660000,
          175000,
          null,
          null,
          11000000,
          null,
          140000,
          null,
          70000000,
          100000,
          180000,
          225000,
          null,
          null,
          null,
          null,
          300000,
          2500000,
          55000,
          2800000,
          1100000,
          null,
          null,
          null,
          1900000,
          30000,
          null,
          null,
          null,
          900000,
          166000,
          null,
          null,
          null,
          76000,
          null,
          20000,
          120000,
          null,
          null,
          600000,
          null,
          44000,
          650000,
          null,
          null,
          80000,
          81300,
          95000,
          null,
          40000,
          null,
          65000,
          null,
          400000,
          30000,
          45000,
          20000,
          42000,
          null,
          null,
          80000,
          3200000,
          696000,
          120000,
          null,
          85000,
          105000,
          null,
          36000,
          85500,
          25000,
          110000,
          null,
          120000,
          90000,
          null,
          60000,
          null,
          37000,
          null,
          null,
          null,
          null,
          null,
          432000,
          2383687,
          null,
          29000,
          15000,
          null,
          null,
          129000,
          130000,
          null,
          null,
          null,
          6000000,
          130000,
          42000,
          168000,
          40000,
          60000,
          74000,
          50000,
          null,
          85000,
          25200,
          81000,
          100,
          null,
          null,
          60000,
          120000,
          40000,
          115000,
          null,
          110000,
          24000,
          null,
          2500000,
          900000,
          null,
          47000,
          null,
          null,
          null,
          null,
          100000,
          150000,
          44400,
          125000,
          650000,
          60000,
          null,
          100000,
          null,
          220000,
          null,
          null,
          500000,
          250000,
          572000,
          null,
          null,
          null,
          100000,
          null,
          7500,
          216000,
          null,
          35000000,
          null,
          null,
          null,
          null,
          null,
          132000,
          2190000,
          58000,
          21500,
          135000,
          106000,
          null,
          35000,
          660000,
          null,
          150000,
          null,
          137000,
          null,
          60000,
          126000,
          null,
          50000,
          150000,
          432000,
          null,
          110000,
          90000,
          null,
          null,
          100000,
          170000,
          null,
          75000,
          120000,
          null,
          110000,
          120000,
          140000,
          null,
          200000,
          null,
          null,
          45000,
          190550,
          110000,
          null,
          null,
          900000,
          200000,
          200000,
          30000,
          160000,
          58000,
          680000,
          180000,
          null,
          44000,
          24000,
          70000,
          null,
          600000,
          80000,
          100000,
          52000,
          86000,
          null,
          null,
          130000,
          160000,
          250000,
          130000,
          180000,
          null,
          108000,
          40000,
          null,
          225000,
          125000,
          null,
          null,
          145000,
          80000,
          92000,
          180000,
          null,
          null,
          75000,
          null,
          190000,
          null,
          300000,
          47000,
          960000,
          null,
          null,
          420000,
          null,
          139000,
          150000,
          57000,
          null,
          160000,
          60000,
          80000,
          null,
          79000,
          325000,
          null,
          120000,
          68000,
          155000,
          null,
          80000,
          150000,
          59000,
          2400,
          140000,
          240000,
          null,
          null,
          47000,
          120000,
          26000,
          131000,
          93000,
          null,
          null,
          null,
          100000,
          200000,
          50000,
          70000,
          220000,
          42000,
          80000,
          null,
          100000,
          150000,
          null,
          205000,
          null,
          null,
          1000000,
          null,
          50000,
          86000,
          47250,
          185000,
          200000,
          120,
          60000,
          140000,
          200000,
          50000,
          null,
          120000,
          50000,
          300000,
          72000,
          840000,
          612000,
          84000,
          180000,
          71000,
          null,
          null,
          null,
          94000,
          null,
          null,
          56000,
          null,
          420000,
          125000,
          70000,
          null,
          113000,
          56000,
          180000,
          226839,
          null,
          165000,
          null,
          50000,
          null,
          100000,
          145000,
          165000,
          null,
          null,
          null,
          315000,
          150000,
          null,
          96000,
          28500,
          null,
          148000,
          71000,
          150000,
          52000,
          null,
          null,
          null,
          145000,
          45000,
          null,
          null,
          80000,
          85000,
          1000000,
          null,
          230000,
          260000,
          20000,
          71000,
          2250000,
          240000,
          200000,
          97000,
          null,
          6000000,
          230000,
          1200000,
          120000,
          143000,
          77000,
          null,
          90480,
          null,
          350000,
          null,
          null,
          200000,
          120000,
          200000000,
          160000000,
          null,
          null,
          65000,
          276000,
          80000,
          32000,
          null,
          27055,
          null,
          168000,
          null,
          null,
          null,
          null,
          null,
          null,
          null,
          80000,
          120000,
          65000,
          42000,
          null,
          39000,
          44000,
          480000,
          97500,
          90000,
          15000000,
          50000,
          null,
          660000,
          1100000,
          46200,
          48000,
          null,
          75000,
          null,
          80000000,
          null,
          3200000,
          null,
          110000,
          140000000,
          null,
          240000,
          75000,
          35000,
          400000,
          null,
          85000,
          456000,
          2000000,
          null,
          65000,
          5000000,
          130000,
          63000,
          null,
          400000,
          null,
          95000,
          1000000000,
          9900000,
          null,
          14350,
          500000,
          50,
          null,
          62000,
          96000,
          130000,
          null,
          1200000,
          150000,
          null,
          114000,
          null,
          null,
          350000,
          null,
          null,
          1700000,
          85000,
          10000000,
          15600000,
          null,
          60000,
          45000,
          200000,
          35000,
          null,
          null,
          null,
          435000,
          null,
          120000,
          400000,
          null,
          480000,
          null,
          3000000,
          null,
          220000,
          null,
          null,
          115000,
          26000,
          68714,
          110000,
          147000,
          105000,
          30000,
          null,
          null,
          null,
          155000,
          1350000,
          null,
          65000,
          45000,
          null,
          4200000,
          35000,
          120000,
          140000,
          107000,
          350000,
          144000,
          null,
          null,
          60000,
          null,
          40000,
          null,
          250000,
          100000,
          null,
          125000,
          620235,
          56500,
          null,
          444000,
          null,
          null,
          100000,
          37000,
          null,
          65000,
          null,
          200000,
          105000,
          null,
          46000,
          100000,
          30000,
          168274,
          130000,
          93000,
          120000,
          180000,
          125000,
          300000,
          70000,
          160000,
          null,
          null,
          100000,
          137000,
          300000000,
          124500,
          75000,
          260000,
          300000,
          160000,
          400000,
          83000,
          4000000,
          null,
          150000,
          null,
          7000000,
          5000000,
          28000,
          60000,
          null,
          null,
          null,
          38000,
          70000,
          null,
          37000,
          80000,
          null,
          null,
          60000,
          null,
          40,
          1650000,
          50000,
          null,
          40000,
          null,
          null,
          200000,
          16000,
          null,
          35000,
          null,
          480000,
          null,
          200000,
          null,
          null,
          375000,
          null,
          null,
          null,
          165000,
          1,
          2160000,
          288000000,
          null,
          95000,
          200000,
          null,
          156000000,
          205,
          250000,
          null,
          180000,
          4200000,
          720000,
          null,
          10500000,
          null,
          109000,
          null,
          135000,
          250000,
          null,
          129500,
          null,
          112000,
          68000,
          56000,
          null,
          null,
          61000,
          null,
          50000,
          384000,
          null,
          86500,
          26000,
          91000,
          null,
          null,
          85000,
          105000,
          50000,
          170000,
          null,
          104000,
          96000,
          1643000,
          null,
          160000,
          null,
          null,
          92000,
          190000,
          90000,
          null,
          null,
          null,
          120000,
          65000,
          205000,
          36000,
          100000,
          null,
          null,
          200000,
          180000,
          150000,
          72000,
          120000,
          92000,
          114000,
          700000,
          120000,
          100000,
          60000,
          90000,
          60000,
          42000,
          60000,
          175000,
          56000,
          80000,
          120000,
          null,
          30000,
          null,
          1650000,
          32000,
          25000,
          null,
          320000,
          24000,
          100000,
          75000,
          null,
          230000,
          320000,
          65000,
          null,
          null,
          145000,
          null,
          null,
          2400,
          null,
          null,
          null,
          6000000,
          150000,
          45000,
          225000,
          20000,
          190000,
          1000000,
          63000,
          null,
          null,
          null,
          100000,
          null,
          null,
          85000,
          120000,
          null,
          null,
          89000,
          80000,
          6000000,
          null,
          400000,
          19250,
          170000,
          130000,
          175000,
          190000,
          528000,
          125000,
          null,
          70000,
          null,
          null,
          55000,
          110000,
          73500,
          50000,
          120000,
          36000,
          75000,
          58800,
          57000,
          100000,
          null,
          1500000,
          300000,
          120000,
          115000,
          null,
          150000,
          94000,
          52000,
          72000,
          null,
          150000,
          57000,
          120000,
          70000,
          93000,
          200000,
          null,
          null,
          50000,
          44000,
          null,
          53000,
          null,
          200000,
          null,
          75000,
          60000,
          156000,
          null,
          62000,
          57000,
          null,
          null,
          85000,
          null,
          null,
          100000,
          120000,
          41000,
          50000,
          61000,
          80000000,
          100000,
          25000,
          673750,
          205000,
          100000,
          null,
          120000,
          45000,
          null,
          null,
          25000,
          60000,
          27055,
          70000,
          null,
          99500,
          null,
          560000,
          241566,
          38000,
          63000,
          400000,
          88000,
          null,
          null,
          120000,
          null,
          100000,
          195000,
          50000,
          14000,
          null,
          null,
          null,
          null,
          null,
          470000,
          83000,
          80000,
          125000,
          null,
          250000,
          null,
          60000,
          80000,
          80000,
          null,
          60000,
          1800000,
          750000,
          null,
          33000,
          null,
          90000,
          60000,
          null,
          100000,
          40000,
          80000,
          95000,
          120000,
          40000,
          145000,
          1600000,
          null,
          30000,
          130000,
          190000,
          110000,
          null,
          1300000,
          32000,
          95000,
          null,
          null,
          null,
          750000,
          null,
          30000,
          null,
          38000,
          554400,
          95000,
          1680,
          null,
          null,
          38500,
          10000,
          null,
          32400,
          null,
          null,
          280000,
          3500000,
          1000000,
          70000,
          80000,
          null,
          29125,
          null,
          null,
          24000,
          74580,
          220000,
          100000,
          114000,
          null,
          null,
          120000,
          57600,
          25000,
          40000,
          120000,
          139000000,
          null,
          90000,
          24000,
          402000,
          100000,
          91800,
          7800000,
          88350,
          108000,
          125000,
          null,
          56000,
          null,
          113000,
          285000,
          null,
          null,
          80000,
          170000,
          1800000,
          null,
          32000,
          null,
          null,
          524000,
          160000,
          102500,
          89583,
          55000,
          115000,
          50000,
          1000000,
          83000,
          132000,
          null,
          97000,
          178000,
          45000,
          null,
          50000,
          60000,
          350000,
          null,
          120000,
          180000,
          null,
          null,
          71000,
          1100000,
          90000,
          113000,
          125000,
          null,
          40000,
          197000,
          null,
          1000000,
          null,
          45000,
          null,
          46000,
          231525,
          300000,
          null,
          70000,
          130000,
          190000,
          60000,
          25000,
          175000,
          280000,
          65000,
          196000,
          140000,
          70000,
          600000,
          32000,
          null,
          null,
          312000,
          null,
          null,
          83500,
          100000,
          null,
          20000,
          null,
          null,
          127000,
          110000,
          null,
          null,
          336000000,
          175000,
          null,
          150000,
          null,
          180000,
          150000,
          null,
          201000,
          null,
          null,
          null,
          null
         ],
         "y0": " ",
         "yaxis": "y"
        }
       ],
       "layout": {
        "boxmode": "group",
        "legend": {
         "tracegroupgap": 0
        },
        "margin": {
         "t": 60
        },
        "paper_bgcolor": "black",
        "plot_bgcolor": "black",
        "template": {
         "data": {
          "bar": [
           {
            "error_x": {
             "color": "#2a3f5f"
            },
            "error_y": {
             "color": "#2a3f5f"
            },
            "marker": {
             "line": {
              "color": "#E5ECF6",
              "width": 0.5
             },
             "pattern": {
              "fillmode": "overlay",
              "size": 10,
              "solidity": 0.2
             }
            },
            "type": "bar"
           }
          ],
          "barpolar": [
           {
            "marker": {
             "line": {
              "color": "#E5ECF6",
              "width": 0.5
             },
             "pattern": {
              "fillmode": "overlay",
              "size": 10,
              "solidity": 0.2
             }
            },
            "type": "barpolar"
           }
          ],
          "carpet": [
           {
            "aaxis": {
             "endlinecolor": "#2a3f5f",
             "gridcolor": "white",
             "linecolor": "white",
             "minorgridcolor": "white",
             "startlinecolor": "#2a3f5f"
            },
            "baxis": {
             "endlinecolor": "#2a3f5f",
             "gridcolor": "white",
             "linecolor": "white",
             "minorgridcolor": "white",
             "startlinecolor": "#2a3f5f"
            },
            "type": "carpet"
           }
          ],
          "choropleth": [
           {
            "colorbar": {
             "outlinewidth": 0,
             "ticks": ""
            },
            "type": "choropleth"
           }
          ],
          "contour": [
           {
            "colorbar": {
             "outlinewidth": 0,
             "ticks": ""
            },
            "colorscale": [
             [
              0,
              "#0d0887"
             ],
             [
              0.1111111111111111,
              "#46039f"
             ],
             [
              0.2222222222222222,
              "#7201a8"
             ],
             [
              0.3333333333333333,
              "#9c179e"
             ],
             [
              0.4444444444444444,
              "#bd3786"
             ],
             [
              0.5555555555555556,
              "#d8576b"
             ],
             [
              0.6666666666666666,
              "#ed7953"
             ],
             [
              0.7777777777777778,
              "#fb9f3a"
             ],
             [
              0.8888888888888888,
              "#fdca26"
             ],
             [
              1,
              "#f0f921"
             ]
            ],
            "type": "contour"
           }
          ],
          "contourcarpet": [
           {
            "colorbar": {
             "outlinewidth": 0,
             "ticks": ""
            },
            "type": "contourcarpet"
           }
          ],
          "heatmap": [
           {
            "colorbar": {
             "outlinewidth": 0,
             "ticks": ""
            },
            "colorscale": [
             [
              0,
              "#0d0887"
             ],
             [
              0.1111111111111111,
              "#46039f"
             ],
             [
              0.2222222222222222,
              "#7201a8"
             ],
             [
              0.3333333333333333,
              "#9c179e"
             ],
             [
              0.4444444444444444,
              "#bd3786"
             ],
             [
              0.5555555555555556,
              "#d8576b"
             ],
             [
              0.6666666666666666,
              "#ed7953"
             ],
             [
              0.7777777777777778,
              "#fb9f3a"
             ],
             [
              0.8888888888888888,
              "#fdca26"
             ],
             [
              1,
              "#f0f921"
             ]
            ],
            "type": "heatmap"
           }
          ],
          "heatmapgl": [
           {
            "colorbar": {
             "outlinewidth": 0,
             "ticks": ""
            },
            "colorscale": [
             [
              0,
              "#0d0887"
             ],
             [
              0.1111111111111111,
              "#46039f"
             ],
             [
              0.2222222222222222,
              "#7201a8"
             ],
             [
              0.3333333333333333,
              "#9c179e"
             ],
             [
              0.4444444444444444,
              "#bd3786"
             ],
             [
              0.5555555555555556,
              "#d8576b"
             ],
             [
              0.6666666666666666,
              "#ed7953"
             ],
             [
              0.7777777777777778,
              "#fb9f3a"
             ],
             [
              0.8888888888888888,
              "#fdca26"
             ],
             [
              1,
              "#f0f921"
             ]
            ],
            "type": "heatmapgl"
           }
          ],
          "histogram": [
           {
            "marker": {
             "pattern": {
              "fillmode": "overlay",
              "size": 10,
              "solidity": 0.2
             }
            },
            "type": "histogram"
           }
          ],
          "histogram2d": [
           {
            "colorbar": {
             "outlinewidth": 0,
             "ticks": ""
            },
            "colorscale": [
             [
              0,
              "#0d0887"
             ],
             [
              0.1111111111111111,
              "#46039f"
             ],
             [
              0.2222222222222222,
              "#7201a8"
             ],
             [
              0.3333333333333333,
              "#9c179e"
             ],
             [
              0.4444444444444444,
              "#bd3786"
             ],
             [
              0.5555555555555556,
              "#d8576b"
             ],
             [
              0.6666666666666666,
              "#ed7953"
             ],
             [
              0.7777777777777778,
              "#fb9f3a"
             ],
             [
              0.8888888888888888,
              "#fdca26"
             ],
             [
              1,
              "#f0f921"
             ]
            ],
            "type": "histogram2d"
           }
          ],
          "histogram2dcontour": [
           {
            "colorbar": {
             "outlinewidth": 0,
             "ticks": ""
            },
            "colorscale": [
             [
              0,
              "#0d0887"
             ],
             [
              0.1111111111111111,
              "#46039f"
             ],
             [
              0.2222222222222222,
              "#7201a8"
             ],
             [
              0.3333333333333333,
              "#9c179e"
             ],
             [
              0.4444444444444444,
              "#bd3786"
             ],
             [
              0.5555555555555556,
              "#d8576b"
             ],
             [
              0.6666666666666666,
              "#ed7953"
             ],
             [
              0.7777777777777778,
              "#fb9f3a"
             ],
             [
              0.8888888888888888,
              "#fdca26"
             ],
             [
              1,
              "#f0f921"
             ]
            ],
            "type": "histogram2dcontour"
           }
          ],
          "mesh3d": [
           {
            "colorbar": {
             "outlinewidth": 0,
             "ticks": ""
            },
            "type": "mesh3d"
           }
          ],
          "parcoords": [
           {
            "line": {
             "colorbar": {
              "outlinewidth": 0,
              "ticks": ""
             }
            },
            "type": "parcoords"
           }
          ],
          "pie": [
           {
            "automargin": true,
            "type": "pie"
           }
          ],
          "scatter": [
           {
            "fillpattern": {
             "fillmode": "overlay",
             "size": 10,
             "solidity": 0.2
            },
            "type": "scatter"
           }
          ],
          "scatter3d": [
           {
            "line": {
             "colorbar": {
              "outlinewidth": 0,
              "ticks": ""
             }
            },
            "marker": {
             "colorbar": {
              "outlinewidth": 0,
              "ticks": ""
             }
            },
            "type": "scatter3d"
           }
          ],
          "scattercarpet": [
           {
            "marker": {
             "colorbar": {
              "outlinewidth": 0,
              "ticks": ""
             }
            },
            "type": "scattercarpet"
           }
          ],
          "scattergeo": [
           {
            "marker": {
             "colorbar": {
              "outlinewidth": 0,
              "ticks": ""
             }
            },
            "type": "scattergeo"
           }
          ],
          "scattergl": [
           {
            "marker": {
             "colorbar": {
              "outlinewidth": 0,
              "ticks": ""
             }
            },
            "type": "scattergl"
           }
          ],
          "scattermapbox": [
           {
            "marker": {
             "colorbar": {
              "outlinewidth": 0,
              "ticks": ""
             }
            },
            "type": "scattermapbox"
           }
          ],
          "scatterpolar": [
           {
            "marker": {
             "colorbar": {
              "outlinewidth": 0,
              "ticks": ""
             }
            },
            "type": "scatterpolar"
           }
          ],
          "scatterpolargl": [
           {
            "marker": {
             "colorbar": {
              "outlinewidth": 0,
              "ticks": ""
             }
            },
            "type": "scatterpolargl"
           }
          ],
          "scatterternary": [
           {
            "marker": {
             "colorbar": {
              "outlinewidth": 0,
              "ticks": ""
             }
            },
            "type": "scatterternary"
           }
          ],
          "surface": [
           {
            "colorbar": {
             "outlinewidth": 0,
             "ticks": ""
            },
            "colorscale": [
             [
              0,
              "#0d0887"
             ],
             [
              0.1111111111111111,
              "#46039f"
             ],
             [
              0.2222222222222222,
              "#7201a8"
             ],
             [
              0.3333333333333333,
              "#9c179e"
             ],
             [
              0.4444444444444444,
              "#bd3786"
             ],
             [
              0.5555555555555556,
              "#d8576b"
             ],
             [
              0.6666666666666666,
              "#ed7953"
             ],
             [
              0.7777777777777778,
              "#fb9f3a"
             ],
             [
              0.8888888888888888,
              "#fdca26"
             ],
             [
              1,
              "#f0f921"
             ]
            ],
            "type": "surface"
           }
          ],
          "table": [
           {
            "cells": {
             "fill": {
              "color": "#EBF0F8"
             },
             "line": {
              "color": "white"
             }
            },
            "header": {
             "fill": {
              "color": "#C8D4E3"
             },
             "line": {
              "color": "white"
             }
            },
            "type": "table"
           }
          ]
         },
         "layout": {
          "annotationdefaults": {
           "arrowcolor": "#2a3f5f",
           "arrowhead": 0,
           "arrowwidth": 1
          },
          "autotypenumbers": "strict",
          "coloraxis": {
           "colorbar": {
            "outlinewidth": 0,
            "ticks": ""
           }
          },
          "colorscale": {
           "diverging": [
            [
             0,
             "#8e0152"
            ],
            [
             0.1,
             "#c51b7d"
            ],
            [
             0.2,
             "#de77ae"
            ],
            [
             0.3,
             "#f1b6da"
            ],
            [
             0.4,
             "#fde0ef"
            ],
            [
             0.5,
             "#f7f7f7"
            ],
            [
             0.6,
             "#e6f5d0"
            ],
            [
             0.7,
             "#b8e186"
            ],
            [
             0.8,
             "#7fbc41"
            ],
            [
             0.9,
             "#4d9221"
            ],
            [
             1,
             "#276419"
            ]
           ],
           "sequential": [
            [
             0,
             "#0d0887"
            ],
            [
             0.1111111111111111,
             "#46039f"
            ],
            [
             0.2222222222222222,
             "#7201a8"
            ],
            [
             0.3333333333333333,
             "#9c179e"
            ],
            [
             0.4444444444444444,
             "#bd3786"
            ],
            [
             0.5555555555555556,
             "#d8576b"
            ],
            [
             0.6666666666666666,
             "#ed7953"
            ],
            [
             0.7777777777777778,
             "#fb9f3a"
            ],
            [
             0.8888888888888888,
             "#fdca26"
            ],
            [
             1,
             "#f0f921"
            ]
           ],
           "sequentialminus": [
            [
             0,
             "#0d0887"
            ],
            [
             0.1111111111111111,
             "#46039f"
            ],
            [
             0.2222222222222222,
             "#7201a8"
            ],
            [
             0.3333333333333333,
             "#9c179e"
            ],
            [
             0.4444444444444444,
             "#bd3786"
            ],
            [
             0.5555555555555556,
             "#d8576b"
            ],
            [
             0.6666666666666666,
             "#ed7953"
            ],
            [
             0.7777777777777778,
             "#fb9f3a"
            ],
            [
             0.8888888888888888,
             "#fdca26"
            ],
            [
             1,
             "#f0f921"
            ]
           ]
          },
          "colorway": [
           "#636efa",
           "#EF553B",
           "#00cc96",
           "#ab63fa",
           "#FFA15A",
           "#19d3f3",
           "#FF6692",
           "#B6E880",
           "#FF97FF",
           "#FECB52"
          ],
          "font": {
           "color": "#2a3f5f"
          },
          "geo": {
           "bgcolor": "white",
           "lakecolor": "white",
           "landcolor": "#E5ECF6",
           "showlakes": true,
           "showland": true,
           "subunitcolor": "white"
          },
          "hoverlabel": {
           "align": "left"
          },
          "hovermode": "closest",
          "mapbox": {
           "style": "light"
          },
          "paper_bgcolor": "white",
          "plot_bgcolor": "#E5ECF6",
          "polar": {
           "angularaxis": {
            "gridcolor": "white",
            "linecolor": "white",
            "ticks": ""
           },
           "bgcolor": "#E5ECF6",
           "radialaxis": {
            "gridcolor": "white",
            "linecolor": "white",
            "ticks": ""
           }
          },
          "scene": {
           "xaxis": {
            "backgroundcolor": "#E5ECF6",
            "gridcolor": "white",
            "gridwidth": 2,
            "linecolor": "white",
            "showbackground": true,
            "ticks": "",
            "zerolinecolor": "white"
           },
           "yaxis": {
            "backgroundcolor": "#E5ECF6",
            "gridcolor": "white",
            "gridwidth": 2,
            "linecolor": "white",
            "showbackground": true,
            "ticks": "",
            "zerolinecolor": "white"
           },
           "zaxis": {
            "backgroundcolor": "#E5ECF6",
            "gridcolor": "white",
            "gridwidth": 2,
            "linecolor": "white",
            "showbackground": true,
            "ticks": "",
            "zerolinecolor": "white"
           }
          },
          "shapedefaults": {
           "line": {
            "color": "#2a3f5f"
           }
          },
          "ternary": {
           "aaxis": {
            "gridcolor": "white",
            "linecolor": "white",
            "ticks": ""
           },
           "baxis": {
            "gridcolor": "white",
            "linecolor": "white",
            "ticks": ""
           },
           "bgcolor": "#E5ECF6",
           "caxis": {
            "gridcolor": "white",
            "linecolor": "white",
            "ticks": ""
           }
          },
          "title": {
           "x": 0.05
          },
          "xaxis": {
           "automargin": true,
           "gridcolor": "white",
           "linecolor": "white",
           "ticks": "",
           "title": {
            "standoff": 15
           },
           "zerolinecolor": "white",
           "zerolinewidth": 2
          },
          "yaxis": {
           "automargin": true,
           "gridcolor": "white",
           "linecolor": "white",
           "ticks": "",
           "title": {
            "standoff": 15
           },
           "zerolinecolor": "white",
           "zerolinewidth": 2
          }
         }
        },
        "xaxis": {
         "anchor": "y",
         "domain": [
          0,
          1
         ],
         "title": {
          "text": "variable"
         }
        },
        "yaxis": {
         "anchor": "x",
         "domain": [
          0,
          1
         ],
         "title": {
          "text": "value"
         }
        }
       }
      }
     },
     "metadata": {},
     "output_type": "display_data"
    }
   ],
   "source": [
    "fig=px.box(data_df[\"CompTotal\"])\n",
    "fig.update_traces(marker_color=\"gold\")\n",
    "fig.update_layout(plot_bgcolor=\"black\",paper_bgcolor=\"black\")"
   ]
  },
  {
   "cell_type": "code",
   "execution_count": 26,
   "metadata": {},
   "outputs": [],
   "source": [
    "upper_limit,lower_limit=get_upper_lower_limit(data_df,\"CompTotal\")\n",
    "data_df[\"CompTotal\"]=data_df[\"CompTotal\"].apply(lambda x: upper_limit if x > upper_limit else (lower_limit if x < lower_limit else x) )"
   ]
  },
  {
   "cell_type": "code",
   "execution_count": 27,
   "metadata": {},
   "outputs": [
    {
     "data": {
      "application/vnd.plotly.v1+json": {
       "config": {
        "plotlyServerURL": "https://plot.ly"
       },
       "data": [
        {
         "alignmentgroup": "True",
         "hovertemplate": "DevType=%{x}<br>CompTotal=%{text}<extra></extra>",
         "legendgroup": "",
         "marker": {
          "color": "#F0C826",
          "pattern": {
           "shape": ""
          }
         },
         "name": "",
         "offsetgroup": "",
         "orientation": "v",
         "showlegend": false,
         "text": [
          115500,
          92000,
          125000,
          100000
         ],
         "textposition": "outside",
         "type": "bar",
         "x": [
          "Data Engineer",
          "Data analyst",
          "Data scientist",
          "Database administrator"
         ],
         "xaxis": "x",
         "y": [
          115500,
          92000,
          125000,
          100000
         ],
         "yaxis": "y"
        }
       ],
       "layout": {
        "barmode": "relative",
        "font": {
         "color": "white"
        },
        "height": 600,
        "legend": {
         "tracegroupgap": 0
        },
        "margin": {
         "t": 60
        },
        "paper_bgcolor": "black",
        "plot_bgcolor": "black",
        "showlegend": false,
        "template": {
         "data": {
          "bar": [
           {
            "error_x": {
             "color": "#2a3f5f"
            },
            "error_y": {
             "color": "#2a3f5f"
            },
            "marker": {
             "line": {
              "color": "#E5ECF6",
              "width": 0.5
             },
             "pattern": {
              "fillmode": "overlay",
              "size": 10,
              "solidity": 0.2
             }
            },
            "type": "bar"
           }
          ],
          "barpolar": [
           {
            "marker": {
             "line": {
              "color": "#E5ECF6",
              "width": 0.5
             },
             "pattern": {
              "fillmode": "overlay",
              "size": 10,
              "solidity": 0.2
             }
            },
            "type": "barpolar"
           }
          ],
          "carpet": [
           {
            "aaxis": {
             "endlinecolor": "#2a3f5f",
             "gridcolor": "white",
             "linecolor": "white",
             "minorgridcolor": "white",
             "startlinecolor": "#2a3f5f"
            },
            "baxis": {
             "endlinecolor": "#2a3f5f",
             "gridcolor": "white",
             "linecolor": "white",
             "minorgridcolor": "white",
             "startlinecolor": "#2a3f5f"
            },
            "type": "carpet"
           }
          ],
          "choropleth": [
           {
            "colorbar": {
             "outlinewidth": 0,
             "ticks": ""
            },
            "type": "choropleth"
           }
          ],
          "contour": [
           {
            "colorbar": {
             "outlinewidth": 0,
             "ticks": ""
            },
            "colorscale": [
             [
              0,
              "#0d0887"
             ],
             [
              0.1111111111111111,
              "#46039f"
             ],
             [
              0.2222222222222222,
              "#7201a8"
             ],
             [
              0.3333333333333333,
              "#9c179e"
             ],
             [
              0.4444444444444444,
              "#bd3786"
             ],
             [
              0.5555555555555556,
              "#d8576b"
             ],
             [
              0.6666666666666666,
              "#ed7953"
             ],
             [
              0.7777777777777778,
              "#fb9f3a"
             ],
             [
              0.8888888888888888,
              "#fdca26"
             ],
             [
              1,
              "#f0f921"
             ]
            ],
            "type": "contour"
           }
          ],
          "contourcarpet": [
           {
            "colorbar": {
             "outlinewidth": 0,
             "ticks": ""
            },
            "type": "contourcarpet"
           }
          ],
          "heatmap": [
           {
            "colorbar": {
             "outlinewidth": 0,
             "ticks": ""
            },
            "colorscale": [
             [
              0,
              "#0d0887"
             ],
             [
              0.1111111111111111,
              "#46039f"
             ],
             [
              0.2222222222222222,
              "#7201a8"
             ],
             [
              0.3333333333333333,
              "#9c179e"
             ],
             [
              0.4444444444444444,
              "#bd3786"
             ],
             [
              0.5555555555555556,
              "#d8576b"
             ],
             [
              0.6666666666666666,
              "#ed7953"
             ],
             [
              0.7777777777777778,
              "#fb9f3a"
             ],
             [
              0.8888888888888888,
              "#fdca26"
             ],
             [
              1,
              "#f0f921"
             ]
            ],
            "type": "heatmap"
           }
          ],
          "heatmapgl": [
           {
            "colorbar": {
             "outlinewidth": 0,
             "ticks": ""
            },
            "colorscale": [
             [
              0,
              "#0d0887"
             ],
             [
              0.1111111111111111,
              "#46039f"
             ],
             [
              0.2222222222222222,
              "#7201a8"
             ],
             [
              0.3333333333333333,
              "#9c179e"
             ],
             [
              0.4444444444444444,
              "#bd3786"
             ],
             [
              0.5555555555555556,
              "#d8576b"
             ],
             [
              0.6666666666666666,
              "#ed7953"
             ],
             [
              0.7777777777777778,
              "#fb9f3a"
             ],
             [
              0.8888888888888888,
              "#fdca26"
             ],
             [
              1,
              "#f0f921"
             ]
            ],
            "type": "heatmapgl"
           }
          ],
          "histogram": [
           {
            "marker": {
             "pattern": {
              "fillmode": "overlay",
              "size": 10,
              "solidity": 0.2
             }
            },
            "type": "histogram"
           }
          ],
          "histogram2d": [
           {
            "colorbar": {
             "outlinewidth": 0,
             "ticks": ""
            },
            "colorscale": [
             [
              0,
              "#0d0887"
             ],
             [
              0.1111111111111111,
              "#46039f"
             ],
             [
              0.2222222222222222,
              "#7201a8"
             ],
             [
              0.3333333333333333,
              "#9c179e"
             ],
             [
              0.4444444444444444,
              "#bd3786"
             ],
             [
              0.5555555555555556,
              "#d8576b"
             ],
             [
              0.6666666666666666,
              "#ed7953"
             ],
             [
              0.7777777777777778,
              "#fb9f3a"
             ],
             [
              0.8888888888888888,
              "#fdca26"
             ],
             [
              1,
              "#f0f921"
             ]
            ],
            "type": "histogram2d"
           }
          ],
          "histogram2dcontour": [
           {
            "colorbar": {
             "outlinewidth": 0,
             "ticks": ""
            },
            "colorscale": [
             [
              0,
              "#0d0887"
             ],
             [
              0.1111111111111111,
              "#46039f"
             ],
             [
              0.2222222222222222,
              "#7201a8"
             ],
             [
              0.3333333333333333,
              "#9c179e"
             ],
             [
              0.4444444444444444,
              "#bd3786"
             ],
             [
              0.5555555555555556,
              "#d8576b"
             ],
             [
              0.6666666666666666,
              "#ed7953"
             ],
             [
              0.7777777777777778,
              "#fb9f3a"
             ],
             [
              0.8888888888888888,
              "#fdca26"
             ],
             [
              1,
              "#f0f921"
             ]
            ],
            "type": "histogram2dcontour"
           }
          ],
          "mesh3d": [
           {
            "colorbar": {
             "outlinewidth": 0,
             "ticks": ""
            },
            "type": "mesh3d"
           }
          ],
          "parcoords": [
           {
            "line": {
             "colorbar": {
              "outlinewidth": 0,
              "ticks": ""
             }
            },
            "type": "parcoords"
           }
          ],
          "pie": [
           {
            "automargin": true,
            "type": "pie"
           }
          ],
          "scatter": [
           {
            "fillpattern": {
             "fillmode": "overlay",
             "size": 10,
             "solidity": 0.2
            },
            "type": "scatter"
           }
          ],
          "scatter3d": [
           {
            "line": {
             "colorbar": {
              "outlinewidth": 0,
              "ticks": ""
             }
            },
            "marker": {
             "colorbar": {
              "outlinewidth": 0,
              "ticks": ""
             }
            },
            "type": "scatter3d"
           }
          ],
          "scattercarpet": [
           {
            "marker": {
             "colorbar": {
              "outlinewidth": 0,
              "ticks": ""
             }
            },
            "type": "scattercarpet"
           }
          ],
          "scattergeo": [
           {
            "marker": {
             "colorbar": {
              "outlinewidth": 0,
              "ticks": ""
             }
            },
            "type": "scattergeo"
           }
          ],
          "scattergl": [
           {
            "marker": {
             "colorbar": {
              "outlinewidth": 0,
              "ticks": ""
             }
            },
            "type": "scattergl"
           }
          ],
          "scattermapbox": [
           {
            "marker": {
             "colorbar": {
              "outlinewidth": 0,
              "ticks": ""
             }
            },
            "type": "scattermapbox"
           }
          ],
          "scatterpolar": [
           {
            "marker": {
             "colorbar": {
              "outlinewidth": 0,
              "ticks": ""
             }
            },
            "type": "scatterpolar"
           }
          ],
          "scatterpolargl": [
           {
            "marker": {
             "colorbar": {
              "outlinewidth": 0,
              "ticks": ""
             }
            },
            "type": "scatterpolargl"
           }
          ],
          "scatterternary": [
           {
            "marker": {
             "colorbar": {
              "outlinewidth": 0,
              "ticks": ""
             }
            },
            "type": "scatterternary"
           }
          ],
          "surface": [
           {
            "colorbar": {
             "outlinewidth": 0,
             "ticks": ""
            },
            "colorscale": [
             [
              0,
              "#0d0887"
             ],
             [
              0.1111111111111111,
              "#46039f"
             ],
             [
              0.2222222222222222,
              "#7201a8"
             ],
             [
              0.3333333333333333,
              "#9c179e"
             ],
             [
              0.4444444444444444,
              "#bd3786"
             ],
             [
              0.5555555555555556,
              "#d8576b"
             ],
             [
              0.6666666666666666,
              "#ed7953"
             ],
             [
              0.7777777777777778,
              "#fb9f3a"
             ],
             [
              0.8888888888888888,
              "#fdca26"
             ],
             [
              1,
              "#f0f921"
             ]
            ],
            "type": "surface"
           }
          ],
          "table": [
           {
            "cells": {
             "fill": {
              "color": "#EBF0F8"
             },
             "line": {
              "color": "white"
             }
            },
            "header": {
             "fill": {
              "color": "#C8D4E3"
             },
             "line": {
              "color": "white"
             }
            },
            "type": "table"
           }
          ]
         },
         "layout": {
          "annotationdefaults": {
           "arrowcolor": "#2a3f5f",
           "arrowhead": 0,
           "arrowwidth": 1
          },
          "autotypenumbers": "strict",
          "coloraxis": {
           "colorbar": {
            "outlinewidth": 0,
            "ticks": ""
           }
          },
          "colorscale": {
           "diverging": [
            [
             0,
             "#8e0152"
            ],
            [
             0.1,
             "#c51b7d"
            ],
            [
             0.2,
             "#de77ae"
            ],
            [
             0.3,
             "#f1b6da"
            ],
            [
             0.4,
             "#fde0ef"
            ],
            [
             0.5,
             "#f7f7f7"
            ],
            [
             0.6,
             "#e6f5d0"
            ],
            [
             0.7,
             "#b8e186"
            ],
            [
             0.8,
             "#7fbc41"
            ],
            [
             0.9,
             "#4d9221"
            ],
            [
             1,
             "#276419"
            ]
           ],
           "sequential": [
            [
             0,
             "#0d0887"
            ],
            [
             0.1111111111111111,
             "#46039f"
            ],
            [
             0.2222222222222222,
             "#7201a8"
            ],
            [
             0.3333333333333333,
             "#9c179e"
            ],
            [
             0.4444444444444444,
             "#bd3786"
            ],
            [
             0.5555555555555556,
             "#d8576b"
            ],
            [
             0.6666666666666666,
             "#ed7953"
            ],
            [
             0.7777777777777778,
             "#fb9f3a"
            ],
            [
             0.8888888888888888,
             "#fdca26"
            ],
            [
             1,
             "#f0f921"
            ]
           ],
           "sequentialminus": [
            [
             0,
             "#0d0887"
            ],
            [
             0.1111111111111111,
             "#46039f"
            ],
            [
             0.2222222222222222,
             "#7201a8"
            ],
            [
             0.3333333333333333,
             "#9c179e"
            ],
            [
             0.4444444444444444,
             "#bd3786"
            ],
            [
             0.5555555555555556,
             "#d8576b"
            ],
            [
             0.6666666666666666,
             "#ed7953"
            ],
            [
             0.7777777777777778,
             "#fb9f3a"
            ],
            [
             0.8888888888888888,
             "#fdca26"
            ],
            [
             1,
             "#f0f921"
            ]
           ]
          },
          "colorway": [
           "#636efa",
           "#EF553B",
           "#00cc96",
           "#ab63fa",
           "#FFA15A",
           "#19d3f3",
           "#FF6692",
           "#B6E880",
           "#FF97FF",
           "#FECB52"
          ],
          "font": {
           "color": "#2a3f5f"
          },
          "geo": {
           "bgcolor": "white",
           "lakecolor": "white",
           "landcolor": "#E5ECF6",
           "showlakes": true,
           "showland": true,
           "subunitcolor": "white"
          },
          "hoverlabel": {
           "align": "left"
          },
          "hovermode": "closest",
          "mapbox": {
           "style": "light"
          },
          "paper_bgcolor": "white",
          "plot_bgcolor": "#E5ECF6",
          "polar": {
           "angularaxis": {
            "gridcolor": "white",
            "linecolor": "white",
            "ticks": ""
           },
           "bgcolor": "#E5ECF6",
           "radialaxis": {
            "gridcolor": "white",
            "linecolor": "white",
            "ticks": ""
           }
          },
          "scene": {
           "xaxis": {
            "backgroundcolor": "#E5ECF6",
            "gridcolor": "white",
            "gridwidth": 2,
            "linecolor": "white",
            "showbackground": true,
            "ticks": "",
            "zerolinecolor": "white"
           },
           "yaxis": {
            "backgroundcolor": "#E5ECF6",
            "gridcolor": "white",
            "gridwidth": 2,
            "linecolor": "white",
            "showbackground": true,
            "ticks": "",
            "zerolinecolor": "white"
           },
           "zaxis": {
            "backgroundcolor": "#E5ECF6",
            "gridcolor": "white",
            "gridwidth": 2,
            "linecolor": "white",
            "showbackground": true,
            "ticks": "",
            "zerolinecolor": "white"
           }
          },
          "shapedefaults": {
           "line": {
            "color": "#2a3f5f"
           }
          },
          "ternary": {
           "aaxis": {
            "gridcolor": "white",
            "linecolor": "white",
            "ticks": ""
           },
           "baxis": {
            "gridcolor": "white",
            "linecolor": "white",
            "ticks": ""
           },
           "bgcolor": "#E5ECF6",
           "caxis": {
            "gridcolor": "white",
            "linecolor": "white",
            "ticks": ""
           }
          },
          "title": {
           "x": 0.05
          },
          "xaxis": {
           "automargin": true,
           "gridcolor": "white",
           "linecolor": "white",
           "ticks": "",
           "title": {
            "standoff": 15
           },
           "zerolinecolor": "white",
           "zerolinewidth": 2
          },
          "yaxis": {
           "automargin": true,
           "gridcolor": "white",
           "linecolor": "white",
           "ticks": "",
           "title": {
            "standoff": 15
           },
           "zerolinecolor": "white",
           "zerolinewidth": 2
          }
         }
        },
        "title": {
         "font": {
          "color": "white"
         },
         "text": "The Average income per job",
         "x": 0.5
        },
        "width": 800,
        "xaxis": {
         "anchor": "y",
         "domain": [
          0,
          1
         ],
         "title": {
          "text": "job Type"
         }
        },
        "yaxis": {
         "anchor": "x",
         "domain": [
          0,
          1
         ],
         "title": {
          "text": "Median Salary"
         }
        }
       }
      }
     },
     "metadata": {},
     "output_type": "display_data"
    }
   ],
   "source": [
    "tempdata=pd.DataFrame(data_df.groupby(\"DevType\")[\"CompTotal\"].median()).reset_index()\n",
    "paint_bar(df=tempdata,x=\"DevType\",y=\"CompTotal\",x_name=\"job Type\",y_name=\"Median Salary\",title=\"The Average income per job\",)"
   ]
  },
  {
   "cell_type": "code",
   "execution_count": 28,
   "metadata": {},
   "outputs": [],
   "source": [
    "\n",
    "data_df[\"YearsCodePro\"]=data_df[\"YearsCodePro\"].apply(cleaning_expiernce_years_of_writing_code)\n",
    "data_df[\"YearsCodeProClasses\"]=data_df[\"YearsCodePro\"].apply(classifying_years)\n",
    "data_df[\"WorkExpClasses\"]=data_df[\"WorkExp\"].apply(classifying_years)\n"
   ]
  },
  {
   "cell_type": "markdown",
   "metadata": {},
   "source": [
    "### Exploring the Income\n"
   ]
  },
  {
   "cell_type": "markdown",
   "metadata": {},
   "source": [
    "##### (when it comes to salary and income we need to discover for outliers)"
   ]
  },
  {
   "cell_type": "code",
   "execution_count": 29,
   "metadata": {},
   "outputs": [
    {
     "data": {
      "application/vnd.plotly.v1+json": {
       "config": {
        "plotlyServerURL": "https://plot.ly"
       },
       "data": [
        {
         "domain": {
          "x": [
           0,
           1
          ],
          "y": [
           0,
           1
          ]
         },
         "hovertemplate": "YearsCodeProClasses=%{label}<br>CompTotal=%{value}<extra></extra>",
         "labels": [
          "11:15",
          "1:5",
          "6:10",
          "above 15 yrs",
          "less than year"
         ],
         "legendgroup": "",
         "marker": {
          "colors": [
           "#FFDF00",
           "#2db923",
           "#083248",
           "#d459cd",
           "#f088eb",
           "#39e641"
          ]
         },
         "name": "",
         "showlegend": true,
         "type": "pie",
         "values": [
          222,
          984,
          749,
          370,
          94
         ]
        }
       ],
       "layout": {
        "font": {
         "color": "white"
        },
        "height": 600,
        "legend": {
         "tracegroupgap": 0
        },
        "margin": {
         "t": 60
        },
        "paper_bgcolor": "black",
        "plot_bgcolor": "black",
        "showlegend": true,
        "template": {
         "data": {
          "bar": [
           {
            "error_x": {
             "color": "#2a3f5f"
            },
            "error_y": {
             "color": "#2a3f5f"
            },
            "marker": {
             "line": {
              "color": "#E5ECF6",
              "width": 0.5
             },
             "pattern": {
              "fillmode": "overlay",
              "size": 10,
              "solidity": 0.2
             }
            },
            "type": "bar"
           }
          ],
          "barpolar": [
           {
            "marker": {
             "line": {
              "color": "#E5ECF6",
              "width": 0.5
             },
             "pattern": {
              "fillmode": "overlay",
              "size": 10,
              "solidity": 0.2
             }
            },
            "type": "barpolar"
           }
          ],
          "carpet": [
           {
            "aaxis": {
             "endlinecolor": "#2a3f5f",
             "gridcolor": "white",
             "linecolor": "white",
             "minorgridcolor": "white",
             "startlinecolor": "#2a3f5f"
            },
            "baxis": {
             "endlinecolor": "#2a3f5f",
             "gridcolor": "white",
             "linecolor": "white",
             "minorgridcolor": "white",
             "startlinecolor": "#2a3f5f"
            },
            "type": "carpet"
           }
          ],
          "choropleth": [
           {
            "colorbar": {
             "outlinewidth": 0,
             "ticks": ""
            },
            "type": "choropleth"
           }
          ],
          "contour": [
           {
            "colorbar": {
             "outlinewidth": 0,
             "ticks": ""
            },
            "colorscale": [
             [
              0,
              "#0d0887"
             ],
             [
              0.1111111111111111,
              "#46039f"
             ],
             [
              0.2222222222222222,
              "#7201a8"
             ],
             [
              0.3333333333333333,
              "#9c179e"
             ],
             [
              0.4444444444444444,
              "#bd3786"
             ],
             [
              0.5555555555555556,
              "#d8576b"
             ],
             [
              0.6666666666666666,
              "#ed7953"
             ],
             [
              0.7777777777777778,
              "#fb9f3a"
             ],
             [
              0.8888888888888888,
              "#fdca26"
             ],
             [
              1,
              "#f0f921"
             ]
            ],
            "type": "contour"
           }
          ],
          "contourcarpet": [
           {
            "colorbar": {
             "outlinewidth": 0,
             "ticks": ""
            },
            "type": "contourcarpet"
           }
          ],
          "heatmap": [
           {
            "colorbar": {
             "outlinewidth": 0,
             "ticks": ""
            },
            "colorscale": [
             [
              0,
              "#0d0887"
             ],
             [
              0.1111111111111111,
              "#46039f"
             ],
             [
              0.2222222222222222,
              "#7201a8"
             ],
             [
              0.3333333333333333,
              "#9c179e"
             ],
             [
              0.4444444444444444,
              "#bd3786"
             ],
             [
              0.5555555555555556,
              "#d8576b"
             ],
             [
              0.6666666666666666,
              "#ed7953"
             ],
             [
              0.7777777777777778,
              "#fb9f3a"
             ],
             [
              0.8888888888888888,
              "#fdca26"
             ],
             [
              1,
              "#f0f921"
             ]
            ],
            "type": "heatmap"
           }
          ],
          "heatmapgl": [
           {
            "colorbar": {
             "outlinewidth": 0,
             "ticks": ""
            },
            "colorscale": [
             [
              0,
              "#0d0887"
             ],
             [
              0.1111111111111111,
              "#46039f"
             ],
             [
              0.2222222222222222,
              "#7201a8"
             ],
             [
              0.3333333333333333,
              "#9c179e"
             ],
             [
              0.4444444444444444,
              "#bd3786"
             ],
             [
              0.5555555555555556,
              "#d8576b"
             ],
             [
              0.6666666666666666,
              "#ed7953"
             ],
             [
              0.7777777777777778,
              "#fb9f3a"
             ],
             [
              0.8888888888888888,
              "#fdca26"
             ],
             [
              1,
              "#f0f921"
             ]
            ],
            "type": "heatmapgl"
           }
          ],
          "histogram": [
           {
            "marker": {
             "pattern": {
              "fillmode": "overlay",
              "size": 10,
              "solidity": 0.2
             }
            },
            "type": "histogram"
           }
          ],
          "histogram2d": [
           {
            "colorbar": {
             "outlinewidth": 0,
             "ticks": ""
            },
            "colorscale": [
             [
              0,
              "#0d0887"
             ],
             [
              0.1111111111111111,
              "#46039f"
             ],
             [
              0.2222222222222222,
              "#7201a8"
             ],
             [
              0.3333333333333333,
              "#9c179e"
             ],
             [
              0.4444444444444444,
              "#bd3786"
             ],
             [
              0.5555555555555556,
              "#d8576b"
             ],
             [
              0.6666666666666666,
              "#ed7953"
             ],
             [
              0.7777777777777778,
              "#fb9f3a"
             ],
             [
              0.8888888888888888,
              "#fdca26"
             ],
             [
              1,
              "#f0f921"
             ]
            ],
            "type": "histogram2d"
           }
          ],
          "histogram2dcontour": [
           {
            "colorbar": {
             "outlinewidth": 0,
             "ticks": ""
            },
            "colorscale": [
             [
              0,
              "#0d0887"
             ],
             [
              0.1111111111111111,
              "#46039f"
             ],
             [
              0.2222222222222222,
              "#7201a8"
             ],
             [
              0.3333333333333333,
              "#9c179e"
             ],
             [
              0.4444444444444444,
              "#bd3786"
             ],
             [
              0.5555555555555556,
              "#d8576b"
             ],
             [
              0.6666666666666666,
              "#ed7953"
             ],
             [
              0.7777777777777778,
              "#fb9f3a"
             ],
             [
              0.8888888888888888,
              "#fdca26"
             ],
             [
              1,
              "#f0f921"
             ]
            ],
            "type": "histogram2dcontour"
           }
          ],
          "mesh3d": [
           {
            "colorbar": {
             "outlinewidth": 0,
             "ticks": ""
            },
            "type": "mesh3d"
           }
          ],
          "parcoords": [
           {
            "line": {
             "colorbar": {
              "outlinewidth": 0,
              "ticks": ""
             }
            },
            "type": "parcoords"
           }
          ],
          "pie": [
           {
            "automargin": true,
            "type": "pie"
           }
          ],
          "scatter": [
           {
            "fillpattern": {
             "fillmode": "overlay",
             "size": 10,
             "solidity": 0.2
            },
            "type": "scatter"
           }
          ],
          "scatter3d": [
           {
            "line": {
             "colorbar": {
              "outlinewidth": 0,
              "ticks": ""
             }
            },
            "marker": {
             "colorbar": {
              "outlinewidth": 0,
              "ticks": ""
             }
            },
            "type": "scatter3d"
           }
          ],
          "scattercarpet": [
           {
            "marker": {
             "colorbar": {
              "outlinewidth": 0,
              "ticks": ""
             }
            },
            "type": "scattercarpet"
           }
          ],
          "scattergeo": [
           {
            "marker": {
             "colorbar": {
              "outlinewidth": 0,
              "ticks": ""
             }
            },
            "type": "scattergeo"
           }
          ],
          "scattergl": [
           {
            "marker": {
             "colorbar": {
              "outlinewidth": 0,
              "ticks": ""
             }
            },
            "type": "scattergl"
           }
          ],
          "scattermapbox": [
           {
            "marker": {
             "colorbar": {
              "outlinewidth": 0,
              "ticks": ""
             }
            },
            "type": "scattermapbox"
           }
          ],
          "scatterpolar": [
           {
            "marker": {
             "colorbar": {
              "outlinewidth": 0,
              "ticks": ""
             }
            },
            "type": "scatterpolar"
           }
          ],
          "scatterpolargl": [
           {
            "marker": {
             "colorbar": {
              "outlinewidth": 0,
              "ticks": ""
             }
            },
            "type": "scatterpolargl"
           }
          ],
          "scatterternary": [
           {
            "marker": {
             "colorbar": {
              "outlinewidth": 0,
              "ticks": ""
             }
            },
            "type": "scatterternary"
           }
          ],
          "surface": [
           {
            "colorbar": {
             "outlinewidth": 0,
             "ticks": ""
            },
            "colorscale": [
             [
              0,
              "#0d0887"
             ],
             [
              0.1111111111111111,
              "#46039f"
             ],
             [
              0.2222222222222222,
              "#7201a8"
             ],
             [
              0.3333333333333333,
              "#9c179e"
             ],
             [
              0.4444444444444444,
              "#bd3786"
             ],
             [
              0.5555555555555556,
              "#d8576b"
             ],
             [
              0.6666666666666666,
              "#ed7953"
             ],
             [
              0.7777777777777778,
              "#fb9f3a"
             ],
             [
              0.8888888888888888,
              "#fdca26"
             ],
             [
              1,
              "#f0f921"
             ]
            ],
            "type": "surface"
           }
          ],
          "table": [
           {
            "cells": {
             "fill": {
              "color": "#EBF0F8"
             },
             "line": {
              "color": "white"
             }
            },
            "header": {
             "fill": {
              "color": "#C8D4E3"
             },
             "line": {
              "color": "white"
             }
            },
            "type": "table"
           }
          ]
         },
         "layout": {
          "annotationdefaults": {
           "arrowcolor": "#2a3f5f",
           "arrowhead": 0,
           "arrowwidth": 1
          },
          "autotypenumbers": "strict",
          "coloraxis": {
           "colorbar": {
            "outlinewidth": 0,
            "ticks": ""
           }
          },
          "colorscale": {
           "diverging": [
            [
             0,
             "#8e0152"
            ],
            [
             0.1,
             "#c51b7d"
            ],
            [
             0.2,
             "#de77ae"
            ],
            [
             0.3,
             "#f1b6da"
            ],
            [
             0.4,
             "#fde0ef"
            ],
            [
             0.5,
             "#f7f7f7"
            ],
            [
             0.6,
             "#e6f5d0"
            ],
            [
             0.7,
             "#b8e186"
            ],
            [
             0.8,
             "#7fbc41"
            ],
            [
             0.9,
             "#4d9221"
            ],
            [
             1,
             "#276419"
            ]
           ],
           "sequential": [
            [
             0,
             "#0d0887"
            ],
            [
             0.1111111111111111,
             "#46039f"
            ],
            [
             0.2222222222222222,
             "#7201a8"
            ],
            [
             0.3333333333333333,
             "#9c179e"
            ],
            [
             0.4444444444444444,
             "#bd3786"
            ],
            [
             0.5555555555555556,
             "#d8576b"
            ],
            [
             0.6666666666666666,
             "#ed7953"
            ],
            [
             0.7777777777777778,
             "#fb9f3a"
            ],
            [
             0.8888888888888888,
             "#fdca26"
            ],
            [
             1,
             "#f0f921"
            ]
           ],
           "sequentialminus": [
            [
             0,
             "#0d0887"
            ],
            [
             0.1111111111111111,
             "#46039f"
            ],
            [
             0.2222222222222222,
             "#7201a8"
            ],
            [
             0.3333333333333333,
             "#9c179e"
            ],
            [
             0.4444444444444444,
             "#bd3786"
            ],
            [
             0.5555555555555556,
             "#d8576b"
            ],
            [
             0.6666666666666666,
             "#ed7953"
            ],
            [
             0.7777777777777778,
             "#fb9f3a"
            ],
            [
             0.8888888888888888,
             "#fdca26"
            ],
            [
             1,
             "#f0f921"
            ]
           ]
          },
          "colorway": [
           "#636efa",
           "#EF553B",
           "#00cc96",
           "#ab63fa",
           "#FFA15A",
           "#19d3f3",
           "#FF6692",
           "#B6E880",
           "#FF97FF",
           "#FECB52"
          ],
          "font": {
           "color": "#2a3f5f"
          },
          "geo": {
           "bgcolor": "white",
           "lakecolor": "white",
           "landcolor": "#E5ECF6",
           "showlakes": true,
           "showland": true,
           "subunitcolor": "white"
          },
          "hoverlabel": {
           "align": "left"
          },
          "hovermode": "closest",
          "mapbox": {
           "style": "light"
          },
          "paper_bgcolor": "white",
          "plot_bgcolor": "#E5ECF6",
          "polar": {
           "angularaxis": {
            "gridcolor": "white",
            "linecolor": "white",
            "ticks": ""
           },
           "bgcolor": "#E5ECF6",
           "radialaxis": {
            "gridcolor": "white",
            "linecolor": "white",
            "ticks": ""
           }
          },
          "scene": {
           "xaxis": {
            "backgroundcolor": "#E5ECF6",
            "gridcolor": "white",
            "gridwidth": 2,
            "linecolor": "white",
            "showbackground": true,
            "ticks": "",
            "zerolinecolor": "white"
           },
           "yaxis": {
            "backgroundcolor": "#E5ECF6",
            "gridcolor": "white",
            "gridwidth": 2,
            "linecolor": "white",
            "showbackground": true,
            "ticks": "",
            "zerolinecolor": "white"
           },
           "zaxis": {
            "backgroundcolor": "#E5ECF6",
            "gridcolor": "white",
            "gridwidth": 2,
            "linecolor": "white",
            "showbackground": true,
            "ticks": "",
            "zerolinecolor": "white"
           }
          },
          "shapedefaults": {
           "line": {
            "color": "#2a3f5f"
           }
          },
          "ternary": {
           "aaxis": {
            "gridcolor": "white",
            "linecolor": "white",
            "ticks": ""
           },
           "baxis": {
            "gridcolor": "white",
            "linecolor": "white",
            "ticks": ""
           },
           "bgcolor": "#E5ECF6",
           "caxis": {
            "gridcolor": "white",
            "linecolor": "white",
            "ticks": ""
           }
          },
          "title": {
           "x": 0.05
          },
          "xaxis": {
           "automargin": true,
           "gridcolor": "white",
           "linecolor": "white",
           "ticks": "",
           "title": {
            "standoff": 15
           },
           "zerolinecolor": "white",
           "zerolinewidth": 2
          },
          "yaxis": {
           "automargin": true,
           "gridcolor": "white",
           "linecolor": "white",
           "ticks": "",
           "title": {
            "standoff": 15
           },
           "zerolinecolor": "white",
           "zerolinewidth": 2
          }
         }
        },
        "title": {
         "font": {
          "color": "white"
         },
         "text": "the Percentage of each (Coding) experince years catagory",
         "x": 0.5
        },
        "width": 800
       }
      }
     },
     "metadata": {},
     "output_type": "display_data"
    }
   ],
   "source": [
    "############################ the percentgae of expiernce catagories ############################\n",
    "coding_ex=pd.DataFrame(data_df.groupby(\"YearsCodeProClasses\")[\"CompTotal\"].count()).reset_index()\n",
    "coding_ex.drop(index=3,inplace=True)\n",
    "\n",
    "\n",
    "fig=px.pie(data_frame=coding_ex,values=\"CompTotal\",names=\"YearsCodeProClasses\")\n",
    "fig=fig_style(fig,title=\"the Percentage of each (Coding) experince years catagory\",legend=True)\n",
    "fig.update_traces(marker_colors=color_list)\n"
   ]
  },
  {
   "cell_type": "code",
   "execution_count": 30,
   "metadata": {},
   "outputs": [
    {
     "data": {
      "application/vnd.plotly.v1+json": {
       "config": {
        "plotlyServerURL": "https://plot.ly"
       },
       "data": [
        {
         "alignmentgroup": "True",
         "hovertemplate": "YearsCodeProClasses=%{x}<br>CompTotal=%{text}<extra></extra>",
         "legendgroup": "",
         "marker": {
          "color": "#F0C826",
          "pattern": {
           "shape": ""
          }
         },
         "name": "",
         "offsetgroup": "",
         "orientation": "v",
         "showlegend": false,
         "text": [
          65000,
          90000,
          122500,
          130000,
          145000
         ],
         "textposition": "outside",
         "type": "bar",
         "x": [
          "less than year",
          "1:5",
          "above 15 yrs",
          "6:10",
          "11:15"
         ],
         "xaxis": "x",
         "y": [
          65000,
          90000,
          122500,
          130000,
          145000
         ],
         "yaxis": "y"
        }
       ],
       "layout": {
        "barmode": "relative",
        "font": {
         "color": "white"
        },
        "height": 600,
        "legend": {
         "tracegroupgap": 0
        },
        "margin": {
         "t": 60
        },
        "paper_bgcolor": "black",
        "plot_bgcolor": "black",
        "showlegend": false,
        "template": {
         "data": {
          "bar": [
           {
            "error_x": {
             "color": "#2a3f5f"
            },
            "error_y": {
             "color": "#2a3f5f"
            },
            "marker": {
             "line": {
              "color": "#E5ECF6",
              "width": 0.5
             },
             "pattern": {
              "fillmode": "overlay",
              "size": 10,
              "solidity": 0.2
             }
            },
            "type": "bar"
           }
          ],
          "barpolar": [
           {
            "marker": {
             "line": {
              "color": "#E5ECF6",
              "width": 0.5
             },
             "pattern": {
              "fillmode": "overlay",
              "size": 10,
              "solidity": 0.2
             }
            },
            "type": "barpolar"
           }
          ],
          "carpet": [
           {
            "aaxis": {
             "endlinecolor": "#2a3f5f",
             "gridcolor": "white",
             "linecolor": "white",
             "minorgridcolor": "white",
             "startlinecolor": "#2a3f5f"
            },
            "baxis": {
             "endlinecolor": "#2a3f5f",
             "gridcolor": "white",
             "linecolor": "white",
             "minorgridcolor": "white",
             "startlinecolor": "#2a3f5f"
            },
            "type": "carpet"
           }
          ],
          "choropleth": [
           {
            "colorbar": {
             "outlinewidth": 0,
             "ticks": ""
            },
            "type": "choropleth"
           }
          ],
          "contour": [
           {
            "colorbar": {
             "outlinewidth": 0,
             "ticks": ""
            },
            "colorscale": [
             [
              0,
              "#0d0887"
             ],
             [
              0.1111111111111111,
              "#46039f"
             ],
             [
              0.2222222222222222,
              "#7201a8"
             ],
             [
              0.3333333333333333,
              "#9c179e"
             ],
             [
              0.4444444444444444,
              "#bd3786"
             ],
             [
              0.5555555555555556,
              "#d8576b"
             ],
             [
              0.6666666666666666,
              "#ed7953"
             ],
             [
              0.7777777777777778,
              "#fb9f3a"
             ],
             [
              0.8888888888888888,
              "#fdca26"
             ],
             [
              1,
              "#f0f921"
             ]
            ],
            "type": "contour"
           }
          ],
          "contourcarpet": [
           {
            "colorbar": {
             "outlinewidth": 0,
             "ticks": ""
            },
            "type": "contourcarpet"
           }
          ],
          "heatmap": [
           {
            "colorbar": {
             "outlinewidth": 0,
             "ticks": ""
            },
            "colorscale": [
             [
              0,
              "#0d0887"
             ],
             [
              0.1111111111111111,
              "#46039f"
             ],
             [
              0.2222222222222222,
              "#7201a8"
             ],
             [
              0.3333333333333333,
              "#9c179e"
             ],
             [
              0.4444444444444444,
              "#bd3786"
             ],
             [
              0.5555555555555556,
              "#d8576b"
             ],
             [
              0.6666666666666666,
              "#ed7953"
             ],
             [
              0.7777777777777778,
              "#fb9f3a"
             ],
             [
              0.8888888888888888,
              "#fdca26"
             ],
             [
              1,
              "#f0f921"
             ]
            ],
            "type": "heatmap"
           }
          ],
          "heatmapgl": [
           {
            "colorbar": {
             "outlinewidth": 0,
             "ticks": ""
            },
            "colorscale": [
             [
              0,
              "#0d0887"
             ],
             [
              0.1111111111111111,
              "#46039f"
             ],
             [
              0.2222222222222222,
              "#7201a8"
             ],
             [
              0.3333333333333333,
              "#9c179e"
             ],
             [
              0.4444444444444444,
              "#bd3786"
             ],
             [
              0.5555555555555556,
              "#d8576b"
             ],
             [
              0.6666666666666666,
              "#ed7953"
             ],
             [
              0.7777777777777778,
              "#fb9f3a"
             ],
             [
              0.8888888888888888,
              "#fdca26"
             ],
             [
              1,
              "#f0f921"
             ]
            ],
            "type": "heatmapgl"
           }
          ],
          "histogram": [
           {
            "marker": {
             "pattern": {
              "fillmode": "overlay",
              "size": 10,
              "solidity": 0.2
             }
            },
            "type": "histogram"
           }
          ],
          "histogram2d": [
           {
            "colorbar": {
             "outlinewidth": 0,
             "ticks": ""
            },
            "colorscale": [
             [
              0,
              "#0d0887"
             ],
             [
              0.1111111111111111,
              "#46039f"
             ],
             [
              0.2222222222222222,
              "#7201a8"
             ],
             [
              0.3333333333333333,
              "#9c179e"
             ],
             [
              0.4444444444444444,
              "#bd3786"
             ],
             [
              0.5555555555555556,
              "#d8576b"
             ],
             [
              0.6666666666666666,
              "#ed7953"
             ],
             [
              0.7777777777777778,
              "#fb9f3a"
             ],
             [
              0.8888888888888888,
              "#fdca26"
             ],
             [
              1,
              "#f0f921"
             ]
            ],
            "type": "histogram2d"
           }
          ],
          "histogram2dcontour": [
           {
            "colorbar": {
             "outlinewidth": 0,
             "ticks": ""
            },
            "colorscale": [
             [
              0,
              "#0d0887"
             ],
             [
              0.1111111111111111,
              "#46039f"
             ],
             [
              0.2222222222222222,
              "#7201a8"
             ],
             [
              0.3333333333333333,
              "#9c179e"
             ],
             [
              0.4444444444444444,
              "#bd3786"
             ],
             [
              0.5555555555555556,
              "#d8576b"
             ],
             [
              0.6666666666666666,
              "#ed7953"
             ],
             [
              0.7777777777777778,
              "#fb9f3a"
             ],
             [
              0.8888888888888888,
              "#fdca26"
             ],
             [
              1,
              "#f0f921"
             ]
            ],
            "type": "histogram2dcontour"
           }
          ],
          "mesh3d": [
           {
            "colorbar": {
             "outlinewidth": 0,
             "ticks": ""
            },
            "type": "mesh3d"
           }
          ],
          "parcoords": [
           {
            "line": {
             "colorbar": {
              "outlinewidth": 0,
              "ticks": ""
             }
            },
            "type": "parcoords"
           }
          ],
          "pie": [
           {
            "automargin": true,
            "type": "pie"
           }
          ],
          "scatter": [
           {
            "fillpattern": {
             "fillmode": "overlay",
             "size": 10,
             "solidity": 0.2
            },
            "type": "scatter"
           }
          ],
          "scatter3d": [
           {
            "line": {
             "colorbar": {
              "outlinewidth": 0,
              "ticks": ""
             }
            },
            "marker": {
             "colorbar": {
              "outlinewidth": 0,
              "ticks": ""
             }
            },
            "type": "scatter3d"
           }
          ],
          "scattercarpet": [
           {
            "marker": {
             "colorbar": {
              "outlinewidth": 0,
              "ticks": ""
             }
            },
            "type": "scattercarpet"
           }
          ],
          "scattergeo": [
           {
            "marker": {
             "colorbar": {
              "outlinewidth": 0,
              "ticks": ""
             }
            },
            "type": "scattergeo"
           }
          ],
          "scattergl": [
           {
            "marker": {
             "colorbar": {
              "outlinewidth": 0,
              "ticks": ""
             }
            },
            "type": "scattergl"
           }
          ],
          "scattermapbox": [
           {
            "marker": {
             "colorbar": {
              "outlinewidth": 0,
              "ticks": ""
             }
            },
            "type": "scattermapbox"
           }
          ],
          "scatterpolar": [
           {
            "marker": {
             "colorbar": {
              "outlinewidth": 0,
              "ticks": ""
             }
            },
            "type": "scatterpolar"
           }
          ],
          "scatterpolargl": [
           {
            "marker": {
             "colorbar": {
              "outlinewidth": 0,
              "ticks": ""
             }
            },
            "type": "scatterpolargl"
           }
          ],
          "scatterternary": [
           {
            "marker": {
             "colorbar": {
              "outlinewidth": 0,
              "ticks": ""
             }
            },
            "type": "scatterternary"
           }
          ],
          "surface": [
           {
            "colorbar": {
             "outlinewidth": 0,
             "ticks": ""
            },
            "colorscale": [
             [
              0,
              "#0d0887"
             ],
             [
              0.1111111111111111,
              "#46039f"
             ],
             [
              0.2222222222222222,
              "#7201a8"
             ],
             [
              0.3333333333333333,
              "#9c179e"
             ],
             [
              0.4444444444444444,
              "#bd3786"
             ],
             [
              0.5555555555555556,
              "#d8576b"
             ],
             [
              0.6666666666666666,
              "#ed7953"
             ],
             [
              0.7777777777777778,
              "#fb9f3a"
             ],
             [
              0.8888888888888888,
              "#fdca26"
             ],
             [
              1,
              "#f0f921"
             ]
            ],
            "type": "surface"
           }
          ],
          "table": [
           {
            "cells": {
             "fill": {
              "color": "#EBF0F8"
             },
             "line": {
              "color": "white"
             }
            },
            "header": {
             "fill": {
              "color": "#C8D4E3"
             },
             "line": {
              "color": "white"
             }
            },
            "type": "table"
           }
          ]
         },
         "layout": {
          "annotationdefaults": {
           "arrowcolor": "#2a3f5f",
           "arrowhead": 0,
           "arrowwidth": 1
          },
          "autotypenumbers": "strict",
          "coloraxis": {
           "colorbar": {
            "outlinewidth": 0,
            "ticks": ""
           }
          },
          "colorscale": {
           "diverging": [
            [
             0,
             "#8e0152"
            ],
            [
             0.1,
             "#c51b7d"
            ],
            [
             0.2,
             "#de77ae"
            ],
            [
             0.3,
             "#f1b6da"
            ],
            [
             0.4,
             "#fde0ef"
            ],
            [
             0.5,
             "#f7f7f7"
            ],
            [
             0.6,
             "#e6f5d0"
            ],
            [
             0.7,
             "#b8e186"
            ],
            [
             0.8,
             "#7fbc41"
            ],
            [
             0.9,
             "#4d9221"
            ],
            [
             1,
             "#276419"
            ]
           ],
           "sequential": [
            [
             0,
             "#0d0887"
            ],
            [
             0.1111111111111111,
             "#46039f"
            ],
            [
             0.2222222222222222,
             "#7201a8"
            ],
            [
             0.3333333333333333,
             "#9c179e"
            ],
            [
             0.4444444444444444,
             "#bd3786"
            ],
            [
             0.5555555555555556,
             "#d8576b"
            ],
            [
             0.6666666666666666,
             "#ed7953"
            ],
            [
             0.7777777777777778,
             "#fb9f3a"
            ],
            [
             0.8888888888888888,
             "#fdca26"
            ],
            [
             1,
             "#f0f921"
            ]
           ],
           "sequentialminus": [
            [
             0,
             "#0d0887"
            ],
            [
             0.1111111111111111,
             "#46039f"
            ],
            [
             0.2222222222222222,
             "#7201a8"
            ],
            [
             0.3333333333333333,
             "#9c179e"
            ],
            [
             0.4444444444444444,
             "#bd3786"
            ],
            [
             0.5555555555555556,
             "#d8576b"
            ],
            [
             0.6666666666666666,
             "#ed7953"
            ],
            [
             0.7777777777777778,
             "#fb9f3a"
            ],
            [
             0.8888888888888888,
             "#fdca26"
            ],
            [
             1,
             "#f0f921"
            ]
           ]
          },
          "colorway": [
           "#636efa",
           "#EF553B",
           "#00cc96",
           "#ab63fa",
           "#FFA15A",
           "#19d3f3",
           "#FF6692",
           "#B6E880",
           "#FF97FF",
           "#FECB52"
          ],
          "font": {
           "color": "#2a3f5f"
          },
          "geo": {
           "bgcolor": "white",
           "lakecolor": "white",
           "landcolor": "#E5ECF6",
           "showlakes": true,
           "showland": true,
           "subunitcolor": "white"
          },
          "hoverlabel": {
           "align": "left"
          },
          "hovermode": "closest",
          "mapbox": {
           "style": "light"
          },
          "paper_bgcolor": "white",
          "plot_bgcolor": "#E5ECF6",
          "polar": {
           "angularaxis": {
            "gridcolor": "white",
            "linecolor": "white",
            "ticks": ""
           },
           "bgcolor": "#E5ECF6",
           "radialaxis": {
            "gridcolor": "white",
            "linecolor": "white",
            "ticks": ""
           }
          },
          "scene": {
           "xaxis": {
            "backgroundcolor": "#E5ECF6",
            "gridcolor": "white",
            "gridwidth": 2,
            "linecolor": "white",
            "showbackground": true,
            "ticks": "",
            "zerolinecolor": "white"
           },
           "yaxis": {
            "backgroundcolor": "#E5ECF6",
            "gridcolor": "white",
            "gridwidth": 2,
            "linecolor": "white",
            "showbackground": true,
            "ticks": "",
            "zerolinecolor": "white"
           },
           "zaxis": {
            "backgroundcolor": "#E5ECF6",
            "gridcolor": "white",
            "gridwidth": 2,
            "linecolor": "white",
            "showbackground": true,
            "ticks": "",
            "zerolinecolor": "white"
           }
          },
          "shapedefaults": {
           "line": {
            "color": "#2a3f5f"
           }
          },
          "ternary": {
           "aaxis": {
            "gridcolor": "white",
            "linecolor": "white",
            "ticks": ""
           },
           "baxis": {
            "gridcolor": "white",
            "linecolor": "white",
            "ticks": ""
           },
           "bgcolor": "#E5ECF6",
           "caxis": {
            "gridcolor": "white",
            "linecolor": "white",
            "ticks": ""
           }
          },
          "title": {
           "x": 0.05
          },
          "xaxis": {
           "automargin": true,
           "gridcolor": "white",
           "linecolor": "white",
           "ticks": "",
           "title": {
            "standoff": 15
           },
           "zerolinecolor": "white",
           "zerolinewidth": 2
          },
          "yaxis": {
           "automargin": true,
           "gridcolor": "white",
           "linecolor": "white",
           "ticks": "",
           "title": {
            "standoff": 15
           },
           "zerolinecolor": "white",
           "zerolinewidth": 2
          }
         }
        },
        "title": {
         "font": {
          "color": "white"
         },
         "text": "The Average salry per years of professional coding",
         "x": 0.5
        },
        "width": 800,
        "xaxis": {
         "anchor": "y",
         "domain": [
          0,
          1
         ],
         "title": {
          "text": "Experince Year Catagory"
         }
        },
        "yaxis": {
         "anchor": "x",
         "domain": [
          0,
          1
         ],
         "title": {
          "text": "The median Salary"
         }
        }
       }
      }
     },
     "metadata": {},
     "output_type": "display_data"
    }
   ],
   "source": [
    "############################ the median salary per coding experinec ############################\n",
    "coding_ex=pd.DataFrame(data_df.groupby(\"YearsCodeProClasses\")[\"CompTotal\"].median()).reset_index()\n",
    "coding_ex.drop(index=3,inplace=True)   # deleting the unkown years experince\n",
    "\n",
    "\n",
    "coding_ex.sort_values(by=\"CompTotal\",inplace=True)\n",
    "paint_bar(df=coding_ex,title=\"The Average salry per years of professional coding\",x=\"YearsCodeProClasses\",y=\"CompTotal\",x_name=\"Experince Year Catagory\",y_name=\"The median Salary\")"
   ]
  },
  {
   "cell_type": "code",
   "execution_count": 31,
   "metadata": {},
   "outputs": [
    {
     "data": {
      "application/vnd.plotly.v1+json": {
       "config": {
        "plotlyServerURL": "https://plot.ly"
       },
       "data": [
        {
         "domain": {
          "x": [
           0,
           1
          ],
          "y": [
           0,
           1
          ]
         },
         "hovertemplate": "WorkExpClasses=%{label}<br>CompTotal=%{value}<extra></extra>",
         "labels": [
          "11:15",
          "1:5",
          "6:10",
          "above 15 yrs",
          "less than year"
         ],
         "legendgroup": "",
         "marker": {
          "colors": [
           "#FFDF00",
           "#2db923",
           "#083248",
           "#d459cd",
           "#f088eb",
           "#39e641"
          ]
         },
         "name": "",
         "showlegend": true,
         "type": "pie",
         "values": [
          208,
          567,
          472,
          324,
          10
         ]
        }
       ],
       "layout": {
        "font": {
         "color": "white"
        },
        "height": 600,
        "legend": {
         "tracegroupgap": 0
        },
        "margin": {
         "t": 60
        },
        "paper_bgcolor": "black",
        "plot_bgcolor": "black",
        "showlegend": true,
        "template": {
         "data": {
          "bar": [
           {
            "error_x": {
             "color": "#2a3f5f"
            },
            "error_y": {
             "color": "#2a3f5f"
            },
            "marker": {
             "line": {
              "color": "#E5ECF6",
              "width": 0.5
             },
             "pattern": {
              "fillmode": "overlay",
              "size": 10,
              "solidity": 0.2
             }
            },
            "type": "bar"
           }
          ],
          "barpolar": [
           {
            "marker": {
             "line": {
              "color": "#E5ECF6",
              "width": 0.5
             },
             "pattern": {
              "fillmode": "overlay",
              "size": 10,
              "solidity": 0.2
             }
            },
            "type": "barpolar"
           }
          ],
          "carpet": [
           {
            "aaxis": {
             "endlinecolor": "#2a3f5f",
             "gridcolor": "white",
             "linecolor": "white",
             "minorgridcolor": "white",
             "startlinecolor": "#2a3f5f"
            },
            "baxis": {
             "endlinecolor": "#2a3f5f",
             "gridcolor": "white",
             "linecolor": "white",
             "minorgridcolor": "white",
             "startlinecolor": "#2a3f5f"
            },
            "type": "carpet"
           }
          ],
          "choropleth": [
           {
            "colorbar": {
             "outlinewidth": 0,
             "ticks": ""
            },
            "type": "choropleth"
           }
          ],
          "contour": [
           {
            "colorbar": {
             "outlinewidth": 0,
             "ticks": ""
            },
            "colorscale": [
             [
              0,
              "#0d0887"
             ],
             [
              0.1111111111111111,
              "#46039f"
             ],
             [
              0.2222222222222222,
              "#7201a8"
             ],
             [
              0.3333333333333333,
              "#9c179e"
             ],
             [
              0.4444444444444444,
              "#bd3786"
             ],
             [
              0.5555555555555556,
              "#d8576b"
             ],
             [
              0.6666666666666666,
              "#ed7953"
             ],
             [
              0.7777777777777778,
              "#fb9f3a"
             ],
             [
              0.8888888888888888,
              "#fdca26"
             ],
             [
              1,
              "#f0f921"
             ]
            ],
            "type": "contour"
           }
          ],
          "contourcarpet": [
           {
            "colorbar": {
             "outlinewidth": 0,
             "ticks": ""
            },
            "type": "contourcarpet"
           }
          ],
          "heatmap": [
           {
            "colorbar": {
             "outlinewidth": 0,
             "ticks": ""
            },
            "colorscale": [
             [
              0,
              "#0d0887"
             ],
             [
              0.1111111111111111,
              "#46039f"
             ],
             [
              0.2222222222222222,
              "#7201a8"
             ],
             [
              0.3333333333333333,
              "#9c179e"
             ],
             [
              0.4444444444444444,
              "#bd3786"
             ],
             [
              0.5555555555555556,
              "#d8576b"
             ],
             [
              0.6666666666666666,
              "#ed7953"
             ],
             [
              0.7777777777777778,
              "#fb9f3a"
             ],
             [
              0.8888888888888888,
              "#fdca26"
             ],
             [
              1,
              "#f0f921"
             ]
            ],
            "type": "heatmap"
           }
          ],
          "heatmapgl": [
           {
            "colorbar": {
             "outlinewidth": 0,
             "ticks": ""
            },
            "colorscale": [
             [
              0,
              "#0d0887"
             ],
             [
              0.1111111111111111,
              "#46039f"
             ],
             [
              0.2222222222222222,
              "#7201a8"
             ],
             [
              0.3333333333333333,
              "#9c179e"
             ],
             [
              0.4444444444444444,
              "#bd3786"
             ],
             [
              0.5555555555555556,
              "#d8576b"
             ],
             [
              0.6666666666666666,
              "#ed7953"
             ],
             [
              0.7777777777777778,
              "#fb9f3a"
             ],
             [
              0.8888888888888888,
              "#fdca26"
             ],
             [
              1,
              "#f0f921"
             ]
            ],
            "type": "heatmapgl"
           }
          ],
          "histogram": [
           {
            "marker": {
             "pattern": {
              "fillmode": "overlay",
              "size": 10,
              "solidity": 0.2
             }
            },
            "type": "histogram"
           }
          ],
          "histogram2d": [
           {
            "colorbar": {
             "outlinewidth": 0,
             "ticks": ""
            },
            "colorscale": [
             [
              0,
              "#0d0887"
             ],
             [
              0.1111111111111111,
              "#46039f"
             ],
             [
              0.2222222222222222,
              "#7201a8"
             ],
             [
              0.3333333333333333,
              "#9c179e"
             ],
             [
              0.4444444444444444,
              "#bd3786"
             ],
             [
              0.5555555555555556,
              "#d8576b"
             ],
             [
              0.6666666666666666,
              "#ed7953"
             ],
             [
              0.7777777777777778,
              "#fb9f3a"
             ],
             [
              0.8888888888888888,
              "#fdca26"
             ],
             [
              1,
              "#f0f921"
             ]
            ],
            "type": "histogram2d"
           }
          ],
          "histogram2dcontour": [
           {
            "colorbar": {
             "outlinewidth": 0,
             "ticks": ""
            },
            "colorscale": [
             [
              0,
              "#0d0887"
             ],
             [
              0.1111111111111111,
              "#46039f"
             ],
             [
              0.2222222222222222,
              "#7201a8"
             ],
             [
              0.3333333333333333,
              "#9c179e"
             ],
             [
              0.4444444444444444,
              "#bd3786"
             ],
             [
              0.5555555555555556,
              "#d8576b"
             ],
             [
              0.6666666666666666,
              "#ed7953"
             ],
             [
              0.7777777777777778,
              "#fb9f3a"
             ],
             [
              0.8888888888888888,
              "#fdca26"
             ],
             [
              1,
              "#f0f921"
             ]
            ],
            "type": "histogram2dcontour"
           }
          ],
          "mesh3d": [
           {
            "colorbar": {
             "outlinewidth": 0,
             "ticks": ""
            },
            "type": "mesh3d"
           }
          ],
          "parcoords": [
           {
            "line": {
             "colorbar": {
              "outlinewidth": 0,
              "ticks": ""
             }
            },
            "type": "parcoords"
           }
          ],
          "pie": [
           {
            "automargin": true,
            "type": "pie"
           }
          ],
          "scatter": [
           {
            "fillpattern": {
             "fillmode": "overlay",
             "size": 10,
             "solidity": 0.2
            },
            "type": "scatter"
           }
          ],
          "scatter3d": [
           {
            "line": {
             "colorbar": {
              "outlinewidth": 0,
              "ticks": ""
             }
            },
            "marker": {
             "colorbar": {
              "outlinewidth": 0,
              "ticks": ""
             }
            },
            "type": "scatter3d"
           }
          ],
          "scattercarpet": [
           {
            "marker": {
             "colorbar": {
              "outlinewidth": 0,
              "ticks": ""
             }
            },
            "type": "scattercarpet"
           }
          ],
          "scattergeo": [
           {
            "marker": {
             "colorbar": {
              "outlinewidth": 0,
              "ticks": ""
             }
            },
            "type": "scattergeo"
           }
          ],
          "scattergl": [
           {
            "marker": {
             "colorbar": {
              "outlinewidth": 0,
              "ticks": ""
             }
            },
            "type": "scattergl"
           }
          ],
          "scattermapbox": [
           {
            "marker": {
             "colorbar": {
              "outlinewidth": 0,
              "ticks": ""
             }
            },
            "type": "scattermapbox"
           }
          ],
          "scatterpolar": [
           {
            "marker": {
             "colorbar": {
              "outlinewidth": 0,
              "ticks": ""
             }
            },
            "type": "scatterpolar"
           }
          ],
          "scatterpolargl": [
           {
            "marker": {
             "colorbar": {
              "outlinewidth": 0,
              "ticks": ""
             }
            },
            "type": "scatterpolargl"
           }
          ],
          "scatterternary": [
           {
            "marker": {
             "colorbar": {
              "outlinewidth": 0,
              "ticks": ""
             }
            },
            "type": "scatterternary"
           }
          ],
          "surface": [
           {
            "colorbar": {
             "outlinewidth": 0,
             "ticks": ""
            },
            "colorscale": [
             [
              0,
              "#0d0887"
             ],
             [
              0.1111111111111111,
              "#46039f"
             ],
             [
              0.2222222222222222,
              "#7201a8"
             ],
             [
              0.3333333333333333,
              "#9c179e"
             ],
             [
              0.4444444444444444,
              "#bd3786"
             ],
             [
              0.5555555555555556,
              "#d8576b"
             ],
             [
              0.6666666666666666,
              "#ed7953"
             ],
             [
              0.7777777777777778,
              "#fb9f3a"
             ],
             [
              0.8888888888888888,
              "#fdca26"
             ],
             [
              1,
              "#f0f921"
             ]
            ],
            "type": "surface"
           }
          ],
          "table": [
           {
            "cells": {
             "fill": {
              "color": "#EBF0F8"
             },
             "line": {
              "color": "white"
             }
            },
            "header": {
             "fill": {
              "color": "#C8D4E3"
             },
             "line": {
              "color": "white"
             }
            },
            "type": "table"
           }
          ]
         },
         "layout": {
          "annotationdefaults": {
           "arrowcolor": "#2a3f5f",
           "arrowhead": 0,
           "arrowwidth": 1
          },
          "autotypenumbers": "strict",
          "coloraxis": {
           "colorbar": {
            "outlinewidth": 0,
            "ticks": ""
           }
          },
          "colorscale": {
           "diverging": [
            [
             0,
             "#8e0152"
            ],
            [
             0.1,
             "#c51b7d"
            ],
            [
             0.2,
             "#de77ae"
            ],
            [
             0.3,
             "#f1b6da"
            ],
            [
             0.4,
             "#fde0ef"
            ],
            [
             0.5,
             "#f7f7f7"
            ],
            [
             0.6,
             "#e6f5d0"
            ],
            [
             0.7,
             "#b8e186"
            ],
            [
             0.8,
             "#7fbc41"
            ],
            [
             0.9,
             "#4d9221"
            ],
            [
             1,
             "#276419"
            ]
           ],
           "sequential": [
            [
             0,
             "#0d0887"
            ],
            [
             0.1111111111111111,
             "#46039f"
            ],
            [
             0.2222222222222222,
             "#7201a8"
            ],
            [
             0.3333333333333333,
             "#9c179e"
            ],
            [
             0.4444444444444444,
             "#bd3786"
            ],
            [
             0.5555555555555556,
             "#d8576b"
            ],
            [
             0.6666666666666666,
             "#ed7953"
            ],
            [
             0.7777777777777778,
             "#fb9f3a"
            ],
            [
             0.8888888888888888,
             "#fdca26"
            ],
            [
             1,
             "#f0f921"
            ]
           ],
           "sequentialminus": [
            [
             0,
             "#0d0887"
            ],
            [
             0.1111111111111111,
             "#46039f"
            ],
            [
             0.2222222222222222,
             "#7201a8"
            ],
            [
             0.3333333333333333,
             "#9c179e"
            ],
            [
             0.4444444444444444,
             "#bd3786"
            ],
            [
             0.5555555555555556,
             "#d8576b"
            ],
            [
             0.6666666666666666,
             "#ed7953"
            ],
            [
             0.7777777777777778,
             "#fb9f3a"
            ],
            [
             0.8888888888888888,
             "#fdca26"
            ],
            [
             1,
             "#f0f921"
            ]
           ]
          },
          "colorway": [
           "#636efa",
           "#EF553B",
           "#00cc96",
           "#ab63fa",
           "#FFA15A",
           "#19d3f3",
           "#FF6692",
           "#B6E880",
           "#FF97FF",
           "#FECB52"
          ],
          "font": {
           "color": "#2a3f5f"
          },
          "geo": {
           "bgcolor": "white",
           "lakecolor": "white",
           "landcolor": "#E5ECF6",
           "showlakes": true,
           "showland": true,
           "subunitcolor": "white"
          },
          "hoverlabel": {
           "align": "left"
          },
          "hovermode": "closest",
          "mapbox": {
           "style": "light"
          },
          "paper_bgcolor": "white",
          "plot_bgcolor": "#E5ECF6",
          "polar": {
           "angularaxis": {
            "gridcolor": "white",
            "linecolor": "white",
            "ticks": ""
           },
           "bgcolor": "#E5ECF6",
           "radialaxis": {
            "gridcolor": "white",
            "linecolor": "white",
            "ticks": ""
           }
          },
          "scene": {
           "xaxis": {
            "backgroundcolor": "#E5ECF6",
            "gridcolor": "white",
            "gridwidth": 2,
            "linecolor": "white",
            "showbackground": true,
            "ticks": "",
            "zerolinecolor": "white"
           },
           "yaxis": {
            "backgroundcolor": "#E5ECF6",
            "gridcolor": "white",
            "gridwidth": 2,
            "linecolor": "white",
            "showbackground": true,
            "ticks": "",
            "zerolinecolor": "white"
           },
           "zaxis": {
            "backgroundcolor": "#E5ECF6",
            "gridcolor": "white",
            "gridwidth": 2,
            "linecolor": "white",
            "showbackground": true,
            "ticks": "",
            "zerolinecolor": "white"
           }
          },
          "shapedefaults": {
           "line": {
            "color": "#2a3f5f"
           }
          },
          "ternary": {
           "aaxis": {
            "gridcolor": "white",
            "linecolor": "white",
            "ticks": ""
           },
           "baxis": {
            "gridcolor": "white",
            "linecolor": "white",
            "ticks": ""
           },
           "bgcolor": "#E5ECF6",
           "caxis": {
            "gridcolor": "white",
            "linecolor": "white",
            "ticks": ""
           }
          },
          "title": {
           "x": 0.05
          },
          "xaxis": {
           "automargin": true,
           "gridcolor": "white",
           "linecolor": "white",
           "ticks": "",
           "title": {
            "standoff": 15
           },
           "zerolinecolor": "white",
           "zerolinewidth": 2
          },
          "yaxis": {
           "automargin": true,
           "gridcolor": "white",
           "linecolor": "white",
           "ticks": "",
           "title": {
            "standoff": 15
           },
           "zerolinecolor": "white",
           "zerolinewidth": 2
          }
         }
        },
        "title": {
         "font": {
          "color": "white"
         },
         "text": "the Percentage of of each (Working) experince catagory",
         "x": 0.5
        },
        "width": 800
       }
      }
     },
     "metadata": {},
     "output_type": "display_data"
    }
   ],
   "source": [
    "Exp_class=pd.DataFrame(data_df.groupby(\"WorkExpClasses\")[\"CompTotal\"].count()).reset_index()\n",
    "Exp_class.drop(index=3,inplace=True)\n",
    "\n",
    "\n",
    "fig=px.pie(data_frame=Exp_class,values=\"CompTotal\",names=\"WorkExpClasses\")\n",
    "fig=fig_style(fig,title=\"the Percentage of of each (Working) experince catagory\",legend=True)\n",
    "\n",
    "fig.update_traces(marker_colors=color_list)\n",
    "fig"
   ]
  },
  {
   "cell_type": "code",
   "execution_count": 32,
   "metadata": {},
   "outputs": [
    {
     "data": {
      "application/vnd.plotly.v1+json": {
       "config": {
        "plotlyServerURL": "https://plot.ly"
       },
       "data": [
        {
         "alignmentgroup": "True",
         "hovertemplate": "WorkExpClasses=%{x}<br>CompTotal=%{text}<extra></extra>",
         "legendgroup": "",
         "marker": {
          "color": "#F0C826",
          "pattern": {
           "shape": ""
          }
         },
         "name": "",
         "offsetgroup": "",
         "orientation": "v",
         "showlegend": false,
         "text": [
          90000,
          120000,
          133750,
          140000,
          204000
         ],
         "textposition": "outside",
         "type": "bar",
         "x": [
          "1:5",
          "above 15 yrs",
          "6:10",
          "11:15",
          "less than year"
         ],
         "xaxis": "x",
         "y": [
          90000,
          120000,
          133750,
          140000,
          204000
         ],
         "yaxis": "y"
        }
       ],
       "layout": {
        "barmode": "relative",
        "font": {
         "color": "white"
        },
        "height": 600,
        "legend": {
         "tracegroupgap": 0
        },
        "margin": {
         "t": 60
        },
        "paper_bgcolor": "black",
        "plot_bgcolor": "black",
        "showlegend": false,
        "template": {
         "data": {
          "bar": [
           {
            "error_x": {
             "color": "#2a3f5f"
            },
            "error_y": {
             "color": "#2a3f5f"
            },
            "marker": {
             "line": {
              "color": "#E5ECF6",
              "width": 0.5
             },
             "pattern": {
              "fillmode": "overlay",
              "size": 10,
              "solidity": 0.2
             }
            },
            "type": "bar"
           }
          ],
          "barpolar": [
           {
            "marker": {
             "line": {
              "color": "#E5ECF6",
              "width": 0.5
             },
             "pattern": {
              "fillmode": "overlay",
              "size": 10,
              "solidity": 0.2
             }
            },
            "type": "barpolar"
           }
          ],
          "carpet": [
           {
            "aaxis": {
             "endlinecolor": "#2a3f5f",
             "gridcolor": "white",
             "linecolor": "white",
             "minorgridcolor": "white",
             "startlinecolor": "#2a3f5f"
            },
            "baxis": {
             "endlinecolor": "#2a3f5f",
             "gridcolor": "white",
             "linecolor": "white",
             "minorgridcolor": "white",
             "startlinecolor": "#2a3f5f"
            },
            "type": "carpet"
           }
          ],
          "choropleth": [
           {
            "colorbar": {
             "outlinewidth": 0,
             "ticks": ""
            },
            "type": "choropleth"
           }
          ],
          "contour": [
           {
            "colorbar": {
             "outlinewidth": 0,
             "ticks": ""
            },
            "colorscale": [
             [
              0,
              "#0d0887"
             ],
             [
              0.1111111111111111,
              "#46039f"
             ],
             [
              0.2222222222222222,
              "#7201a8"
             ],
             [
              0.3333333333333333,
              "#9c179e"
             ],
             [
              0.4444444444444444,
              "#bd3786"
             ],
             [
              0.5555555555555556,
              "#d8576b"
             ],
             [
              0.6666666666666666,
              "#ed7953"
             ],
             [
              0.7777777777777778,
              "#fb9f3a"
             ],
             [
              0.8888888888888888,
              "#fdca26"
             ],
             [
              1,
              "#f0f921"
             ]
            ],
            "type": "contour"
           }
          ],
          "contourcarpet": [
           {
            "colorbar": {
             "outlinewidth": 0,
             "ticks": ""
            },
            "type": "contourcarpet"
           }
          ],
          "heatmap": [
           {
            "colorbar": {
             "outlinewidth": 0,
             "ticks": ""
            },
            "colorscale": [
             [
              0,
              "#0d0887"
             ],
             [
              0.1111111111111111,
              "#46039f"
             ],
             [
              0.2222222222222222,
              "#7201a8"
             ],
             [
              0.3333333333333333,
              "#9c179e"
             ],
             [
              0.4444444444444444,
              "#bd3786"
             ],
             [
              0.5555555555555556,
              "#d8576b"
             ],
             [
              0.6666666666666666,
              "#ed7953"
             ],
             [
              0.7777777777777778,
              "#fb9f3a"
             ],
             [
              0.8888888888888888,
              "#fdca26"
             ],
             [
              1,
              "#f0f921"
             ]
            ],
            "type": "heatmap"
           }
          ],
          "heatmapgl": [
           {
            "colorbar": {
             "outlinewidth": 0,
             "ticks": ""
            },
            "colorscale": [
             [
              0,
              "#0d0887"
             ],
             [
              0.1111111111111111,
              "#46039f"
             ],
             [
              0.2222222222222222,
              "#7201a8"
             ],
             [
              0.3333333333333333,
              "#9c179e"
             ],
             [
              0.4444444444444444,
              "#bd3786"
             ],
             [
              0.5555555555555556,
              "#d8576b"
             ],
             [
              0.6666666666666666,
              "#ed7953"
             ],
             [
              0.7777777777777778,
              "#fb9f3a"
             ],
             [
              0.8888888888888888,
              "#fdca26"
             ],
             [
              1,
              "#f0f921"
             ]
            ],
            "type": "heatmapgl"
           }
          ],
          "histogram": [
           {
            "marker": {
             "pattern": {
              "fillmode": "overlay",
              "size": 10,
              "solidity": 0.2
             }
            },
            "type": "histogram"
           }
          ],
          "histogram2d": [
           {
            "colorbar": {
             "outlinewidth": 0,
             "ticks": ""
            },
            "colorscale": [
             [
              0,
              "#0d0887"
             ],
             [
              0.1111111111111111,
              "#46039f"
             ],
             [
              0.2222222222222222,
              "#7201a8"
             ],
             [
              0.3333333333333333,
              "#9c179e"
             ],
             [
              0.4444444444444444,
              "#bd3786"
             ],
             [
              0.5555555555555556,
              "#d8576b"
             ],
             [
              0.6666666666666666,
              "#ed7953"
             ],
             [
              0.7777777777777778,
              "#fb9f3a"
             ],
             [
              0.8888888888888888,
              "#fdca26"
             ],
             [
              1,
              "#f0f921"
             ]
            ],
            "type": "histogram2d"
           }
          ],
          "histogram2dcontour": [
           {
            "colorbar": {
             "outlinewidth": 0,
             "ticks": ""
            },
            "colorscale": [
             [
              0,
              "#0d0887"
             ],
             [
              0.1111111111111111,
              "#46039f"
             ],
             [
              0.2222222222222222,
              "#7201a8"
             ],
             [
              0.3333333333333333,
              "#9c179e"
             ],
             [
              0.4444444444444444,
              "#bd3786"
             ],
             [
              0.5555555555555556,
              "#d8576b"
             ],
             [
              0.6666666666666666,
              "#ed7953"
             ],
             [
              0.7777777777777778,
              "#fb9f3a"
             ],
             [
              0.8888888888888888,
              "#fdca26"
             ],
             [
              1,
              "#f0f921"
             ]
            ],
            "type": "histogram2dcontour"
           }
          ],
          "mesh3d": [
           {
            "colorbar": {
             "outlinewidth": 0,
             "ticks": ""
            },
            "type": "mesh3d"
           }
          ],
          "parcoords": [
           {
            "line": {
             "colorbar": {
              "outlinewidth": 0,
              "ticks": ""
             }
            },
            "type": "parcoords"
           }
          ],
          "pie": [
           {
            "automargin": true,
            "type": "pie"
           }
          ],
          "scatter": [
           {
            "fillpattern": {
             "fillmode": "overlay",
             "size": 10,
             "solidity": 0.2
            },
            "type": "scatter"
           }
          ],
          "scatter3d": [
           {
            "line": {
             "colorbar": {
              "outlinewidth": 0,
              "ticks": ""
             }
            },
            "marker": {
             "colorbar": {
              "outlinewidth": 0,
              "ticks": ""
             }
            },
            "type": "scatter3d"
           }
          ],
          "scattercarpet": [
           {
            "marker": {
             "colorbar": {
              "outlinewidth": 0,
              "ticks": ""
             }
            },
            "type": "scattercarpet"
           }
          ],
          "scattergeo": [
           {
            "marker": {
             "colorbar": {
              "outlinewidth": 0,
              "ticks": ""
             }
            },
            "type": "scattergeo"
           }
          ],
          "scattergl": [
           {
            "marker": {
             "colorbar": {
              "outlinewidth": 0,
              "ticks": ""
             }
            },
            "type": "scattergl"
           }
          ],
          "scattermapbox": [
           {
            "marker": {
             "colorbar": {
              "outlinewidth": 0,
              "ticks": ""
             }
            },
            "type": "scattermapbox"
           }
          ],
          "scatterpolar": [
           {
            "marker": {
             "colorbar": {
              "outlinewidth": 0,
              "ticks": ""
             }
            },
            "type": "scatterpolar"
           }
          ],
          "scatterpolargl": [
           {
            "marker": {
             "colorbar": {
              "outlinewidth": 0,
              "ticks": ""
             }
            },
            "type": "scatterpolargl"
           }
          ],
          "scatterternary": [
           {
            "marker": {
             "colorbar": {
              "outlinewidth": 0,
              "ticks": ""
             }
            },
            "type": "scatterternary"
           }
          ],
          "surface": [
           {
            "colorbar": {
             "outlinewidth": 0,
             "ticks": ""
            },
            "colorscale": [
             [
              0,
              "#0d0887"
             ],
             [
              0.1111111111111111,
              "#46039f"
             ],
             [
              0.2222222222222222,
              "#7201a8"
             ],
             [
              0.3333333333333333,
              "#9c179e"
             ],
             [
              0.4444444444444444,
              "#bd3786"
             ],
             [
              0.5555555555555556,
              "#d8576b"
             ],
             [
              0.6666666666666666,
              "#ed7953"
             ],
             [
              0.7777777777777778,
              "#fb9f3a"
             ],
             [
              0.8888888888888888,
              "#fdca26"
             ],
             [
              1,
              "#f0f921"
             ]
            ],
            "type": "surface"
           }
          ],
          "table": [
           {
            "cells": {
             "fill": {
              "color": "#EBF0F8"
             },
             "line": {
              "color": "white"
             }
            },
            "header": {
             "fill": {
              "color": "#C8D4E3"
             },
             "line": {
              "color": "white"
             }
            },
            "type": "table"
           }
          ]
         },
         "layout": {
          "annotationdefaults": {
           "arrowcolor": "#2a3f5f",
           "arrowhead": 0,
           "arrowwidth": 1
          },
          "autotypenumbers": "strict",
          "coloraxis": {
           "colorbar": {
            "outlinewidth": 0,
            "ticks": ""
           }
          },
          "colorscale": {
           "diverging": [
            [
             0,
             "#8e0152"
            ],
            [
             0.1,
             "#c51b7d"
            ],
            [
             0.2,
             "#de77ae"
            ],
            [
             0.3,
             "#f1b6da"
            ],
            [
             0.4,
             "#fde0ef"
            ],
            [
             0.5,
             "#f7f7f7"
            ],
            [
             0.6,
             "#e6f5d0"
            ],
            [
             0.7,
             "#b8e186"
            ],
            [
             0.8,
             "#7fbc41"
            ],
            [
             0.9,
             "#4d9221"
            ],
            [
             1,
             "#276419"
            ]
           ],
           "sequential": [
            [
             0,
             "#0d0887"
            ],
            [
             0.1111111111111111,
             "#46039f"
            ],
            [
             0.2222222222222222,
             "#7201a8"
            ],
            [
             0.3333333333333333,
             "#9c179e"
            ],
            [
             0.4444444444444444,
             "#bd3786"
            ],
            [
             0.5555555555555556,
             "#d8576b"
            ],
            [
             0.6666666666666666,
             "#ed7953"
            ],
            [
             0.7777777777777778,
             "#fb9f3a"
            ],
            [
             0.8888888888888888,
             "#fdca26"
            ],
            [
             1,
             "#f0f921"
            ]
           ],
           "sequentialminus": [
            [
             0,
             "#0d0887"
            ],
            [
             0.1111111111111111,
             "#46039f"
            ],
            [
             0.2222222222222222,
             "#7201a8"
            ],
            [
             0.3333333333333333,
             "#9c179e"
            ],
            [
             0.4444444444444444,
             "#bd3786"
            ],
            [
             0.5555555555555556,
             "#d8576b"
            ],
            [
             0.6666666666666666,
             "#ed7953"
            ],
            [
             0.7777777777777778,
             "#fb9f3a"
            ],
            [
             0.8888888888888888,
             "#fdca26"
            ],
            [
             1,
             "#f0f921"
            ]
           ]
          },
          "colorway": [
           "#636efa",
           "#EF553B",
           "#00cc96",
           "#ab63fa",
           "#FFA15A",
           "#19d3f3",
           "#FF6692",
           "#B6E880",
           "#FF97FF",
           "#FECB52"
          ],
          "font": {
           "color": "#2a3f5f"
          },
          "geo": {
           "bgcolor": "white",
           "lakecolor": "white",
           "landcolor": "#E5ECF6",
           "showlakes": true,
           "showland": true,
           "subunitcolor": "white"
          },
          "hoverlabel": {
           "align": "left"
          },
          "hovermode": "closest",
          "mapbox": {
           "style": "light"
          },
          "paper_bgcolor": "white",
          "plot_bgcolor": "#E5ECF6",
          "polar": {
           "angularaxis": {
            "gridcolor": "white",
            "linecolor": "white",
            "ticks": ""
           },
           "bgcolor": "#E5ECF6",
           "radialaxis": {
            "gridcolor": "white",
            "linecolor": "white",
            "ticks": ""
           }
          },
          "scene": {
           "xaxis": {
            "backgroundcolor": "#E5ECF6",
            "gridcolor": "white",
            "gridwidth": 2,
            "linecolor": "white",
            "showbackground": true,
            "ticks": "",
            "zerolinecolor": "white"
           },
           "yaxis": {
            "backgroundcolor": "#E5ECF6",
            "gridcolor": "white",
            "gridwidth": 2,
            "linecolor": "white",
            "showbackground": true,
            "ticks": "",
            "zerolinecolor": "white"
           },
           "zaxis": {
            "backgroundcolor": "#E5ECF6",
            "gridcolor": "white",
            "gridwidth": 2,
            "linecolor": "white",
            "showbackground": true,
            "ticks": "",
            "zerolinecolor": "white"
           }
          },
          "shapedefaults": {
           "line": {
            "color": "#2a3f5f"
           }
          },
          "ternary": {
           "aaxis": {
            "gridcolor": "white",
            "linecolor": "white",
            "ticks": ""
           },
           "baxis": {
            "gridcolor": "white",
            "linecolor": "white",
            "ticks": ""
           },
           "bgcolor": "#E5ECF6",
           "caxis": {
            "gridcolor": "white",
            "linecolor": "white",
            "ticks": ""
           }
          },
          "title": {
           "x": 0.05
          },
          "xaxis": {
           "automargin": true,
           "gridcolor": "white",
           "linecolor": "white",
           "ticks": "",
           "title": {
            "standoff": 15
           },
           "zerolinecolor": "white",
           "zerolinewidth": 2
          },
          "yaxis": {
           "automargin": true,
           "gridcolor": "white",
           "linecolor": "white",
           "ticks": "",
           "title": {
            "standoff": 15
           },
           "zerolinecolor": "white",
           "zerolinewidth": 2
          }
         }
        },
        "title": {
         "font": {
          "color": "white"
         },
         "text": "The Average Salary per Working Experience of Data Professionals",
         "x": 0.5
        },
        "width": 800,
        "xaxis": {
         "anchor": "y",
         "domain": [
          0,
          1
         ],
         "title": {
          "text": "Experince Year Catagory"
         }
        },
        "yaxis": {
         "anchor": "x",
         "domain": [
          0,
          1
         ],
         "title": {
          "text": "The median Salary"
         }
        }
       }
      }
     },
     "metadata": {},
     "output_type": "display_data"
    }
   ],
   "source": [
    "tempdata=pd.DataFrame(data_df.groupby(\"WorkExpClasses\")[\"CompTotal\"].median()).reset_index()\n",
    "tempdata.drop(index=3,inplace=True)\n",
    "\n",
    "\n",
    "tempdata.sort_values(by=\"CompTotal\",inplace=True)\n",
    "paint_bar(df=tempdata,title=\"The Average Salary per Working Experience of Data Professionals\",x=\"WorkExpClasses\",y=\"CompTotal\",x_name=\"Experince Year Catagory\",y_name=\"The median Salary\")"
   ]
  },
  {
   "cell_type": "code",
   "execution_count": 33,
   "metadata": {},
   "outputs": [
    {
     "data": {
      "application/vnd.plotly.v1+json": {
       "config": {
        "plotlyServerURL": "https://plot.ly"
       },
       "data": [
        {
         "domain": {
          "x": [
           0,
           1
          ],
          "y": [
           0,
           1
          ]
         },
         "hovertemplate": "WorkExpClasses=%{label}<br>CompTotal=%{value}<extra></extra>",
         "labels": [
          "1:5",
          "above 15 yrs",
          "6:10",
          "11:15",
          "less than year"
         ],
         "legendgroup": "",
         "marker": {
          "colors": [
           "#FFDF00",
           "#2db923",
           "#083248",
           "#d459cd",
           "#f088eb",
           "#39e641"
          ]
         },
         "name": "",
         "showlegend": true,
         "type": "pie",
         "values": [
          90000,
          120000,
          133750,
          140000,
          204000
         ]
        }
       ],
       "layout": {
        "font": {
         "color": "white"
        },
        "height": 600,
        "legend": {
         "tracegroupgap": 0
        },
        "margin": {
         "t": 60
        },
        "paper_bgcolor": "black",
        "plot_bgcolor": "black",
        "showlegend": true,
        "template": {
         "data": {
          "bar": [
           {
            "error_x": {
             "color": "#2a3f5f"
            },
            "error_y": {
             "color": "#2a3f5f"
            },
            "marker": {
             "line": {
              "color": "#E5ECF6",
              "width": 0.5
             },
             "pattern": {
              "fillmode": "overlay",
              "size": 10,
              "solidity": 0.2
             }
            },
            "type": "bar"
           }
          ],
          "barpolar": [
           {
            "marker": {
             "line": {
              "color": "#E5ECF6",
              "width": 0.5
             },
             "pattern": {
              "fillmode": "overlay",
              "size": 10,
              "solidity": 0.2
             }
            },
            "type": "barpolar"
           }
          ],
          "carpet": [
           {
            "aaxis": {
             "endlinecolor": "#2a3f5f",
             "gridcolor": "white",
             "linecolor": "white",
             "minorgridcolor": "white",
             "startlinecolor": "#2a3f5f"
            },
            "baxis": {
             "endlinecolor": "#2a3f5f",
             "gridcolor": "white",
             "linecolor": "white",
             "minorgridcolor": "white",
             "startlinecolor": "#2a3f5f"
            },
            "type": "carpet"
           }
          ],
          "choropleth": [
           {
            "colorbar": {
             "outlinewidth": 0,
             "ticks": ""
            },
            "type": "choropleth"
           }
          ],
          "contour": [
           {
            "colorbar": {
             "outlinewidth": 0,
             "ticks": ""
            },
            "colorscale": [
             [
              0,
              "#0d0887"
             ],
             [
              0.1111111111111111,
              "#46039f"
             ],
             [
              0.2222222222222222,
              "#7201a8"
             ],
             [
              0.3333333333333333,
              "#9c179e"
             ],
             [
              0.4444444444444444,
              "#bd3786"
             ],
             [
              0.5555555555555556,
              "#d8576b"
             ],
             [
              0.6666666666666666,
              "#ed7953"
             ],
             [
              0.7777777777777778,
              "#fb9f3a"
             ],
             [
              0.8888888888888888,
              "#fdca26"
             ],
             [
              1,
              "#f0f921"
             ]
            ],
            "type": "contour"
           }
          ],
          "contourcarpet": [
           {
            "colorbar": {
             "outlinewidth": 0,
             "ticks": ""
            },
            "type": "contourcarpet"
           }
          ],
          "heatmap": [
           {
            "colorbar": {
             "outlinewidth": 0,
             "ticks": ""
            },
            "colorscale": [
             [
              0,
              "#0d0887"
             ],
             [
              0.1111111111111111,
              "#46039f"
             ],
             [
              0.2222222222222222,
              "#7201a8"
             ],
             [
              0.3333333333333333,
              "#9c179e"
             ],
             [
              0.4444444444444444,
              "#bd3786"
             ],
             [
              0.5555555555555556,
              "#d8576b"
             ],
             [
              0.6666666666666666,
              "#ed7953"
             ],
             [
              0.7777777777777778,
              "#fb9f3a"
             ],
             [
              0.8888888888888888,
              "#fdca26"
             ],
             [
              1,
              "#f0f921"
             ]
            ],
            "type": "heatmap"
           }
          ],
          "heatmapgl": [
           {
            "colorbar": {
             "outlinewidth": 0,
             "ticks": ""
            },
            "colorscale": [
             [
              0,
              "#0d0887"
             ],
             [
              0.1111111111111111,
              "#46039f"
             ],
             [
              0.2222222222222222,
              "#7201a8"
             ],
             [
              0.3333333333333333,
              "#9c179e"
             ],
             [
              0.4444444444444444,
              "#bd3786"
             ],
             [
              0.5555555555555556,
              "#d8576b"
             ],
             [
              0.6666666666666666,
              "#ed7953"
             ],
             [
              0.7777777777777778,
              "#fb9f3a"
             ],
             [
              0.8888888888888888,
              "#fdca26"
             ],
             [
              1,
              "#f0f921"
             ]
            ],
            "type": "heatmapgl"
           }
          ],
          "histogram": [
           {
            "marker": {
             "pattern": {
              "fillmode": "overlay",
              "size": 10,
              "solidity": 0.2
             }
            },
            "type": "histogram"
           }
          ],
          "histogram2d": [
           {
            "colorbar": {
             "outlinewidth": 0,
             "ticks": ""
            },
            "colorscale": [
             [
              0,
              "#0d0887"
             ],
             [
              0.1111111111111111,
              "#46039f"
             ],
             [
              0.2222222222222222,
              "#7201a8"
             ],
             [
              0.3333333333333333,
              "#9c179e"
             ],
             [
              0.4444444444444444,
              "#bd3786"
             ],
             [
              0.5555555555555556,
              "#d8576b"
             ],
             [
              0.6666666666666666,
              "#ed7953"
             ],
             [
              0.7777777777777778,
              "#fb9f3a"
             ],
             [
              0.8888888888888888,
              "#fdca26"
             ],
             [
              1,
              "#f0f921"
             ]
            ],
            "type": "histogram2d"
           }
          ],
          "histogram2dcontour": [
           {
            "colorbar": {
             "outlinewidth": 0,
             "ticks": ""
            },
            "colorscale": [
             [
              0,
              "#0d0887"
             ],
             [
              0.1111111111111111,
              "#46039f"
             ],
             [
              0.2222222222222222,
              "#7201a8"
             ],
             [
              0.3333333333333333,
              "#9c179e"
             ],
             [
              0.4444444444444444,
              "#bd3786"
             ],
             [
              0.5555555555555556,
              "#d8576b"
             ],
             [
              0.6666666666666666,
              "#ed7953"
             ],
             [
              0.7777777777777778,
              "#fb9f3a"
             ],
             [
              0.8888888888888888,
              "#fdca26"
             ],
             [
              1,
              "#f0f921"
             ]
            ],
            "type": "histogram2dcontour"
           }
          ],
          "mesh3d": [
           {
            "colorbar": {
             "outlinewidth": 0,
             "ticks": ""
            },
            "type": "mesh3d"
           }
          ],
          "parcoords": [
           {
            "line": {
             "colorbar": {
              "outlinewidth": 0,
              "ticks": ""
             }
            },
            "type": "parcoords"
           }
          ],
          "pie": [
           {
            "automargin": true,
            "type": "pie"
           }
          ],
          "scatter": [
           {
            "fillpattern": {
             "fillmode": "overlay",
             "size": 10,
             "solidity": 0.2
            },
            "type": "scatter"
           }
          ],
          "scatter3d": [
           {
            "line": {
             "colorbar": {
              "outlinewidth": 0,
              "ticks": ""
             }
            },
            "marker": {
             "colorbar": {
              "outlinewidth": 0,
              "ticks": ""
             }
            },
            "type": "scatter3d"
           }
          ],
          "scattercarpet": [
           {
            "marker": {
             "colorbar": {
              "outlinewidth": 0,
              "ticks": ""
             }
            },
            "type": "scattercarpet"
           }
          ],
          "scattergeo": [
           {
            "marker": {
             "colorbar": {
              "outlinewidth": 0,
              "ticks": ""
             }
            },
            "type": "scattergeo"
           }
          ],
          "scattergl": [
           {
            "marker": {
             "colorbar": {
              "outlinewidth": 0,
              "ticks": ""
             }
            },
            "type": "scattergl"
           }
          ],
          "scattermapbox": [
           {
            "marker": {
             "colorbar": {
              "outlinewidth": 0,
              "ticks": ""
             }
            },
            "type": "scattermapbox"
           }
          ],
          "scatterpolar": [
           {
            "marker": {
             "colorbar": {
              "outlinewidth": 0,
              "ticks": ""
             }
            },
            "type": "scatterpolar"
           }
          ],
          "scatterpolargl": [
           {
            "marker": {
             "colorbar": {
              "outlinewidth": 0,
              "ticks": ""
             }
            },
            "type": "scatterpolargl"
           }
          ],
          "scatterternary": [
           {
            "marker": {
             "colorbar": {
              "outlinewidth": 0,
              "ticks": ""
             }
            },
            "type": "scatterternary"
           }
          ],
          "surface": [
           {
            "colorbar": {
             "outlinewidth": 0,
             "ticks": ""
            },
            "colorscale": [
             [
              0,
              "#0d0887"
             ],
             [
              0.1111111111111111,
              "#46039f"
             ],
             [
              0.2222222222222222,
              "#7201a8"
             ],
             [
              0.3333333333333333,
              "#9c179e"
             ],
             [
              0.4444444444444444,
              "#bd3786"
             ],
             [
              0.5555555555555556,
              "#d8576b"
             ],
             [
              0.6666666666666666,
              "#ed7953"
             ],
             [
              0.7777777777777778,
              "#fb9f3a"
             ],
             [
              0.8888888888888888,
              "#fdca26"
             ],
             [
              1,
              "#f0f921"
             ]
            ],
            "type": "surface"
           }
          ],
          "table": [
           {
            "cells": {
             "fill": {
              "color": "#EBF0F8"
             },
             "line": {
              "color": "white"
             }
            },
            "header": {
             "fill": {
              "color": "#C8D4E3"
             },
             "line": {
              "color": "white"
             }
            },
            "type": "table"
           }
          ]
         },
         "layout": {
          "annotationdefaults": {
           "arrowcolor": "#2a3f5f",
           "arrowhead": 0,
           "arrowwidth": 1
          },
          "autotypenumbers": "strict",
          "coloraxis": {
           "colorbar": {
            "outlinewidth": 0,
            "ticks": ""
           }
          },
          "colorscale": {
           "diverging": [
            [
             0,
             "#8e0152"
            ],
            [
             0.1,
             "#c51b7d"
            ],
            [
             0.2,
             "#de77ae"
            ],
            [
             0.3,
             "#f1b6da"
            ],
            [
             0.4,
             "#fde0ef"
            ],
            [
             0.5,
             "#f7f7f7"
            ],
            [
             0.6,
             "#e6f5d0"
            ],
            [
             0.7,
             "#b8e186"
            ],
            [
             0.8,
             "#7fbc41"
            ],
            [
             0.9,
             "#4d9221"
            ],
            [
             1,
             "#276419"
            ]
           ],
           "sequential": [
            [
             0,
             "#0d0887"
            ],
            [
             0.1111111111111111,
             "#46039f"
            ],
            [
             0.2222222222222222,
             "#7201a8"
            ],
            [
             0.3333333333333333,
             "#9c179e"
            ],
            [
             0.4444444444444444,
             "#bd3786"
            ],
            [
             0.5555555555555556,
             "#d8576b"
            ],
            [
             0.6666666666666666,
             "#ed7953"
            ],
            [
             0.7777777777777778,
             "#fb9f3a"
            ],
            [
             0.8888888888888888,
             "#fdca26"
            ],
            [
             1,
             "#f0f921"
            ]
           ],
           "sequentialminus": [
            [
             0,
             "#0d0887"
            ],
            [
             0.1111111111111111,
             "#46039f"
            ],
            [
             0.2222222222222222,
             "#7201a8"
            ],
            [
             0.3333333333333333,
             "#9c179e"
            ],
            [
             0.4444444444444444,
             "#bd3786"
            ],
            [
             0.5555555555555556,
             "#d8576b"
            ],
            [
             0.6666666666666666,
             "#ed7953"
            ],
            [
             0.7777777777777778,
             "#fb9f3a"
            ],
            [
             0.8888888888888888,
             "#fdca26"
            ],
            [
             1,
             "#f0f921"
            ]
           ]
          },
          "colorway": [
           "#636efa",
           "#EF553B",
           "#00cc96",
           "#ab63fa",
           "#FFA15A",
           "#19d3f3",
           "#FF6692",
           "#B6E880",
           "#FF97FF",
           "#FECB52"
          ],
          "font": {
           "color": "#2a3f5f"
          },
          "geo": {
           "bgcolor": "white",
           "lakecolor": "white",
           "landcolor": "#E5ECF6",
           "showlakes": true,
           "showland": true,
           "subunitcolor": "white"
          },
          "hoverlabel": {
           "align": "left"
          },
          "hovermode": "closest",
          "mapbox": {
           "style": "light"
          },
          "paper_bgcolor": "white",
          "plot_bgcolor": "#E5ECF6",
          "polar": {
           "angularaxis": {
            "gridcolor": "white",
            "linecolor": "white",
            "ticks": ""
           },
           "bgcolor": "#E5ECF6",
           "radialaxis": {
            "gridcolor": "white",
            "linecolor": "white",
            "ticks": ""
           }
          },
          "scene": {
           "xaxis": {
            "backgroundcolor": "#E5ECF6",
            "gridcolor": "white",
            "gridwidth": 2,
            "linecolor": "white",
            "showbackground": true,
            "ticks": "",
            "zerolinecolor": "white"
           },
           "yaxis": {
            "backgroundcolor": "#E5ECF6",
            "gridcolor": "white",
            "gridwidth": 2,
            "linecolor": "white",
            "showbackground": true,
            "ticks": "",
            "zerolinecolor": "white"
           },
           "zaxis": {
            "backgroundcolor": "#E5ECF6",
            "gridcolor": "white",
            "gridwidth": 2,
            "linecolor": "white",
            "showbackground": true,
            "ticks": "",
            "zerolinecolor": "white"
           }
          },
          "shapedefaults": {
           "line": {
            "color": "#2a3f5f"
           }
          },
          "ternary": {
           "aaxis": {
            "gridcolor": "white",
            "linecolor": "white",
            "ticks": ""
           },
           "baxis": {
            "gridcolor": "white",
            "linecolor": "white",
            "ticks": ""
           },
           "bgcolor": "#E5ECF6",
           "caxis": {
            "gridcolor": "white",
            "linecolor": "white",
            "ticks": ""
           }
          },
          "title": {
           "x": 0.05
          },
          "xaxis": {
           "automargin": true,
           "gridcolor": "white",
           "linecolor": "white",
           "ticks": "",
           "title": {
            "standoff": 15
           },
           "zerolinecolor": "white",
           "zerolinewidth": 2
          },
          "yaxis": {
           "automargin": true,
           "gridcolor": "white",
           "linecolor": "white",
           "ticks": "",
           "title": {
            "standoff": 15
           },
           "zerolinecolor": "white",
           "zerolinewidth": 2
          }
         }
        },
        "title": {
         "font": {
          "color": "white"
         },
         "text": "the Percentage of of each (Working) experince years catagory",
         "x": 0.5
        },
        "width": 800
       }
      }
     },
     "metadata": {},
     "output_type": "display_data"
    }
   ],
   "source": [
    "fig=px.pie(data_frame=tempdata,values=\"CompTotal\",names=\"WorkExpClasses\")\n",
    "fig_style(fig,title=\"the Percentage of of each (Working) experince years catagory\",legend=True)"
   ]
  },
  {
   "cell_type": "code",
   "execution_count": 34,
   "metadata": {},
   "outputs": [
    {
     "data": {
      "application/vnd.plotly.v1+json": {
       "config": {
        "plotlyServerURL": "https://plot.ly"
       },
       "data": [
        {
         "alignmentgroup": "True",
         "hovertemplate": "Age=%{x}<br>CompTotal=%{text}<extra></extra>",
         "legendgroup": "",
         "marker": {
          "color": "#F0C826",
          "pattern": {
           "shape": ""
          }
         },
         "name": "",
         "offsetgroup": "",
         "orientation": "v",
         "showlegend": false,
         "text": [
          77000,
          106000,
          120000,
          117500,
          135000,
          120000
         ],
         "textposition": "outside",
         "type": "bar",
         "x": [
          "18-24 years old",
          "25-34 years old",
          "35-44 years old",
          "45-54 years old",
          "55-64 years old",
          "65 years or older"
         ],
         "xaxis": "x",
         "y": [
          77000,
          106000,
          120000,
          117500,
          135000,
          120000
         ],
         "yaxis": "y"
        }
       ],
       "layout": {
        "barmode": "relative",
        "font": {
         "color": "white"
        },
        "height": 600,
        "legend": {
         "tracegroupgap": 0
        },
        "margin": {
         "t": 60
        },
        "paper_bgcolor": "black",
        "plot_bgcolor": "black",
        "showlegend": false,
        "template": {
         "data": {
          "bar": [
           {
            "error_x": {
             "color": "#2a3f5f"
            },
            "error_y": {
             "color": "#2a3f5f"
            },
            "marker": {
             "line": {
              "color": "#E5ECF6",
              "width": 0.5
             },
             "pattern": {
              "fillmode": "overlay",
              "size": 10,
              "solidity": 0.2
             }
            },
            "type": "bar"
           }
          ],
          "barpolar": [
           {
            "marker": {
             "line": {
              "color": "#E5ECF6",
              "width": 0.5
             },
             "pattern": {
              "fillmode": "overlay",
              "size": 10,
              "solidity": 0.2
             }
            },
            "type": "barpolar"
           }
          ],
          "carpet": [
           {
            "aaxis": {
             "endlinecolor": "#2a3f5f",
             "gridcolor": "white",
             "linecolor": "white",
             "minorgridcolor": "white",
             "startlinecolor": "#2a3f5f"
            },
            "baxis": {
             "endlinecolor": "#2a3f5f",
             "gridcolor": "white",
             "linecolor": "white",
             "minorgridcolor": "white",
             "startlinecolor": "#2a3f5f"
            },
            "type": "carpet"
           }
          ],
          "choropleth": [
           {
            "colorbar": {
             "outlinewidth": 0,
             "ticks": ""
            },
            "type": "choropleth"
           }
          ],
          "contour": [
           {
            "colorbar": {
             "outlinewidth": 0,
             "ticks": ""
            },
            "colorscale": [
             [
              0,
              "#0d0887"
             ],
             [
              0.1111111111111111,
              "#46039f"
             ],
             [
              0.2222222222222222,
              "#7201a8"
             ],
             [
              0.3333333333333333,
              "#9c179e"
             ],
             [
              0.4444444444444444,
              "#bd3786"
             ],
             [
              0.5555555555555556,
              "#d8576b"
             ],
             [
              0.6666666666666666,
              "#ed7953"
             ],
             [
              0.7777777777777778,
              "#fb9f3a"
             ],
             [
              0.8888888888888888,
              "#fdca26"
             ],
             [
              1,
              "#f0f921"
             ]
            ],
            "type": "contour"
           }
          ],
          "contourcarpet": [
           {
            "colorbar": {
             "outlinewidth": 0,
             "ticks": ""
            },
            "type": "contourcarpet"
           }
          ],
          "heatmap": [
           {
            "colorbar": {
             "outlinewidth": 0,
             "ticks": ""
            },
            "colorscale": [
             [
              0,
              "#0d0887"
             ],
             [
              0.1111111111111111,
              "#46039f"
             ],
             [
              0.2222222222222222,
              "#7201a8"
             ],
             [
              0.3333333333333333,
              "#9c179e"
             ],
             [
              0.4444444444444444,
              "#bd3786"
             ],
             [
              0.5555555555555556,
              "#d8576b"
             ],
             [
              0.6666666666666666,
              "#ed7953"
             ],
             [
              0.7777777777777778,
              "#fb9f3a"
             ],
             [
              0.8888888888888888,
              "#fdca26"
             ],
             [
              1,
              "#f0f921"
             ]
            ],
            "type": "heatmap"
           }
          ],
          "heatmapgl": [
           {
            "colorbar": {
             "outlinewidth": 0,
             "ticks": ""
            },
            "colorscale": [
             [
              0,
              "#0d0887"
             ],
             [
              0.1111111111111111,
              "#46039f"
             ],
             [
              0.2222222222222222,
              "#7201a8"
             ],
             [
              0.3333333333333333,
              "#9c179e"
             ],
             [
              0.4444444444444444,
              "#bd3786"
             ],
             [
              0.5555555555555556,
              "#d8576b"
             ],
             [
              0.6666666666666666,
              "#ed7953"
             ],
             [
              0.7777777777777778,
              "#fb9f3a"
             ],
             [
              0.8888888888888888,
              "#fdca26"
             ],
             [
              1,
              "#f0f921"
             ]
            ],
            "type": "heatmapgl"
           }
          ],
          "histogram": [
           {
            "marker": {
             "pattern": {
              "fillmode": "overlay",
              "size": 10,
              "solidity": 0.2
             }
            },
            "type": "histogram"
           }
          ],
          "histogram2d": [
           {
            "colorbar": {
             "outlinewidth": 0,
             "ticks": ""
            },
            "colorscale": [
             [
              0,
              "#0d0887"
             ],
             [
              0.1111111111111111,
              "#46039f"
             ],
             [
              0.2222222222222222,
              "#7201a8"
             ],
             [
              0.3333333333333333,
              "#9c179e"
             ],
             [
              0.4444444444444444,
              "#bd3786"
             ],
             [
              0.5555555555555556,
              "#d8576b"
             ],
             [
              0.6666666666666666,
              "#ed7953"
             ],
             [
              0.7777777777777778,
              "#fb9f3a"
             ],
             [
              0.8888888888888888,
              "#fdca26"
             ],
             [
              1,
              "#f0f921"
             ]
            ],
            "type": "histogram2d"
           }
          ],
          "histogram2dcontour": [
           {
            "colorbar": {
             "outlinewidth": 0,
             "ticks": ""
            },
            "colorscale": [
             [
              0,
              "#0d0887"
             ],
             [
              0.1111111111111111,
              "#46039f"
             ],
             [
              0.2222222222222222,
              "#7201a8"
             ],
             [
              0.3333333333333333,
              "#9c179e"
             ],
             [
              0.4444444444444444,
              "#bd3786"
             ],
             [
              0.5555555555555556,
              "#d8576b"
             ],
             [
              0.6666666666666666,
              "#ed7953"
             ],
             [
              0.7777777777777778,
              "#fb9f3a"
             ],
             [
              0.8888888888888888,
              "#fdca26"
             ],
             [
              1,
              "#f0f921"
             ]
            ],
            "type": "histogram2dcontour"
           }
          ],
          "mesh3d": [
           {
            "colorbar": {
             "outlinewidth": 0,
             "ticks": ""
            },
            "type": "mesh3d"
           }
          ],
          "parcoords": [
           {
            "line": {
             "colorbar": {
              "outlinewidth": 0,
              "ticks": ""
             }
            },
            "type": "parcoords"
           }
          ],
          "pie": [
           {
            "automargin": true,
            "type": "pie"
           }
          ],
          "scatter": [
           {
            "fillpattern": {
             "fillmode": "overlay",
             "size": 10,
             "solidity": 0.2
            },
            "type": "scatter"
           }
          ],
          "scatter3d": [
           {
            "line": {
             "colorbar": {
              "outlinewidth": 0,
              "ticks": ""
             }
            },
            "marker": {
             "colorbar": {
              "outlinewidth": 0,
              "ticks": ""
             }
            },
            "type": "scatter3d"
           }
          ],
          "scattercarpet": [
           {
            "marker": {
             "colorbar": {
              "outlinewidth": 0,
              "ticks": ""
             }
            },
            "type": "scattercarpet"
           }
          ],
          "scattergeo": [
           {
            "marker": {
             "colorbar": {
              "outlinewidth": 0,
              "ticks": ""
             }
            },
            "type": "scattergeo"
           }
          ],
          "scattergl": [
           {
            "marker": {
             "colorbar": {
              "outlinewidth": 0,
              "ticks": ""
             }
            },
            "type": "scattergl"
           }
          ],
          "scattermapbox": [
           {
            "marker": {
             "colorbar": {
              "outlinewidth": 0,
              "ticks": ""
             }
            },
            "type": "scattermapbox"
           }
          ],
          "scatterpolar": [
           {
            "marker": {
             "colorbar": {
              "outlinewidth": 0,
              "ticks": ""
             }
            },
            "type": "scatterpolar"
           }
          ],
          "scatterpolargl": [
           {
            "marker": {
             "colorbar": {
              "outlinewidth": 0,
              "ticks": ""
             }
            },
            "type": "scatterpolargl"
           }
          ],
          "scatterternary": [
           {
            "marker": {
             "colorbar": {
              "outlinewidth": 0,
              "ticks": ""
             }
            },
            "type": "scatterternary"
           }
          ],
          "surface": [
           {
            "colorbar": {
             "outlinewidth": 0,
             "ticks": ""
            },
            "colorscale": [
             [
              0,
              "#0d0887"
             ],
             [
              0.1111111111111111,
              "#46039f"
             ],
             [
              0.2222222222222222,
              "#7201a8"
             ],
             [
              0.3333333333333333,
              "#9c179e"
             ],
             [
              0.4444444444444444,
              "#bd3786"
             ],
             [
              0.5555555555555556,
              "#d8576b"
             ],
             [
              0.6666666666666666,
              "#ed7953"
             ],
             [
              0.7777777777777778,
              "#fb9f3a"
             ],
             [
              0.8888888888888888,
              "#fdca26"
             ],
             [
              1,
              "#f0f921"
             ]
            ],
            "type": "surface"
           }
          ],
          "table": [
           {
            "cells": {
             "fill": {
              "color": "#EBF0F8"
             },
             "line": {
              "color": "white"
             }
            },
            "header": {
             "fill": {
              "color": "#C8D4E3"
             },
             "line": {
              "color": "white"
             }
            },
            "type": "table"
           }
          ]
         },
         "layout": {
          "annotationdefaults": {
           "arrowcolor": "#2a3f5f",
           "arrowhead": 0,
           "arrowwidth": 1
          },
          "autotypenumbers": "strict",
          "coloraxis": {
           "colorbar": {
            "outlinewidth": 0,
            "ticks": ""
           }
          },
          "colorscale": {
           "diverging": [
            [
             0,
             "#8e0152"
            ],
            [
             0.1,
             "#c51b7d"
            ],
            [
             0.2,
             "#de77ae"
            ],
            [
             0.3,
             "#f1b6da"
            ],
            [
             0.4,
             "#fde0ef"
            ],
            [
             0.5,
             "#f7f7f7"
            ],
            [
             0.6,
             "#e6f5d0"
            ],
            [
             0.7,
             "#b8e186"
            ],
            [
             0.8,
             "#7fbc41"
            ],
            [
             0.9,
             "#4d9221"
            ],
            [
             1,
             "#276419"
            ]
           ],
           "sequential": [
            [
             0,
             "#0d0887"
            ],
            [
             0.1111111111111111,
             "#46039f"
            ],
            [
             0.2222222222222222,
             "#7201a8"
            ],
            [
             0.3333333333333333,
             "#9c179e"
            ],
            [
             0.4444444444444444,
             "#bd3786"
            ],
            [
             0.5555555555555556,
             "#d8576b"
            ],
            [
             0.6666666666666666,
             "#ed7953"
            ],
            [
             0.7777777777777778,
             "#fb9f3a"
            ],
            [
             0.8888888888888888,
             "#fdca26"
            ],
            [
             1,
             "#f0f921"
            ]
           ],
           "sequentialminus": [
            [
             0,
             "#0d0887"
            ],
            [
             0.1111111111111111,
             "#46039f"
            ],
            [
             0.2222222222222222,
             "#7201a8"
            ],
            [
             0.3333333333333333,
             "#9c179e"
            ],
            [
             0.4444444444444444,
             "#bd3786"
            ],
            [
             0.5555555555555556,
             "#d8576b"
            ],
            [
             0.6666666666666666,
             "#ed7953"
            ],
            [
             0.7777777777777778,
             "#fb9f3a"
            ],
            [
             0.8888888888888888,
             "#fdca26"
            ],
            [
             1,
             "#f0f921"
            ]
           ]
          },
          "colorway": [
           "#636efa",
           "#EF553B",
           "#00cc96",
           "#ab63fa",
           "#FFA15A",
           "#19d3f3",
           "#FF6692",
           "#B6E880",
           "#FF97FF",
           "#FECB52"
          ],
          "font": {
           "color": "#2a3f5f"
          },
          "geo": {
           "bgcolor": "white",
           "lakecolor": "white",
           "landcolor": "#E5ECF6",
           "showlakes": true,
           "showland": true,
           "subunitcolor": "white"
          },
          "hoverlabel": {
           "align": "left"
          },
          "hovermode": "closest",
          "mapbox": {
           "style": "light"
          },
          "paper_bgcolor": "white",
          "plot_bgcolor": "#E5ECF6",
          "polar": {
           "angularaxis": {
            "gridcolor": "white",
            "linecolor": "white",
            "ticks": ""
           },
           "bgcolor": "#E5ECF6",
           "radialaxis": {
            "gridcolor": "white",
            "linecolor": "white",
            "ticks": ""
           }
          },
          "scene": {
           "xaxis": {
            "backgroundcolor": "#E5ECF6",
            "gridcolor": "white",
            "gridwidth": 2,
            "linecolor": "white",
            "showbackground": true,
            "ticks": "",
            "zerolinecolor": "white"
           },
           "yaxis": {
            "backgroundcolor": "#E5ECF6",
            "gridcolor": "white",
            "gridwidth": 2,
            "linecolor": "white",
            "showbackground": true,
            "ticks": "",
            "zerolinecolor": "white"
           },
           "zaxis": {
            "backgroundcolor": "#E5ECF6",
            "gridcolor": "white",
            "gridwidth": 2,
            "linecolor": "white",
            "showbackground": true,
            "ticks": "",
            "zerolinecolor": "white"
           }
          },
          "shapedefaults": {
           "line": {
            "color": "#2a3f5f"
           }
          },
          "ternary": {
           "aaxis": {
            "gridcolor": "white",
            "linecolor": "white",
            "ticks": ""
           },
           "baxis": {
            "gridcolor": "white",
            "linecolor": "white",
            "ticks": ""
           },
           "bgcolor": "#E5ECF6",
           "caxis": {
            "gridcolor": "white",
            "linecolor": "white",
            "ticks": ""
           }
          },
          "title": {
           "x": 0.05
          },
          "xaxis": {
           "automargin": true,
           "gridcolor": "white",
           "linecolor": "white",
           "ticks": "",
           "title": {
            "standoff": 15
           },
           "zerolinecolor": "white",
           "zerolinewidth": 2
          },
          "yaxis": {
           "automargin": true,
           "gridcolor": "white",
           "linecolor": "white",
           "ticks": "",
           "title": {
            "standoff": 15
           },
           "zerolinecolor": "white",
           "zerolinewidth": 2
          }
         }
        },
        "title": {
         "font": {
          "color": "white"
         },
         "text": "The Average salary for each of these Age catagory",
         "x": 0.5
        },
        "width": 800,
        "xaxis": {
         "anchor": "y",
         "domain": [
          0,
          1
         ],
         "title": {
          "text": "Age Catagory"
         }
        },
        "yaxis": {
         "anchor": "x",
         "domain": [
          0,
          1
         ],
         "title": {
          "text": "median Salary"
         }
        }
       }
      }
     },
     "metadata": {},
     "output_type": "display_data"
    }
   ],
   "source": [
    "mask=~((data_df[\"Age\"]==\"Under 18 years old\") | (data_df[\"Age\"]==\"Prefer not to say\"))\n",
    "temp=data_df.loc[mask]\n",
    "\n",
    "temp=pd.DataFrame(temp.groupby(\"Age\")[\"CompTotal\"].median()).reset_index()\n",
    "paint_bar(df=temp,title=\"The Average salary for each of these Age catagory\",x=\"Age\",y=\"CompTotal\",x_name=\"Age Catagory\",y_name=\"median Salary\")\n"
   ]
  },
  {
   "cell_type": "code",
   "execution_count": 35,
   "metadata": {},
   "outputs": [
    {
     "data": {
      "application/vnd.plotly.v1+json": {
       "config": {
        "plotlyServerURL": "https://plot.ly"
       },
       "data": [
        {
         "alignmentgroup": "True",
         "hovertemplate": "Industry=%{x}<br>CompTotal=%{text}<extra></extra>",
         "legendgroup": "",
         "marker": {
          "color": "#F0C826",
          "pattern": {
           "shape": ""
          }
         },
         "name": "",
         "offsetgroup": "",
         "orientation": "v",
         "showlegend": false,
         "text": [
          100000,
          100000,
          109000,
          110000,
          112500,
          115400,
          120000,
          120000,
          125000,
          125000,
          135000,
          150000
         ],
         "textposition": "outside",
         "type": "bar",
         "x": [
          "Oil & Gas",
          "Retail and Consumer Services",
          "Other",
          "Higher Education",
          "Manufacturing and Transportation",
          "Legal Services",
          "Healthcare",
          "Wholesale",
          "Information technology",
          "Insurance",
          "Advertising Services",
          "Financial Services"
         ],
         "xaxis": "x",
         "y": [
          100000,
          100000,
          109000,
          110000,
          112500,
          115400,
          120000,
          120000,
          125000,
          125000,
          135000,
          150000
         ],
         "yaxis": "y"
        }
       ],
       "layout": {
        "barmode": "relative",
        "font": {
         "color": "white"
        },
        "height": 600,
        "legend": {
         "tracegroupgap": 0
        },
        "margin": {
         "t": 60
        },
        "paper_bgcolor": "black",
        "plot_bgcolor": "black",
        "showlegend": false,
        "template": {
         "data": {
          "bar": [
           {
            "error_x": {
             "color": "#2a3f5f"
            },
            "error_y": {
             "color": "#2a3f5f"
            },
            "marker": {
             "line": {
              "color": "#E5ECF6",
              "width": 0.5
             },
             "pattern": {
              "fillmode": "overlay",
              "size": 10,
              "solidity": 0.2
             }
            },
            "type": "bar"
           }
          ],
          "barpolar": [
           {
            "marker": {
             "line": {
              "color": "#E5ECF6",
              "width": 0.5
             },
             "pattern": {
              "fillmode": "overlay",
              "size": 10,
              "solidity": 0.2
             }
            },
            "type": "barpolar"
           }
          ],
          "carpet": [
           {
            "aaxis": {
             "endlinecolor": "#2a3f5f",
             "gridcolor": "white",
             "linecolor": "white",
             "minorgridcolor": "white",
             "startlinecolor": "#2a3f5f"
            },
            "baxis": {
             "endlinecolor": "#2a3f5f",
             "gridcolor": "white",
             "linecolor": "white",
             "minorgridcolor": "white",
             "startlinecolor": "#2a3f5f"
            },
            "type": "carpet"
           }
          ],
          "choropleth": [
           {
            "colorbar": {
             "outlinewidth": 0,
             "ticks": ""
            },
            "type": "choropleth"
           }
          ],
          "contour": [
           {
            "colorbar": {
             "outlinewidth": 0,
             "ticks": ""
            },
            "colorscale": [
             [
              0,
              "#0d0887"
             ],
             [
              0.1111111111111111,
              "#46039f"
             ],
             [
              0.2222222222222222,
              "#7201a8"
             ],
             [
              0.3333333333333333,
              "#9c179e"
             ],
             [
              0.4444444444444444,
              "#bd3786"
             ],
             [
              0.5555555555555556,
              "#d8576b"
             ],
             [
              0.6666666666666666,
              "#ed7953"
             ],
             [
              0.7777777777777778,
              "#fb9f3a"
             ],
             [
              0.8888888888888888,
              "#fdca26"
             ],
             [
              1,
              "#f0f921"
             ]
            ],
            "type": "contour"
           }
          ],
          "contourcarpet": [
           {
            "colorbar": {
             "outlinewidth": 0,
             "ticks": ""
            },
            "type": "contourcarpet"
           }
          ],
          "heatmap": [
           {
            "colorbar": {
             "outlinewidth": 0,
             "ticks": ""
            },
            "colorscale": [
             [
              0,
              "#0d0887"
             ],
             [
              0.1111111111111111,
              "#46039f"
             ],
             [
              0.2222222222222222,
              "#7201a8"
             ],
             [
              0.3333333333333333,
              "#9c179e"
             ],
             [
              0.4444444444444444,
              "#bd3786"
             ],
             [
              0.5555555555555556,
              "#d8576b"
             ],
             [
              0.6666666666666666,
              "#ed7953"
             ],
             [
              0.7777777777777778,
              "#fb9f3a"
             ],
             [
              0.8888888888888888,
              "#fdca26"
             ],
             [
              1,
              "#f0f921"
             ]
            ],
            "type": "heatmap"
           }
          ],
          "heatmapgl": [
           {
            "colorbar": {
             "outlinewidth": 0,
             "ticks": ""
            },
            "colorscale": [
             [
              0,
              "#0d0887"
             ],
             [
              0.1111111111111111,
              "#46039f"
             ],
             [
              0.2222222222222222,
              "#7201a8"
             ],
             [
              0.3333333333333333,
              "#9c179e"
             ],
             [
              0.4444444444444444,
              "#bd3786"
             ],
             [
              0.5555555555555556,
              "#d8576b"
             ],
             [
              0.6666666666666666,
              "#ed7953"
             ],
             [
              0.7777777777777778,
              "#fb9f3a"
             ],
             [
              0.8888888888888888,
              "#fdca26"
             ],
             [
              1,
              "#f0f921"
             ]
            ],
            "type": "heatmapgl"
           }
          ],
          "histogram": [
           {
            "marker": {
             "pattern": {
              "fillmode": "overlay",
              "size": 10,
              "solidity": 0.2
             }
            },
            "type": "histogram"
           }
          ],
          "histogram2d": [
           {
            "colorbar": {
             "outlinewidth": 0,
             "ticks": ""
            },
            "colorscale": [
             [
              0,
              "#0d0887"
             ],
             [
              0.1111111111111111,
              "#46039f"
             ],
             [
              0.2222222222222222,
              "#7201a8"
             ],
             [
              0.3333333333333333,
              "#9c179e"
             ],
             [
              0.4444444444444444,
              "#bd3786"
             ],
             [
              0.5555555555555556,
              "#d8576b"
             ],
             [
              0.6666666666666666,
              "#ed7953"
             ],
             [
              0.7777777777777778,
              "#fb9f3a"
             ],
             [
              0.8888888888888888,
              "#fdca26"
             ],
             [
              1,
              "#f0f921"
             ]
            ],
            "type": "histogram2d"
           }
          ],
          "histogram2dcontour": [
           {
            "colorbar": {
             "outlinewidth": 0,
             "ticks": ""
            },
            "colorscale": [
             [
              0,
              "#0d0887"
             ],
             [
              0.1111111111111111,
              "#46039f"
             ],
             [
              0.2222222222222222,
              "#7201a8"
             ],
             [
              0.3333333333333333,
              "#9c179e"
             ],
             [
              0.4444444444444444,
              "#bd3786"
             ],
             [
              0.5555555555555556,
              "#d8576b"
             ],
             [
              0.6666666666666666,
              "#ed7953"
             ],
             [
              0.7777777777777778,
              "#fb9f3a"
             ],
             [
              0.8888888888888888,
              "#fdca26"
             ],
             [
              1,
              "#f0f921"
             ]
            ],
            "type": "histogram2dcontour"
           }
          ],
          "mesh3d": [
           {
            "colorbar": {
             "outlinewidth": 0,
             "ticks": ""
            },
            "type": "mesh3d"
           }
          ],
          "parcoords": [
           {
            "line": {
             "colorbar": {
              "outlinewidth": 0,
              "ticks": ""
             }
            },
            "type": "parcoords"
           }
          ],
          "pie": [
           {
            "automargin": true,
            "type": "pie"
           }
          ],
          "scatter": [
           {
            "fillpattern": {
             "fillmode": "overlay",
             "size": 10,
             "solidity": 0.2
            },
            "type": "scatter"
           }
          ],
          "scatter3d": [
           {
            "line": {
             "colorbar": {
              "outlinewidth": 0,
              "ticks": ""
             }
            },
            "marker": {
             "colorbar": {
              "outlinewidth": 0,
              "ticks": ""
             }
            },
            "type": "scatter3d"
           }
          ],
          "scattercarpet": [
           {
            "marker": {
             "colorbar": {
              "outlinewidth": 0,
              "ticks": ""
             }
            },
            "type": "scattercarpet"
           }
          ],
          "scattergeo": [
           {
            "marker": {
             "colorbar": {
              "outlinewidth": 0,
              "ticks": ""
             }
            },
            "type": "scattergeo"
           }
          ],
          "scattergl": [
           {
            "marker": {
             "colorbar": {
              "outlinewidth": 0,
              "ticks": ""
             }
            },
            "type": "scattergl"
           }
          ],
          "scattermapbox": [
           {
            "marker": {
             "colorbar": {
              "outlinewidth": 0,
              "ticks": ""
             }
            },
            "type": "scattermapbox"
           }
          ],
          "scatterpolar": [
           {
            "marker": {
             "colorbar": {
              "outlinewidth": 0,
              "ticks": ""
             }
            },
            "type": "scatterpolar"
           }
          ],
          "scatterpolargl": [
           {
            "marker": {
             "colorbar": {
              "outlinewidth": 0,
              "ticks": ""
             }
            },
            "type": "scatterpolargl"
           }
          ],
          "scatterternary": [
           {
            "marker": {
             "colorbar": {
              "outlinewidth": 0,
              "ticks": ""
             }
            },
            "type": "scatterternary"
           }
          ],
          "surface": [
           {
            "colorbar": {
             "outlinewidth": 0,
             "ticks": ""
            },
            "colorscale": [
             [
              0,
              "#0d0887"
             ],
             [
              0.1111111111111111,
              "#46039f"
             ],
             [
              0.2222222222222222,
              "#7201a8"
             ],
             [
              0.3333333333333333,
              "#9c179e"
             ],
             [
              0.4444444444444444,
              "#bd3786"
             ],
             [
              0.5555555555555556,
              "#d8576b"
             ],
             [
              0.6666666666666666,
              "#ed7953"
             ],
             [
              0.7777777777777778,
              "#fb9f3a"
             ],
             [
              0.8888888888888888,
              "#fdca26"
             ],
             [
              1,
              "#f0f921"
             ]
            ],
            "type": "surface"
           }
          ],
          "table": [
           {
            "cells": {
             "fill": {
              "color": "#EBF0F8"
             },
             "line": {
              "color": "white"
             }
            },
            "header": {
             "fill": {
              "color": "#C8D4E3"
             },
             "line": {
              "color": "white"
             }
            },
            "type": "table"
           }
          ]
         },
         "layout": {
          "annotationdefaults": {
           "arrowcolor": "#2a3f5f",
           "arrowhead": 0,
           "arrowwidth": 1
          },
          "autotypenumbers": "strict",
          "coloraxis": {
           "colorbar": {
            "outlinewidth": 0,
            "ticks": ""
           }
          },
          "colorscale": {
           "diverging": [
            [
             0,
             "#8e0152"
            ],
            [
             0.1,
             "#c51b7d"
            ],
            [
             0.2,
             "#de77ae"
            ],
            [
             0.3,
             "#f1b6da"
            ],
            [
             0.4,
             "#fde0ef"
            ],
            [
             0.5,
             "#f7f7f7"
            ],
            [
             0.6,
             "#e6f5d0"
            ],
            [
             0.7,
             "#b8e186"
            ],
            [
             0.8,
             "#7fbc41"
            ],
            [
             0.9,
             "#4d9221"
            ],
            [
             1,
             "#276419"
            ]
           ],
           "sequential": [
            [
             0,
             "#0d0887"
            ],
            [
             0.1111111111111111,
             "#46039f"
            ],
            [
             0.2222222222222222,
             "#7201a8"
            ],
            [
             0.3333333333333333,
             "#9c179e"
            ],
            [
             0.4444444444444444,
             "#bd3786"
            ],
            [
             0.5555555555555556,
             "#d8576b"
            ],
            [
             0.6666666666666666,
             "#ed7953"
            ],
            [
             0.7777777777777778,
             "#fb9f3a"
            ],
            [
             0.8888888888888888,
             "#fdca26"
            ],
            [
             1,
             "#f0f921"
            ]
           ],
           "sequentialminus": [
            [
             0,
             "#0d0887"
            ],
            [
             0.1111111111111111,
             "#46039f"
            ],
            [
             0.2222222222222222,
             "#7201a8"
            ],
            [
             0.3333333333333333,
             "#9c179e"
            ],
            [
             0.4444444444444444,
             "#bd3786"
            ],
            [
             0.5555555555555556,
             "#d8576b"
            ],
            [
             0.6666666666666666,
             "#ed7953"
            ],
            [
             0.7777777777777778,
             "#fb9f3a"
            ],
            [
             0.8888888888888888,
             "#fdca26"
            ],
            [
             1,
             "#f0f921"
            ]
           ]
          },
          "colorway": [
           "#636efa",
           "#EF553B",
           "#00cc96",
           "#ab63fa",
           "#FFA15A",
           "#19d3f3",
           "#FF6692",
           "#B6E880",
           "#FF97FF",
           "#FECB52"
          ],
          "font": {
           "color": "#2a3f5f"
          },
          "geo": {
           "bgcolor": "white",
           "lakecolor": "white",
           "landcolor": "#E5ECF6",
           "showlakes": true,
           "showland": true,
           "subunitcolor": "white"
          },
          "hoverlabel": {
           "align": "left"
          },
          "hovermode": "closest",
          "mapbox": {
           "style": "light"
          },
          "paper_bgcolor": "white",
          "plot_bgcolor": "#E5ECF6",
          "polar": {
           "angularaxis": {
            "gridcolor": "white",
            "linecolor": "white",
            "ticks": ""
           },
           "bgcolor": "#E5ECF6",
           "radialaxis": {
            "gridcolor": "white",
            "linecolor": "white",
            "ticks": ""
           }
          },
          "scene": {
           "xaxis": {
            "backgroundcolor": "#E5ECF6",
            "gridcolor": "white",
            "gridwidth": 2,
            "linecolor": "white",
            "showbackground": true,
            "ticks": "",
            "zerolinecolor": "white"
           },
           "yaxis": {
            "backgroundcolor": "#E5ECF6",
            "gridcolor": "white",
            "gridwidth": 2,
            "linecolor": "white",
            "showbackground": true,
            "ticks": "",
            "zerolinecolor": "white"
           },
           "zaxis": {
            "backgroundcolor": "#E5ECF6",
            "gridcolor": "white",
            "gridwidth": 2,
            "linecolor": "white",
            "showbackground": true,
            "ticks": "",
            "zerolinecolor": "white"
           }
          },
          "shapedefaults": {
           "line": {
            "color": "#2a3f5f"
           }
          },
          "ternary": {
           "aaxis": {
            "gridcolor": "white",
            "linecolor": "white",
            "ticks": ""
           },
           "baxis": {
            "gridcolor": "white",
            "linecolor": "white",
            "ticks": ""
           },
           "bgcolor": "#E5ECF6",
           "caxis": {
            "gridcolor": "white",
            "linecolor": "white",
            "ticks": ""
           }
          },
          "title": {
           "x": 0.05
          },
          "xaxis": {
           "automargin": true,
           "gridcolor": "white",
           "linecolor": "white",
           "ticks": "",
           "title": {
            "standoff": 15
           },
           "zerolinecolor": "white",
           "zerolinewidth": 2
          },
          "yaxis": {
           "automargin": true,
           "gridcolor": "white",
           "linecolor": "white",
           "ticks": "",
           "title": {
            "standoff": 15
           },
           "zerolinecolor": "white",
           "zerolinewidth": 2
          }
         }
        },
        "title": {
         "font": {
          "color": "white"
         },
         "text": "The Average salary per industry",
         "x": 0.5
        },
        "width": 800,
        "xaxis": {
         "anchor": "y",
         "domain": [
          0,
          1
         ],
         "title": {
          "text": "Industry"
         }
        },
        "yaxis": {
         "anchor": "x",
         "domain": [
          0,
          1
         ],
         "title": {
          "text": "CompTotal"
         }
        }
       }
      }
     },
     "metadata": {},
     "output_type": "display_data"
    }
   ],
   "source": [
    "temp=pd.DataFrame(data_df.groupby(\"Industry\")[\"CompTotal\"].median()).reset_index()\n",
    "temp.sort_values(\"CompTotal\",inplace=True)\n",
    "paint_bar(df=temp,x=\"Industry\",y=\"CompTotal\",title=\"The Average salary per industry\",x_name=\"Industry\",y_name=\"CompTotal\")"
   ]
  },
  {
   "cell_type": "code",
   "execution_count": null,
   "metadata": {},
   "outputs": [],
   "source": []
  },
  {
   "cell_type": "code",
   "execution_count": 36,
   "metadata": {},
   "outputs": [
    {
     "name": "stderr",
     "output_type": "stream",
     "text": [
      "C:\\Users\\W.D1998\\AppData\\Local\\Temp\\ipykernel_10184\\3419126192.py:4: FutureWarning:\n",
      "\n",
      "Downcasting object dtype arrays on .fillna, .ffill, .bfill is deprecated and will change in a future version. Call result.infer_objects(copy=False) instead. To opt-in to the future behavior, set `pd.set_option('future.no_silent_downcasting', True)`\n",
      "\n",
      "C:\\Users\\W.D1998\\AppData\\Local\\Temp\\ipykernel_10184\\3419126192.py:5: FutureWarning:\n",
      "\n",
      "Downcasting object dtype arrays on .fillna, .ffill, .bfill is deprecated and will change in a future version. Call result.infer_objects(copy=False) instead. To opt-in to the future behavior, set `pd.set_option('future.no_silent_downcasting', True)`\n",
      "\n"
     ]
    }
   ],
   "source": [
    "ten=data_df[\"MiscTechHaveWorkedWith\"].str.contains(\"TensorFlow\")\n",
    "tor=data_df[\"MiscTechHaveWorkedWith\"].str.contains(\"Torch/PyTorch\")\n",
    "\n",
    "ten.fillna(False,inplace=True)\n",
    "tor.fillna(False,inplace=True)\n",
    "ten_df=data_df.loc[ten & ~tor]\n",
    "tor_df=data_df.loc[~ten & tor]\n",
    "\n",
    "tor_sample=tor_df[\"CompTotal\"].dropna().sample(n=100,random_state=123456789)\n",
    "ten_sample=ten_df[\"CompTotal\"].dropna().sample(n=100,random_state=123456789)\n"
   ]
  },
  {
   "cell_type": "code",
   "execution_count": 37,
   "metadata": {},
   "outputs": [
    {
     "data": {
      "application/vnd.plotly.v1+json": {
       "config": {
        "plotlyServerURL": "https://plot.ly"
       },
       "data": [
        {
         "alignmentgroup": "True",
         "hovertemplate": "tech=%{x}<br>CompTotal=%{text}<extra></extra>",
         "legendgroup": "",
         "marker": {
          "color": "#F0C826",
          "pattern": {
           "shape": ""
          }
         },
         "name": "",
         "offsetgroup": "",
         "orientation": "v",
         "showlegend": false,
         "text": [
          120000,
          122500
         ],
         "textposition": "outside",
         "type": "bar",
         "x": [
          "PyTorch",
          "TensorFlow"
         ],
         "xaxis": "x",
         "y": [
          120000,
          122500
         ],
         "yaxis": "y"
        }
       ],
       "layout": {
        "barmode": "relative",
        "font": {
         "color": "white"
        },
        "height": 600,
        "legend": {
         "tracegroupgap": 0
        },
        "margin": {
         "t": 60
        },
        "paper_bgcolor": "black",
        "plot_bgcolor": "black",
        "showlegend": false,
        "template": {
         "data": {
          "bar": [
           {
            "error_x": {
             "color": "#2a3f5f"
            },
            "error_y": {
             "color": "#2a3f5f"
            },
            "marker": {
             "line": {
              "color": "#E5ECF6",
              "width": 0.5
             },
             "pattern": {
              "fillmode": "overlay",
              "size": 10,
              "solidity": 0.2
             }
            },
            "type": "bar"
           }
          ],
          "barpolar": [
           {
            "marker": {
             "line": {
              "color": "#E5ECF6",
              "width": 0.5
             },
             "pattern": {
              "fillmode": "overlay",
              "size": 10,
              "solidity": 0.2
             }
            },
            "type": "barpolar"
           }
          ],
          "carpet": [
           {
            "aaxis": {
             "endlinecolor": "#2a3f5f",
             "gridcolor": "white",
             "linecolor": "white",
             "minorgridcolor": "white",
             "startlinecolor": "#2a3f5f"
            },
            "baxis": {
             "endlinecolor": "#2a3f5f",
             "gridcolor": "white",
             "linecolor": "white",
             "minorgridcolor": "white",
             "startlinecolor": "#2a3f5f"
            },
            "type": "carpet"
           }
          ],
          "choropleth": [
           {
            "colorbar": {
             "outlinewidth": 0,
             "ticks": ""
            },
            "type": "choropleth"
           }
          ],
          "contour": [
           {
            "colorbar": {
             "outlinewidth": 0,
             "ticks": ""
            },
            "colorscale": [
             [
              0,
              "#0d0887"
             ],
             [
              0.1111111111111111,
              "#46039f"
             ],
             [
              0.2222222222222222,
              "#7201a8"
             ],
             [
              0.3333333333333333,
              "#9c179e"
             ],
             [
              0.4444444444444444,
              "#bd3786"
             ],
             [
              0.5555555555555556,
              "#d8576b"
             ],
             [
              0.6666666666666666,
              "#ed7953"
             ],
             [
              0.7777777777777778,
              "#fb9f3a"
             ],
             [
              0.8888888888888888,
              "#fdca26"
             ],
             [
              1,
              "#f0f921"
             ]
            ],
            "type": "contour"
           }
          ],
          "contourcarpet": [
           {
            "colorbar": {
             "outlinewidth": 0,
             "ticks": ""
            },
            "type": "contourcarpet"
           }
          ],
          "heatmap": [
           {
            "colorbar": {
             "outlinewidth": 0,
             "ticks": ""
            },
            "colorscale": [
             [
              0,
              "#0d0887"
             ],
             [
              0.1111111111111111,
              "#46039f"
             ],
             [
              0.2222222222222222,
              "#7201a8"
             ],
             [
              0.3333333333333333,
              "#9c179e"
             ],
             [
              0.4444444444444444,
              "#bd3786"
             ],
             [
              0.5555555555555556,
              "#d8576b"
             ],
             [
              0.6666666666666666,
              "#ed7953"
             ],
             [
              0.7777777777777778,
              "#fb9f3a"
             ],
             [
              0.8888888888888888,
              "#fdca26"
             ],
             [
              1,
              "#f0f921"
             ]
            ],
            "type": "heatmap"
           }
          ],
          "heatmapgl": [
           {
            "colorbar": {
             "outlinewidth": 0,
             "ticks": ""
            },
            "colorscale": [
             [
              0,
              "#0d0887"
             ],
             [
              0.1111111111111111,
              "#46039f"
             ],
             [
              0.2222222222222222,
              "#7201a8"
             ],
             [
              0.3333333333333333,
              "#9c179e"
             ],
             [
              0.4444444444444444,
              "#bd3786"
             ],
             [
              0.5555555555555556,
              "#d8576b"
             ],
             [
              0.6666666666666666,
              "#ed7953"
             ],
             [
              0.7777777777777778,
              "#fb9f3a"
             ],
             [
              0.8888888888888888,
              "#fdca26"
             ],
             [
              1,
              "#f0f921"
             ]
            ],
            "type": "heatmapgl"
           }
          ],
          "histogram": [
           {
            "marker": {
             "pattern": {
              "fillmode": "overlay",
              "size": 10,
              "solidity": 0.2
             }
            },
            "type": "histogram"
           }
          ],
          "histogram2d": [
           {
            "colorbar": {
             "outlinewidth": 0,
             "ticks": ""
            },
            "colorscale": [
             [
              0,
              "#0d0887"
             ],
             [
              0.1111111111111111,
              "#46039f"
             ],
             [
              0.2222222222222222,
              "#7201a8"
             ],
             [
              0.3333333333333333,
              "#9c179e"
             ],
             [
              0.4444444444444444,
              "#bd3786"
             ],
             [
              0.5555555555555556,
              "#d8576b"
             ],
             [
              0.6666666666666666,
              "#ed7953"
             ],
             [
              0.7777777777777778,
              "#fb9f3a"
             ],
             [
              0.8888888888888888,
              "#fdca26"
             ],
             [
              1,
              "#f0f921"
             ]
            ],
            "type": "histogram2d"
           }
          ],
          "histogram2dcontour": [
           {
            "colorbar": {
             "outlinewidth": 0,
             "ticks": ""
            },
            "colorscale": [
             [
              0,
              "#0d0887"
             ],
             [
              0.1111111111111111,
              "#46039f"
             ],
             [
              0.2222222222222222,
              "#7201a8"
             ],
             [
              0.3333333333333333,
              "#9c179e"
             ],
             [
              0.4444444444444444,
              "#bd3786"
             ],
             [
              0.5555555555555556,
              "#d8576b"
             ],
             [
              0.6666666666666666,
              "#ed7953"
             ],
             [
              0.7777777777777778,
              "#fb9f3a"
             ],
             [
              0.8888888888888888,
              "#fdca26"
             ],
             [
              1,
              "#f0f921"
             ]
            ],
            "type": "histogram2dcontour"
           }
          ],
          "mesh3d": [
           {
            "colorbar": {
             "outlinewidth": 0,
             "ticks": ""
            },
            "type": "mesh3d"
           }
          ],
          "parcoords": [
           {
            "line": {
             "colorbar": {
              "outlinewidth": 0,
              "ticks": ""
             }
            },
            "type": "parcoords"
           }
          ],
          "pie": [
           {
            "automargin": true,
            "type": "pie"
           }
          ],
          "scatter": [
           {
            "fillpattern": {
             "fillmode": "overlay",
             "size": 10,
             "solidity": 0.2
            },
            "type": "scatter"
           }
          ],
          "scatter3d": [
           {
            "line": {
             "colorbar": {
              "outlinewidth": 0,
              "ticks": ""
             }
            },
            "marker": {
             "colorbar": {
              "outlinewidth": 0,
              "ticks": ""
             }
            },
            "type": "scatter3d"
           }
          ],
          "scattercarpet": [
           {
            "marker": {
             "colorbar": {
              "outlinewidth": 0,
              "ticks": ""
             }
            },
            "type": "scattercarpet"
           }
          ],
          "scattergeo": [
           {
            "marker": {
             "colorbar": {
              "outlinewidth": 0,
              "ticks": ""
             }
            },
            "type": "scattergeo"
           }
          ],
          "scattergl": [
           {
            "marker": {
             "colorbar": {
              "outlinewidth": 0,
              "ticks": ""
             }
            },
            "type": "scattergl"
           }
          ],
          "scattermapbox": [
           {
            "marker": {
             "colorbar": {
              "outlinewidth": 0,
              "ticks": ""
             }
            },
            "type": "scattermapbox"
           }
          ],
          "scatterpolar": [
           {
            "marker": {
             "colorbar": {
              "outlinewidth": 0,
              "ticks": ""
             }
            },
            "type": "scatterpolar"
           }
          ],
          "scatterpolargl": [
           {
            "marker": {
             "colorbar": {
              "outlinewidth": 0,
              "ticks": ""
             }
            },
            "type": "scatterpolargl"
           }
          ],
          "scatterternary": [
           {
            "marker": {
             "colorbar": {
              "outlinewidth": 0,
              "ticks": ""
             }
            },
            "type": "scatterternary"
           }
          ],
          "surface": [
           {
            "colorbar": {
             "outlinewidth": 0,
             "ticks": ""
            },
            "colorscale": [
             [
              0,
              "#0d0887"
             ],
             [
              0.1111111111111111,
              "#46039f"
             ],
             [
              0.2222222222222222,
              "#7201a8"
             ],
             [
              0.3333333333333333,
              "#9c179e"
             ],
             [
              0.4444444444444444,
              "#bd3786"
             ],
             [
              0.5555555555555556,
              "#d8576b"
             ],
             [
              0.6666666666666666,
              "#ed7953"
             ],
             [
              0.7777777777777778,
              "#fb9f3a"
             ],
             [
              0.8888888888888888,
              "#fdca26"
             ],
             [
              1,
              "#f0f921"
             ]
            ],
            "type": "surface"
           }
          ],
          "table": [
           {
            "cells": {
             "fill": {
              "color": "#EBF0F8"
             },
             "line": {
              "color": "white"
             }
            },
            "header": {
             "fill": {
              "color": "#C8D4E3"
             },
             "line": {
              "color": "white"
             }
            },
            "type": "table"
           }
          ]
         },
         "layout": {
          "annotationdefaults": {
           "arrowcolor": "#2a3f5f",
           "arrowhead": 0,
           "arrowwidth": 1
          },
          "autotypenumbers": "strict",
          "coloraxis": {
           "colorbar": {
            "outlinewidth": 0,
            "ticks": ""
           }
          },
          "colorscale": {
           "diverging": [
            [
             0,
             "#8e0152"
            ],
            [
             0.1,
             "#c51b7d"
            ],
            [
             0.2,
             "#de77ae"
            ],
            [
             0.3,
             "#f1b6da"
            ],
            [
             0.4,
             "#fde0ef"
            ],
            [
             0.5,
             "#f7f7f7"
            ],
            [
             0.6,
             "#e6f5d0"
            ],
            [
             0.7,
             "#b8e186"
            ],
            [
             0.8,
             "#7fbc41"
            ],
            [
             0.9,
             "#4d9221"
            ],
            [
             1,
             "#276419"
            ]
           ],
           "sequential": [
            [
             0,
             "#0d0887"
            ],
            [
             0.1111111111111111,
             "#46039f"
            ],
            [
             0.2222222222222222,
             "#7201a8"
            ],
            [
             0.3333333333333333,
             "#9c179e"
            ],
            [
             0.4444444444444444,
             "#bd3786"
            ],
            [
             0.5555555555555556,
             "#d8576b"
            ],
            [
             0.6666666666666666,
             "#ed7953"
            ],
            [
             0.7777777777777778,
             "#fb9f3a"
            ],
            [
             0.8888888888888888,
             "#fdca26"
            ],
            [
             1,
             "#f0f921"
            ]
           ],
           "sequentialminus": [
            [
             0,
             "#0d0887"
            ],
            [
             0.1111111111111111,
             "#46039f"
            ],
            [
             0.2222222222222222,
             "#7201a8"
            ],
            [
             0.3333333333333333,
             "#9c179e"
            ],
            [
             0.4444444444444444,
             "#bd3786"
            ],
            [
             0.5555555555555556,
             "#d8576b"
            ],
            [
             0.6666666666666666,
             "#ed7953"
            ],
            [
             0.7777777777777778,
             "#fb9f3a"
            ],
            [
             0.8888888888888888,
             "#fdca26"
            ],
            [
             1,
             "#f0f921"
            ]
           ]
          },
          "colorway": [
           "#636efa",
           "#EF553B",
           "#00cc96",
           "#ab63fa",
           "#FFA15A",
           "#19d3f3",
           "#FF6692",
           "#B6E880",
           "#FF97FF",
           "#FECB52"
          ],
          "font": {
           "color": "#2a3f5f"
          },
          "geo": {
           "bgcolor": "white",
           "lakecolor": "white",
           "landcolor": "#E5ECF6",
           "showlakes": true,
           "showland": true,
           "subunitcolor": "white"
          },
          "hoverlabel": {
           "align": "left"
          },
          "hovermode": "closest",
          "mapbox": {
           "style": "light"
          },
          "paper_bgcolor": "white",
          "plot_bgcolor": "#E5ECF6",
          "polar": {
           "angularaxis": {
            "gridcolor": "white",
            "linecolor": "white",
            "ticks": ""
           },
           "bgcolor": "#E5ECF6",
           "radialaxis": {
            "gridcolor": "white",
            "linecolor": "white",
            "ticks": ""
           }
          },
          "scene": {
           "xaxis": {
            "backgroundcolor": "#E5ECF6",
            "gridcolor": "white",
            "gridwidth": 2,
            "linecolor": "white",
            "showbackground": true,
            "ticks": "",
            "zerolinecolor": "white"
           },
           "yaxis": {
            "backgroundcolor": "#E5ECF6",
            "gridcolor": "white",
            "gridwidth": 2,
            "linecolor": "white",
            "showbackground": true,
            "ticks": "",
            "zerolinecolor": "white"
           },
           "zaxis": {
            "backgroundcolor": "#E5ECF6",
            "gridcolor": "white",
            "gridwidth": 2,
            "linecolor": "white",
            "showbackground": true,
            "ticks": "",
            "zerolinecolor": "white"
           }
          },
          "shapedefaults": {
           "line": {
            "color": "#2a3f5f"
           }
          },
          "ternary": {
           "aaxis": {
            "gridcolor": "white",
            "linecolor": "white",
            "ticks": ""
           },
           "baxis": {
            "gridcolor": "white",
            "linecolor": "white",
            "ticks": ""
           },
           "bgcolor": "#E5ECF6",
           "caxis": {
            "gridcolor": "white",
            "linecolor": "white",
            "ticks": ""
           }
          },
          "title": {
           "x": 0.05
          },
          "xaxis": {
           "automargin": true,
           "gridcolor": "white",
           "linecolor": "white",
           "ticks": "",
           "title": {
            "standoff": 15
           },
           "zerolinecolor": "white",
           "zerolinewidth": 2
          },
          "yaxis": {
           "automargin": true,
           "gridcolor": "white",
           "linecolor": "white",
           "ticks": "",
           "title": {
            "standoff": 15
           },
           "zerolinecolor": "white",
           "zerolinewidth": 2
          }
         }
        },
        "title": {
         "font": {
          "color": "white"
         },
         "text": "The Average income for FrameWork Users",
         "x": 0.5
        },
        "width": 800,
        "xaxis": {
         "anchor": "y",
         "domain": [
          0,
          1
         ],
         "title": {
          "text": "FrameWork"
         }
        },
        "yaxis": {
         "anchor": "x",
         "domain": [
          0,
          1
         ],
         "title": {
          "text": "Salary"
         }
        }
       }
      }
     },
     "metadata": {},
     "output_type": "display_data"
    }
   ],
   "source": [
    "tor_sample=pd.DataFrame(tor_sample).reset_index().drop(columns=\"index\")\n",
    "tor_sample[\"tech\"]=\"PyTorch\"\n",
    "ten_sample=pd.DataFrame(ten_sample).reset_index().drop(columns=\"index\")\n",
    "ten_sample[\"tech\"]=\"TensorFlow\"\n",
    "\n",
    "\n",
    "tempdata=pd.concat([ten_sample,tor_sample])\n",
    "tempdata=tempdata.groupby(\"tech\")[\"CompTotal\"].median()\n",
    "tempdata=tempdata.reset_index()\n",
    "paint_bar(tempdata,x=\"tech\",y=\"CompTotal\",x_name=\"FrameWork\",y_name=\"Salary\",title=\"The Average income for FrameWork Users\")"
   ]
  },
  {
   "cell_type": "code",
   "execution_count": 38,
   "metadata": {},
   "outputs": [],
   "source": [
    "data_df.to_csv(path_or_buf=r\"D:\\C.V\\stack overflow\\data_df.csv\",encoding=\"UTF-8\")"
   ]
  },
  {
   "cell_type": "markdown",
   "metadata": {},
   "source": [
    "### i can show off my skills more but it's enough 😂\n",
    "### in the end i'm Client of myself 😂🤣"
   ]
  }
 ],
 "metadata": {
  "kernelspec": {
   "display_name": "Python 3",
   "language": "python",
   "name": "python3"
  },
  "language_info": {
   "codemirror_mode": {
    "name": "ipython",
    "version": 3
   },
   "file_extension": ".py",
   "mimetype": "text/x-python",
   "name": "python",
   "nbconvert_exporter": "python",
   "pygments_lexer": "ipython3",
   "version": "3.10.9"
  }
 },
 "nbformat": 4,
 "nbformat_minor": 2
}
